{
 "cells": [
  {
   "cell_type": "markdown",
   "id": "287ce77c",
   "metadata": {
    "papermill": {
     "duration": 0.009322,
     "end_time": "2023-11-28T15:03:28.998081",
     "exception": false,
     "start_time": "2023-11-28T15:03:28.988759",
     "status": "completed"
    },
    "tags": []
   },
   "source": [
    "# Competition: [Regression with a Mohs Hardness Dataset](https://www.kaggle.com/competitions/playground-series-s3e25)"
   ]
  },
  {
   "cell_type": "markdown",
   "id": "5e1bc283",
   "metadata": {
    "papermill": {
     "duration": 0.007242,
     "end_time": "2023-11-28T15:03:29.012565",
     "exception": false,
     "start_time": "2023-11-28T15:03:29.005323",
     "status": "completed"
    },
    "tags": []
   },
   "source": [
    "**Keywords**: #Regression #Playground #FeedforwardNeuralNetwork #FNN"
   ]
  },
  {
   "cell_type": "markdown",
   "id": "8ee2683b",
   "metadata": {
    "papermill": {
     "duration": 0.00674,
     "end_time": "2023-11-28T15:03:29.026916",
     "exception": false,
     "start_time": "2023-11-28T15:03:29.020176",
     "status": "completed"
    },
    "tags": []
   },
   "source": [
    "## Introduction\n",
    "\n",
    "In this project, our objective is to develop a robust predictive model for estimating the Mohs hardness of minerals based on their intrinsic properties. **Mohs hardness, a measure of a mineral's resistance to scratching,** is a crucial factor in various industrial applications, material science, and geology. Accurate prediction of Mohs hardness can expedite mineral classification and aid in material selection for specific purposes.\n",
    "\n",
    "Motivated by the need for efficient and accurate mineral hardness prediction, we are leveraging advanced machine learning techniques, specifically TensorFlow/Keras neural networks. The project involves the creation of a regression model capable of understanding complex relationships within a dataset comprising 13 distinct mineral properties. The primary metric for model evaluation is the Median Absolute Error (MAE), ensuring a robust assessment of predictive accuracy.\n",
    "\n",
    "By addressing this challenge, we aim to contribute to the field of mineralogy and material science, facilitating more precise hardness predictions and supporting advancements in various industries reliant on mineral properties. The small dataset of 10,000 data points, coupled with the incorporation of data augmentation and rigorous model tuning, underscores our commitment to developing a reliable and efficient predictive tool."
   ]
  },
  {
   "cell_type": "code",
   "execution_count": 1,
   "id": "a88fae20",
   "metadata": {
    "_kg_hide-input": true,
    "execution": {
     "iopub.execute_input": "2023-11-28T15:03:29.042711Z",
     "iopub.status.busy": "2023-11-28T15:03:29.042299Z",
     "iopub.status.idle": "2023-11-28T15:03:29.057171Z",
     "shell.execute_reply": "2023-11-28T15:03:29.056063Z"
    },
    "papermill": {
     "duration": 0.025679,
     "end_time": "2023-11-28T15:03:29.059619",
     "exception": false,
     "start_time": "2023-11-28T15:03:29.033940",
     "status": "completed"
    },
    "tags": []
   },
   "outputs": [
    {
     "data": {
      "text/html": [
       "<img src=\"https://i0.wp.com/www.compoundchem.com/wp-content/uploads/2022/11/Mohs-Hardness-Scale.png?ssl=1\"/>"
      ],
      "text/plain": [
       "<IPython.core.display.Image object>"
      ]
     },
     "execution_count": 1,
     "metadata": {},
     "output_type": "execute_result"
    }
   ],
   "source": [
    "from IPython.display import Image\n",
    "from IPython.core.display import HTML \n",
    "Image(url= \"https://i0.wp.com/www.compoundchem.com/wp-content/uploads/2022/11/Mohs-Hardness-Scale.png?ssl=1\")"
   ]
  },
  {
   "cell_type": "markdown",
   "id": "5baf2a35",
   "metadata": {
    "papermill": {
     "duration": 0.007204,
     "end_time": "2023-11-28T15:03:29.074218",
     "exception": false,
     "start_time": "2023-11-28T15:03:29.067014",
     "status": "completed"
    },
    "tags": []
   },
   "source": [
    "## [Evaluation](www.kaggle.com/competitions/playground-series-s3e25/overview/evaluation)\n",
    "\n",
    "Submissions are scored on the Median Absolute Error (MedAE). MedAE is defined as:\n",
    "\n",
    "${\\displaystyle \\operatorname {MAD} =\\operatorname {median} (|X_{i}-{\\tilde {X}}|)}$"
   ]
  },
  {
   "cell_type": "markdown",
   "id": "df8d3ffe",
   "metadata": {
    "papermill": {
     "duration": 0.007236,
     "end_time": "2023-11-28T15:03:29.088923",
     "exception": false,
     "start_time": "2023-11-28T15:03:29.081687",
     "status": "completed"
    },
    "tags": []
   },
   "source": [
    "## [Data](https://www.kaggle.com/competitions/playground-series-s3e25/data)\n",
    "\n",
    "The dataset for this competition (both train and test) was generated from a deep learning model trained on the Prediction of Mohs Hardness with Machine Learning dataset. Feature distributions are close to, but not exactly the same, as the original. Feel free to use the original dataset as part of this competition, both to explore differences as well as to see whether incorporating the original in training improves model performance.\n",
    "\n",
    "**Files**\n",
    "\n",
    "* **train.csv** - the training dataset; Hardness is the continuous target\n",
    "* **test.csv** - the test dataset; your objective is to predict the value of Hardness\n",
    "* **sample_submission.csv** - a sample submission file in the correct format"
   ]
  },
  {
   "cell_type": "code",
   "execution_count": 2,
   "id": "72125bd2",
   "metadata": {
    "_cell_guid": "b1076dfc-b9ad-4769-8c92-a6c4dae69d19",
    "_uuid": "8f2839f25d086af736a60e9eeb907d3b93b6e0e5",
    "execution": {
     "iopub.execute_input": "2023-11-28T15:03:29.105468Z",
     "iopub.status.busy": "2023-11-28T15:03:29.105077Z",
     "iopub.status.idle": "2023-11-28T15:03:29.539266Z",
     "shell.execute_reply": "2023-11-28T15:03:29.537406Z"
    },
    "papermill": {
     "duration": 0.445845,
     "end_time": "2023-11-28T15:03:29.542040",
     "exception": false,
     "start_time": "2023-11-28T15:03:29.096195",
     "status": "completed"
    },
    "tags": []
   },
   "outputs": [
    {
     "name": "stdout",
     "output_type": "stream",
     "text": [
      "/kaggle/input/playground-series-s3e25/sample_submission.csv\n",
      "/kaggle/input/playground-series-s3e25/train.csv\n",
      "/kaggle/input/playground-series-s3e25/test.csv\n"
     ]
    }
   ],
   "source": [
    "# This Python 3 environment comes with many helpful analytics libraries installed\n",
    "# It is defined by the kaggle/python Docker image: https://github.com/kaggle/docker-python\n",
    "# For example, here's several helpful packages to load\n",
    "\n",
    "import numpy as np # linear algebra\n",
    "import pandas as pd # data processing, CSV file I/O (e.g. pd.read_csv)\n",
    "\n",
    "# Input data files are available in the read-only \"../input/\" directory\n",
    "# For example, running this (by clicking run or pressing Shift+Enter) will list all files under the input directory\n",
    "\n",
    "import os\n",
    "for dirname, _, filenames in os.walk('/kaggle/input'):\n",
    "    for filename in filenames:\n",
    "        print(os.path.join(dirname, filename))\n",
    "\n",
    "# You can write up to 20GB to the current directory (/kaggle/working/) that gets preserved as output when you create a version using \"Save & Run All\" \n",
    "# You can also write temporary files to /kaggle/temp/, but they won't be saved outside of the current session"
   ]
  },
  {
   "cell_type": "code",
   "execution_count": 3,
   "id": "4bfdd3c2",
   "metadata": {
    "execution": {
     "iopub.execute_input": "2023-11-28T15:03:29.559381Z",
     "iopub.status.busy": "2023-11-28T15:03:29.558814Z",
     "iopub.status.idle": "2023-11-28T15:03:47.181719Z",
     "shell.execute_reply": "2023-11-28T15:03:47.180458Z"
    },
    "papermill": {
     "duration": 17.634749,
     "end_time": "2023-11-28T15:03:47.184607",
     "exception": false,
     "start_time": "2023-11-28T15:03:29.549858",
     "status": "completed"
    },
    "tags": []
   },
   "outputs": [],
   "source": [
    "import matplotlib.pyplot as plt\n",
    "import seaborn as sns\n",
    "sns.set_style(\"whitegrid\")\n",
    "\n",
    "from sklearn.model_selection import train_test_split\n",
    "\n",
    "from sklearn.tree import export_text\n",
    "from sklearn.preprocessing import MinMaxScaler\n",
    "from sklearn.metrics import median_absolute_error\n",
    "\n",
    "import tensorflow as tf\n",
    "from tensorflow import keras\n",
    "import tensorflow_probability as tfp\n",
    "\n",
    "from keras.models import Sequential\n",
    "from keras.layers import Dense, Dropout, BatchNormalization"
   ]
  },
  {
   "cell_type": "code",
   "execution_count": 4,
   "id": "e34a921e",
   "metadata": {
    "execution": {
     "iopub.execute_input": "2023-11-28T15:03:47.202710Z",
     "iopub.status.busy": "2023-11-28T15:03:47.201303Z",
     "iopub.status.idle": "2023-11-28T15:03:47.326404Z",
     "shell.execute_reply": "2023-11-28T15:03:47.325380Z"
    },
    "papermill": {
     "duration": 0.136795,
     "end_time": "2023-11-28T15:03:47.329272",
     "exception": false,
     "start_time": "2023-11-28T15:03:47.192477",
     "status": "completed"
    },
    "tags": []
   },
   "outputs": [],
   "source": [
    "df_train = pd.read_csv('/kaggle/input/playground-series-s3e25/train.csv')\n",
    "df_test = pd.read_csv('/kaggle/input/playground-series-s3e25/test.csv')\n",
    "\n",
    "#df_train.info()\n",
    "#df_train.tail().T\n",
    "\n",
    "#df_train.isnull().sum()\n",
    "#df_train.nunique()\n",
    "#df_train.describe().T"
   ]
  },
  {
   "cell_type": "code",
   "execution_count": 5,
   "id": "566bf941",
   "metadata": {
    "execution": {
     "iopub.execute_input": "2023-11-28T15:03:47.346055Z",
     "iopub.status.busy": "2023-11-28T15:03:47.345621Z",
     "iopub.status.idle": "2023-11-28T15:03:47.367845Z",
     "shell.execute_reply": "2023-11-28T15:03:47.366797Z"
    },
    "papermill": {
     "duration": 0.033734,
     "end_time": "2023-11-28T15:03:47.370548",
     "exception": false,
     "start_time": "2023-11-28T15:03:47.336814",
     "status": "completed"
    },
    "tags": []
   },
   "outputs": [],
   "source": [
    "def prepare_data(df):\n",
    "\n",
    "    # Make the column names lower-case and uniform\n",
    "    df.columns = df.columns.str.lower()\n",
    "\n",
    "    # Drop id column\n",
    "    df.drop('id', axis=1, inplace=True)\n",
    "    \n",
    "    # Logarithm transformation to reduce spread\n",
    "    #log_cols = ['density_total','atomicweight_average']\n",
    "    #df[log_cols] = np.log1p(df[log_cols])\n",
    "    \n",
    "    return df\n",
    "\n",
    "df_train = prepare_data(df_train)\n",
    "df_test = prepare_data(df_test)"
   ]
  },
  {
   "cell_type": "code",
   "execution_count": 6,
   "id": "7ccc2bdc",
   "metadata": {
    "execution": {
     "iopub.execute_input": "2023-11-28T15:03:47.386962Z",
     "iopub.status.busy": "2023-11-28T15:03:47.386565Z",
     "iopub.status.idle": "2023-11-28T15:03:47.528437Z",
     "shell.execute_reply": "2023-11-28T15:03:47.527265Z"
    },
    "papermill": {
     "duration": 0.153346,
     "end_time": "2023-11-28T15:03:47.531167",
     "exception": false,
     "start_time": "2023-11-28T15:03:47.377821",
     "status": "completed"
    },
    "tags": []
   },
   "outputs": [
    {
     "data": {
      "text/html": [
       "<style type=\"text/css\">\n",
       "#T_c4056_row0_col0, #T_c4056_row1_col1, #T_c4056_row2_col2, #T_c4056_row3_col3, #T_c4056_row4_col4, #T_c4056_row5_col5, #T_c4056_row6_col6, #T_c4056_row7_col7, #T_c4056_row8_col8, #T_c4056_row9_col9, #T_c4056_row10_col10, #T_c4056_row11_col11 {\n",
       "  background-color: #b40426;\n",
       "  color: #f1f1f1;\n",
       "}\n",
       "#T_c4056_row0_col1 {\n",
       "  background-color: #f7b79b;\n",
       "  color: #000000;\n",
       "}\n",
       "#T_c4056_row0_col2 {\n",
       "  background-color: #abc8fd;\n",
       "  color: #000000;\n",
       "}\n",
       "#T_c4056_row0_col3, #T_c4056_row4_col0, #T_c4056_row5_col7 {\n",
       "  background-color: #6384eb;\n",
       "  color: #f1f1f1;\n",
       "}\n",
       "#T_c4056_row0_col4 {\n",
       "  background-color: #adc9fd;\n",
       "  color: #000000;\n",
       "}\n",
       "#T_c4056_row0_col5, #T_c4056_row3_col2, #T_c4056_row11_col9 {\n",
       "  background-color: #9bbcff;\n",
       "  color: #000000;\n",
       "}\n",
       "#T_c4056_row0_col6, #T_c4056_row0_col9 {\n",
       "  background-color: #94b6ff;\n",
       "  color: #000000;\n",
       "}\n",
       "#T_c4056_row0_col7, #T_c4056_row7_col0 {\n",
       "  background-color: #5875e1;\n",
       "  color: #f1f1f1;\n",
       "}\n",
       "#T_c4056_row0_col8 {\n",
       "  background-color: #7ea1fa;\n",
       "  color: #f1f1f1;\n",
       "}\n",
       "#T_c4056_row0_col10 {\n",
       "  background-color: #a1c0ff;\n",
       "  color: #000000;\n",
       "}\n",
       "#T_c4056_row0_col11, #T_c4056_row7_col11 {\n",
       "  background-color: #8badfd;\n",
       "  color: #000000;\n",
       "}\n",
       "#T_c4056_row1_col0 {\n",
       "  background-color: #f5c0a7;\n",
       "  color: #000000;\n",
       "}\n",
       "#T_c4056_row1_col2, #T_c4056_row1_col4 {\n",
       "  background-color: #e7d7ce;\n",
       "  color: #000000;\n",
       "}\n",
       "#T_c4056_row1_col3 {\n",
       "  background-color: #6788ee;\n",
       "  color: #f1f1f1;\n",
       "}\n",
       "#T_c4056_row1_col5 {\n",
       "  background-color: #779af7;\n",
       "  color: #f1f1f1;\n",
       "}\n",
       "#T_c4056_row1_col6 {\n",
       "  background-color: #7699f6;\n",
       "  color: #f1f1f1;\n",
       "}\n",
       "#T_c4056_row1_col7, #T_c4056_row7_col9 {\n",
       "  background-color: #8caffe;\n",
       "  color: #000000;\n",
       "}\n",
       "#T_c4056_row1_col8 {\n",
       "  background-color: #bbd1f8;\n",
       "  color: #000000;\n",
       "}\n",
       "#T_c4056_row1_col9 {\n",
       "  background-color: #7597f6;\n",
       "  color: #f1f1f1;\n",
       "}\n",
       "#T_c4056_row1_col10 {\n",
       "  background-color: #e0dbd8;\n",
       "  color: #000000;\n",
       "}\n",
       "#T_c4056_row1_col11, #T_c4056_row6_col7 {\n",
       "  background-color: #7295f4;\n",
       "  color: #f1f1f1;\n",
       "}\n",
       "#T_c4056_row2_col0, #T_c4056_row3_col0 {\n",
       "  background-color: #6282ea;\n",
       "  color: #f1f1f1;\n",
       "}\n",
       "#T_c4056_row2_col1 {\n",
       "  background-color: #cedaeb;\n",
       "  color: #000000;\n",
       "}\n",
       "#T_c4056_row2_col3 {\n",
       "  background-color: #4f69d9;\n",
       "  color: #f1f1f1;\n",
       "}\n",
       "#T_c4056_row2_col4, #T_c4056_row4_col2 {\n",
       "  background-color: #b50927;\n",
       "  color: #f1f1f1;\n",
       "}\n",
       "#T_c4056_row2_col5, #T_c4056_row2_col6, #T_c4056_row2_col9, #T_c4056_row2_col11, #T_c4056_row4_col5, #T_c4056_row4_col9, #T_c4056_row4_col11, #T_c4056_row5_col8, #T_c4056_row5_col10, #T_c4056_row10_col3, #T_c4056_row10_col5, #T_c4056_row10_col6, #T_c4056_row11_col0, #T_c4056_row11_col1, #T_c4056_row11_col2, #T_c4056_row11_col4, #T_c4056_row11_col7, #T_c4056_row11_col10 {\n",
       "  background-color: #3b4cc0;\n",
       "  color: #f1f1f1;\n",
       "}\n",
       "#T_c4056_row2_col7, #T_c4056_row9_col6 {\n",
       "  background-color: #eed0c0;\n",
       "  color: #000000;\n",
       "}\n",
       "#T_c4056_row2_col8 {\n",
       "  background-color: #f49a7b;\n",
       "  color: #000000;\n",
       "}\n",
       "#T_c4056_row2_col10 {\n",
       "  background-color: #e26952;\n",
       "  color: #f1f1f1;\n",
       "}\n",
       "#T_c4056_row3_col1, #T_c4056_row3_col10 {\n",
       "  background-color: #80a3fa;\n",
       "  color: #f1f1f1;\n",
       "}\n",
       "#T_c4056_row3_col4 {\n",
       "  background-color: #9abbff;\n",
       "  color: #000000;\n",
       "}\n",
       "#T_c4056_row3_col5 {\n",
       "  background-color: #f2cbb7;\n",
       "  color: #000000;\n",
       "}\n",
       "#T_c4056_row3_col6 {\n",
       "  background-color: #f7ba9f;\n",
       "  color: #000000;\n",
       "}\n",
       "#T_c4056_row3_col7 {\n",
       "  background-color: #bed2f6;\n",
       "  color: #000000;\n",
       "}\n",
       "#T_c4056_row3_col8, #T_c4056_row8_col1 {\n",
       "  background-color: #aec9fc;\n",
       "  color: #000000;\n",
       "}\n",
       "#T_c4056_row3_col9 {\n",
       "  background-color: #a5c3fe;\n",
       "  color: #000000;\n",
       "}\n",
       "#T_c4056_row3_col11 {\n",
       "  background-color: #c1d4f4;\n",
       "  color: #000000;\n",
       "}\n",
       "#T_c4056_row4_col1 {\n",
       "  background-color: #cdd9ec;\n",
       "  color: #000000;\n",
       "}\n",
       "#T_c4056_row4_col3 {\n",
       "  background-color: #4e68d8;\n",
       "  color: #f1f1f1;\n",
       "}\n",
       "#T_c4056_row4_col6 {\n",
       "  background-color: #3c4ec2;\n",
       "  color: #f1f1f1;\n",
       "}\n",
       "#T_c4056_row4_col7 {\n",
       "  background-color: #ead4c8;\n",
       "  color: #000000;\n",
       "}\n",
       "#T_c4056_row4_col8, #T_c4056_row5_col9 {\n",
       "  background-color: #f6a283;\n",
       "  color: #000000;\n",
       "}\n",
       "#T_c4056_row4_col10, #T_c4056_row7_col8 {\n",
       "  background-color: #e36c55;\n",
       "  color: #f1f1f1;\n",
       "}\n",
       "#T_c4056_row5_col0, #T_c4056_row6_col0, #T_c4056_row8_col5 {\n",
       "  background-color: #5673e0;\n",
       "  color: #f1f1f1;\n",
       "}\n",
       "#T_c4056_row5_col1, #T_c4056_row6_col8 {\n",
       "  background-color: #4961d2;\n",
       "  color: #f1f1f1;\n",
       "}\n",
       "#T_c4056_row5_col2, #T_c4056_row6_col10, #T_c4056_row10_col11 {\n",
       "  background-color: #4358cb;\n",
       "  color: #f1f1f1;\n",
       "}\n",
       "#T_c4056_row5_col3 {\n",
       "  background-color: #dadce0;\n",
       "  color: #000000;\n",
       "}\n",
       "#T_c4056_row5_col4 {\n",
       "  background-color: #445acc;\n",
       "  color: #f1f1f1;\n",
       "}\n",
       "#T_c4056_row5_col6 {\n",
       "  background-color: #e8765c;\n",
       "  color: #f1f1f1;\n",
       "}\n",
       "#T_c4056_row5_col11 {\n",
       "  background-color: #cad8ef;\n",
       "  color: #000000;\n",
       "}\n",
       "#T_c4056_row6_col1 {\n",
       "  background-color: #506bda;\n",
       "  color: #f1f1f1;\n",
       "}\n",
       "#T_c4056_row6_col2 {\n",
       "  background-color: #4b64d5;\n",
       "  color: #f1f1f1;\n",
       "}\n",
       "#T_c4056_row6_col3, #T_c4056_row6_col9 {\n",
       "  background-color: #efcfbf;\n",
       "  color: #000000;\n",
       "}\n",
       "#T_c4056_row6_col4, #T_c4056_row9_col1, #T_c4056_row9_col7 {\n",
       "  background-color: #4c66d6;\n",
       "  color: #f1f1f1;\n",
       "}\n",
       "#T_c4056_row6_col5 {\n",
       "  background-color: #e7745b;\n",
       "  color: #f1f1f1;\n",
       "}\n",
       "#T_c4056_row6_col11 {\n",
       "  background-color: #dbdcde;\n",
       "  color: #000000;\n",
       "}\n",
       "#T_c4056_row7_col1 {\n",
       "  background-color: #a3c2fe;\n",
       "  color: #000000;\n",
       "}\n",
       "#T_c4056_row7_col2 {\n",
       "  background-color: #f7b497;\n",
       "  color: #000000;\n",
       "}\n",
       "#T_c4056_row7_col3 {\n",
       "  background-color: #bfd3f6;\n",
       "  color: #000000;\n",
       "}\n",
       "#T_c4056_row7_col4 {\n",
       "  background-color: #f7b89c;\n",
       "  color: #000000;\n",
       "}\n",
       "#T_c4056_row7_col5 {\n",
       "  background-color: #a6c4fe;\n",
       "  color: #000000;\n",
       "}\n",
       "#T_c4056_row7_col6 {\n",
       "  background-color: #aac7fd;\n",
       "  color: #000000;\n",
       "}\n",
       "#T_c4056_row7_col10 {\n",
       "  background-color: #f0cdbb;\n",
       "  color: #000000;\n",
       "}\n",
       "#T_c4056_row8_col0, #T_c4056_row8_col9 {\n",
       "  background-color: #536edd;\n",
       "  color: #f1f1f1;\n",
       "}\n",
       "#T_c4056_row8_col2 {\n",
       "  background-color: #f18d6f;\n",
       "  color: #f1f1f1;\n",
       "}\n",
       "#T_c4056_row8_col3 {\n",
       "  background-color: #89acfd;\n",
       "  color: #000000;\n",
       "}\n",
       "#T_c4056_row8_col4 {\n",
       "  background-color: #f39475;\n",
       "  color: #000000;\n",
       "}\n",
       "#T_c4056_row8_col6, #T_c4056_row10_col0 {\n",
       "  background-color: #5d7ce6;\n",
       "  color: #f1f1f1;\n",
       "}\n",
       "#T_c4056_row8_col7 {\n",
       "  background-color: #e97a5f;\n",
       "  color: #f1f1f1;\n",
       "}\n",
       "#T_c4056_row8_col10 {\n",
       "  background-color: #f7b194;\n",
       "  color: #000000;\n",
       "}\n",
       "#T_c4056_row8_col11 {\n",
       "  background-color: #6b8df0;\n",
       "  color: #f1f1f1;\n",
       "}\n",
       "#T_c4056_row9_col0 {\n",
       "  background-color: #5572df;\n",
       "  color: #f1f1f1;\n",
       "}\n",
       "#T_c4056_row9_col2, #T_c4056_row9_col4 {\n",
       "  background-color: #4a63d3;\n",
       "  color: #f1f1f1;\n",
       "}\n",
       "#T_c4056_row9_col3 {\n",
       "  background-color: #6a8bef;\n",
       "  color: #f1f1f1;\n",
       "}\n",
       "#T_c4056_row9_col5 {\n",
       "  background-color: #f5a081;\n",
       "  color: #000000;\n",
       "}\n",
       "#T_c4056_row9_col8 {\n",
       "  background-color: #3d50c3;\n",
       "  color: #f1f1f1;\n",
       "}\n",
       "#T_c4056_row9_col10 {\n",
       "  background-color: #465ecf;\n",
       "  color: #f1f1f1;\n",
       "}\n",
       "#T_c4056_row9_col11 {\n",
       "  background-color: #a7c5fe;\n",
       "  color: #000000;\n",
       "}\n",
       "#T_c4056_row10_col1 {\n",
       "  background-color: #c9d7f0;\n",
       "  color: #000000;\n",
       "}\n",
       "#T_c4056_row10_col2 {\n",
       "  background-color: #e16751;\n",
       "  color: #f1f1f1;\n",
       "}\n",
       "#T_c4056_row10_col4 {\n",
       "  background-color: #e36b54;\n",
       "  color: #f1f1f1;\n",
       "}\n",
       "#T_c4056_row10_col7 {\n",
       "  background-color: #d5dbe5;\n",
       "  color: #000000;\n",
       "}\n",
       "#T_c4056_row10_col8 {\n",
       "  background-color: #f7bca1;\n",
       "  color: #000000;\n",
       "}\n",
       "#T_c4056_row10_col9 {\n",
       "  background-color: #3f53c6;\n",
       "  color: #f1f1f1;\n",
       "}\n",
       "#T_c4056_row11_col3 {\n",
       "  background-color: #81a4fb;\n",
       "  color: #f1f1f1;\n",
       "}\n",
       "#T_c4056_row11_col5 {\n",
       "  background-color: #c5d6f2;\n",
       "  color: #000000;\n",
       "}\n",
       "#T_c4056_row11_col6 {\n",
       "  background-color: #d3dbe7;\n",
       "  color: #000000;\n",
       "}\n",
       "#T_c4056_row11_col8 {\n",
       "  background-color: #455cce;\n",
       "  color: #f1f1f1;\n",
       "}\n",
       "</style>\n",
       "<table id=\"T_c4056\">\n",
       "  <thead>\n",
       "    <tr>\n",
       "      <th class=\"blank level0\" >&nbsp;</th>\n",
       "      <th id=\"T_c4056_level0_col0\" class=\"col_heading level0 col0\" >allelectrons_total</th>\n",
       "      <th id=\"T_c4056_level0_col1\" class=\"col_heading level0 col1\" >density_total</th>\n",
       "      <th id=\"T_c4056_level0_col2\" class=\"col_heading level0 col2\" >allelectrons_average</th>\n",
       "      <th id=\"T_c4056_level0_col3\" class=\"col_heading level0 col3\" >val_e_average</th>\n",
       "      <th id=\"T_c4056_level0_col4\" class=\"col_heading level0 col4\" >atomicweight_average</th>\n",
       "      <th id=\"T_c4056_level0_col5\" class=\"col_heading level0 col5\" >ionenergy_average</th>\n",
       "      <th id=\"T_c4056_level0_col6\" class=\"col_heading level0 col6\" >el_neg_chi_average</th>\n",
       "      <th id=\"T_c4056_level0_col7\" class=\"col_heading level0 col7\" >r_vdw_element_average</th>\n",
       "      <th id=\"T_c4056_level0_col8\" class=\"col_heading level0 col8\" >r_cov_element_average</th>\n",
       "      <th id=\"T_c4056_level0_col9\" class=\"col_heading level0 col9\" >zaratio_average</th>\n",
       "      <th id=\"T_c4056_level0_col10\" class=\"col_heading level0 col10\" >density_average</th>\n",
       "      <th id=\"T_c4056_level0_col11\" class=\"col_heading level0 col11\" >hardness</th>\n",
       "    </tr>\n",
       "  </thead>\n",
       "  <tbody>\n",
       "    <tr>\n",
       "      <th id=\"T_c4056_level0_row0\" class=\"row_heading level0 row0\" >allelectrons_total</th>\n",
       "      <td id=\"T_c4056_row0_col0\" class=\"data row0 col0\" >1.00</td>\n",
       "      <td id=\"T_c4056_row0_col1\" class=\"data row0 col1\" >0.62</td>\n",
       "      <td id=\"T_c4056_row0_col2\" class=\"data row0 col2\" >0.07</td>\n",
       "      <td id=\"T_c4056_row0_col3\" class=\"data row0 col3\" >0.07</td>\n",
       "      <td id=\"T_c4056_row0_col4\" class=\"data row0 col4\" >0.08</td>\n",
       "      <td id=\"T_c4056_row0_col5\" class=\"data row0 col5\" >0.03</td>\n",
       "      <td id=\"T_c4056_row0_col6\" class=\"data row0 col6\" >0.04</td>\n",
       "      <td id=\"T_c4056_row0_col7\" class=\"data row0 col7\" >0.04</td>\n",
       "      <td id=\"T_c4056_row0_col8\" class=\"data row0 col8\" >0.02</td>\n",
       "      <td id=\"T_c4056_row0_col9\" class=\"data row0 col9\" >0.03</td>\n",
       "      <td id=\"T_c4056_row0_col10\" class=\"data row0 col10\" >0.06</td>\n",
       "      <td id=\"T_c4056_row0_col11\" class=\"data row0 col11\" >-0.06</td>\n",
       "    </tr>\n",
       "    <tr>\n",
       "      <th id=\"T_c4056_level0_row1\" class=\"row_heading level0 row1\" >density_total</th>\n",
       "      <td id=\"T_c4056_row1_col0\" class=\"data row1 col0\" >0.62</td>\n",
       "      <td id=\"T_c4056_row1_col1\" class=\"data row1 col1\" >1.00</td>\n",
       "      <td id=\"T_c4056_row1_col2\" class=\"data row1 col2\" >0.36</td>\n",
       "      <td id=\"T_c4056_row1_col3\" class=\"data row1 col3\" >0.08</td>\n",
       "      <td id=\"T_c4056_row1_col4\" class=\"data row1 col4\" >0.36</td>\n",
       "      <td id=\"T_c4056_row1_col5\" class=\"data row1 col5\" >-0.10</td>\n",
       "      <td id=\"T_c4056_row1_col6\" class=\"data row1 col6\" >-0.08</td>\n",
       "      <td id=\"T_c4056_row1_col7\" class=\"data row1 col7\" >0.20</td>\n",
       "      <td id=\"T_c4056_row1_col8\" class=\"data row1 col8\" >0.24</td>\n",
       "      <td id=\"T_c4056_row1_col9\" class=\"data row1 col9\" >-0.09</td>\n",
       "      <td id=\"T_c4056_row1_col10\" class=\"data row1 col10\" >0.34</td>\n",
       "      <td id=\"T_c4056_row1_col11\" class=\"data row1 col11\" >-0.16</td>\n",
       "    </tr>\n",
       "    <tr>\n",
       "      <th id=\"T_c4056_level0_row2\" class=\"row_heading level0 row2\" >allelectrons_average</th>\n",
       "      <td id=\"T_c4056_row2_col0\" class=\"data row2 col0\" >0.07</td>\n",
       "      <td id=\"T_c4056_row2_col1\" class=\"data row2 col1\" >0.36</td>\n",
       "      <td id=\"T_c4056_row2_col2\" class=\"data row2 col2\" >1.00</td>\n",
       "      <td id=\"T_c4056_row2_col3\" class=\"data row2 col3\" >0.00</td>\n",
       "      <td id=\"T_c4056_row2_col4\" class=\"data row2 col4\" >0.99</td>\n",
       "      <td id=\"T_c4056_row2_col5\" class=\"data row2 col5\" >-0.36</td>\n",
       "      <td id=\"T_c4056_row2_col6\" class=\"data row2 col6\" >-0.32</td>\n",
       "      <td id=\"T_c4056_row2_col7\" class=\"data row2 col7\" >0.55</td>\n",
       "      <td id=\"T_c4056_row2_col8\" class=\"data row2 col8\" >0.69</td>\n",
       "      <td id=\"T_c4056_row2_col9\" class=\"data row2 col9\" >-0.33</td>\n",
       "      <td id=\"T_c4056_row2_col10\" class=\"data row2 col10\" >0.80</td>\n",
       "      <td id=\"T_c4056_row2_col11\" class=\"data row2 col11\" >-0.40</td>\n",
       "    </tr>\n",
       "    <tr>\n",
       "      <th id=\"T_c4056_level0_row3\" class=\"row_heading level0 row3\" >val_e_average</th>\n",
       "      <td id=\"T_c4056_row3_col0\" class=\"data row3 col0\" >0.07</td>\n",
       "      <td id=\"T_c4056_row3_col1\" class=\"data row3 col1\" >0.08</td>\n",
       "      <td id=\"T_c4056_row3_col2\" class=\"data row3 col2\" >0.00</td>\n",
       "      <td id=\"T_c4056_row3_col3\" class=\"data row3 col3\" >1.00</td>\n",
       "      <td id=\"T_c4056_row3_col4\" class=\"data row3 col4\" >0.00</td>\n",
       "      <td id=\"T_c4056_row3_col5\" class=\"data row3 col5\" >0.45</td>\n",
       "      <td id=\"T_c4056_row3_col6\" class=\"data row3 col6\" >0.55</td>\n",
       "      <td id=\"T_c4056_row3_col7\" class=\"data row3 col7\" >0.35</td>\n",
       "      <td id=\"T_c4056_row3_col8\" class=\"data row3 col8\" >0.19</td>\n",
       "      <td id=\"T_c4056_row3_col9\" class=\"data row3 col9\" >0.09</td>\n",
       "      <td id=\"T_c4056_row3_col10\" class=\"data row3 col10\" >-0.07</td>\n",
       "      <td id=\"T_c4056_row3_col11\" class=\"data row3 col11\" >0.16</td>\n",
       "    </tr>\n",
       "    <tr>\n",
       "      <th id=\"T_c4056_level0_row4\" class=\"row_heading level0 row4\" >atomicweight_average</th>\n",
       "      <td id=\"T_c4056_row4_col0\" class=\"data row4 col0\" >0.08</td>\n",
       "      <td id=\"T_c4056_row4_col1\" class=\"data row4 col1\" >0.36</td>\n",
       "      <td id=\"T_c4056_row4_col2\" class=\"data row4 col2\" >0.99</td>\n",
       "      <td id=\"T_c4056_row4_col3\" class=\"data row4 col3\" >0.00</td>\n",
       "      <td id=\"T_c4056_row4_col4\" class=\"data row4 col4\" >1.00</td>\n",
       "      <td id=\"T_c4056_row4_col5\" class=\"data row4 col5\" >-0.36</td>\n",
       "      <td id=\"T_c4056_row4_col6\" class=\"data row4 col6\" >-0.32</td>\n",
       "      <td id=\"T_c4056_row4_col7\" class=\"data row4 col7\" >0.53</td>\n",
       "      <td id=\"T_c4056_row4_col8\" class=\"data row4 col8\" >0.67</td>\n",
       "      <td id=\"T_c4056_row4_col9\" class=\"data row4 col9\" >-0.33</td>\n",
       "      <td id=\"T_c4056_row4_col10\" class=\"data row4 col10\" >0.80</td>\n",
       "      <td id=\"T_c4056_row4_col11\" class=\"data row4 col11\" >-0.40</td>\n",
       "    </tr>\n",
       "    <tr>\n",
       "      <th id=\"T_c4056_level0_row5\" class=\"row_heading level0 row5\" >ionenergy_average</th>\n",
       "      <td id=\"T_c4056_row5_col0\" class=\"data row5 col0\" >0.03</td>\n",
       "      <td id=\"T_c4056_row5_col1\" class=\"data row5 col1\" >-0.10</td>\n",
       "      <td id=\"T_c4056_row5_col2\" class=\"data row5 col2\" >-0.36</td>\n",
       "      <td id=\"T_c4056_row5_col3\" class=\"data row5 col3\" >0.45</td>\n",
       "      <td id=\"T_c4056_row5_col4\" class=\"data row5 col4\" >-0.36</td>\n",
       "      <td id=\"T_c4056_row5_col5\" class=\"data row5 col5\" >1.00</td>\n",
       "      <td id=\"T_c4056_row5_col6\" class=\"data row5 col6\" >0.77</td>\n",
       "      <td id=\"T_c4056_row5_col7\" class=\"data row5 col7\" >0.08</td>\n",
       "      <td id=\"T_c4056_row5_col8\" class=\"data row5 col8\" >-0.24</td>\n",
       "      <td id=\"T_c4056_row5_col9\" class=\"data row5 col9\" >0.64</td>\n",
       "      <td id=\"T_c4056_row5_col10\" class=\"data row5 col10\" >-0.36</td>\n",
       "      <td id=\"T_c4056_row5_col11\" class=\"data row5 col11\" >0.20</td>\n",
       "    </tr>\n",
       "    <tr>\n",
       "      <th id=\"T_c4056_level0_row6\" class=\"row_heading level0 row6\" >el_neg_chi_average</th>\n",
       "      <td id=\"T_c4056_row6_col0\" class=\"data row6 col0\" >0.04</td>\n",
       "      <td id=\"T_c4056_row6_col1\" class=\"data row6 col1\" >-0.08</td>\n",
       "      <td id=\"T_c4056_row6_col2\" class=\"data row6 col2\" >-0.32</td>\n",
       "      <td id=\"T_c4056_row6_col3\" class=\"data row6 col3\" >0.55</td>\n",
       "      <td id=\"T_c4056_row6_col4\" class=\"data row6 col4\" >-0.32</td>\n",
       "      <td id=\"T_c4056_row6_col5\" class=\"data row6 col5\" >0.77</td>\n",
       "      <td id=\"T_c4056_row6_col6\" class=\"data row6 col6\" >1.00</td>\n",
       "      <td id=\"T_c4056_row6_col7\" class=\"data row6 col7\" >0.12</td>\n",
       "      <td id=\"T_c4056_row6_col8\" class=\"data row6 col8\" >-0.17</td>\n",
       "      <td id=\"T_c4056_row6_col9\" class=\"data row6 col9\" >0.44</td>\n",
       "      <td id=\"T_c4056_row6_col10\" class=\"data row6 col10\" >-0.32</td>\n",
       "      <td id=\"T_c4056_row6_col11\" class=\"data row6 col11\" >0.29</td>\n",
       "    </tr>\n",
       "    <tr>\n",
       "      <th id=\"T_c4056_level0_row7\" class=\"row_heading level0 row7\" >r_vdw_element_average</th>\n",
       "      <td id=\"T_c4056_row7_col0\" class=\"data row7 col0\" >0.04</td>\n",
       "      <td id=\"T_c4056_row7_col1\" class=\"data row7 col1\" >0.20</td>\n",
       "      <td id=\"T_c4056_row7_col2\" class=\"data row7 col2\" >0.55</td>\n",
       "      <td id=\"T_c4056_row7_col3\" class=\"data row7 col3\" >0.35</td>\n",
       "      <td id=\"T_c4056_row7_col4\" class=\"data row7 col4\" >0.53</td>\n",
       "      <td id=\"T_c4056_row7_col5\" class=\"data row7 col5\" >0.08</td>\n",
       "      <td id=\"T_c4056_row7_col6\" class=\"data row7 col6\" >0.12</td>\n",
       "      <td id=\"T_c4056_row7_col7\" class=\"data row7 col7\" >1.00</td>\n",
       "      <td id=\"T_c4056_row7_col8\" class=\"data row7 col8\" >0.81</td>\n",
       "      <td id=\"T_c4056_row7_col9\" class=\"data row7 col9\" >0.00</td>\n",
       "      <td id=\"T_c4056_row7_col10\" class=\"data row7 col10\" >0.44</td>\n",
       "      <td id=\"T_c4056_row7_col11\" class=\"data row7 col11\" >-0.06</td>\n",
       "    </tr>\n",
       "    <tr>\n",
       "      <th id=\"T_c4056_level0_row8\" class=\"row_heading level0 row8\" >r_cov_element_average</th>\n",
       "      <td id=\"T_c4056_row8_col0\" class=\"data row8 col0\" >0.02</td>\n",
       "      <td id=\"T_c4056_row8_col1\" class=\"data row8 col1\" >0.24</td>\n",
       "      <td id=\"T_c4056_row8_col2\" class=\"data row8 col2\" >0.69</td>\n",
       "      <td id=\"T_c4056_row8_col3\" class=\"data row8 col3\" >0.19</td>\n",
       "      <td id=\"T_c4056_row8_col4\" class=\"data row8 col4\" >0.67</td>\n",
       "      <td id=\"T_c4056_row8_col5\" class=\"data row8 col5\" >-0.24</td>\n",
       "      <td id=\"T_c4056_row8_col6\" class=\"data row8 col6\" >-0.17</td>\n",
       "      <td id=\"T_c4056_row8_col7\" class=\"data row8 col7\" >0.81</td>\n",
       "      <td id=\"T_c4056_row8_col8\" class=\"data row8 col8\" >1.00</td>\n",
       "      <td id=\"T_c4056_row8_col9\" class=\"data row8 col9\" >-0.22</td>\n",
       "      <td id=\"T_c4056_row8_col10\" class=\"data row8 col10\" >0.57</td>\n",
       "      <td id=\"T_c4056_row8_col11\" class=\"data row8 col11\" >-0.19</td>\n",
       "    </tr>\n",
       "    <tr>\n",
       "      <th id=\"T_c4056_level0_row9\" class=\"row_heading level0 row9\" >zaratio_average</th>\n",
       "      <td id=\"T_c4056_row9_col0\" class=\"data row9 col0\" >0.03</td>\n",
       "      <td id=\"T_c4056_row9_col1\" class=\"data row9 col1\" >-0.09</td>\n",
       "      <td id=\"T_c4056_row9_col2\" class=\"data row9 col2\" >-0.33</td>\n",
       "      <td id=\"T_c4056_row9_col3\" class=\"data row9 col3\" >0.09</td>\n",
       "      <td id=\"T_c4056_row9_col4\" class=\"data row9 col4\" >-0.33</td>\n",
       "      <td id=\"T_c4056_row9_col5\" class=\"data row9 col5\" >0.64</td>\n",
       "      <td id=\"T_c4056_row9_col6\" class=\"data row9 col6\" >0.44</td>\n",
       "      <td id=\"T_c4056_row9_col7\" class=\"data row9 col7\" >0.00</td>\n",
       "      <td id=\"T_c4056_row9_col8\" class=\"data row9 col8\" >-0.22</td>\n",
       "      <td id=\"T_c4056_row9_col9\" class=\"data row9 col9\" >1.00</td>\n",
       "      <td id=\"T_c4056_row9_col10\" class=\"data row9 col10\" >-0.31</td>\n",
       "      <td id=\"T_c4056_row9_col11\" class=\"data row9 col11\" >0.06</td>\n",
       "    </tr>\n",
       "    <tr>\n",
       "      <th id=\"T_c4056_level0_row10\" class=\"row_heading level0 row10\" >density_average</th>\n",
       "      <td id=\"T_c4056_row10_col0\" class=\"data row10 col0\" >0.06</td>\n",
       "      <td id=\"T_c4056_row10_col1\" class=\"data row10 col1\" >0.34</td>\n",
       "      <td id=\"T_c4056_row10_col2\" class=\"data row10 col2\" >0.80</td>\n",
       "      <td id=\"T_c4056_row10_col3\" class=\"data row10 col3\" >-0.07</td>\n",
       "      <td id=\"T_c4056_row10_col4\" class=\"data row10 col4\" >0.80</td>\n",
       "      <td id=\"T_c4056_row10_col5\" class=\"data row10 col5\" >-0.36</td>\n",
       "      <td id=\"T_c4056_row10_col6\" class=\"data row10 col6\" >-0.32</td>\n",
       "      <td id=\"T_c4056_row10_col7\" class=\"data row10 col7\" >0.44</td>\n",
       "      <td id=\"T_c4056_row10_col8\" class=\"data row10 col8\" >0.57</td>\n",
       "      <td id=\"T_c4056_row10_col9\" class=\"data row10 col9\" >-0.31</td>\n",
       "      <td id=\"T_c4056_row10_col10\" class=\"data row10 col10\" >1.00</td>\n",
       "      <td id=\"T_c4056_row10_col11\" class=\"data row10 col11\" >-0.36</td>\n",
       "    </tr>\n",
       "    <tr>\n",
       "      <th id=\"T_c4056_level0_row11\" class=\"row_heading level0 row11\" >hardness</th>\n",
       "      <td id=\"T_c4056_row11_col0\" class=\"data row11 col0\" >-0.06</td>\n",
       "      <td id=\"T_c4056_row11_col1\" class=\"data row11 col1\" >-0.16</td>\n",
       "      <td id=\"T_c4056_row11_col2\" class=\"data row11 col2\" >-0.40</td>\n",
       "      <td id=\"T_c4056_row11_col3\" class=\"data row11 col3\" >0.16</td>\n",
       "      <td id=\"T_c4056_row11_col4\" class=\"data row11 col4\" >-0.40</td>\n",
       "      <td id=\"T_c4056_row11_col5\" class=\"data row11 col5\" >0.20</td>\n",
       "      <td id=\"T_c4056_row11_col6\" class=\"data row11 col6\" >0.29</td>\n",
       "      <td id=\"T_c4056_row11_col7\" class=\"data row11 col7\" >-0.06</td>\n",
       "      <td id=\"T_c4056_row11_col8\" class=\"data row11 col8\" >-0.19</td>\n",
       "      <td id=\"T_c4056_row11_col9\" class=\"data row11 col9\" >0.06</td>\n",
       "      <td id=\"T_c4056_row11_col10\" class=\"data row11 col10\" >-0.36</td>\n",
       "      <td id=\"T_c4056_row11_col11\" class=\"data row11 col11\" >1.00</td>\n",
       "    </tr>\n",
       "  </tbody>\n",
       "</table>\n"
      ],
      "text/plain": [
       "<pandas.io.formats.style.Styler at 0x7bac2bb97310>"
      ]
     },
     "execution_count": 6,
     "metadata": {},
     "output_type": "execute_result"
    }
   ],
   "source": [
    "df_train.corr().style.background_gradient(cmap='coolwarm').format(precision=2)\n"
   ]
  },
  {
   "cell_type": "code",
   "execution_count": 7,
   "id": "19e29760",
   "metadata": {
    "execution": {
     "iopub.execute_input": "2023-11-28T15:03:47.550078Z",
     "iopub.status.busy": "2023-11-28T15:03:47.549366Z",
     "iopub.status.idle": "2023-11-28T15:03:52.139551Z",
     "shell.execute_reply": "2023-11-28T15:03:52.138284Z"
    },
    "papermill": {
     "duration": 4.602778,
     "end_time": "2023-11-28T15:03:52.142317",
     "exception": false,
     "start_time": "2023-11-28T15:03:47.539539",
     "status": "completed"
    },
    "tags": []
   },
   "outputs": [
    {
     "data": {
      "image/png": "[encoded data removed]",
      "text/plain": [
       "<Figure size 1000x600 with 12 Axes>"
      ]
     },
     "metadata": {},
     "output_type": "display_data"
    }
   ],
   "source": [
    "%matplotlib inline\n",
    "\n",
    "cmap = plt.get_cmap(\"tab20c\")\n",
    "colors = cmap(range(df_train.columns[1:].shape[0]))\n",
    "\n",
    "fig, axs = plt.subplots(ncols=4, nrows=3, figsize=(10, 6))\n",
    "axs = axs.flatten()\n",
    "    \n",
    "for idx, col in enumerate(df_train.columns[1:]):\n",
    "    df_train[col].plot.hist(ax=axs[idx], density=True, bins=20, color=colors[idx])\n",
    "    axs[idx].set_title(col)\n",
    "    \n",
    "plt.tight_layout()"
   ]
  },
  {
   "cell_type": "code",
   "execution_count": 8,
   "id": "a25dfe1a",
   "metadata": {
    "execution": {
     "iopub.execute_input": "2023-11-28T15:03:52.163468Z",
     "iopub.status.busy": "2023-11-28T15:03:52.163057Z",
     "iopub.status.idle": "2023-11-28T15:03:52.711278Z",
     "shell.execute_reply": "2023-11-28T15:03:52.710303Z"
    },
    "papermill": {
     "duration": 0.561708,
     "end_time": "2023-11-28T15:03:52.713767",
     "exception": false,
     "start_time": "2023-11-28T15:03:52.152059",
     "status": "completed"
    },
    "tags": []
   },
   "outputs": [
    {
     "data": {
      "text/plain": [
       "hardness                 1.000000\n",
       "atomicweight_average     0.402948\n",
       "allelectrons_average     0.400496\n",
       "density_average          0.360780\n",
       "el_neg_chi_average       0.290352\n",
       "ionenergy_average        0.203203\n",
       "r_cov_element_average    0.189111\n",
       "val_e_average            0.161715\n",
       "density_total            0.161524\n",
       "allelectrons_total       0.061687\n",
       "r_vdw_element_average    0.061402\n",
       "zaratio_average          0.055248\n",
       "dtype: float64"
      ]
     },
     "metadata": {},
     "output_type": "display_data"
    },
    {
     "data": {
      "text/plain": [
       "Text(0.5, 1.0, 'Correlation: Top 10 numerical features')"
      ]
     },
     "execution_count": 8,
     "metadata": {},
     "output_type": "execute_result"
    },
    {
     "data": {
      "image/png": "[encoded data removed]",
      "text/plain": [
       "<Figure size 500x500 with 1 Axes>"
      ]
     },
     "metadata": {},
     "output_type": "display_data"
    }
   ],
   "source": [
    "corr = df_train.corrwith(df_train.hardness).abs().sort_values(ascending=False)\n",
    "display(corr)\n",
    "\n",
    "fig, ax = plt.subplots(figsize=(5,5))\n",
    "corr[1:][::-1].plot.barh(ax=ax)\n",
    "ax.set_title('Correlation: Top 10 numerical features')"
   ]
  },
  {
   "cell_type": "code",
   "execution_count": 9,
   "id": "e76854cb",
   "metadata": {
    "execution": {
     "iopub.execute_input": "2023-11-28T15:03:52.738466Z",
     "iopub.status.busy": "2023-11-28T15:03:52.737941Z",
     "iopub.status.idle": "2023-11-28T15:03:52.749922Z",
     "shell.execute_reply": "2023-11-28T15:03:52.748783Z"
    },
    "papermill": {
     "duration": 0.027597,
     "end_time": "2023-11-28T15:03:52.752449",
     "exception": false,
     "start_time": "2023-11-28T15:03:52.724852",
     "status": "completed"
    },
    "tags": []
   },
   "outputs": [],
   "source": [
    "df_train, df_val = train_test_split(df_train, test_size=0.3, random_state=42)\n",
    "\n",
    "df_train = df_train.reset_index(drop=True)\n",
    "df_val = df_val.reset_index(drop=True)\n",
    "\n",
    "y_train = np.log1p(df_train.hardness.values)\n",
    "y_val = np.log1p(df_val.hardness.values)\n",
    "\n",
    "del df_train['hardness']\n",
    "del df_val['hardness']\n"
   ]
  },
  {
   "cell_type": "code",
   "execution_count": 10,
   "id": "85d41f7e",
   "metadata": {
    "execution": {
     "iopub.execute_input": "2023-11-28T15:03:52.775454Z",
     "iopub.status.busy": "2023-11-28T15:03:52.774986Z",
     "iopub.status.idle": "2023-11-28T15:03:52.791450Z",
     "shell.execute_reply": "2023-11-28T15:03:52.790301Z"
    },
    "papermill": {
     "duration": 0.031045,
     "end_time": "2023-11-28T15:03:52.794148",
     "exception": false,
     "start_time": "2023-11-28T15:03:52.763103",
     "status": "completed"
    },
    "tags": []
   },
   "outputs": [],
   "source": [
    "# encoding\n",
    "scaler = MinMaxScaler()\n",
    "\n",
    "X_train = scaler.fit_transform(df_train)\n",
    "X_val = scaler.transform(df_val)\n",
    "X_test = scaler.transform(df_test)"
   ]
  },
  {
   "cell_type": "code",
   "execution_count": 11,
   "id": "6e2c355e",
   "metadata": {
    "execution": {
     "iopub.execute_input": "2023-11-28T15:03:52.819634Z",
     "iopub.status.busy": "2023-11-28T15:03:52.819200Z",
     "iopub.status.idle": "2023-11-28T15:04:07.677615Z",
     "shell.execute_reply": "2023-11-28T15:04:07.676476Z"
    },
    "papermill": {
     "duration": 14.873331,
     "end_time": "2023-11-28T15:04:07.680132",
     "exception": false,
     "start_time": "2023-11-28T15:03:52.806801",
     "status": "completed"
    },
    "tags": []
   },
   "outputs": [
    {
     "name": "stdout",
     "output_type": "stream",
     "text": [
      "Epoch 1/100\n",
      "160/160 [==============================] - 2s 4ms/step - loss: 0.6842 - medae_keras: 2.6555 - val_loss: 0.2630 - val_medae_keras: 1.1493\n",
      "Epoch 2/100\n",
      "160/160 [==============================] - 0s 3ms/step - loss: 0.2283 - medae_keras: 0.9559 - val_loss: 0.2249 - val_medae_keras: 0.8609\n",
      "Epoch 3/100\n",
      "160/160 [==============================] - 0s 3ms/step - loss: 0.2138 - medae_keras: 0.8719 - val_loss: 0.2170 - val_medae_keras: 0.8449\n",
      "Epoch 4/100\n",
      "160/160 [==============================] - 0s 2ms/step - loss: 0.2086 - medae_keras: 0.7969 - val_loss: 0.2144 - val_medae_keras: 0.9674\n",
      "Epoch 5/100\n",
      "160/160 [==============================] - 0s 3ms/step - loss: 0.2061 - medae_keras: 0.8137 - val_loss: 0.2094 - val_medae_keras: 0.7261\n",
      "Epoch 6/100\n",
      "160/160 [==============================] - 0s 2ms/step - loss: 0.2037 - medae_keras: 0.7950 - val_loss: 0.2152 - val_medae_keras: 0.6877\n",
      "Epoch 7/100\n",
      "160/160 [==============================] - 0s 3ms/step - loss: 0.2035 - medae_keras: 0.7806 - val_loss: 0.2097 - val_medae_keras: 0.9174\n",
      "Epoch 8/100\n",
      "160/160 [==============================] - 0s 3ms/step - loss: 0.2028 - medae_keras: 0.7800 - val_loss: 0.2080 - val_medae_keras: 0.7283\n",
      "Epoch 9/100\n",
      "160/160 [==============================] - 0s 3ms/step - loss: 0.2021 - medae_keras: 0.7809 - val_loss: 0.2088 - val_medae_keras: 0.6949\n",
      "Epoch 10/100\n",
      "160/160 [==============================] - 0s 3ms/step - loss: 0.2023 - medae_keras: 0.7944 - val_loss: 0.2060 - val_medae_keras: 0.6928\n",
      "Epoch 11/100\n",
      "160/160 [==============================] - 0s 2ms/step - loss: 0.2007 - medae_keras: 0.7384 - val_loss: 0.2064 - val_medae_keras: 0.7109\n",
      "Epoch 12/100\n",
      "160/160 [==============================] - 0s 3ms/step - loss: 0.2016 - medae_keras: 0.7639 - val_loss: 0.2063 - val_medae_keras: 0.7109\n",
      "Epoch 13/100\n",
      "160/160 [==============================] - 0s 3ms/step - loss: 0.1998 - medae_keras: 0.7566 - val_loss: 0.2097 - val_medae_keras: 0.8319\n",
      "Epoch 14/100\n",
      "160/160 [==============================] - 0s 3ms/step - loss: 0.2005 - medae_keras: 0.7553 - val_loss: 0.2059 - val_medae_keras: 0.8522\n",
      "Epoch 15/100\n",
      "160/160 [==============================] - 0s 2ms/step - loss: 0.2005 - medae_keras: 0.7519 - val_loss: 0.2044 - val_medae_keras: 0.6866\n",
      "Epoch 16/100\n",
      "160/160 [==============================] - 0s 3ms/step - loss: 0.1992 - medae_keras: 0.7630 - val_loss: 0.2096 - val_medae_keras: 0.9609\n",
      "Epoch 17/100\n",
      "160/160 [==============================] - 0s 2ms/step - loss: 0.1995 - medae_keras: 0.7659 - val_loss: 0.2049 - val_medae_keras: 0.6888\n",
      "Epoch 18/100\n",
      "160/160 [==============================] - 0s 2ms/step - loss: 0.1986 - medae_keras: 0.7375 - val_loss: 0.2038 - val_medae_keras: 0.6949\n",
      "Epoch 19/100\n",
      "160/160 [==============================] - 0s 2ms/step - loss: 0.1983 - medae_keras: 0.7434 - val_loss: 0.2049 - val_medae_keras: 0.8170\n",
      "Epoch 20/100\n",
      "160/160 [==============================] - 0s 3ms/step - loss: 0.1976 - medae_keras: 0.7513 - val_loss: 0.2034 - val_medae_keras: 0.7036\n",
      "Epoch 21/100\n",
      "160/160 [==============================] - 0s 2ms/step - loss: 0.1978 - medae_keras: 0.7411 - val_loss: 0.2057 - val_medae_keras: 0.7217\n",
      "Epoch 22/100\n",
      "160/160 [==============================] - 0s 3ms/step - loss: 0.1975 - medae_keras: 0.7378 - val_loss: 0.2030 - val_medae_keras: 0.6620\n",
      "Epoch 23/100\n",
      "160/160 [==============================] - 0s 3ms/step - loss: 0.1974 - medae_keras: 0.7275 - val_loss: 0.2053 - val_medae_keras: 0.7652\n",
      "Epoch 24/100\n",
      "160/160 [==============================] - 0s 3ms/step - loss: 0.1978 - medae_keras: 0.7445 - val_loss: 0.2080 - val_medae_keras: 0.6717\n",
      "Epoch 25/100\n",
      "160/160 [==============================] - 0s 3ms/step - loss: 0.1980 - medae_keras: 0.7675 - val_loss: 0.2042 - val_medae_keras: 0.6685\n",
      "Epoch 26/100\n",
      "160/160 [==============================] - 0s 3ms/step - loss: 0.1977 - medae_keras: 0.7403 - val_loss: 0.2055 - val_medae_keras: 0.6583\n",
      "Epoch 27/100\n",
      "160/160 [==============================] - 0s 3ms/step - loss: 0.1970 - medae_keras: 0.7281 - val_loss: 0.2033 - val_medae_keras: 0.6775\n",
      "Epoch 28/100\n",
      "160/160 [==============================] - 0s 2ms/step - loss: 0.1961 - medae_keras: 0.7128 - val_loss: 0.2022 - val_medae_keras: 0.7178\n",
      "Epoch 29/100\n",
      "160/160 [==============================] - 0s 2ms/step - loss: 0.1968 - medae_keras: 0.7216 - val_loss: 0.2041 - val_medae_keras: 0.6656\n",
      "Epoch 30/100\n",
      "160/160 [==============================] - 0s 2ms/step - loss: 0.1962 - medae_keras: 0.7359 - val_loss: 0.2025 - val_medae_keras: 0.7315\n",
      "Epoch 31/100\n",
      "137/160 [========================>.....] - ETA: 0s - loss: 0.1958 - medae_keras: 0.7420Restoring model weights from the end of the best epoch: 1.\n",
      "160/160 [==============================] - 0s 3ms/step - loss: 0.1963 - medae_keras: 0.7522 - val_loss: 0.2019 - val_medae_keras: 0.6750\n",
      "Epoch 31: early stopping\n"
     ]
    }
   ],
   "source": [
    "# Define the model\n",
    "model = Sequential()\n",
    "model.add(Dense(32, input_dim=X_train.shape[-1], activation='relu'))\n",
    "model.add(Dense(16, activation='relu'))\n",
    "model.add(Dense(1))\n",
    "\n",
    "# Custom Median Absolute Error metric\n",
    "def medae_keras(y_true, y_pred):\n",
    "    y_true = tf.math.expm1(y_true)\n",
    "    y_pred = tf.round(tf.math.expm1(y_pred))\n",
    "    absolute_errors = tf.abs(y_true - y_pred)\n",
    "    medae = tfp.stats.percentile(absolute_errors, 50.0, interpolation='linear')\n",
    "    return medae\n",
    "\n",
    "optimizer = keras.optimizers.Adam(learning_rate=1e-3)\n",
    "loss = keras.losses.MeanAbsoluteError()\n",
    "\n",
    "# Compile the model\n",
    "model.compile(optimizer=optimizer, loss=loss, metrics=[medae_keras])\n",
    "\n",
    "EPOCHS = 100\n",
    "BATCH_SIZE = 32\n",
    "\n",
    "early_stopping = tf.keras.callbacks.EarlyStopping(\n",
    "    monitor='val_medae_keras', \n",
    "    verbose=1,\n",
    "    patience=30,\n",
    "    mode='max',\n",
    "    restore_best_weights=True)\n",
    "\n",
    "# Train the model\n",
    "history = model.fit(X_train, y_train, epochs=EPOCHS, batch_size=BATCH_SIZE, validation_split=0.3, callbacks=[early_stopping])"
   ]
  },
  {
   "cell_type": "code",
   "execution_count": 12,
   "id": "67aa2c59",
   "metadata": {
    "execution": {
     "iopub.execute_input": "2023-11-28T15:04:07.753269Z",
     "iopub.status.busy": "2023-11-28T15:04:07.752063Z",
     "iopub.status.idle": "2023-11-28T15:04:07.761339Z",
     "shell.execute_reply": "2023-11-28T15:04:07.760110Z"
    },
    "papermill": {
     "duration": 0.04899,
     "end_time": "2023-11-28T15:04:07.764439",
     "exception": false,
     "start_time": "2023-11-28T15:04:07.715449",
     "status": "completed"
    },
    "tags": []
   },
   "outputs": [],
   "source": [
    "def plot_metrics(history):\n",
    "  metrics = ['loss', 'medae_keras']\n",
    "  plt.figure(figsize=(10,5))\n",
    "  for n, metric in enumerate(metrics):\n",
    "    name = metric.replace(\"_\",\" \").capitalize()\n",
    "    plt.subplot(1,2,n+1)\n",
    "    plt.plot(history.epoch, history.history[metric], color=colors[0], label='Train')\n",
    "    plt.plot(history.epoch, history.history['val_'+metric],\n",
    "             color=colors[0], linestyle=\"--\", label='Val')\n",
    "    plt.xlabel('Epoch')\n",
    "    plt.ylabel(name)\n",
    "    if metric == 'loss':\n",
    "      plt.ylim([0, plt.ylim()[1]])\n",
    "    plt.legend()     "
   ]
  },
  {
   "cell_type": "code",
   "execution_count": 13,
   "id": "1b54d383",
   "metadata": {
    "execution": {
     "iopub.execute_input": "2023-11-28T15:04:07.836118Z",
     "iopub.status.busy": "2023-11-28T15:04:07.835575Z",
     "iopub.status.idle": "2023-11-28T15:04:08.705333Z",
     "shell.execute_reply": "2023-11-28T15:04:08.704084Z"
    },
    "papermill": {
     "duration": 0.908814,
     "end_time": "2023-11-28T15:04:08.707950",
     "exception": false,
     "start_time": "2023-11-28T15:04:07.799136",
     "status": "completed"
    },
    "tags": []
   },
   "outputs": [
    {
     "data": {
      "image/png": "[encoded data removed]",
      "text/plain": [
       "<Figure size 1000x500 with 2 Axes>"
      ]
     },
     "metadata": {},
     "output_type": "display_data"
    }
   ],
   "source": [
    "plot_metrics(history)\n"
   ]
  },
  {
   "cell_type": "code",
   "execution_count": 14,
   "id": "e64abf3c",
   "metadata": {
    "execution": {
     "iopub.execute_input": "2023-11-28T15:04:08.781205Z",
     "iopub.status.busy": "2023-11-28T15:04:08.780746Z",
     "iopub.status.idle": "2023-11-28T15:04:09.588966Z",
     "shell.execute_reply": "2023-11-28T15:04:09.587534Z"
    },
    "papermill": {
     "duration": 0.847928,
     "end_time": "2023-11-28T15:04:09.591475",
     "exception": false,
     "start_time": "2023-11-28T15:04:08.743547",
     "status": "completed"
    },
    "tags": []
   },
   "outputs": [
    {
     "name": "stdout",
     "output_type": "stream",
     "text": [
      "228/228 [==============================] - 0s 1ms/step\n",
      "98/98 [==============================] - 0s 1ms/step\n",
      "Median Absolute Error (Training): 1.007204294204711\n",
      "Median Absolute Error (Validation): 0.9931077957153311\n"
     ]
    }
   ],
   "source": [
    "# Prediction\n",
    "y_fit = np.expm1(model.predict(X_train, batch_size=BATCH_SIZE))\n",
    "y_pred = np.expm1(model.predict(X_val, batch_size=BATCH_SIZE))\n",
    "\n",
    "y_train = np.expm1(y_train)\n",
    "y_val = np.expm1(y_val)\n",
    "\n",
    "# Evaluation\n",
    "print(\"Median Absolute Error (Training):\", median_absolute_error(y_train, y_fit))\n",
    "print(\"Median Absolute Error (Validation):\", median_absolute_error(y_val, y_pred))"
   ]
  },
  {
   "cell_type": "code",
   "execution_count": 15,
   "id": "2215e605",
   "metadata": {
    "execution": {
     "iopub.execute_input": "2023-11-28T15:04:09.667271Z",
     "iopub.status.busy": "2023-11-28T15:04:09.666815Z",
     "iopub.status.idle": "2023-11-28T15:04:10.197090Z",
     "shell.execute_reply": "2023-11-28T15:04:10.195647Z"
    },
    "papermill": {
     "duration": 0.571069,
     "end_time": "2023-11-28T15:04:10.199904",
     "exception": false,
     "start_time": "2023-11-28T15:04:09.628835",
     "status": "completed"
    },
    "tags": []
   },
   "outputs": [
    {
     "name": "stdout",
     "output_type": "stream",
     "text": [
      "217/217 [==============================] - 0s 1ms/step\n"
     ]
    },
    {
     "data": {
      "text/html": [
       "<div>\n",
       "<style scoped>\n",
       "    .dataframe tbody tr th:only-of-type {\n",
       "        vertical-align: middle;\n",
       "    }\n",
       "\n",
       "    .dataframe tbody tr th {\n",
       "        vertical-align: top;\n",
       "    }\n",
       "\n",
       "    .dataframe thead th {\n",
       "        text-align: right;\n",
       "    }\n",
       "</style>\n",
       "<table border=\"1\" class=\"dataframe\">\n",
       "  <thead>\n",
       "    <tr style=\"text-align: right;\">\n",
       "      <th></th>\n",
       "      <th>id</th>\n",
       "      <th>Hardness</th>\n",
       "    </tr>\n",
       "  </thead>\n",
       "  <tbody>\n",
       "    <tr>\n",
       "      <th>0</th>\n",
       "      <td>10407</td>\n",
       "      <td>5.663</td>\n",
       "    </tr>\n",
       "    <tr>\n",
       "      <th>1</th>\n",
       "      <td>10408</td>\n",
       "      <td>6.190</td>\n",
       "    </tr>\n",
       "    <tr>\n",
       "      <th>2</th>\n",
       "      <td>10409</td>\n",
       "      <td>5.446</td>\n",
       "    </tr>\n",
       "    <tr>\n",
       "      <th>3</th>\n",
       "      <td>10410</td>\n",
       "      <td>5.669</td>\n",
       "    </tr>\n",
       "    <tr>\n",
       "      <th>4</th>\n",
       "      <td>10411</td>\n",
       "      <td>4.861</td>\n",
       "    </tr>\n",
       "  </tbody>\n",
       "</table>\n",
       "</div>"
      ],
      "text/plain": [
       "      id  Hardness\n",
       "0  10407     5.663\n",
       "1  10408     6.190\n",
       "2  10409     5.446\n",
       "3  10410     5.669\n",
       "4  10411     4.861"
      ]
     },
     "execution_count": 15,
     "metadata": {},
     "output_type": "execute_result"
    }
   ],
   "source": [
    "submissions = pd.read_csv('/kaggle/input/playground-series-s3e25/sample_submission.csv')\n",
    "\n",
    "y_submission = model.predict(X_test, batch_size=BATCH_SIZE)\n",
    "y_submission = np.expm1(y_submission)\n",
    "submissions['Hardness'] = y_submission.round(3)\n",
    "\n",
    "submissions.to_csv('/kaggle/working/baseline.csv', index=False)\n",
    "\n",
    "submissions.head()"
   ]
  },
  {
   "cell_type": "code",
   "execution_count": null,
   "id": "17c951e7",
   "metadata": {
    "papermill": {
     "duration": 0.037134,
     "end_time": "2023-11-28T15:04:10.275446",
     "exception": false,
     "start_time": "2023-11-28T15:04:10.238312",
     "status": "completed"
    },
    "tags": []
   },
   "outputs": [],
   "source": []
  }
 ],
 "metadata": {
  "kaggle": {
   "accelerator": "none",
   "dataSources": [
    {
     "databundleVersionId": 6989718,
     "sourceId": 60892,
     "sourceType": "competition"
    }
   ],
   "dockerImageVersionId": 30587,
   "isGpuEnabled": false,
   "isInternetEnabled": true,
   "language": "python",
   "sourceType": "notebook"
  },
  "kernelspec": {
   "display_name": "Python 3",
   "language": "python",
   "name": "python3"
  },
  "language_info": {
   "codemirror_mode": {
    "name": "ipython",
    "version": 3
   },
   "file_extension": ".py",
   "mimetype": "text/x-python",
   "name": "python",
   "nbconvert_exporter": "python",
   "pygments_lexer": "ipython3",
   "version": "3.10.12"
  },
  "papermill": {
   "default_parameters": {},
   "duration": 47.52774,
   "end_time": "2023-11-28T15:04:12.959599",
   "environment_variables": {},
   "exception": null,
   "input_path": "__notebook__.ipynb",
   "output_path": "__notebook__.ipynb",
   "parameters": {},
   "start_time": "2023-11-28T15:03:25.431859",
   "version": "2.4.0"
  }
 },
 "nbformat": 4,
 "nbformat_minor": 5
}
