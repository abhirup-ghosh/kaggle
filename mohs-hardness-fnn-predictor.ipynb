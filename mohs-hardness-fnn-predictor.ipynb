{
 "cells": [
  {
   "cell_type": "markdown",
   "id": "4c950f15",
   "metadata": {
    "papermill": {
     "duration": 0.011236,
     "end_time": "2023-11-28T15:15:39.348230",
     "exception": false,
     "start_time": "2023-11-28T15:15:39.336994",
     "status": "completed"
    },
    "tags": []
   },
   "source": [
    "# Competition: [Regression with a Mohs Hardness Dataset](https://www.kaggle.com/competitions/playground-series-s3e25)"
   ]
  },
  {
   "cell_type": "markdown",
   "id": "540d911d",
   "metadata": {
    "papermill": {
     "duration": 0.007903,
     "end_time": "2023-11-28T15:15:39.364784",
     "exception": false,
     "start_time": "2023-11-28T15:15:39.356881",
     "status": "completed"
    },
    "tags": []
   },
   "source": [
    "**Keywords**: #Regression #Playground #FeedforwardNeuralNetwork #FNN"
   ]
  },
  {
   "cell_type": "markdown",
   "id": "7fcb6319",
   "metadata": {
    "papermill": {
     "duration": 0.008442,
     "end_time": "2023-11-28T15:15:39.381533",
     "exception": false,
     "start_time": "2023-11-28T15:15:39.373091",
     "status": "completed"
    },
    "tags": []
   },
   "source": [
    "## Introduction\n",
    "\n",
    "In this project, our objective is to develop a robust predictive model for estimating the Mohs hardness of minerals based on their intrinsic properties. **Mohs hardness, a measure of a mineral's resistance to scratching,** is a crucial factor in various industrial applications, material science, and geology. Accurate prediction of Mohs hardness can expedite mineral classification and aid in material selection for specific purposes.\n",
    "\n",
    "Motivated by the need for efficient and accurate mineral hardness prediction, we are leveraging advanced machine learning techniques, specifically TensorFlow/Keras neural networks. The project involves the creation of a regression model capable of understanding complex relationships within a dataset comprising 13 distinct mineral properties. The primary metric for model evaluation is the Median Absolute Error (MAE), ensuring a robust assessment of predictive accuracy.\n",
    "\n",
    "By addressing this challenge, we aim to contribute to the field of mineralogy and material science, facilitating more precise hardness predictions and supporting advancements in various industries reliant on mineral properties. The small dataset of 10,000 data points, coupled with the incorporation of data augmentation and rigorous model tuning, underscores our commitment to developing a reliable and efficient predictive tool."
   ]
  },
  {
   "cell_type": "code",
   "execution_count": 1,
   "id": "50711eda",
   "metadata": {
    "_kg_hide-input": true,
    "execution": {
     "iopub.execute_input": "2023-11-28T15:15:39.400555Z",
     "iopub.status.busy": "2023-11-28T15:15:39.399856Z",
     "iopub.status.idle": "2023-11-28T15:15:39.419761Z",
     "shell.execute_reply": "2023-11-28T15:15:39.418215Z"
    },
    "papermill": {
     "duration": 0.033598,
     "end_time": "2023-11-28T15:15:39.422941",
     "exception": false,
     "start_time": "2023-11-28T15:15:39.389343",
     "status": "completed"
    },
    "tags": []
   },
   "outputs": [
    {
     "data": {
      "text/html": [
       "<img src=\"https://i0.wp.com/www.compoundchem.com/wp-content/uploads/2022/11/Mohs-Hardness-Scale.png?ssl=1\"/>"
      ],
      "text/plain": [
       "<IPython.core.display.Image object>"
      ]
     },
     "execution_count": 1,
     "metadata": {},
     "output_type": "execute_result"
    }
   ],
   "source": [
    "from IPython.display import Image\n",
    "from IPython.core.display import HTML \n",
    "Image(url= \"https://i0.wp.com/www.compoundchem.com/wp-content/uploads/2022/11/Mohs-Hardness-Scale.png?ssl=1\")"
   ]
  },
  {
   "cell_type": "markdown",
   "id": "ffe624d3",
   "metadata": {
    "papermill": {
     "duration": 0.007694,
     "end_time": "2023-11-28T15:15:39.438652",
     "exception": false,
     "start_time": "2023-11-28T15:15:39.430958",
     "status": "completed"
    },
    "tags": []
   },
   "source": [
    "## [Evaluation](www.kaggle.com/competitions/playground-series-s3e25/overview/evaluation)\n",
    "\n",
    "Submissions are scored on the Median Absolute Error (MedAE). MedAE is defined as:\n",
    "\n",
    "${\\displaystyle \\operatorname {MAD} =\\operatorname {median} (|X_{i}-{\\tilde {X}}|)}$"
   ]
  },
  {
   "cell_type": "markdown",
   "id": "adbfe640",
   "metadata": {
    "papermill": {
     "duration": 0.00752,
     "end_time": "2023-11-28T15:15:39.454770",
     "exception": false,
     "start_time": "2023-11-28T15:15:39.447250",
     "status": "completed"
    },
    "tags": []
   },
   "source": [
    "## [Data](https://www.kaggle.com/competitions/playground-series-s3e25/data)\n",
    "\n",
    "The dataset for this competition (both train and test) was generated from a deep learning model trained on the Prediction of Mohs Hardness with Machine Learning dataset. Feature distributions are close to, but not exactly the same, as the original. Feel free to use the original dataset as part of this competition, both to explore differences as well as to see whether incorporating the original in training improves model performance.\n",
    "\n",
    "**Files**\n",
    "\n",
    "* **train.csv** - the training dataset; Hardness is the continuous target\n",
    "* **test.csv** - the test dataset; your objective is to predict the value of Hardness\n",
    "* **sample_submission.csv** - a sample submission file in the correct format"
   ]
  },
  {
   "cell_type": "code",
   "execution_count": 2,
   "id": "00504343",
   "metadata": {
    "_cell_guid": "b1076dfc-b9ad-4769-8c92-a6c4dae69d19",
    "_uuid": "8f2839f25d086af736a60e9eeb907d3b93b6e0e5",
    "execution": {
     "iopub.execute_input": "2023-11-28T15:15:39.473640Z",
     "iopub.status.busy": "2023-11-28T15:15:39.473140Z",
     "iopub.status.idle": "2023-11-28T15:15:40.015871Z",
     "shell.execute_reply": "2023-11-28T15:15:40.014044Z"
    },
    "papermill": {
     "duration": 0.555744,
     "end_time": "2023-11-28T15:15:40.018926",
     "exception": false,
     "start_time": "2023-11-28T15:15:39.463182",
     "status": "completed"
    },
    "tags": []
   },
   "outputs": [
    {
     "name": "stdout",
     "output_type": "stream",
     "text": [
      "/kaggle/input/playground-series-s3e25/sample_submission.csv\n",
      "/kaggle/input/playground-series-s3e25/train.csv\n",
      "/kaggle/input/playground-series-s3e25/test.csv\n"
     ]
    }
   ],
   "source": [
    "# This Python 3 environment comes with many helpful analytics libraries installed\n",
    "# It is defined by the kaggle/python Docker image: https://github.com/kaggle/docker-python\n",
    "# For example, here's several helpful packages to load\n",
    "\n",
    "import numpy as np # linear algebra\n",
    "import pandas as pd # data processing, CSV file I/O (e.g. pd.read_csv)\n",
    "\n",
    "# Input data files are available in the read-only \"../input/\" directory\n",
    "# For example, running this (by clicking run or pressing Shift+Enter) will list all files under the input directory\n",
    "\n",
    "import os\n",
    "for dirname, _, filenames in os.walk('/kaggle/input'):\n",
    "    for filename in filenames:\n",
    "        print(os.path.join(dirname, filename))\n",
    "\n",
    "# You can write up to 20GB to the current directory (/kaggle/working/) that gets preserved as output when you create a version using \"Save & Run All\" \n",
    "# You can also write temporary files to /kaggle/temp/, but they won't be saved outside of the current session"
   ]
  },
  {
   "cell_type": "code",
   "execution_count": 3,
   "id": "6f4d3465",
   "metadata": {
    "execution": {
     "iopub.execute_input": "2023-11-28T15:15:40.038241Z",
     "iopub.status.busy": "2023-11-28T15:15:40.037506Z",
     "iopub.status.idle": "2023-11-28T15:16:00.754223Z",
     "shell.execute_reply": "2023-11-28T15:16:00.752664Z"
    },
    "papermill": {
     "duration": 20.730776,
     "end_time": "2023-11-28T15:16:00.758320",
     "exception": false,
     "start_time": "2023-11-28T15:15:40.027544",
     "status": "completed"
    },
    "tags": []
   },
   "outputs": [],
   "source": [
    "import matplotlib.pyplot as plt\n",
    "import seaborn as sns\n",
    "sns.set_style(\"whitegrid\")\n",
    "\n",
    "from sklearn.model_selection import train_test_split\n",
    "\n",
    "from sklearn.tree import export_text\n",
    "from sklearn.preprocessing import MinMaxScaler\n",
    "from sklearn.metrics import median_absolute_error\n",
    "\n",
    "import tensorflow as tf\n",
    "from tensorflow import keras\n",
    "import tensorflow_probability as tfp\n",
    "\n",
    "from keras.models import Sequential\n",
    "from keras.layers import Dense, Dropout, BatchNormalization"
   ]
  },
  {
   "cell_type": "code",
   "execution_count": 4,
   "id": "9aef25e8",
   "metadata": {
    "execution": {
     "iopub.execute_input": "2023-11-28T15:16:00.779300Z",
     "iopub.status.busy": "2023-11-28T15:16:00.777321Z",
     "iopub.status.idle": "2023-11-28T15:16:00.785620Z",
     "shell.execute_reply": "2023-11-28T15:16:00.784043Z"
    },
    "papermill": {
     "duration": 0.021553,
     "end_time": "2023-11-28T15:16:00.788835",
     "exception": false,
     "start_time": "2023-11-28T15:16:00.767282",
     "status": "completed"
    },
    "tags": []
   },
   "outputs": [],
   "source": [
    "tf.keras.utils.set_random_seed(42)"
   ]
  },
  {
   "cell_type": "code",
   "execution_count": 5,
   "id": "2af416ac",
   "metadata": {
    "execution": {
     "iopub.execute_input": "2023-11-28T15:16:00.807674Z",
     "iopub.status.busy": "2023-11-28T15:16:00.807061Z",
     "iopub.status.idle": "2023-11-28T15:16:00.912897Z",
     "shell.execute_reply": "2023-11-28T15:16:00.911371Z"
    },
    "papermill": {
     "duration": 0.119434,
     "end_time": "2023-11-28T15:16:00.916155",
     "exception": false,
     "start_time": "2023-11-28T15:16:00.796721",
     "status": "completed"
    },
    "tags": []
   },
   "outputs": [],
   "source": [
    "df_train = pd.read_csv('/kaggle/input/playground-series-s3e25/train.csv')\n",
    "df_test = pd.read_csv('/kaggle/input/playground-series-s3e25/test.csv')\n",
    "\n",
    "#df_train.info()\n",
    "#df_train.tail().T\n",
    "\n",
    "#df_train.isnull().sum()\n",
    "#df_train.nunique()\n",
    "#df_train.describe().T"
   ]
  },
  {
   "cell_type": "code",
   "execution_count": 6,
   "id": "bc08bf29",
   "metadata": {
    "execution": {
     "iopub.execute_input": "2023-11-28T15:16:00.935554Z",
     "iopub.status.busy": "2023-11-28T15:16:00.934974Z",
     "iopub.status.idle": "2023-11-28T15:16:00.961083Z",
     "shell.execute_reply": "2023-11-28T15:16:00.959424Z"
    },
    "papermill": {
     "duration": 0.040453,
     "end_time": "2023-11-28T15:16:00.964795",
     "exception": false,
     "start_time": "2023-11-28T15:16:00.924342",
     "status": "completed"
    },
    "tags": []
   },
   "outputs": [],
   "source": [
    "def prepare_data(df):\n",
    "\n",
    "    # Make the column names lower-case and uniform\n",
    "    df.columns = df.columns.str.lower()\n",
    "\n",
    "    # Drop id column\n",
    "    df.drop('id', axis=1, inplace=True)\n",
    "    \n",
    "    # Logarithm transformation to reduce spread\n",
    "    #log_cols = ['density_total','atomicweight_average']\n",
    "    #df[log_cols] = np.log1p(df[log_cols])\n",
    "    \n",
    "    return df\n",
    "\n",
    "df_train = prepare_data(df_train)\n",
    "df_test = prepare_data(df_test)"
   ]
  },
  {
   "cell_type": "code",
   "execution_count": 7,
   "id": "689a6c13",
   "metadata": {
    "execution": {
     "iopub.execute_input": "2023-11-28T15:16:00.985325Z",
     "iopub.status.busy": "2023-11-28T15:16:00.984329Z",
     "iopub.status.idle": "2023-11-28T15:16:01.151737Z",
     "shell.execute_reply": "2023-11-28T15:16:01.150158Z"
    },
    "papermill": {
     "duration": 0.182094,
     "end_time": "2023-11-28T15:16:01.155102",
     "exception": false,
     "start_time": "2023-11-28T15:16:00.973008",
     "status": "completed"
    },
    "tags": []
   },
   "outputs": [
    {
     "data": {
      "text/html": [
       "<style type=\"text/css\">\n",
       "#T_44f94_row0_col0, #T_44f94_row1_col1, #T_44f94_row2_col2, #T_44f94_row3_col3, #T_44f94_row4_col4, #T_44f94_row5_col5, #T_44f94_row6_col6, #T_44f94_row7_col7, #T_44f94_row8_col8, #T_44f94_row9_col9, #T_44f94_row10_col10, #T_44f94_row11_col11 {\n",
       "  background-color: #b40426;\n",
       "  color: #f1f1f1;\n",
       "}\n",
       "#T_44f94_row0_col1 {\n",
       "  background-color: #f7b79b;\n",
       "  color: #000000;\n",
       "}\n",
       "#T_44f94_row0_col2 {\n",
       "  background-color: #abc8fd;\n",
       "  color: #000000;\n",
       "}\n",
       "#T_44f94_row0_col3, #T_44f94_row4_col0, #T_44f94_row5_col7 {\n",
       "  background-color: #6384eb;\n",
       "  color: #f1f1f1;\n",
       "}\n",
       "#T_44f94_row0_col4 {\n",
       "  background-color: #adc9fd;\n",
       "  color: #000000;\n",
       "}\n",
       "#T_44f94_row0_col5, #T_44f94_row3_col2, #T_44f94_row11_col9 {\n",
       "  background-color: #9bbcff;\n",
       "  color: #000000;\n",
       "}\n",
       "#T_44f94_row0_col6, #T_44f94_row0_col9 {\n",
       "  background-color: #94b6ff;\n",
       "  color: #000000;\n",
       "}\n",
       "#T_44f94_row0_col7, #T_44f94_row7_col0 {\n",
       "  background-color: #5875e1;\n",
       "  color: #f1f1f1;\n",
       "}\n",
       "#T_44f94_row0_col8 {\n",
       "  background-color: #7ea1fa;\n",
       "  color: #f1f1f1;\n",
       "}\n",
       "#T_44f94_row0_col10 {\n",
       "  background-color: #a1c0ff;\n",
       "  color: #000000;\n",
       "}\n",
       "#T_44f94_row0_col11, #T_44f94_row7_col11 {\n",
       "  background-color: #8badfd;\n",
       "  color: #000000;\n",
       "}\n",
       "#T_44f94_row1_col0 {\n",
       "  background-color: #f5c0a7;\n",
       "  color: #000000;\n",
       "}\n",
       "#T_44f94_row1_col2, #T_44f94_row1_col4 {\n",
       "  background-color: #e7d7ce;\n",
       "  color: #000000;\n",
       "}\n",
       "#T_44f94_row1_col3 {\n",
       "  background-color: #6788ee;\n",
       "  color: #f1f1f1;\n",
       "}\n",
       "#T_44f94_row1_col5 {\n",
       "  background-color: #779af7;\n",
       "  color: #f1f1f1;\n",
       "}\n",
       "#T_44f94_row1_col6 {\n",
       "  background-color: #7699f6;\n",
       "  color: #f1f1f1;\n",
       "}\n",
       "#T_44f94_row1_col7, #T_44f94_row7_col9 {\n",
       "  background-color: #8caffe;\n",
       "  color: #000000;\n",
       "}\n",
       "#T_44f94_row1_col8 {\n",
       "  background-color: #bbd1f8;\n",
       "  color: #000000;\n",
       "}\n",
       "#T_44f94_row1_col9 {\n",
       "  background-color: #7597f6;\n",
       "  color: #f1f1f1;\n",
       "}\n",
       "#T_44f94_row1_col10 {\n",
       "  background-color: #e0dbd8;\n",
       "  color: #000000;\n",
       "}\n",
       "#T_44f94_row1_col11, #T_44f94_row6_col7 {\n",
       "  background-color: #7295f4;\n",
       "  color: #f1f1f1;\n",
       "}\n",
       "#T_44f94_row2_col0, #T_44f94_row3_col0 {\n",
       "  background-color: #6282ea;\n",
       "  color: #f1f1f1;\n",
       "}\n",
       "#T_44f94_row2_col1 {\n",
       "  background-color: #cedaeb;\n",
       "  color: #000000;\n",
       "}\n",
       "#T_44f94_row2_col3 {\n",
       "  background-color: #4f69d9;\n",
       "  color: #f1f1f1;\n",
       "}\n",
       "#T_44f94_row2_col4, #T_44f94_row4_col2 {\n",
       "  background-color: #b50927;\n",
       "  color: #f1f1f1;\n",
       "}\n",
       "#T_44f94_row2_col5, #T_44f94_row2_col6, #T_44f94_row2_col9, #T_44f94_row2_col11, #T_44f94_row4_col5, #T_44f94_row4_col9, #T_44f94_row4_col11, #T_44f94_row5_col8, #T_44f94_row5_col10, #T_44f94_row10_col3, #T_44f94_row10_col5, #T_44f94_row10_col6, #T_44f94_row11_col0, #T_44f94_row11_col1, #T_44f94_row11_col2, #T_44f94_row11_col4, #T_44f94_row11_col7, #T_44f94_row11_col10 {\n",
       "  background-color: #3b4cc0;\n",
       "  color: #f1f1f1;\n",
       "}\n",
       "#T_44f94_row2_col7, #T_44f94_row9_col6 {\n",
       "  background-color: #eed0c0;\n",
       "  color: #000000;\n",
       "}\n",
       "#T_44f94_row2_col8 {\n",
       "  background-color: #f49a7b;\n",
       "  color: #000000;\n",
       "}\n",
       "#T_44f94_row2_col10 {\n",
       "  background-color: #e26952;\n",
       "  color: #f1f1f1;\n",
       "}\n",
       "#T_44f94_row3_col1, #T_44f94_row3_col10 {\n",
       "  background-color: #80a3fa;\n",
       "  color: #f1f1f1;\n",
       "}\n",
       "#T_44f94_row3_col4 {\n",
       "  background-color: #9abbff;\n",
       "  color: #000000;\n",
       "}\n",
       "#T_44f94_row3_col5 {\n",
       "  background-color: #f2cbb7;\n",
       "  color: #000000;\n",
       "}\n",
       "#T_44f94_row3_col6 {\n",
       "  background-color: #f7ba9f;\n",
       "  color: #000000;\n",
       "}\n",
       "#T_44f94_row3_col7 {\n",
       "  background-color: #bed2f6;\n",
       "  color: #000000;\n",
       "}\n",
       "#T_44f94_row3_col8, #T_44f94_row8_col1 {\n",
       "  background-color: #aec9fc;\n",
       "  color: #000000;\n",
       "}\n",
       "#T_44f94_row3_col9 {\n",
       "  background-color: #a5c3fe;\n",
       "  color: #000000;\n",
       "}\n",
       "#T_44f94_row3_col11 {\n",
       "  background-color: #c1d4f4;\n",
       "  color: #000000;\n",
       "}\n",
       "#T_44f94_row4_col1 {\n",
       "  background-color: #cdd9ec;\n",
       "  color: #000000;\n",
       "}\n",
       "#T_44f94_row4_col3 {\n",
       "  background-color: #4e68d8;\n",
       "  color: #f1f1f1;\n",
       "}\n",
       "#T_44f94_row4_col6 {\n",
       "  background-color: #3c4ec2;\n",
       "  color: #f1f1f1;\n",
       "}\n",
       "#T_44f94_row4_col7 {\n",
       "  background-color: #ead4c8;\n",
       "  color: #000000;\n",
       "}\n",
       "#T_44f94_row4_col8, #T_44f94_row5_col9 {\n",
       "  background-color: #f6a283;\n",
       "  color: #000000;\n",
       "}\n",
       "#T_44f94_row4_col10, #T_44f94_row7_col8 {\n",
       "  background-color: #e36c55;\n",
       "  color: #f1f1f1;\n",
       "}\n",
       "#T_44f94_row5_col0, #T_44f94_row6_col0, #T_44f94_row8_col5 {\n",
       "  background-color: #5673e0;\n",
       "  color: #f1f1f1;\n",
       "}\n",
       "#T_44f94_row5_col1, #T_44f94_row6_col8 {\n",
       "  background-color: #4961d2;\n",
       "  color: #f1f1f1;\n",
       "}\n",
       "#T_44f94_row5_col2, #T_44f94_row6_col10, #T_44f94_row10_col11 {\n",
       "  background-color: #4358cb;\n",
       "  color: #f1f1f1;\n",
       "}\n",
       "#T_44f94_row5_col3 {\n",
       "  background-color: #dadce0;\n",
       "  color: #000000;\n",
       "}\n",
       "#T_44f94_row5_col4 {\n",
       "  background-color: #445acc;\n",
       "  color: #f1f1f1;\n",
       "}\n",
       "#T_44f94_row5_col6 {\n",
       "  background-color: #e8765c;\n",
       "  color: #f1f1f1;\n",
       "}\n",
       "#T_44f94_row5_col11 {\n",
       "  background-color: #cad8ef;\n",
       "  color: #000000;\n",
       "}\n",
       "#T_44f94_row6_col1 {\n",
       "  background-color: #506bda;\n",
       "  color: #f1f1f1;\n",
       "}\n",
       "#T_44f94_row6_col2 {\n",
       "  background-color: #4b64d5;\n",
       "  color: #f1f1f1;\n",
       "}\n",
       "#T_44f94_row6_col3, #T_44f94_row6_col9 {\n",
       "  background-color: #efcfbf;\n",
       "  color: #000000;\n",
       "}\n",
       "#T_44f94_row6_col4, #T_44f94_row9_col1, #T_44f94_row9_col7 {\n",
       "  background-color: #4c66d6;\n",
       "  color: #f1f1f1;\n",
       "}\n",
       "#T_44f94_row6_col5 {\n",
       "  background-color: #e7745b;\n",
       "  color: #f1f1f1;\n",
       "}\n",
       "#T_44f94_row6_col11 {\n",
       "  background-color: #dbdcde;\n",
       "  color: #000000;\n",
       "}\n",
       "#T_44f94_row7_col1 {\n",
       "  background-color: #a3c2fe;\n",
       "  color: #000000;\n",
       "}\n",
       "#T_44f94_row7_col2 {\n",
       "  background-color: #f7b497;\n",
       "  color: #000000;\n",
       "}\n",
       "#T_44f94_row7_col3 {\n",
       "  background-color: #bfd3f6;\n",
       "  color: #000000;\n",
       "}\n",
       "#T_44f94_row7_col4 {\n",
       "  background-color: #f7b89c;\n",
       "  color: #000000;\n",
       "}\n",
       "#T_44f94_row7_col5 {\n",
       "  background-color: #a6c4fe;\n",
       "  color: #000000;\n",
       "}\n",
       "#T_44f94_row7_col6 {\n",
       "  background-color: #aac7fd;\n",
       "  color: #000000;\n",
       "}\n",
       "#T_44f94_row7_col10 {\n",
       "  background-color: #f0cdbb;\n",
       "  color: #000000;\n",
       "}\n",
       "#T_44f94_row8_col0, #T_44f94_row8_col9 {\n",
       "  background-color: #536edd;\n",
       "  color: #f1f1f1;\n",
       "}\n",
       "#T_44f94_row8_col2 {\n",
       "  background-color: #f18d6f;\n",
       "  color: #f1f1f1;\n",
       "}\n",
       "#T_44f94_row8_col3 {\n",
       "  background-color: #89acfd;\n",
       "  color: #000000;\n",
       "}\n",
       "#T_44f94_row8_col4 {\n",
       "  background-color: #f39475;\n",
       "  color: #000000;\n",
       "}\n",
       "#T_44f94_row8_col6, #T_44f94_row10_col0 {\n",
       "  background-color: #5d7ce6;\n",
       "  color: #f1f1f1;\n",
       "}\n",
       "#T_44f94_row8_col7 {\n",
       "  background-color: #e97a5f;\n",
       "  color: #f1f1f1;\n",
       "}\n",
       "#T_44f94_row8_col10 {\n",
       "  background-color: #f7b194;\n",
       "  color: #000000;\n",
       "}\n",
       "#T_44f94_row8_col11 {\n",
       "  background-color: #6b8df0;\n",
       "  color: #f1f1f1;\n",
       "}\n",
       "#T_44f94_row9_col0 {\n",
       "  background-color: #5572df;\n",
       "  color: #f1f1f1;\n",
       "}\n",
       "#T_44f94_row9_col2, #T_44f94_row9_col4 {\n",
       "  background-color: #4a63d3;\n",
       "  color: #f1f1f1;\n",
       "}\n",
       "#T_44f94_row9_col3 {\n",
       "  background-color: #6a8bef;\n",
       "  color: #f1f1f1;\n",
       "}\n",
       "#T_44f94_row9_col5 {\n",
       "  background-color: #f5a081;\n",
       "  color: #000000;\n",
       "}\n",
       "#T_44f94_row9_col8 {\n",
       "  background-color: #3d50c3;\n",
       "  color: #f1f1f1;\n",
       "}\n",
       "#T_44f94_row9_col10 {\n",
       "  background-color: #465ecf;\n",
       "  color: #f1f1f1;\n",
       "}\n",
       "#T_44f94_row9_col11 {\n",
       "  background-color: #a7c5fe;\n",
       "  color: #000000;\n",
       "}\n",
       "#T_44f94_row10_col1 {\n",
       "  background-color: #c9d7f0;\n",
       "  color: #000000;\n",
       "}\n",
       "#T_44f94_row10_col2 {\n",
       "  background-color: #e16751;\n",
       "  color: #f1f1f1;\n",
       "}\n",
       "#T_44f94_row10_col4 {\n",
       "  background-color: #e36b54;\n",
       "  color: #f1f1f1;\n",
       "}\n",
       "#T_44f94_row10_col7 {\n",
       "  background-color: #d5dbe5;\n",
       "  color: #000000;\n",
       "}\n",
       "#T_44f94_row10_col8 {\n",
       "  background-color: #f7bca1;\n",
       "  color: #000000;\n",
       "}\n",
       "#T_44f94_row10_col9 {\n",
       "  background-color: #3f53c6;\n",
       "  color: #f1f1f1;\n",
       "}\n",
       "#T_44f94_row11_col3 {\n",
       "  background-color: #81a4fb;\n",
       "  color: #f1f1f1;\n",
       "}\n",
       "#T_44f94_row11_col5 {\n",
       "  background-color: #c5d6f2;\n",
       "  color: #000000;\n",
       "}\n",
       "#T_44f94_row11_col6 {\n",
       "  background-color: #d3dbe7;\n",
       "  color: #000000;\n",
       "}\n",
       "#T_44f94_row11_col8 {\n",
       "  background-color: #455cce;\n",
       "  color: #f1f1f1;\n",
       "}\n",
       "</style>\n",
       "<table id=\"T_44f94\">\n",
       "  <thead>\n",
       "    <tr>\n",
       "      <th class=\"blank level0\" >&nbsp;</th>\n",
       "      <th id=\"T_44f94_level0_col0\" class=\"col_heading level0 col0\" >allelectrons_total</th>\n",
       "      <th id=\"T_44f94_level0_col1\" class=\"col_heading level0 col1\" >density_total</th>\n",
       "      <th id=\"T_44f94_level0_col2\" class=\"col_heading level0 col2\" >allelectrons_average</th>\n",
       "      <th id=\"T_44f94_level0_col3\" class=\"col_heading level0 col3\" >val_e_average</th>\n",
       "      <th id=\"T_44f94_level0_col4\" class=\"col_heading level0 col4\" >atomicweight_average</th>\n",
       "      <th id=\"T_44f94_level0_col5\" class=\"col_heading level0 col5\" >ionenergy_average</th>\n",
       "      <th id=\"T_44f94_level0_col6\" class=\"col_heading level0 col6\" >el_neg_chi_average</th>\n",
       "      <th id=\"T_44f94_level0_col7\" class=\"col_heading level0 col7\" >r_vdw_element_average</th>\n",
       "      <th id=\"T_44f94_level0_col8\" class=\"col_heading level0 col8\" >r_cov_element_average</th>\n",
       "      <th id=\"T_44f94_level0_col9\" class=\"col_heading level0 col9\" >zaratio_average</th>\n",
       "      <th id=\"T_44f94_level0_col10\" class=\"col_heading level0 col10\" >density_average</th>\n",
       "      <th id=\"T_44f94_level0_col11\" class=\"col_heading level0 col11\" >hardness</th>\n",
       "    </tr>\n",
       "  </thead>\n",
       "  <tbody>\n",
       "    <tr>\n",
       "      <th id=\"T_44f94_level0_row0\" class=\"row_heading level0 row0\" >allelectrons_total</th>\n",
       "      <td id=\"T_44f94_row0_col0\" class=\"data row0 col0\" >1.00</td>\n",
       "      <td id=\"T_44f94_row0_col1\" class=\"data row0 col1\" >0.62</td>\n",
       "      <td id=\"T_44f94_row0_col2\" class=\"data row0 col2\" >0.07</td>\n",
       "      <td id=\"T_44f94_row0_col3\" class=\"data row0 col3\" >0.07</td>\n",
       "      <td id=\"T_44f94_row0_col4\" class=\"data row0 col4\" >0.08</td>\n",
       "      <td id=\"T_44f94_row0_col5\" class=\"data row0 col5\" >0.03</td>\n",
       "      <td id=\"T_44f94_row0_col6\" class=\"data row0 col6\" >0.04</td>\n",
       "      <td id=\"T_44f94_row0_col7\" class=\"data row0 col7\" >0.04</td>\n",
       "      <td id=\"T_44f94_row0_col8\" class=\"data row0 col8\" >0.02</td>\n",
       "      <td id=\"T_44f94_row0_col9\" class=\"data row0 col9\" >0.03</td>\n",
       "      <td id=\"T_44f94_row0_col10\" class=\"data row0 col10\" >0.06</td>\n",
       "      <td id=\"T_44f94_row0_col11\" class=\"data row0 col11\" >-0.06</td>\n",
       "    </tr>\n",
       "    <tr>\n",
       "      <th id=\"T_44f94_level0_row1\" class=\"row_heading level0 row1\" >density_total</th>\n",
       "      <td id=\"T_44f94_row1_col0\" class=\"data row1 col0\" >0.62</td>\n",
       "      <td id=\"T_44f94_row1_col1\" class=\"data row1 col1\" >1.00</td>\n",
       "      <td id=\"T_44f94_row1_col2\" class=\"data row1 col2\" >0.36</td>\n",
       "      <td id=\"T_44f94_row1_col3\" class=\"data row1 col3\" >0.08</td>\n",
       "      <td id=\"T_44f94_row1_col4\" class=\"data row1 col4\" >0.36</td>\n",
       "      <td id=\"T_44f94_row1_col5\" class=\"data row1 col5\" >-0.10</td>\n",
       "      <td id=\"T_44f94_row1_col6\" class=\"data row1 col6\" >-0.08</td>\n",
       "      <td id=\"T_44f94_row1_col7\" class=\"data row1 col7\" >0.20</td>\n",
       "      <td id=\"T_44f94_row1_col8\" class=\"data row1 col8\" >0.24</td>\n",
       "      <td id=\"T_44f94_row1_col9\" class=\"data row1 col9\" >-0.09</td>\n",
       "      <td id=\"T_44f94_row1_col10\" class=\"data row1 col10\" >0.34</td>\n",
       "      <td id=\"T_44f94_row1_col11\" class=\"data row1 col11\" >-0.16</td>\n",
       "    </tr>\n",
       "    <tr>\n",
       "      <th id=\"T_44f94_level0_row2\" class=\"row_heading level0 row2\" >allelectrons_average</th>\n",
       "      <td id=\"T_44f94_row2_col0\" class=\"data row2 col0\" >0.07</td>\n",
       "      <td id=\"T_44f94_row2_col1\" class=\"data row2 col1\" >0.36</td>\n",
       "      <td id=\"T_44f94_row2_col2\" class=\"data row2 col2\" >1.00</td>\n",
       "      <td id=\"T_44f94_row2_col3\" class=\"data row2 col3\" >0.00</td>\n",
       "      <td id=\"T_44f94_row2_col4\" class=\"data row2 col4\" >0.99</td>\n",
       "      <td id=\"T_44f94_row2_col5\" class=\"data row2 col5\" >-0.36</td>\n",
       "      <td id=\"T_44f94_row2_col6\" class=\"data row2 col6\" >-0.32</td>\n",
       "      <td id=\"T_44f94_row2_col7\" class=\"data row2 col7\" >0.55</td>\n",
       "      <td id=\"T_44f94_row2_col8\" class=\"data row2 col8\" >0.69</td>\n",
       "      <td id=\"T_44f94_row2_col9\" class=\"data row2 col9\" >-0.33</td>\n",
       "      <td id=\"T_44f94_row2_col10\" class=\"data row2 col10\" >0.80</td>\n",
       "      <td id=\"T_44f94_row2_col11\" class=\"data row2 col11\" >-0.40</td>\n",
       "    </tr>\n",
       "    <tr>\n",
       "      <th id=\"T_44f94_level0_row3\" class=\"row_heading level0 row3\" >val_e_average</th>\n",
       "      <td id=\"T_44f94_row3_col0\" class=\"data row3 col0\" >0.07</td>\n",
       "      <td id=\"T_44f94_row3_col1\" class=\"data row3 col1\" >0.08</td>\n",
       "      <td id=\"T_44f94_row3_col2\" class=\"data row3 col2\" >0.00</td>\n",
       "      <td id=\"T_44f94_row3_col3\" class=\"data row3 col3\" >1.00</td>\n",
       "      <td id=\"T_44f94_row3_col4\" class=\"data row3 col4\" >0.00</td>\n",
       "      <td id=\"T_44f94_row3_col5\" class=\"data row3 col5\" >0.45</td>\n",
       "      <td id=\"T_44f94_row3_col6\" class=\"data row3 col6\" >0.55</td>\n",
       "      <td id=\"T_44f94_row3_col7\" class=\"data row3 col7\" >0.35</td>\n",
       "      <td id=\"T_44f94_row3_col8\" class=\"data row3 col8\" >0.19</td>\n",
       "      <td id=\"T_44f94_row3_col9\" class=\"data row3 col9\" >0.09</td>\n",
       "      <td id=\"T_44f94_row3_col10\" class=\"data row3 col10\" >-0.07</td>\n",
       "      <td id=\"T_44f94_row3_col11\" class=\"data row3 col11\" >0.16</td>\n",
       "    </tr>\n",
       "    <tr>\n",
       "      <th id=\"T_44f94_level0_row4\" class=\"row_heading level0 row4\" >atomicweight_average</th>\n",
       "      <td id=\"T_44f94_row4_col0\" class=\"data row4 col0\" >0.08</td>\n",
       "      <td id=\"T_44f94_row4_col1\" class=\"data row4 col1\" >0.36</td>\n",
       "      <td id=\"T_44f94_row4_col2\" class=\"data row4 col2\" >0.99</td>\n",
       "      <td id=\"T_44f94_row4_col3\" class=\"data row4 col3\" >0.00</td>\n",
       "      <td id=\"T_44f94_row4_col4\" class=\"data row4 col4\" >1.00</td>\n",
       "      <td id=\"T_44f94_row4_col5\" class=\"data row4 col5\" >-0.36</td>\n",
       "      <td id=\"T_44f94_row4_col6\" class=\"data row4 col6\" >-0.32</td>\n",
       "      <td id=\"T_44f94_row4_col7\" class=\"data row4 col7\" >0.53</td>\n",
       "      <td id=\"T_44f94_row4_col8\" class=\"data row4 col8\" >0.67</td>\n",
       "      <td id=\"T_44f94_row4_col9\" class=\"data row4 col9\" >-0.33</td>\n",
       "      <td id=\"T_44f94_row4_col10\" class=\"data row4 col10\" >0.80</td>\n",
       "      <td id=\"T_44f94_row4_col11\" class=\"data row4 col11\" >-0.40</td>\n",
       "    </tr>\n",
       "    <tr>\n",
       "      <th id=\"T_44f94_level0_row5\" class=\"row_heading level0 row5\" >ionenergy_average</th>\n",
       "      <td id=\"T_44f94_row5_col0\" class=\"data row5 col0\" >0.03</td>\n",
       "      <td id=\"T_44f94_row5_col1\" class=\"data row5 col1\" >-0.10</td>\n",
       "      <td id=\"T_44f94_row5_col2\" class=\"data row5 col2\" >-0.36</td>\n",
       "      <td id=\"T_44f94_row5_col3\" class=\"data row5 col3\" >0.45</td>\n",
       "      <td id=\"T_44f94_row5_col4\" class=\"data row5 col4\" >-0.36</td>\n",
       "      <td id=\"T_44f94_row5_col5\" class=\"data row5 col5\" >1.00</td>\n",
       "      <td id=\"T_44f94_row5_col6\" class=\"data row5 col6\" >0.77</td>\n",
       "      <td id=\"T_44f94_row5_col7\" class=\"data row5 col7\" >0.08</td>\n",
       "      <td id=\"T_44f94_row5_col8\" class=\"data row5 col8\" >-0.24</td>\n",
       "      <td id=\"T_44f94_row5_col9\" class=\"data row5 col9\" >0.64</td>\n",
       "      <td id=\"T_44f94_row5_col10\" class=\"data row5 col10\" >-0.36</td>\n",
       "      <td id=\"T_44f94_row5_col11\" class=\"data row5 col11\" >0.20</td>\n",
       "    </tr>\n",
       "    <tr>\n",
       "      <th id=\"T_44f94_level0_row6\" class=\"row_heading level0 row6\" >el_neg_chi_average</th>\n",
       "      <td id=\"T_44f94_row6_col0\" class=\"data row6 col0\" >0.04</td>\n",
       "      <td id=\"T_44f94_row6_col1\" class=\"data row6 col1\" >-0.08</td>\n",
       "      <td id=\"T_44f94_row6_col2\" class=\"data row6 col2\" >-0.32</td>\n",
       "      <td id=\"T_44f94_row6_col3\" class=\"data row6 col3\" >0.55</td>\n",
       "      <td id=\"T_44f94_row6_col4\" class=\"data row6 col4\" >-0.32</td>\n",
       "      <td id=\"T_44f94_row6_col5\" class=\"data row6 col5\" >0.77</td>\n",
       "      <td id=\"T_44f94_row6_col6\" class=\"data row6 col6\" >1.00</td>\n",
       "      <td id=\"T_44f94_row6_col7\" class=\"data row6 col7\" >0.12</td>\n",
       "      <td id=\"T_44f94_row6_col8\" class=\"data row6 col8\" >-0.17</td>\n",
       "      <td id=\"T_44f94_row6_col9\" class=\"data row6 col9\" >0.44</td>\n",
       "      <td id=\"T_44f94_row6_col10\" class=\"data row6 col10\" >-0.32</td>\n",
       "      <td id=\"T_44f94_row6_col11\" class=\"data row6 col11\" >0.29</td>\n",
       "    </tr>\n",
       "    <tr>\n",
       "      <th id=\"T_44f94_level0_row7\" class=\"row_heading level0 row7\" >r_vdw_element_average</th>\n",
       "      <td id=\"T_44f94_row7_col0\" class=\"data row7 col0\" >0.04</td>\n",
       "      <td id=\"T_44f94_row7_col1\" class=\"data row7 col1\" >0.20</td>\n",
       "      <td id=\"T_44f94_row7_col2\" class=\"data row7 col2\" >0.55</td>\n",
       "      <td id=\"T_44f94_row7_col3\" class=\"data row7 col3\" >0.35</td>\n",
       "      <td id=\"T_44f94_row7_col4\" class=\"data row7 col4\" >0.53</td>\n",
       "      <td id=\"T_44f94_row7_col5\" class=\"data row7 col5\" >0.08</td>\n",
       "      <td id=\"T_44f94_row7_col6\" class=\"data row7 col6\" >0.12</td>\n",
       "      <td id=\"T_44f94_row7_col7\" class=\"data row7 col7\" >1.00</td>\n",
       "      <td id=\"T_44f94_row7_col8\" class=\"data row7 col8\" >0.81</td>\n",
       "      <td id=\"T_44f94_row7_col9\" class=\"data row7 col9\" >0.00</td>\n",
       "      <td id=\"T_44f94_row7_col10\" class=\"data row7 col10\" >0.44</td>\n",
       "      <td id=\"T_44f94_row7_col11\" class=\"data row7 col11\" >-0.06</td>\n",
       "    </tr>\n",
       "    <tr>\n",
       "      <th id=\"T_44f94_level0_row8\" class=\"row_heading level0 row8\" >r_cov_element_average</th>\n",
       "      <td id=\"T_44f94_row8_col0\" class=\"data row8 col0\" >0.02</td>\n",
       "      <td id=\"T_44f94_row8_col1\" class=\"data row8 col1\" >0.24</td>\n",
       "      <td id=\"T_44f94_row8_col2\" class=\"data row8 col2\" >0.69</td>\n",
       "      <td id=\"T_44f94_row8_col3\" class=\"data row8 col3\" >0.19</td>\n",
       "      <td id=\"T_44f94_row8_col4\" class=\"data row8 col4\" >0.67</td>\n",
       "      <td id=\"T_44f94_row8_col5\" class=\"data row8 col5\" >-0.24</td>\n",
       "      <td id=\"T_44f94_row8_col6\" class=\"data row8 col6\" >-0.17</td>\n",
       "      <td id=\"T_44f94_row8_col7\" class=\"data row8 col7\" >0.81</td>\n",
       "      <td id=\"T_44f94_row8_col8\" class=\"data row8 col8\" >1.00</td>\n",
       "      <td id=\"T_44f94_row8_col9\" class=\"data row8 col9\" >-0.22</td>\n",
       "      <td id=\"T_44f94_row8_col10\" class=\"data row8 col10\" >0.57</td>\n",
       "      <td id=\"T_44f94_row8_col11\" class=\"data row8 col11\" >-0.19</td>\n",
       "    </tr>\n",
       "    <tr>\n",
       "      <th id=\"T_44f94_level0_row9\" class=\"row_heading level0 row9\" >zaratio_average</th>\n",
       "      <td id=\"T_44f94_row9_col0\" class=\"data row9 col0\" >0.03</td>\n",
       "      <td id=\"T_44f94_row9_col1\" class=\"data row9 col1\" >-0.09</td>\n",
       "      <td id=\"T_44f94_row9_col2\" class=\"data row9 col2\" >-0.33</td>\n",
       "      <td id=\"T_44f94_row9_col3\" class=\"data row9 col3\" >0.09</td>\n",
       "      <td id=\"T_44f94_row9_col4\" class=\"data row9 col4\" >-0.33</td>\n",
       "      <td id=\"T_44f94_row9_col5\" class=\"data row9 col5\" >0.64</td>\n",
       "      <td id=\"T_44f94_row9_col6\" class=\"data row9 col6\" >0.44</td>\n",
       "      <td id=\"T_44f94_row9_col7\" class=\"data row9 col7\" >0.00</td>\n",
       "      <td id=\"T_44f94_row9_col8\" class=\"data row9 col8\" >-0.22</td>\n",
       "      <td id=\"T_44f94_row9_col9\" class=\"data row9 col9\" >1.00</td>\n",
       "      <td id=\"T_44f94_row9_col10\" class=\"data row9 col10\" >-0.31</td>\n",
       "      <td id=\"T_44f94_row9_col11\" class=\"data row9 col11\" >0.06</td>\n",
       "    </tr>\n",
       "    <tr>\n",
       "      <th id=\"T_44f94_level0_row10\" class=\"row_heading level0 row10\" >density_average</th>\n",
       "      <td id=\"T_44f94_row10_col0\" class=\"data row10 col0\" >0.06</td>\n",
       "      <td id=\"T_44f94_row10_col1\" class=\"data row10 col1\" >0.34</td>\n",
       "      <td id=\"T_44f94_row10_col2\" class=\"data row10 col2\" >0.80</td>\n",
       "      <td id=\"T_44f94_row10_col3\" class=\"data row10 col3\" >-0.07</td>\n",
       "      <td id=\"T_44f94_row10_col4\" class=\"data row10 col4\" >0.80</td>\n",
       "      <td id=\"T_44f94_row10_col5\" class=\"data row10 col5\" >-0.36</td>\n",
       "      <td id=\"T_44f94_row10_col6\" class=\"data row10 col6\" >-0.32</td>\n",
       "      <td id=\"T_44f94_row10_col7\" class=\"data row10 col7\" >0.44</td>\n",
       "      <td id=\"T_44f94_row10_col8\" class=\"data row10 col8\" >0.57</td>\n",
       "      <td id=\"T_44f94_row10_col9\" class=\"data row10 col9\" >-0.31</td>\n",
       "      <td id=\"T_44f94_row10_col10\" class=\"data row10 col10\" >1.00</td>\n",
       "      <td id=\"T_44f94_row10_col11\" class=\"data row10 col11\" >-0.36</td>\n",
       "    </tr>\n",
       "    <tr>\n",
       "      <th id=\"T_44f94_level0_row11\" class=\"row_heading level0 row11\" >hardness</th>\n",
       "      <td id=\"T_44f94_row11_col0\" class=\"data row11 col0\" >-0.06</td>\n",
       "      <td id=\"T_44f94_row11_col1\" class=\"data row11 col1\" >-0.16</td>\n",
       "      <td id=\"T_44f94_row11_col2\" class=\"data row11 col2\" >-0.40</td>\n",
       "      <td id=\"T_44f94_row11_col3\" class=\"data row11 col3\" >0.16</td>\n",
       "      <td id=\"T_44f94_row11_col4\" class=\"data row11 col4\" >-0.40</td>\n",
       "      <td id=\"T_44f94_row11_col5\" class=\"data row11 col5\" >0.20</td>\n",
       "      <td id=\"T_44f94_row11_col6\" class=\"data row11 col6\" >0.29</td>\n",
       "      <td id=\"T_44f94_row11_col7\" class=\"data row11 col7\" >-0.06</td>\n",
       "      <td id=\"T_44f94_row11_col8\" class=\"data row11 col8\" >-0.19</td>\n",
       "      <td id=\"T_44f94_row11_col9\" class=\"data row11 col9\" >0.06</td>\n",
       "      <td id=\"T_44f94_row11_col10\" class=\"data row11 col10\" >-0.36</td>\n",
       "      <td id=\"T_44f94_row11_col11\" class=\"data row11 col11\" >1.00</td>\n",
       "    </tr>\n",
       "  </tbody>\n",
       "</table>\n"
      ],
      "text/plain": [
       "<pandas.io.formats.style.Styler at 0x78b66438c9a0>"
      ]
     },
     "execution_count": 7,
     "metadata": {},
     "output_type": "execute_result"
    }
   ],
   "source": [
    "df_train.corr().style.background_gradient(cmap='coolwarm').format(precision=2)\n"
   ]
  },
  {
   "cell_type": "code",
   "execution_count": 8,
   "id": "7148c5cb",
   "metadata": {
    "execution": {
     "iopub.execute_input": "2023-11-28T15:16:01.176073Z",
     "iopub.status.busy": "2023-11-28T15:16:01.175137Z",
     "iopub.status.idle": "2023-11-28T15:16:06.584090Z",
     "shell.execute_reply": "2023-11-28T15:16:06.582821Z"
    },
    "papermill": {
     "duration": 5.422955,
     "end_time": "2023-11-28T15:16:06.586945",
     "exception": false,
     "start_time": "2023-11-28T15:16:01.163990",
     "status": "completed"
    },
    "tags": []
   },
   "outputs": [
    {
     "data": {
      "image/png": "[encoded data removed]",
      "text/plain": [
       "<Figure size 1000x600 with 12 Axes>"
      ]
     },
     "metadata": {},
     "output_type": "display_data"
    }
   ],
   "source": [
    "%matplotlib inline\n",
    "\n",
    "cmap = plt.get_cmap(\"tab20c\")\n",
    "colors = cmap(range(df_train.columns[1:].shape[0]))\n",
    "\n",
    "fig, axs = plt.subplots(ncols=4, nrows=3, figsize=(10, 6))\n",
    "axs = axs.flatten()\n",
    "    \n",
    "for idx, col in enumerate(df_train.columns[1:]):\n",
    "    df_train[col].plot.hist(ax=axs[idx], density=True, bins=20, color=colors[idx])\n",
    "    axs[idx].set_title(col)\n",
    "    \n",
    "plt.tight_layout()"
   ]
  },
  {
   "cell_type": "code",
   "execution_count": 9,
   "id": "0f25a86e",
   "metadata": {
    "execution": {
     "iopub.execute_input": "2023-11-28T15:16:06.610605Z",
     "iopub.status.busy": "2023-11-28T15:16:06.609824Z",
     "iopub.status.idle": "2023-11-28T15:16:07.233369Z",
     "shell.execute_reply": "2023-11-28T15:16:07.231511Z"
    },
    "papermill": {
     "duration": 0.639082,
     "end_time": "2023-11-28T15:16:07.236303",
     "exception": false,
     "start_time": "2023-11-28T15:16:06.597221",
     "status": "completed"
    },
    "tags": []
   },
   "outputs": [
    {
     "data": {
      "text/plain": [
       "hardness                 1.000000\n",
       "atomicweight_average     0.402948\n",
       "allelectrons_average     0.400496\n",
       "density_average          0.360780\n",
       "el_neg_chi_average       0.290352\n",
       "ionenergy_average        0.203203\n",
       "r_cov_element_average    0.189111\n",
       "val_e_average            0.161715\n",
       "density_total            0.161524\n",
       "allelectrons_total       0.061687\n",
       "r_vdw_element_average    0.061402\n",
       "zaratio_average          0.055248\n",
       "dtype: float64"
      ]
     },
     "metadata": {},
     "output_type": "display_data"
    },
    {
     "name": "stderr",
     "output_type": "stream",
     "text": [
      "/tmp/ipykernel_20/2061713011.py:5: UserWarning: 'color' and 'colormap' cannot be used simultaneously. Using 'color'\n",
      "  corr[1:][::-1].plot.barh(ax=ax, cmap='tab20c', color=colors)\n",
      "/tmp/ipykernel_20/2061713011.py:5: UserWarning: 'color' and 'colormap' cannot be used simultaneously. Using 'color'\n",
      "  corr[1:][::-1].plot.barh(ax=ax, cmap='tab20c', color=colors)\n"
     ]
    },
    {
     "data": {
      "text/plain": [
       "Text(0.5, 1.0, 'Correlation: Top 10 numerical features')"
      ]
     },
     "execution_count": 9,
     "metadata": {},
     "output_type": "execute_result"
    },
    {
     "data": {
      "image/png": "[encoded data removed]",
      "text/plain": [
       "<Figure size 500x500 with 1 Axes>"
      ]
     },
     "metadata": {},
     "output_type": "display_data"
    }
   ],
   "source": [
    "corr = df_train.corrwith(df_train.hardness).abs().sort_values(ascending=False)\n",
    "display(corr)\n",
    "\n",
    "fig, ax = plt.subplots(figsize=(5,5))\n",
    "corr[1:][::-1].plot.barh(ax=ax, cmap='tab20c', color=colors)\n",
    "ax.set_title('Correlation: Top 10 numerical features')"
   ]
  },
  {
   "cell_type": "code",
   "execution_count": 10,
   "id": "8e6b4d3c",
   "metadata": {
    "execution": {
     "iopub.execute_input": "2023-11-28T15:16:07.261286Z",
     "iopub.status.busy": "2023-11-28T15:16:07.260767Z",
     "iopub.status.idle": "2023-11-28T15:16:07.274093Z",
     "shell.execute_reply": "2023-11-28T15:16:07.272766Z"
    },
    "papermill": {
     "duration": 0.029577,
     "end_time": "2023-11-28T15:16:07.277298",
     "exception": false,
     "start_time": "2023-11-28T15:16:07.247721",
     "status": "completed"
    },
    "tags": []
   },
   "outputs": [],
   "source": [
    "df_train, df_val = train_test_split(df_train, test_size=0.3, random_state=42)\n",
    "\n",
    "df_train = df_train.reset_index(drop=True)\n",
    "df_val = df_val.reset_index(drop=True)\n",
    "\n",
    "y_train = np.log1p(df_train.hardness.values)\n",
    "y_val = np.log1p(df_val.hardness.values)\n",
    "\n",
    "del df_train['hardness']\n",
    "del df_val['hardness']\n"
   ]
  },
  {
   "cell_type": "code",
   "execution_count": 11,
   "id": "18d7b232",
   "metadata": {
    "execution": {
     "iopub.execute_input": "2023-11-28T15:16:07.302687Z",
     "iopub.status.busy": "2023-11-28T15:16:07.302131Z",
     "iopub.status.idle": "2023-11-28T15:16:07.324340Z",
     "shell.execute_reply": "2023-11-28T15:16:07.322825Z"
    },
    "papermill": {
     "duration": 0.038961,
     "end_time": "2023-11-28T15:16:07.327690",
     "exception": false,
     "start_time": "2023-11-28T15:16:07.288729",
     "status": "completed"
    },
    "tags": []
   },
   "outputs": [],
   "source": [
    "# encoding\n",
    "scaler = MinMaxScaler()\n",
    "\n",
    "X_train = scaler.fit_transform(df_train)\n",
    "X_val = scaler.transform(df_val)\n",
    "X_test = scaler.transform(df_test)"
   ]
  },
  {
   "cell_type": "code",
   "execution_count": 12,
   "id": "5be28bb8",
   "metadata": {
    "execution": {
     "iopub.execute_input": "2023-11-28T15:16:07.353320Z",
     "iopub.status.busy": "2023-11-28T15:16:07.352817Z",
     "iopub.status.idle": "2023-11-28T15:16:18.933921Z",
     "shell.execute_reply": "2023-11-28T15:16:18.932125Z"
    },
    "papermill": {
     "duration": 11.598151,
     "end_time": "2023-11-28T15:16:18.937290",
     "exception": false,
     "start_time": "2023-11-28T15:16:07.339139",
     "status": "completed"
    },
    "tags": []
   },
   "outputs": [
    {
     "name": "stdout",
     "output_type": "stream",
     "text": [
      "Restoring model weights from the end of the best epoch: 1.\n",
      "Epoch 21: early stopping\n"
     ]
    }
   ],
   "source": [
    "# Define the model\n",
    "model = Sequential()\n",
    "model.add(Dense(32, input_dim=X_train.shape[-1], activation='relu'))\n",
    "model.add(Dense(16, activation='relu'))\n",
    "model.add(Dense(1))\n",
    "\n",
    "# Custom Median Absolute Error metric\n",
    "def medae_keras(y_true, y_pred):\n",
    "    y_true = tf.math.expm1(y_true)\n",
    "    y_pred = tf.round(tf.math.expm1(y_pred))\n",
    "    absolute_errors = tf.abs(y_true - y_pred)\n",
    "    medae = tfp.stats.percentile(absolute_errors, 50.0, interpolation='linear')\n",
    "    return medae\n",
    "\n",
    "optimizer = keras.optimizers.Adam(learning_rate=1e-3)\n",
    "loss = keras.losses.MeanAbsoluteError()\n",
    "\n",
    "# Compile the model\n",
    "model.compile(optimizer=optimizer, loss=loss, metrics=[medae_keras])\n",
    "\n",
    "EPOCHS = 100\n",
    "BATCH_SIZE = 32\n",
    "\n",
    "early_stopping = tf.keras.callbacks.EarlyStopping(\n",
    "    monitor='val_medae_keras', \n",
    "    verbose=1,\n",
    "    patience=20,\n",
    "    mode='max',\n",
    "    restore_best_weights=True)\n",
    "\n",
    "# Train the model\n",
    "history = model.fit(X_train, y_train, epochs=EPOCHS, batch_size=BATCH_SIZE, validation_split=0.3, callbacks=[early_stopping], verbose=0)"
   ]
  },
  {
   "cell_type": "code",
   "execution_count": 13,
   "id": "02f31189",
   "metadata": {
    "execution": {
     "iopub.execute_input": "2023-11-28T15:16:18.963302Z",
     "iopub.status.busy": "2023-11-28T15:16:18.962811Z",
     "iopub.status.idle": "2023-11-28T15:16:18.973260Z",
     "shell.execute_reply": "2023-11-28T15:16:18.971790Z"
    },
    "papermill": {
     "duration": 0.027057,
     "end_time": "2023-11-28T15:16:18.976073",
     "exception": false,
     "start_time": "2023-11-28T15:16:18.949016",
     "status": "completed"
    },
    "tags": []
   },
   "outputs": [],
   "source": [
    "def plot_metrics(history):\n",
    "  metrics = ['loss', 'medae_keras']\n",
    "  plt.figure(figsize=(10,5))\n",
    "  for n, metric in enumerate(metrics):\n",
    "    name = metric.replace(\"_\",\" \").capitalize()\n",
    "    plt.subplot(1,2,n+1)\n",
    "    plt.plot(history.epoch, history.history[metric], color=colors[0], label='Train')\n",
    "    plt.plot(history.epoch, history.history['val_'+metric],\n",
    "             color=colors[0], linestyle=\"--\", label='Val')\n",
    "    plt.xlabel('Epoch')\n",
    "    plt.ylabel(name)\n",
    "    if metric == 'loss':\n",
    "      plt.ylim([0, plt.ylim()[1]])\n",
    "    plt.legend()     "
   ]
  },
  {
   "cell_type": "code",
   "execution_count": 14,
   "id": "6f7eda9c",
   "metadata": {
    "execution": {
     "iopub.execute_input": "2023-11-28T15:16:19.002223Z",
     "iopub.status.busy": "2023-11-28T15:16:19.001679Z",
     "iopub.status.idle": "2023-11-28T15:16:19.862603Z",
     "shell.execute_reply": "2023-11-28T15:16:19.861357Z"
    },
    "papermill": {
     "duration": 0.877788,
     "end_time": "2023-11-28T15:16:19.866158",
     "exception": false,
     "start_time": "2023-11-28T15:16:18.988370",
     "status": "completed"
    },
    "tags": []
   },
   "outputs": [
    {
     "data": {
      "image/png": "[encoded data removed]",
      "text/plain": [
       "<Figure size 1000x500 with 2 Axes>"
      ]
     },
     "metadata": {},
     "output_type": "display_data"
    }
   ],
   "source": [
    "plot_metrics(history)\n"
   ]
  },
  {
   "cell_type": "code",
   "execution_count": 15,
   "id": "1847753c",
   "metadata": {
    "execution": {
     "iopub.execute_input": "2023-11-28T15:16:19.893777Z",
     "iopub.status.busy": "2023-11-28T15:16:19.893230Z",
     "iopub.status.idle": "2023-11-28T15:16:20.821892Z",
     "shell.execute_reply": "2023-11-28T15:16:20.820242Z"
    },
    "papermill": {
     "duration": 0.947762,
     "end_time": "2023-11-28T15:16:20.826389",
     "exception": false,
     "start_time": "2023-11-28T15:16:19.878627",
     "status": "completed"
    },
    "tags": []
   },
   "outputs": [
    {
     "name": "stdout",
     "output_type": "stream",
     "text": [
      "228/228 [==============================] - 0s 1ms/step\n",
      "98/98 [==============================] - 0s 2ms/step\n",
      "Median Absolute Error (Training): 1.0136463642120364\n",
      "Median Absolute Error (Validation): 0.997833788394928\n"
     ]
    }
   ],
   "source": [
    "# Prediction\n",
    "y_fit = np.expm1(model.predict(X_train, batch_size=BATCH_SIZE))\n",
    "y_pred = np.expm1(model.predict(X_val, batch_size=BATCH_SIZE))\n",
    "\n",
    "y_train = np.expm1(y_train)\n",
    "y_val = np.expm1(y_val)\n",
    "\n",
    "# Evaluation\n",
    "print(\"Median Absolute Error (Training):\", median_absolute_error(y_train, y_fit))\n",
    "print(\"Median Absolute Error (Validation):\", median_absolute_error(y_val, y_pred))"
   ]
  },
  {
   "cell_type": "code",
   "execution_count": 16,
   "id": "750cc46a",
   "metadata": {
    "execution": {
     "iopub.execute_input": "2023-11-28T15:16:20.857818Z",
     "iopub.status.busy": "2023-11-28T15:16:20.856477Z",
     "iopub.status.idle": "2023-11-28T15:16:21.416892Z",
     "shell.execute_reply": "2023-11-28T15:16:21.415723Z"
    },
    "papermill": {
     "duration": 0.579011,
     "end_time": "2023-11-28T15:16:21.419946",
     "exception": false,
     "start_time": "2023-11-28T15:16:20.840935",
     "status": "completed"
    },
    "tags": []
   },
   "outputs": [
    {
     "name": "stdout",
     "output_type": "stream",
     "text": [
      "217/217 [==============================] - 0s 1ms/step\n"
     ]
    },
    {
     "data": {
      "text/html": [
       "<div>\n",
       "<style scoped>\n",
       "    .dataframe tbody tr th:only-of-type {\n",
       "        vertical-align: middle;\n",
       "    }\n",
       "\n",
       "    .dataframe tbody tr th {\n",
       "        vertical-align: top;\n",
       "    }\n",
       "\n",
       "    .dataframe thead th {\n",
       "        text-align: right;\n",
       "    }\n",
       "</style>\n",
       "<table border=\"1\" class=\"dataframe\">\n",
       "  <thead>\n",
       "    <tr style=\"text-align: right;\">\n",
       "      <th></th>\n",
       "      <th>id</th>\n",
       "      <th>Hardness</th>\n",
       "    </tr>\n",
       "  </thead>\n",
       "  <tbody>\n",
       "    <tr>\n",
       "      <th>0</th>\n",
       "      <td>10407</td>\n",
       "      <td>4.709</td>\n",
       "    </tr>\n",
       "    <tr>\n",
       "      <th>1</th>\n",
       "      <td>10408</td>\n",
       "      <td>5.469</td>\n",
       "    </tr>\n",
       "    <tr>\n",
       "      <th>2</th>\n",
       "      <td>10409</td>\n",
       "      <td>5.602</td>\n",
       "    </tr>\n",
       "    <tr>\n",
       "      <th>3</th>\n",
       "      <td>10410</td>\n",
       "      <td>5.207</td>\n",
       "    </tr>\n",
       "    <tr>\n",
       "      <th>4</th>\n",
       "      <td>10411</td>\n",
       "      <td>4.912</td>\n",
       "    </tr>\n",
       "  </tbody>\n",
       "</table>\n",
       "</div>"
      ],
      "text/plain": [
       "      id  Hardness\n",
       "0  10407     4.709\n",
       "1  10408     5.469\n",
       "2  10409     5.602\n",
       "3  10410     5.207\n",
       "4  10411     4.912"
      ]
     },
     "execution_count": 16,
     "metadata": {},
     "output_type": "execute_result"
    }
   ],
   "source": [
    "submissions = pd.read_csv('/kaggle/input/playground-series-s3e25/sample_submission.csv')\n",
    "\n",
    "y_submission = model.predict(X_test, batch_size=BATCH_SIZE)\n",
    "y_submission = np.expm1(y_submission)\n",
    "submissions['Hardness'] = y_submission.round(3)\n",
    "\n",
    "submissions.to_csv('/kaggle/working/baseline.csv', index=False)\n",
    "\n",
    "submissions.head()"
   ]
  }
 ],
 "metadata": {
  "kaggle": {
   "accelerator": "none",
   "dataSources": [
    {
     "databundleVersionId": 6989718,
     "sourceId": 60892,
     "sourceType": "competition"
    }
   ],
   "dockerImageVersionId": 30587,
   "isGpuEnabled": false,
   "isInternetEnabled": true,
   "language": "python",
   "sourceType": "notebook"
  },
  "kernelspec": {
   "display_name": "Python 3",
   "language": "python",
   "name": "python3"
  },
  "language_info": {
   "codemirror_mode": {
    "name": "ipython",
    "version": 3
   },
   "file_extension": ".py",
   "mimetype": "text/x-python",
   "name": "python",
   "nbconvert_exporter": "python",
   "pygments_lexer": "ipython3",
   "version": "3.10.12"
  },
  "papermill": {
   "default_parameters": {},
   "duration": 48.677788,
   "end_time": "2023-11-28T15:16:24.089347",
   "environment_variables": {},
   "exception": null,
   "input_path": "__notebook__.ipynb",
   "output_path": "__notebook__.ipynb",
   "parameters": {},
   "start_time": "2023-11-28T15:15:35.411559",
   "version": "2.4.0"
  }
 },
 "nbformat": 4,
 "nbformat_minor": 5
}
