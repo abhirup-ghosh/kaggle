{
 "cells": [
  {
   "cell_type": "markdown",
   "id": "8283b719",
   "metadata": {
    "papermill": {
     "duration": 0.013182,
     "end_time": "2023-11-26T23:35:28.535070",
     "exception": false,
     "start_time": "2023-11-26T23:35:28.521888",
     "status": "completed"
    },
    "tags": []
   },
   "source": [
    "# Competition: [Binary Prediction of Smoker Status using Bio-Signals](https://www.kaggle.com/competitions/playground-series-s3e24)"
   ]
  },
  {
   "cell_type": "markdown",
   "id": "8281d484",
   "metadata": {
    "papermill": {
     "duration": 0.013471,
     "end_time": "2023-11-26T23:35:28.561816",
     "exception": false,
     "start_time": "2023-11-26T23:35:28.548345",
     "status": "completed"
    },
    "tags": []
   },
   "source": [
    "**Keywords:** #BinaryClassification #BalancedDataset #DecisionTrees #RandomForests #XGBoost #LightGBM"
   ]
  },
  {
   "cell_type": "markdown",
   "id": "79b01114",
   "metadata": {
    "papermill": {
     "duration": 0.012819,
     "end_time": "2023-11-26T23:35:28.587869",
     "exception": false,
     "start_time": "2023-11-26T23:35:28.575050",
     "status": "completed"
    },
    "tags": []
   },
   "source": [
    "## Introduction\n",
    "\n",
    "\n",
    "In the rapidly evolving landscape of healthcare, accurately predicting patients' smoking status plays a pivotal role in preventive care and personalized treatment strategies. **The Kaggle Playground Series Season 3, Episode 24**, presents a compelling challenge: **utilizing binary classification to forecast an individual's smoking habits based on diverse health indicators.** \n",
    "\n",
    "This task not only aligns with the broader mission of enhancing data-driven healthcare but also underscores the significance of leveraging machine learning techniques for informed decision-making. By delving into the intricacies of bio-signals and synthesizing insights from the provided dataset, we have a unique opportunity to contribute to advancements in predictive analytics for health-related outcomes. As we delve into this competition, the fusion of computational, statistical, and machine learning expertise becomes paramount in unraveling the complex relationships between bio-signals and smoking behaviors, paving the way for innovative solutions in healthcare analytics."
   ]
  },
  {
   "cell_type": "code",
   "execution_count": 1,
   "id": "0e99877c",
   "metadata": {
    "_kg_hide-input": true,
    "execution": {
     "iopub.execute_input": "2023-11-26T23:35:28.616317Z",
     "iopub.status.busy": "2023-11-26T23:35:28.615872Z",
     "iopub.status.idle": "2023-11-26T23:35:28.627831Z",
     "shell.execute_reply": "2023-11-26T23:35:28.627072Z"
    },
    "papermill": {
     "duration": 0.028227,
     "end_time": "2023-11-26T23:35:28.629570",
     "exception": false,
     "start_time": "2023-11-26T23:35:28.601343",
     "status": "completed"
    },
    "tags": []
   },
   "outputs": [
    {
     "data": {
      "text/html": [
       "<img src=\"https://news.cancerresearchuk.org/wp-content/uploads/2023/03/smoking-cigarette.jpg\"/>"
      ],
      "text/plain": [
       "<IPython.core.display.Image object>"
      ]
     },
     "execution_count": 1,
     "metadata": {},
     "output_type": "execute_result"
    }
   ],
   "source": [
    "from IPython.display import Image\n",
    "from IPython.core.display import HTML \n",
    "Image(url= \"https://news.cancerresearchuk.org/wp-content/uploads/2023/03/smoking-cigarette.jpg\")"
   ]
  },
  {
   "cell_type": "markdown",
   "id": "acf1acf2",
   "metadata": {
    "papermill": {
     "duration": 0.013383,
     "end_time": "2023-11-26T23:35:28.656138",
     "exception": false,
     "start_time": "2023-11-26T23:35:28.642755",
     "status": "completed"
    },
    "tags": []
   },
   "source": [
    "## Evaluation\n",
    "\n",
    "Submissions are evaluated on [area under the Receiver Operating Characteristic (ROC) curve](https://en.wikipedia.org/wiki/Receiver_operating_characteristic) between the predicted probability and the observed target. \n",
    "\n",
    "The ROC curve is a graphical representation of a binary classification model's performance across various discrimination thresholds. It illustrates the trade-off between sensitivity (true positive rate) and specificity (true negative rate). The curve plots the true positive rate against the false positive rate, providing a comprehensive view of a model's ability to discriminate between classes. \n",
    "\n",
    "The area under the ROC curve (AUC-ROC) quantifies the overall performance, with a higher AUC-ROC indicating superior predictive accuracy. Importantly, the ROC curve and AUC-ROC serve as crucial tools in assessing the effectiveness of binary classification models, offering a nuanced perspective beyond simple accuracy and facilitating informed decision-making in scenarios where balancing sensitivity and specificity is vital."
   ]
  },
  {
   "cell_type": "markdown",
   "id": "c7de4274",
   "metadata": {
    "papermill": {
     "duration": 0.013229,
     "end_time": "2023-11-26T23:35:28.683051",
     "exception": false,
     "start_time": "2023-11-26T23:35:28.669822",
     "status": "completed"
    },
    "tags": []
   },
   "source": [
    "## [Data](https://www.kaggle.com/competitions/playground-series-s3e24/data)\n",
    "\n",
    "The dataset for this competition (both train and test) was generated from a deep learning model trained on the Smoker Status Prediction using Bio-Signals dataset. Feature distributions are close to, but not exactly the same, as the original. Feel free to use the original dataset as part of this competition, both to explore differences as well as to see whether incorporating the original in training improves model performance.\n",
    "\n",
    "**Files:**\n",
    "\n",
    "* **train.csv** - the training dataset; smoking is the binary target\n",
    "* **test.csv** - the test dataset; your objective is to predict the probability of positive smoking\n",
    "* **sample_submission.csv** - a sample submission file in the correct format\n"
   ]
  },
  {
   "cell_type": "markdown",
   "id": "5dc8793a",
   "metadata": {
    "papermill": {
     "duration": 0.012714,
     "end_time": "2023-11-26T23:35:28.708891",
     "exception": false,
     "start_time": "2023-11-26T23:35:28.696177",
     "status": "completed"
    },
    "tags": []
   },
   "source": [
    "# Loading data"
   ]
  },
  {
   "cell_type": "code",
   "execution_count": 2,
   "id": "eb6f0f12",
   "metadata": {
    "execution": {
     "iopub.execute_input": "2023-11-26T23:35:28.737663Z",
     "iopub.status.busy": "2023-11-26T23:35:28.736862Z",
     "iopub.status.idle": "2023-11-26T23:35:29.083561Z",
     "shell.execute_reply": "2023-11-26T23:35:29.082673Z"
    },
    "papermill": {
     "duration": 0.363651,
     "end_time": "2023-11-26T23:35:29.085602",
     "exception": false,
     "start_time": "2023-11-26T23:35:28.721951",
     "status": "completed"
    },
    "tags": []
   },
   "outputs": [
    {
     "name": "stdout",
     "output_type": "stream",
     "text": [
      "/kaggle/input/playground-series-s3e24/sample_submission.csv\n",
      "/kaggle/input/playground-series-s3e24/train.csv\n",
      "/kaggle/input/playground-series-s3e24/test.csv\n"
     ]
    }
   ],
   "source": [
    "# This Python 3 environment comes with many helpful analytics libraries installed\n",
    "# It is defined by the kaggle/python Docker image: https://github.com/kaggle/docker-python\n",
    "# For example, here's several helpful packages to load\n",
    "\n",
    "import numpy as np # linear algebra\n",
    "import pandas as pd # data processing, CSV file I/O (e.g. pd.read_csv)\n",
    "\n",
    "# Input data files are available in the read-only \"../input/\" directory\n",
    "# For example, running this (by clicking run or pressing Shift+Enter) will list all files under the input directory\n",
    "\n",
    "import os\n",
    "for dirname, _, filenames in os.walk('/kaggle/input'):\n",
    "    for filename in filenames:\n",
    "        print(os.path.join(dirname, filename))\n",
    "\n",
    "# You can write up to 20GB to the current directory (/kaggle/working/) that gets preserved as output when you create a version using \"Save & Run All\" \n",
    "# You can also write temporary files to /kaggle/temp/, but they won't be saved outside of the current session"
   ]
  },
  {
   "cell_type": "markdown",
   "id": "93343844",
   "metadata": {
    "papermill": {
     "duration": 0.012467,
     "end_time": "2023-11-26T23:35:29.111747",
     "exception": false,
     "start_time": "2023-11-26T23:35:29.099280",
     "status": "completed"
    },
    "tags": []
   },
   "source": [
    "# Preliminaries"
   ]
  },
  {
   "cell_type": "markdown",
   "id": "38bd65a3",
   "metadata": {
    "papermill": {
     "duration": 0.012629,
     "end_time": "2023-11-26T23:35:29.137143",
     "exception": false,
     "start_time": "2023-11-26T23:35:29.124514",
     "status": "completed"
    },
    "tags": []
   },
   "source": [
    "## Dependencies"
   ]
  },
  {
   "cell_type": "code",
   "execution_count": 3,
   "id": "801faaa5",
   "metadata": {
    "execution": {
     "iopub.execute_input": "2023-11-26T23:35:29.164747Z",
     "iopub.status.busy": "2023-11-26T23:35:29.164275Z",
     "iopub.status.idle": "2023-11-26T23:35:31.974695Z",
     "shell.execute_reply": "2023-11-26T23:35:31.973525Z"
    },
    "papermill": {
     "duration": 2.827967,
     "end_time": "2023-11-26T23:35:31.977990",
     "exception": false,
     "start_time": "2023-11-26T23:35:29.150023",
     "status": "completed"
    },
    "tags": []
   },
   "outputs": [],
   "source": [
    "# plotting dependencies\n",
    "import matplotlib.pyplot as plt\n",
    "import seaborn as sns\n",
    "sns.set_style(\"whitegrid\")\n",
    "\n",
    "from sklearn.model_selection import train_test_split, GridSearchCV, KFold\n",
    "from sklearn.feature_extraction import DictVectorizer\n",
    "from sklearn.metrics import precision_score, recall_score, \\\n",
    "                    f1_score, auc, precision_recall_curve, \\\n",
    "                    make_scorer, confusion_matrix, roc_auc_score, mutual_info_score\n",
    "\n",
    "from sklearn.tree import export_text\n",
    "from sklearn.preprocessing import StandardScaler, OneHotEncoder, LabelEncoder\n",
    "\n",
    "import lightgbm as lgbm"
   ]
  },
  {
   "cell_type": "code",
   "execution_count": 4,
   "id": "252b425b",
   "metadata": {
    "execution": {
     "iopub.execute_input": "2023-11-26T23:35:32.098970Z",
     "iopub.status.busy": "2023-11-26T23:35:32.098314Z",
     "iopub.status.idle": "2023-11-26T23:35:32.516148Z",
     "shell.execute_reply": "2023-11-26T23:35:32.514973Z"
    },
    "papermill": {
     "duration": 0.437711,
     "end_time": "2023-11-26T23:35:32.518391",
     "exception": false,
     "start_time": "2023-11-26T23:35:32.080680",
     "status": "completed"
    },
    "tags": []
   },
   "outputs": [],
   "source": [
    "df_train = pd.read_csv('/kaggle/input/playground-series-s3e24/train.csv')"
   ]
  },
  {
   "cell_type": "markdown",
   "id": "920811d2",
   "metadata": {
    "papermill": {
     "duration": 0.012999,
     "end_time": "2023-11-26T23:35:32.544895",
     "exception": false,
     "start_time": "2023-11-26T23:35:32.531896",
     "status": "completed"
    },
    "tags": []
   },
   "source": [
    "# Data cleaning and preparation"
   ]
  },
  {
   "cell_type": "markdown",
   "id": "368bdaf0",
   "metadata": {
    "papermill": {
     "duration": 0.013093,
     "end_time": "2023-11-26T23:35:32.571432",
     "exception": false,
     "start_time": "2023-11-26T23:35:32.558339",
     "status": "completed"
    },
    "tags": []
   },
   "source": [
    "## Data description"
   ]
  },
  {
   "cell_type": "code",
   "execution_count": 5,
   "id": "ee48e96d",
   "metadata": {
    "execution": {
     "iopub.execute_input": "2023-11-26T23:35:32.600468Z",
     "iopub.status.busy": "2023-11-26T23:35:32.599779Z",
     "iopub.status.idle": "2023-11-26T23:35:32.650556Z",
     "shell.execute_reply": "2023-11-26T23:35:32.649333Z"
    },
    "papermill": {
     "duration": 0.067836,
     "end_time": "2023-11-26T23:35:32.652492",
     "exception": false,
     "start_time": "2023-11-26T23:35:32.584656",
     "status": "completed"
    },
    "tags": []
   },
   "outputs": [
    {
     "name": "stdout",
     "output_type": "stream",
     "text": [
      "<class 'pandas.core.frame.DataFrame'>\n",
      "RangeIndex: 159256 entries, 0 to 159255\n",
      "Data columns (total 24 columns):\n",
      " #   Column               Non-Null Count   Dtype  \n",
      "---  ------               --------------   -----  \n",
      " 0   id                   159256 non-null  int64  \n",
      " 1   age                  159256 non-null  int64  \n",
      " 2   height(cm)           159256 non-null  int64  \n",
      " 3   weight(kg)           159256 non-null  int64  \n",
      " 4   waist(cm)            159256 non-null  float64\n",
      " 5   eyesight(left)       159256 non-null  float64\n",
      " 6   eyesight(right)      159256 non-null  float64\n",
      " 7   hearing(left)        159256 non-null  int64  \n",
      " 8   hearing(right)       159256 non-null  int64  \n",
      " 9   systolic             159256 non-null  int64  \n",
      " 10  relaxation           159256 non-null  int64  \n",
      " 11  fasting blood sugar  159256 non-null  int64  \n",
      " 12  Cholesterol          159256 non-null  int64  \n",
      " 13  triglyceride         159256 non-null  int64  \n",
      " 14  HDL                  159256 non-null  int64  \n",
      " 15  LDL                  159256 non-null  int64  \n",
      " 16  hemoglobin           159256 non-null  float64\n",
      " 17  Urine protein        159256 non-null  int64  \n",
      " 18  serum creatinine     159256 non-null  float64\n",
      " 19  AST                  159256 non-null  int64  \n",
      " 20  ALT                  159256 non-null  int64  \n",
      " 21  Gtp                  159256 non-null  int64  \n",
      " 22  dental caries        159256 non-null  int64  \n",
      " 23  smoking              159256 non-null  int64  \n",
      "dtypes: float64(5), int64(19)\n",
      "memory usage: 29.2 MB\n"
     ]
    },
    {
     "data": {
      "text/html": [
       "<div>\n",
       "<style scoped>\n",
       "    .dataframe tbody tr th:only-of-type {\n",
       "        vertical-align: middle;\n",
       "    }\n",
       "\n",
       "    .dataframe tbody tr th {\n",
       "        vertical-align: top;\n",
       "    }\n",
       "\n",
       "    .dataframe thead th {\n",
       "        text-align: right;\n",
       "    }\n",
       "</style>\n",
       "<table border=\"1\" class=\"dataframe\">\n",
       "  <thead>\n",
       "    <tr style=\"text-align: right;\">\n",
       "      <th></th>\n",
       "      <th>159251</th>\n",
       "      <th>159252</th>\n",
       "      <th>159253</th>\n",
       "      <th>159254</th>\n",
       "      <th>159255</th>\n",
       "    </tr>\n",
       "  </thead>\n",
       "  <tbody>\n",
       "    <tr>\n",
       "      <th>id</th>\n",
       "      <td>159251.0</td>\n",
       "      <td>159252.0</td>\n",
       "      <td>159253.0</td>\n",
       "      <td>159254.0</td>\n",
       "      <td>159255.0</td>\n",
       "    </tr>\n",
       "    <tr>\n",
       "      <th>age</th>\n",
       "      <td>40.0</td>\n",
       "      <td>50.0</td>\n",
       "      <td>40.0</td>\n",
       "      <td>50.0</td>\n",
       "      <td>40.0</td>\n",
       "    </tr>\n",
       "    <tr>\n",
       "      <th>height(cm)</th>\n",
       "      <td>155.0</td>\n",
       "      <td>155.0</td>\n",
       "      <td>160.0</td>\n",
       "      <td>165.0</td>\n",
       "      <td>145.0</td>\n",
       "    </tr>\n",
       "    <tr>\n",
       "      <th>weight(kg)</th>\n",
       "      <td>45.0</td>\n",
       "      <td>75.0</td>\n",
       "      <td>50.0</td>\n",
       "      <td>75.0</td>\n",
       "      <td>45.0</td>\n",
       "    </tr>\n",
       "    <tr>\n",
       "      <th>waist(cm)</th>\n",
       "      <td>69.0</td>\n",
       "      <td>82.0</td>\n",
       "      <td>66.0</td>\n",
       "      <td>92.0</td>\n",
       "      <td>76.4</td>\n",
       "    </tr>\n",
       "    <tr>\n",
       "      <th>eyesight(left)</th>\n",
       "      <td>1.5</td>\n",
       "      <td>1.0</td>\n",
       "      <td>1.5</td>\n",
       "      <td>1.2</td>\n",
       "      <td>1.0</td>\n",
       "    </tr>\n",
       "    <tr>\n",
       "      <th>eyesight(right)</th>\n",
       "      <td>2.0</td>\n",
       "      <td>1.0</td>\n",
       "      <td>1.0</td>\n",
       "      <td>1.0</td>\n",
       "      <td>1.2</td>\n",
       "    </tr>\n",
       "    <tr>\n",
       "      <th>hearing(left)</th>\n",
       "      <td>1.0</td>\n",
       "      <td>1.0</td>\n",
       "      <td>1.0</td>\n",
       "      <td>1.0</td>\n",
       "      <td>1.0</td>\n",
       "    </tr>\n",
       "    <tr>\n",
       "      <th>hearing(right)</th>\n",
       "      <td>1.0</td>\n",
       "      <td>1.0</td>\n",
       "      <td>1.0</td>\n",
       "      <td>1.0</td>\n",
       "      <td>1.0</td>\n",
       "    </tr>\n",
       "    <tr>\n",
       "      <th>systolic</th>\n",
       "      <td>127.0</td>\n",
       "      <td>120.0</td>\n",
       "      <td>114.0</td>\n",
       "      <td>121.0</td>\n",
       "      <td>125.0</td>\n",
       "    </tr>\n",
       "    <tr>\n",
       "      <th>relaxation</th>\n",
       "      <td>80.0</td>\n",
       "      <td>80.0</td>\n",
       "      <td>70.0</td>\n",
       "      <td>90.0</td>\n",
       "      <td>87.0</td>\n",
       "    </tr>\n",
       "    <tr>\n",
       "      <th>fasting blood sugar</th>\n",
       "      <td>64.0</td>\n",
       "      <td>89.0</td>\n",
       "      <td>84.0</td>\n",
       "      <td>122.0</td>\n",
       "      <td>83.0</td>\n",
       "    </tr>\n",
       "    <tr>\n",
       "      <th>Cholesterol</th>\n",
       "      <td>238.0</td>\n",
       "      <td>213.0</td>\n",
       "      <td>189.0</td>\n",
       "      <td>165.0</td>\n",
       "      <td>186.0</td>\n",
       "    </tr>\n",
       "    <tr>\n",
       "      <th>triglyceride</th>\n",
       "      <td>47.0</td>\n",
       "      <td>202.0</td>\n",
       "      <td>45.0</td>\n",
       "      <td>148.0</td>\n",
       "      <td>87.0</td>\n",
       "    </tr>\n",
       "    <tr>\n",
       "      <th>HDL</th>\n",
       "      <td>72.0</td>\n",
       "      <td>64.0</td>\n",
       "      <td>87.0</td>\n",
       "      <td>55.0</td>\n",
       "      <td>87.0</td>\n",
       "    </tr>\n",
       "    <tr>\n",
       "      <th>LDL</th>\n",
       "      <td>159.0</td>\n",
       "      <td>108.0</td>\n",
       "      <td>93.0</td>\n",
       "      <td>80.0</td>\n",
       "      <td>81.0</td>\n",
       "    </tr>\n",
       "    <tr>\n",
       "      <th>hemoglobin</th>\n",
       "      <td>14.5</td>\n",
       "      <td>14.5</td>\n",
       "      <td>10.9</td>\n",
       "      <td>14.4</td>\n",
       "      <td>14.0</td>\n",
       "    </tr>\n",
       "    <tr>\n",
       "      <th>Urine protein</th>\n",
       "      <td>1.0</td>\n",
       "      <td>1.0</td>\n",
       "      <td>1.0</td>\n",
       "      <td>1.0</td>\n",
       "      <td>1.0</td>\n",
       "    </tr>\n",
       "    <tr>\n",
       "      <th>serum creatinine</th>\n",
       "      <td>0.8</td>\n",
       "      <td>0.6</td>\n",
       "      <td>0.6</td>\n",
       "      <td>1.1</td>\n",
       "      <td>0.8</td>\n",
       "    </tr>\n",
       "    <tr>\n",
       "      <th>AST</th>\n",
       "      <td>25.0</td>\n",
       "      <td>21.0</td>\n",
       "      <td>15.0</td>\n",
       "      <td>22.0</td>\n",
       "      <td>21.0</td>\n",
       "    </tr>\n",
       "    <tr>\n",
       "      <th>ALT</th>\n",
       "      <td>26.0</td>\n",
       "      <td>20.0</td>\n",
       "      <td>9.0</td>\n",
       "      <td>17.0</td>\n",
       "      <td>16.0</td>\n",
       "    </tr>\n",
       "    <tr>\n",
       "      <th>Gtp</th>\n",
       "      <td>13.0</td>\n",
       "      <td>18.0</td>\n",
       "      <td>12.0</td>\n",
       "      <td>37.0</td>\n",
       "      <td>17.0</td>\n",
       "    </tr>\n",
       "    <tr>\n",
       "      <th>dental caries</th>\n",
       "      <td>0.0</td>\n",
       "      <td>0.0</td>\n",
       "      <td>0.0</td>\n",
       "      <td>0.0</td>\n",
       "      <td>0.0</td>\n",
       "    </tr>\n",
       "    <tr>\n",
       "      <th>smoking</th>\n",
       "      <td>0.0</td>\n",
       "      <td>0.0</td>\n",
       "      <td>0.0</td>\n",
       "      <td>1.0</td>\n",
       "      <td>0.0</td>\n",
       "    </tr>\n",
       "  </tbody>\n",
       "</table>\n",
       "</div>"
      ],
      "text/plain": [
       "                       159251    159252    159253    159254    159255\n",
       "id                   159251.0  159252.0  159253.0  159254.0  159255.0\n",
       "age                      40.0      50.0      40.0      50.0      40.0\n",
       "height(cm)              155.0     155.0     160.0     165.0     145.0\n",
       "weight(kg)               45.0      75.0      50.0      75.0      45.0\n",
       "waist(cm)                69.0      82.0      66.0      92.0      76.4\n",
       "eyesight(left)            1.5       1.0       1.5       1.2       1.0\n",
       "eyesight(right)           2.0       1.0       1.0       1.0       1.2\n",
       "hearing(left)             1.0       1.0       1.0       1.0       1.0\n",
       "hearing(right)            1.0       1.0       1.0       1.0       1.0\n",
       "systolic                127.0     120.0     114.0     121.0     125.0\n",
       "relaxation               80.0      80.0      70.0      90.0      87.0\n",
       "fasting blood sugar      64.0      89.0      84.0     122.0      83.0\n",
       "Cholesterol             238.0     213.0     189.0     165.0     186.0\n",
       "triglyceride             47.0     202.0      45.0     148.0      87.0\n",
       "HDL                      72.0      64.0      87.0      55.0      87.0\n",
       "LDL                     159.0     108.0      93.0      80.0      81.0\n",
       "hemoglobin               14.5      14.5      10.9      14.4      14.0\n",
       "Urine protein             1.0       1.0       1.0       1.0       1.0\n",
       "serum creatinine          0.8       0.6       0.6       1.1       0.8\n",
       "AST                      25.0      21.0      15.0      22.0      21.0\n",
       "ALT                      26.0      20.0       9.0      17.0      16.0\n",
       "Gtp                      13.0      18.0      12.0      37.0      17.0\n",
       "dental caries             0.0       0.0       0.0       0.0       0.0\n",
       "smoking                   0.0       0.0       0.0       1.0       0.0"
      ]
     },
     "execution_count": 5,
     "metadata": {},
     "output_type": "execute_result"
    }
   ],
   "source": [
    "df_train.info()\n",
    "df_train.tail().T"
   ]
  },
  {
   "cell_type": "code",
   "execution_count": 6,
   "id": "c447a2b9",
   "metadata": {
    "execution": {
     "iopub.execute_input": "2023-11-26T23:35:32.680326Z",
     "iopub.status.busy": "2023-11-26T23:35:32.679962Z",
     "iopub.status.idle": "2023-11-26T23:35:32.815044Z",
     "shell.execute_reply": "2023-11-26T23:35:32.814408Z"
    },
    "papermill": {
     "duration": 0.151088,
     "end_time": "2023-11-26T23:35:32.816816",
     "exception": false,
     "start_time": "2023-11-26T23:35:32.665728",
     "status": "completed"
    },
    "tags": []
   },
   "outputs": [
    {
     "data": {
      "text/html": [
       "<div>\n",
       "<style scoped>\n",
       "    .dataframe tbody tr th:only-of-type {\n",
       "        vertical-align: middle;\n",
       "    }\n",
       "\n",
       "    .dataframe tbody tr th {\n",
       "        vertical-align: top;\n",
       "    }\n",
       "\n",
       "    .dataframe thead th {\n",
       "        text-align: right;\n",
       "    }\n",
       "</style>\n",
       "<table border=\"1\" class=\"dataframe\">\n",
       "  <thead>\n",
       "    <tr style=\"text-align: right;\">\n",
       "      <th></th>\n",
       "      <th>count</th>\n",
       "      <th>mean</th>\n",
       "      <th>std</th>\n",
       "      <th>min</th>\n",
       "      <th>25%</th>\n",
       "      <th>50%</th>\n",
       "      <th>75%</th>\n",
       "      <th>max</th>\n",
       "    </tr>\n",
       "  </thead>\n",
       "  <tbody>\n",
       "    <tr>\n",
       "      <th>id</th>\n",
       "      <td>159256.0</td>\n",
       "      <td>79627.500000</td>\n",
       "      <td>45973.391572</td>\n",
       "      <td>0.0</td>\n",
       "      <td>39813.75</td>\n",
       "      <td>79627.5</td>\n",
       "      <td>119441.25</td>\n",
       "      <td>159255.0</td>\n",
       "    </tr>\n",
       "    <tr>\n",
       "      <th>age</th>\n",
       "      <td>159256.0</td>\n",
       "      <td>44.306626</td>\n",
       "      <td>11.842286</td>\n",
       "      <td>20.0</td>\n",
       "      <td>40.00</td>\n",
       "      <td>40.0</td>\n",
       "      <td>55.00</td>\n",
       "      <td>85.0</td>\n",
       "    </tr>\n",
       "    <tr>\n",
       "      <th>height(cm)</th>\n",
       "      <td>159256.0</td>\n",
       "      <td>165.266929</td>\n",
       "      <td>8.818970</td>\n",
       "      <td>135.0</td>\n",
       "      <td>160.00</td>\n",
       "      <td>165.0</td>\n",
       "      <td>170.00</td>\n",
       "      <td>190.0</td>\n",
       "    </tr>\n",
       "    <tr>\n",
       "      <th>weight(kg)</th>\n",
       "      <td>159256.0</td>\n",
       "      <td>67.143662</td>\n",
       "      <td>12.586198</td>\n",
       "      <td>30.0</td>\n",
       "      <td>60.00</td>\n",
       "      <td>65.0</td>\n",
       "      <td>75.00</td>\n",
       "      <td>130.0</td>\n",
       "    </tr>\n",
       "    <tr>\n",
       "      <th>waist(cm)</th>\n",
       "      <td>159256.0</td>\n",
       "      <td>83.001990</td>\n",
       "      <td>8.957937</td>\n",
       "      <td>51.0</td>\n",
       "      <td>77.00</td>\n",
       "      <td>83.0</td>\n",
       "      <td>89.00</td>\n",
       "      <td>127.0</td>\n",
       "    </tr>\n",
       "    <tr>\n",
       "      <th>eyesight(left)</th>\n",
       "      <td>159256.0</td>\n",
       "      <td>1.005798</td>\n",
       "      <td>0.402113</td>\n",
       "      <td>0.1</td>\n",
       "      <td>0.80</td>\n",
       "      <td>1.0</td>\n",
       "      <td>1.20</td>\n",
       "      <td>9.9</td>\n",
       "    </tr>\n",
       "    <tr>\n",
       "      <th>eyesight(right)</th>\n",
       "      <td>159256.0</td>\n",
       "      <td>1.000989</td>\n",
       "      <td>0.392299</td>\n",
       "      <td>0.1</td>\n",
       "      <td>0.80</td>\n",
       "      <td>1.0</td>\n",
       "      <td>1.20</td>\n",
       "      <td>9.9</td>\n",
       "    </tr>\n",
       "    <tr>\n",
       "      <th>hearing(left)</th>\n",
       "      <td>159256.0</td>\n",
       "      <td>1.023974</td>\n",
       "      <td>0.152969</td>\n",
       "      <td>1.0</td>\n",
       "      <td>1.00</td>\n",
       "      <td>1.0</td>\n",
       "      <td>1.00</td>\n",
       "      <td>2.0</td>\n",
       "    </tr>\n",
       "    <tr>\n",
       "      <th>hearing(right)</th>\n",
       "      <td>159256.0</td>\n",
       "      <td>1.023421</td>\n",
       "      <td>0.151238</td>\n",
       "      <td>1.0</td>\n",
       "      <td>1.00</td>\n",
       "      <td>1.0</td>\n",
       "      <td>1.00</td>\n",
       "      <td>2.0</td>\n",
       "    </tr>\n",
       "    <tr>\n",
       "      <th>systolic</th>\n",
       "      <td>159256.0</td>\n",
       "      <td>122.503648</td>\n",
       "      <td>12.729315</td>\n",
       "      <td>77.0</td>\n",
       "      <td>114.00</td>\n",
       "      <td>121.0</td>\n",
       "      <td>130.00</td>\n",
       "      <td>213.0</td>\n",
       "    </tr>\n",
       "    <tr>\n",
       "      <th>relaxation</th>\n",
       "      <td>159256.0</td>\n",
       "      <td>76.874071</td>\n",
       "      <td>8.994642</td>\n",
       "      <td>44.0</td>\n",
       "      <td>70.00</td>\n",
       "      <td>78.0</td>\n",
       "      <td>82.00</td>\n",
       "      <td>133.0</td>\n",
       "    </tr>\n",
       "    <tr>\n",
       "      <th>fasting blood sugar</th>\n",
       "      <td>159256.0</td>\n",
       "      <td>98.352552</td>\n",
       "      <td>15.329740</td>\n",
       "      <td>46.0</td>\n",
       "      <td>90.00</td>\n",
       "      <td>96.0</td>\n",
       "      <td>103.00</td>\n",
       "      <td>375.0</td>\n",
       "    </tr>\n",
       "    <tr>\n",
       "      <th>Cholesterol</th>\n",
       "      <td>159256.0</td>\n",
       "      <td>195.796165</td>\n",
       "      <td>28.396959</td>\n",
       "      <td>77.0</td>\n",
       "      <td>175.00</td>\n",
       "      <td>196.0</td>\n",
       "      <td>217.00</td>\n",
       "      <td>393.0</td>\n",
       "    </tr>\n",
       "    <tr>\n",
       "      <th>triglyceride</th>\n",
       "      <td>159256.0</td>\n",
       "      <td>127.616046</td>\n",
       "      <td>66.188989</td>\n",
       "      <td>8.0</td>\n",
       "      <td>77.00</td>\n",
       "      <td>115.0</td>\n",
       "      <td>165.00</td>\n",
       "      <td>766.0</td>\n",
       "    </tr>\n",
       "    <tr>\n",
       "      <th>HDL</th>\n",
       "      <td>159256.0</td>\n",
       "      <td>55.852684</td>\n",
       "      <td>13.964141</td>\n",
       "      <td>9.0</td>\n",
       "      <td>45.00</td>\n",
       "      <td>54.0</td>\n",
       "      <td>64.00</td>\n",
       "      <td>136.0</td>\n",
       "    </tr>\n",
       "    <tr>\n",
       "      <th>LDL</th>\n",
       "      <td>159256.0</td>\n",
       "      <td>114.607682</td>\n",
       "      <td>28.158931</td>\n",
       "      <td>1.0</td>\n",
       "      <td>95.00</td>\n",
       "      <td>114.0</td>\n",
       "      <td>133.00</td>\n",
       "      <td>1860.0</td>\n",
       "    </tr>\n",
       "    <tr>\n",
       "      <th>hemoglobin</th>\n",
       "      <td>159256.0</td>\n",
       "      <td>14.796965</td>\n",
       "      <td>1.431213</td>\n",
       "      <td>4.9</td>\n",
       "      <td>13.80</td>\n",
       "      <td>15.0</td>\n",
       "      <td>15.80</td>\n",
       "      <td>21.0</td>\n",
       "    </tr>\n",
       "    <tr>\n",
       "      <th>Urine protein</th>\n",
       "      <td>159256.0</td>\n",
       "      <td>1.074233</td>\n",
       "      <td>0.347856</td>\n",
       "      <td>1.0</td>\n",
       "      <td>1.00</td>\n",
       "      <td>1.0</td>\n",
       "      <td>1.00</td>\n",
       "      <td>6.0</td>\n",
       "    </tr>\n",
       "    <tr>\n",
       "      <th>serum creatinine</th>\n",
       "      <td>159256.0</td>\n",
       "      <td>0.892764</td>\n",
       "      <td>0.179346</td>\n",
       "      <td>0.1</td>\n",
       "      <td>0.80</td>\n",
       "      <td>0.9</td>\n",
       "      <td>1.00</td>\n",
       "      <td>9.9</td>\n",
       "    </tr>\n",
       "    <tr>\n",
       "      <th>AST</th>\n",
       "      <td>159256.0</td>\n",
       "      <td>25.516853</td>\n",
       "      <td>9.464882</td>\n",
       "      <td>6.0</td>\n",
       "      <td>20.00</td>\n",
       "      <td>24.0</td>\n",
       "      <td>29.00</td>\n",
       "      <td>778.0</td>\n",
       "    </tr>\n",
       "    <tr>\n",
       "      <th>ALT</th>\n",
       "      <td>159256.0</td>\n",
       "      <td>26.550296</td>\n",
       "      <td>17.753070</td>\n",
       "      <td>1.0</td>\n",
       "      <td>16.00</td>\n",
       "      <td>22.0</td>\n",
       "      <td>32.00</td>\n",
       "      <td>2914.0</td>\n",
       "    </tr>\n",
       "    <tr>\n",
       "      <th>Gtp</th>\n",
       "      <td>159256.0</td>\n",
       "      <td>36.216004</td>\n",
       "      <td>31.204643</td>\n",
       "      <td>2.0</td>\n",
       "      <td>18.00</td>\n",
       "      <td>27.0</td>\n",
       "      <td>44.00</td>\n",
       "      <td>999.0</td>\n",
       "    </tr>\n",
       "    <tr>\n",
       "      <th>dental caries</th>\n",
       "      <td>159256.0</td>\n",
       "      <td>0.197996</td>\n",
       "      <td>0.398490</td>\n",
       "      <td>0.0</td>\n",
       "      <td>0.00</td>\n",
       "      <td>0.0</td>\n",
       "      <td>0.00</td>\n",
       "      <td>1.0</td>\n",
       "    </tr>\n",
       "    <tr>\n",
       "      <th>smoking</th>\n",
       "      <td>159256.0</td>\n",
       "      <td>0.437365</td>\n",
       "      <td>0.496063</td>\n",
       "      <td>0.0</td>\n",
       "      <td>0.00</td>\n",
       "      <td>0.0</td>\n",
       "      <td>1.00</td>\n",
       "      <td>1.0</td>\n",
       "    </tr>\n",
       "  </tbody>\n",
       "</table>\n",
       "</div>"
      ],
      "text/plain": [
       "                        count          mean           std    min       25%  \\\n",
       "id                   159256.0  79627.500000  45973.391572    0.0  39813.75   \n",
       "age                  159256.0     44.306626     11.842286   20.0     40.00   \n",
       "height(cm)           159256.0    165.266929      8.818970  135.0    160.00   \n",
       "weight(kg)           159256.0     67.143662     12.586198   30.0     60.00   \n",
       "waist(cm)            159256.0     83.001990      8.957937   51.0     77.00   \n",
       "eyesight(left)       159256.0      1.005798      0.402113    0.1      0.80   \n",
       "eyesight(right)      159256.0      1.000989      0.392299    0.1      0.80   \n",
       "hearing(left)        159256.0      1.023974      0.152969    1.0      1.00   \n",
       "hearing(right)       159256.0      1.023421      0.151238    1.0      1.00   \n",
       "systolic             159256.0    122.503648     12.729315   77.0    114.00   \n",
       "relaxation           159256.0     76.874071      8.994642   44.0     70.00   \n",
       "fasting blood sugar  159256.0     98.352552     15.329740   46.0     90.00   \n",
       "Cholesterol          159256.0    195.796165     28.396959   77.0    175.00   \n",
       "triglyceride         159256.0    127.616046     66.188989    8.0     77.00   \n",
       "HDL                  159256.0     55.852684     13.964141    9.0     45.00   \n",
       "LDL                  159256.0    114.607682     28.158931    1.0     95.00   \n",
       "hemoglobin           159256.0     14.796965      1.431213    4.9     13.80   \n",
       "Urine protein        159256.0      1.074233      0.347856    1.0      1.00   \n",
       "serum creatinine     159256.0      0.892764      0.179346    0.1      0.80   \n",
       "AST                  159256.0     25.516853      9.464882    6.0     20.00   \n",
       "ALT                  159256.0     26.550296     17.753070    1.0     16.00   \n",
       "Gtp                  159256.0     36.216004     31.204643    2.0     18.00   \n",
       "dental caries        159256.0      0.197996      0.398490    0.0      0.00   \n",
       "smoking              159256.0      0.437365      0.496063    0.0      0.00   \n",
       "\n",
       "                         50%        75%       max  \n",
       "id                   79627.5  119441.25  159255.0  \n",
       "age                     40.0      55.00      85.0  \n",
       "height(cm)             165.0     170.00     190.0  \n",
       "weight(kg)              65.0      75.00     130.0  \n",
       "waist(cm)               83.0      89.00     127.0  \n",
       "eyesight(left)           1.0       1.20       9.9  \n",
       "eyesight(right)          1.0       1.20       9.9  \n",
       "hearing(left)            1.0       1.00       2.0  \n",
       "hearing(right)           1.0       1.00       2.0  \n",
       "systolic               121.0     130.00     213.0  \n",
       "relaxation              78.0      82.00     133.0  \n",
       "fasting blood sugar     96.0     103.00     375.0  \n",
       "Cholesterol            196.0     217.00     393.0  \n",
       "triglyceride           115.0     165.00     766.0  \n",
       "HDL                     54.0      64.00     136.0  \n",
       "LDL                    114.0     133.00    1860.0  \n",
       "hemoglobin              15.0      15.80      21.0  \n",
       "Urine protein            1.0       1.00       6.0  \n",
       "serum creatinine         0.9       1.00       9.9  \n",
       "AST                     24.0      29.00     778.0  \n",
       "ALT                     22.0      32.00    2914.0  \n",
       "Gtp                     27.0      44.00     999.0  \n",
       "dental caries            0.0       0.00       1.0  \n",
       "smoking                  0.0       1.00       1.0  "
      ]
     },
     "execution_count": 6,
     "metadata": {},
     "output_type": "execute_result"
    }
   ],
   "source": [
    "df_train.describe().T"
   ]
  },
  {
   "cell_type": "markdown",
   "id": "3b19c786",
   "metadata": {
    "papermill": {
     "duration": 0.013706,
     "end_time": "2023-11-26T23:35:32.844653",
     "exception": false,
     "start_time": "2023-11-26T23:35:32.830947",
     "status": "completed"
    },
    "tags": []
   },
   "source": [
    "## Missing values"
   ]
  },
  {
   "cell_type": "code",
   "execution_count": 7,
   "id": "4a420da9",
   "metadata": {
    "execution": {
     "iopub.execute_input": "2023-11-26T23:35:32.875360Z",
     "iopub.status.busy": "2023-11-26T23:35:32.874678Z",
     "iopub.status.idle": "2023-11-26T23:35:32.883881Z",
     "shell.execute_reply": "2023-11-26T23:35:32.883255Z"
    },
    "papermill": {
     "duration": 0.026442,
     "end_time": "2023-11-26T23:35:32.885562",
     "exception": false,
     "start_time": "2023-11-26T23:35:32.859120",
     "status": "completed"
    },
    "tags": []
   },
   "outputs": [
    {
     "data": {
      "text/plain": [
       "id                     0\n",
       "age                    0\n",
       "height(cm)             0\n",
       "weight(kg)             0\n",
       "waist(cm)              0\n",
       "eyesight(left)         0\n",
       "eyesight(right)        0\n",
       "hearing(left)          0\n",
       "hearing(right)         0\n",
       "systolic               0\n",
       "relaxation             0\n",
       "fasting blood sugar    0\n",
       "Cholesterol            0\n",
       "triglyceride           0\n",
       "HDL                    0\n",
       "LDL                    0\n",
       "hemoglobin             0\n",
       "Urine protein          0\n",
       "serum creatinine       0\n",
       "AST                    0\n",
       "ALT                    0\n",
       "Gtp                    0\n",
       "dental caries          0\n",
       "smoking                0\n",
       "dtype: int64"
      ]
     },
     "execution_count": 7,
     "metadata": {},
     "output_type": "execute_result"
    }
   ],
   "source": [
    "df_train.isnull().sum()"
   ]
  },
  {
   "cell_type": "markdown",
   "id": "f07c05ce",
   "metadata": {
    "papermill": {
     "duration": 0.014351,
     "end_time": "2023-11-26T23:35:32.914483",
     "exception": false,
     "start_time": "2023-11-26T23:35:32.900132",
     "status": "completed"
    },
    "tags": []
   },
   "source": [
    "## Unique values"
   ]
  },
  {
   "cell_type": "code",
   "execution_count": 8,
   "id": "64a757f0",
   "metadata": {
    "execution": {
     "iopub.execute_input": "2023-11-26T23:35:32.945095Z",
     "iopub.status.busy": "2023-11-26T23:35:32.944506Z",
     "iopub.status.idle": "2023-11-26T23:35:32.976264Z",
     "shell.execute_reply": "2023-11-26T23:35:32.975390Z"
    },
    "papermill": {
     "duration": 0.049841,
     "end_time": "2023-11-26T23:35:32.978648",
     "exception": false,
     "start_time": "2023-11-26T23:35:32.928807",
     "status": "completed"
    },
    "tags": []
   },
   "outputs": [
    {
     "data": {
      "text/plain": [
       "id                     159256\n",
       "age                        18\n",
       "height(cm)                 14\n",
       "weight(kg)                 28\n",
       "waist(cm)                 531\n",
       "eyesight(left)             20\n",
       "eyesight(right)            17\n",
       "hearing(left)               2\n",
       "hearing(right)              2\n",
       "systolic                  112\n",
       "relaxation                 75\n",
       "fasting blood sugar       229\n",
       "Cholesterol               227\n",
       "triglyceride              392\n",
       "HDL                       108\n",
       "LDL                       222\n",
       "hemoglobin                134\n",
       "Urine protein               6\n",
       "serum creatinine           28\n",
       "AST                       140\n",
       "ALT                       188\n",
       "Gtp                       362\n",
       "dental caries               2\n",
       "smoking                     2\n",
       "dtype: int64"
      ]
     },
     "execution_count": 8,
     "metadata": {},
     "output_type": "execute_result"
    }
   ],
   "source": [
    "df_train.nunique()"
   ]
  },
  {
   "cell_type": "markdown",
   "id": "299bfab8",
   "metadata": {
    "papermill": {
     "duration": 0.015865,
     "end_time": "2023-11-26T23:35:33.009352",
     "exception": false,
     "start_time": "2023-11-26T23:35:32.993487",
     "status": "completed"
    },
    "tags": []
   },
   "source": [
    "## Data formatting"
   ]
  },
  {
   "cell_type": "code",
   "execution_count": 9,
   "id": "210736b1",
   "metadata": {
    "execution": {
     "iopub.execute_input": "2023-11-26T23:35:33.042098Z",
     "iopub.status.busy": "2023-11-26T23:35:33.040910Z",
     "iopub.status.idle": "2023-11-26T23:35:33.050280Z",
     "shell.execute_reply": "2023-11-26T23:35:33.049356Z"
    },
    "papermill": {
     "duration": 0.027281,
     "end_time": "2023-11-26T23:35:33.052124",
     "exception": false,
     "start_time": "2023-11-26T23:35:33.024843",
     "status": "completed"
    },
    "tags": []
   },
   "outputs": [
    {
     "data": {
      "text/plain": [
       "Index(['id', 'age', 'height_cm', 'weight_kg', 'waist_cm', 'eyesight_left',\n",
       "       'eyesight_right', 'hearing_left', 'hearing_right', 'systolic',\n",
       "       'relaxation', 'fasting_blood_sugar', 'cholesterol', 'triglyceride',\n",
       "       'hdl', 'ldl', 'hemoglobin', 'urine_protein', 'serum_creatinine', 'ast',\n",
       "       'alt', 'gtp', 'dental_caries', 'smoking'],\n",
       "      dtype='object')"
      ]
     },
     "execution_count": 9,
     "metadata": {},
     "output_type": "execute_result"
    }
   ],
   "source": [
    "# Make the column names lower-case and uniform\n",
    "df_train.columns = (\n",
    "                    df_train.columns.str.lower()\n",
    "                    .str.replace(' ', '_', regex=True) # replace spaces\n",
    "                    .str.replace(r'\\(', '_', regex=True) # replace parantheses\n",
    "                    .str.replace(r'\\)', '', regex=True)\n",
    ")\n",
    "df_train.columns"
   ]
  },
  {
   "cell_type": "code",
   "execution_count": 10,
   "id": "06551b2b",
   "metadata": {
    "execution": {
     "iopub.execute_input": "2023-11-26T23:35:33.086535Z",
     "iopub.status.busy": "2023-11-26T23:35:33.085320Z",
     "iopub.status.idle": "2023-11-26T23:35:33.097597Z",
     "shell.execute_reply": "2023-11-26T23:35:33.096060Z"
    },
    "papermill": {
     "duration": 0.032495,
     "end_time": "2023-11-26T23:35:33.100175",
     "exception": false,
     "start_time": "2023-11-26T23:35:33.067680",
     "status": "completed"
    },
    "tags": []
   },
   "outputs": [],
   "source": [
    "df_train.hearing_left.replace({1:0, 2:1}, inplace=True)\n",
    "df_train.hearing_right.replace({1:0, 2:1}, inplace=True)"
   ]
  },
  {
   "cell_type": "markdown",
   "id": "904b53ff",
   "metadata": {
    "papermill": {
     "duration": 0.014385,
     "end_time": "2023-11-26T23:35:33.130945",
     "exception": false,
     "start_time": "2023-11-26T23:35:33.116560",
     "status": "completed"
    },
    "tags": []
   },
   "source": [
    "* **Input features datatypes:** all input features are numeric: either continuous, boolean or categorical\n",
    "    * hearing (left/right) and dental caries are boolean variables\n",
    "* **Missing values:** None\n",
    "* Make `hearing_left/right` binary labels by replacing 1-->0 and 2-->1"
   ]
  },
  {
   "cell_type": "markdown",
   "id": "2f6c3083",
   "metadata": {
    "papermill": {
     "duration": 0.013632,
     "end_time": "2023-11-26T23:35:33.158933",
     "exception": false,
     "start_time": "2023-11-26T23:35:33.145301",
     "status": "completed"
    },
    "tags": []
   },
   "source": [
    "# EDA and Key Data Insights"
   ]
  },
  {
   "cell_type": "markdown",
   "id": "fae66153",
   "metadata": {
    "papermill": {
     "duration": 0.01401,
     "end_time": "2023-11-26T23:35:33.187126",
     "exception": false,
     "start_time": "2023-11-26T23:35:33.173116",
     "status": "completed"
    },
    "tags": []
   },
   "source": [
    "**1. Target variable: (Roughly) Balanced Dataset:** 45% Yes - 55% No"
   ]
  },
  {
   "cell_type": "code",
   "execution_count": 11,
   "id": "c016ef68",
   "metadata": {
    "execution": {
     "iopub.execute_input": "2023-11-26T23:35:33.218389Z",
     "iopub.status.busy": "2023-11-26T23:35:33.217086Z",
     "iopub.status.idle": "2023-11-26T23:35:33.495972Z",
     "shell.execute_reply": "2023-11-26T23:35:33.494653Z"
    },
    "papermill": {
     "duration": 0.29662,
     "end_time": "2023-11-26T23:35:33.497963",
     "exception": false,
     "start_time": "2023-11-26T23:35:33.201343",
     "status": "completed"
    },
    "tags": []
   },
   "outputs": [
    {
     "data": {
      "text/plain": [
       "<Axes: ylabel='smoking'>"
      ]
     },
     "execution_count": 11,
     "metadata": {},
     "output_type": "execute_result"
    },
    {
     "data": {
      "image/png": "[encoded data removed]",
      "text/plain": [
       "<Figure size 640x480 with 1 Axes>"
      ]
     },
     "metadata": {},
     "output_type": "display_data"
    }
   ],
   "source": [
    "df_train.smoking.value_counts(normalize=True).plot.barh()"
   ]
  },
  {
   "cell_type": "markdown",
   "id": "b74a1a45",
   "metadata": {
    "papermill": {
     "duration": 0.014838,
     "end_time": "2023-11-26T23:35:33.528177",
     "exception": false,
     "start_time": "2023-11-26T23:35:33.513339",
     "status": "completed"
    },
    "tags": []
   },
   "source": [
    "**2. Binary/Categorical data**\n",
    "* hearing (left/right) highly imabalanced\n",
    "* dental cavities less so"
   ]
  },
  {
   "cell_type": "code",
   "execution_count": 12,
   "id": "ce8e7f5f",
   "metadata": {
    "execution": {
     "iopub.execute_input": "2023-11-26T23:35:33.559638Z",
     "iopub.status.busy": "2023-11-26T23:35:33.559331Z",
     "iopub.status.idle": "2023-11-26T23:35:34.164661Z",
     "shell.execute_reply": "2023-11-26T23:35:34.163674Z"
    },
    "papermill": {
     "duration": 0.623488,
     "end_time": "2023-11-26T23:35:34.166782",
     "exception": false,
     "start_time": "2023-11-26T23:35:33.543294",
     "status": "completed"
    },
    "tags": []
   },
   "outputs": [
    {
     "data": {
      "image/png": "[encoded data removed]",
      "text/plain": [
       "<Figure size 1200x300 with 3 Axes>"
      ]
     },
     "metadata": {},
     "output_type": "display_data"
    }
   ],
   "source": [
    "fig, axs = plt.subplots(ncols=3, figsize=(12,3))\n",
    "\n",
    "for idx, col in enumerate(['hearing_left', 'hearing_right', 'dental_caries']):\n",
    "    df_train[col].value_counts(normalize=True).plot.barh(ax=axs[idx])"
   ]
  },
  {
   "cell_type": "code",
   "execution_count": 13,
   "id": "d67b8ee6",
   "metadata": {
    "execution": {
     "iopub.execute_input": "2023-11-26T23:35:34.203756Z",
     "iopub.status.busy": "2023-11-26T23:35:34.202828Z",
     "iopub.status.idle": "2023-11-26T23:35:34.213009Z",
     "shell.execute_reply": "2023-11-26T23:35:34.211668Z"
    },
    "papermill": {
     "duration": 0.031279,
     "end_time": "2023-11-26T23:35:34.215190",
     "exception": false,
     "start_time": "2023-11-26T23:35:34.183911",
     "status": "completed"
    },
    "tags": []
   },
   "outputs": [
    {
     "data": {
      "text/plain": [
       "urine_protein\n",
       "1    150862\n",
       "2      5609\n",
       "3      2228\n",
       "4       477\n",
       "5        74\n",
       "6         6\n",
       "Name: count, dtype: int64"
      ]
     },
     "execution_count": 13,
     "metadata": {},
     "output_type": "execute_result"
    }
   ],
   "source": [
    "df_train.urine_protein.value_counts()"
   ]
  },
  {
   "cell_type": "code",
   "execution_count": 14,
   "id": "a6fcca83",
   "metadata": {
    "execution": {
     "iopub.execute_input": "2023-11-26T23:35:34.249998Z",
     "iopub.status.busy": "2023-11-26T23:35:34.249636Z",
     "iopub.status.idle": "2023-11-26T23:35:34.388508Z",
     "shell.execute_reply": "2023-11-26T23:35:34.387299Z"
    },
    "papermill": {
     "duration": 0.159521,
     "end_time": "2023-11-26T23:35:34.391295",
     "exception": false,
     "start_time": "2023-11-26T23:35:34.231774",
     "status": "completed"
    },
    "tags": []
   },
   "outputs": [
    {
     "data": {
      "image/png": "[encoded data removed]",
      "text/plain": [
       "<Figure size 640x480 with 1 Axes>"
      ]
     },
     "metadata": {},
     "output_type": "display_data"
    }
   ],
   "source": [
    "cmap = plt.get_cmap(\"tab20c\")\n",
    "\n",
    "outer_colors = cmap(np.arange(4)*4)\n",
    "my_circle = plt.Circle( (0,0), 0.7, color='white')\n",
    "plt.pie(df_train.urine_protein.value_counts().values, \n",
    "        labels=df_train.urine_protein.value_counts().keys(), \n",
    "        wedgeprops = { 'linewidth' : 1, 'edgecolor' : 'white' },\n",
    "       colors=outer_colors)\n",
    "p = plt.gcf()\n",
    "p.gca().add_artist(my_circle)\n",
    "plt.show()"
   ]
  },
  {
   "cell_type": "markdown",
   "id": "91f45941",
   "metadata": {
    "papermill": {
     "duration": 0.022107,
     "end_time": "2023-11-26T23:35:34.434389",
     "exception": false,
     "start_time": "2023-11-26T23:35:34.412282",
     "status": "completed"
    },
    "tags": []
   },
   "source": [
    "**3. Numeric/Continuous variables**"
   ]
  },
  {
   "cell_type": "code",
   "execution_count": 15,
   "id": "104d5d7b",
   "metadata": {
    "execution": {
     "iopub.execute_input": "2023-11-26T23:35:34.478505Z",
     "iopub.status.busy": "2023-11-26T23:35:34.477484Z",
     "iopub.status.idle": "2023-11-26T23:35:39.994968Z",
     "shell.execute_reply": "2023-11-26T23:35:39.993666Z"
    },
    "papermill": {
     "duration": 5.541737,
     "end_time": "2023-11-26T23:35:39.997166",
     "exception": false,
     "start_time": "2023-11-26T23:35:34.455429",
     "status": "completed"
    },
    "tags": []
   },
   "outputs": [
    {
     "data": {
      "image/png": "[encoded data removed]",
      "text/plain": [
       "<Figure size 5000x300 with 19 Axes>"
      ]
     },
     "metadata": {},
     "output_type": "display_data"
    }
   ],
   "source": [
    "%matplotlib inline\n",
    "\n",
    "num_cols = [col for col in df_train.columns if df_train[col].nunique() > 10]\n",
    "N = len(num_cols)\n",
    "\n",
    "cmap = plt.get_cmap(\"tab20c\")\n",
    "colors = cmap(range(N))\n",
    "\n",
    "fig, axs = plt.subplots(ncols=N, figsize=(50, 3))\n",
    "    \n",
    "for idx, col in enumerate(num_cols):\n",
    "    df_train[col].plot.hist(ax=axs[idx], density=True, bins=20, color=colors[idx])\n",
    "    axs[idx].set_title(col)\n",
    "    \n",
    "plt.tight_layout()"
   ]
  },
  {
   "cell_type": "markdown",
   "id": "86fe94b9",
   "metadata": {
    "papermill": {
     "duration": 0.017538,
     "end_time": "2023-11-26T23:35:40.035806",
     "exception": false,
     "start_time": "2023-11-26T23:35:40.018268",
     "status": "completed"
    },
    "tags": []
   },
   "source": [
    "**Age**\n",
    "* rounded off to the near multiple of 5 years: can still be treated as continuous variable\n",
    "* piculiarly sharp peak at age=40 years 🚨🚨"
   ]
  },
  {
   "cell_type": "code",
   "execution_count": 16,
   "id": "f0695aad",
   "metadata": {
    "execution": {
     "iopub.execute_input": "2023-11-26T23:35:40.072722Z",
     "iopub.status.busy": "2023-11-26T23:35:40.072362Z",
     "iopub.status.idle": "2023-11-26T23:35:40.364388Z",
     "shell.execute_reply": "2023-11-26T23:35:40.363708Z"
    },
    "papermill": {
     "duration": 0.313207,
     "end_time": "2023-11-26T23:35:40.366672",
     "exception": false,
     "start_time": "2023-11-26T23:35:40.053465",
     "status": "completed"
    },
    "tags": []
   },
   "outputs": [
    {
     "data": {
      "text/plain": [
       "<Axes: ylabel='Frequency'>"
      ]
     },
     "execution_count": 16,
     "metadata": {},
     "output_type": "execute_result"
    },
    {
     "data": {
      "image/png": "[encoded data removed]",
      "text/plain": [
       "<Figure size 640x480 with 1 Axes>"
      ]
     },
     "metadata": {},
     "output_type": "display_data"
    }
   ],
   "source": [
    "df_train.age.plot.hist(density=True, bins=20, color=colors[1])"
   ]
  },
  {
   "cell_type": "markdown",
   "id": "5348c427",
   "metadata": {
    "papermill": {
     "duration": 0.01839,
     "end_time": "2023-11-26T23:35:40.403066",
     "exception": false,
     "start_time": "2023-11-26T23:35:40.384676",
     "status": "completed"
    },
    "tags": []
   },
   "source": [
    "**Non-Gaussian distributions**\n",
    "* max order-of-magnitude away from std: outliers\n",
    "* take log transformation to convert to quasi-Gaussian"
   ]
  },
  {
   "cell_type": "code",
   "execution_count": 17,
   "id": "1cd95dd0",
   "metadata": {
    "execution": {
     "iopub.execute_input": "2023-11-26T23:35:40.443656Z",
     "iopub.status.busy": "2023-11-26T23:35:40.442953Z",
     "iopub.status.idle": "2023-11-26T23:35:40.513696Z",
     "shell.execute_reply": "2023-11-26T23:35:40.511621Z"
    },
    "papermill": {
     "duration": 0.094157,
     "end_time": "2023-11-26T23:35:40.517627",
     "exception": false,
     "start_time": "2023-11-26T23:35:40.423470",
     "status": "completed"
    },
    "tags": []
   },
   "outputs": [
    {
     "data": {
      "text/html": [
       "<div>\n",
       "<style scoped>\n",
       "    .dataframe tbody tr th:only-of-type {\n",
       "        vertical-align: middle;\n",
       "    }\n",
       "\n",
       "    .dataframe tbody tr th {\n",
       "        vertical-align: top;\n",
       "    }\n",
       "\n",
       "    .dataframe thead th {\n",
       "        text-align: right;\n",
       "    }\n",
       "</style>\n",
       "<table border=\"1\" class=\"dataframe\">\n",
       "  <thead>\n",
       "    <tr style=\"text-align: right;\">\n",
       "      <th></th>\n",
       "      <th>gtp</th>\n",
       "      <th>alt</th>\n",
       "      <th>ast</th>\n",
       "      <th>serum_creatinine</th>\n",
       "      <th>ldl</th>\n",
       "      <th>eyesight_right</th>\n",
       "      <th>eyesight_left</th>\n",
       "    </tr>\n",
       "  </thead>\n",
       "  <tbody>\n",
       "    <tr>\n",
       "      <th>count</th>\n",
       "      <td>159256.00</td>\n",
       "      <td>159256.00</td>\n",
       "      <td>159256.00</td>\n",
       "      <td>159256.00</td>\n",
       "      <td>159256.00</td>\n",
       "      <td>159256.00</td>\n",
       "      <td>159256.00</td>\n",
       "    </tr>\n",
       "    <tr>\n",
       "      <th>mean</th>\n",
       "      <td>36.22</td>\n",
       "      <td>26.55</td>\n",
       "      <td>25.52</td>\n",
       "      <td>0.89</td>\n",
       "      <td>114.61</td>\n",
       "      <td>1.00</td>\n",
       "      <td>1.01</td>\n",
       "    </tr>\n",
       "    <tr>\n",
       "      <th>std</th>\n",
       "      <td>31.20</td>\n",
       "      <td>17.75</td>\n",
       "      <td>9.46</td>\n",
       "      <td>0.18</td>\n",
       "      <td>28.16</td>\n",
       "      <td>0.39</td>\n",
       "      <td>0.40</td>\n",
       "    </tr>\n",
       "    <tr>\n",
       "      <th>min</th>\n",
       "      <td>2.00</td>\n",
       "      <td>1.00</td>\n",
       "      <td>6.00</td>\n",
       "      <td>0.10</td>\n",
       "      <td>1.00</td>\n",
       "      <td>0.10</td>\n",
       "      <td>0.10</td>\n",
       "    </tr>\n",
       "    <tr>\n",
       "      <th>25%</th>\n",
       "      <td>18.00</td>\n",
       "      <td>16.00</td>\n",
       "      <td>20.00</td>\n",
       "      <td>0.80</td>\n",
       "      <td>95.00</td>\n",
       "      <td>0.80</td>\n",
       "      <td>0.80</td>\n",
       "    </tr>\n",
       "    <tr>\n",
       "      <th>50%</th>\n",
       "      <td>27.00</td>\n",
       "      <td>22.00</td>\n",
       "      <td>24.00</td>\n",
       "      <td>0.90</td>\n",
       "      <td>114.00</td>\n",
       "      <td>1.00</td>\n",
       "      <td>1.00</td>\n",
       "    </tr>\n",
       "    <tr>\n",
       "      <th>75%</th>\n",
       "      <td>44.00</td>\n",
       "      <td>32.00</td>\n",
       "      <td>29.00</td>\n",
       "      <td>1.00</td>\n",
       "      <td>133.00</td>\n",
       "      <td>1.20</td>\n",
       "      <td>1.20</td>\n",
       "    </tr>\n",
       "    <tr>\n",
       "      <th>max</th>\n",
       "      <td>999.00</td>\n",
       "      <td>2914.00</td>\n",
       "      <td>778.00</td>\n",
       "      <td>9.90</td>\n",
       "      <td>1860.00</td>\n",
       "      <td>9.90</td>\n",
       "      <td>9.90</td>\n",
       "    </tr>\n",
       "  </tbody>\n",
       "</table>\n",
       "</div>"
      ],
      "text/plain": [
       "             gtp        alt        ast  serum_creatinine        ldl  \\\n",
       "count  159256.00  159256.00  159256.00         159256.00  159256.00   \n",
       "mean       36.22      26.55      25.52              0.89     114.61   \n",
       "std        31.20      17.75       9.46              0.18      28.16   \n",
       "min         2.00       1.00       6.00              0.10       1.00   \n",
       "25%        18.00      16.00      20.00              0.80      95.00   \n",
       "50%        27.00      22.00      24.00              0.90     114.00   \n",
       "75%        44.00      32.00      29.00              1.00     133.00   \n",
       "max       999.00    2914.00     778.00              9.90    1860.00   \n",
       "\n",
       "       eyesight_right  eyesight_left  \n",
       "count       159256.00      159256.00  \n",
       "mean             1.00           1.01  \n",
       "std              0.39           0.40  \n",
       "min              0.10           0.10  \n",
       "25%              0.80           0.80  \n",
       "50%              1.00           1.00  \n",
       "75%              1.20           1.20  \n",
       "max              9.90           9.90  "
      ]
     },
     "execution_count": 17,
     "metadata": {},
     "output_type": "execute_result"
    }
   ],
   "source": [
    "df_train[['gtp', 'alt', 'ast', 'serum_creatinine', 'ldl', 'eyesight_right', 'eyesight_left']].describe().round(2)"
   ]
  },
  {
   "cell_type": "code",
   "execution_count": 18,
   "id": "730b48f3",
   "metadata": {
    "execution": {
     "iopub.execute_input": "2023-11-26T23:35:40.558505Z",
     "iopub.status.busy": "2023-11-26T23:35:40.557024Z",
     "iopub.status.idle": "2023-11-26T23:35:42.986397Z",
     "shell.execute_reply": "2023-11-26T23:35:42.985052Z"
    },
    "papermill": {
     "duration": 2.453169,
     "end_time": "2023-11-26T23:35:42.989663",
     "exception": false,
     "start_time": "2023-11-26T23:35:40.536494",
     "status": "completed"
    },
    "tags": []
   },
   "outputs": [
    {
     "data": {
      "image/png": "[encoded data removed]",
      "text/plain": [
       "<Figure size 5000x300 with 7 Axes>"
      ]
     },
     "metadata": {},
     "output_type": "display_data"
    }
   ],
   "source": [
    "fig, axs = plt.subplots(ncols=7, figsize=(50, 3))\n",
    "\n",
    "for idx, col in enumerate(['gtp', 'alt', 'ast', 'serum_creatinine', 'ldl', 'eyesight_right', 'eyesight_left']):\n",
    "    (np.log1p(df_train[col])).plot.hist(ax=axs[idx], density=True, bins=20, color=colors[idx])\n",
    "    axs[idx].set_title(col)\n",
    "    \n",
    "plt.tight_layout()"
   ]
  },
  {
   "cell_type": "markdown",
   "id": "c8ad3b49",
   "metadata": {
    "papermill": {
     "duration": 0.018908,
     "end_time": "2023-11-26T23:35:43.030830",
     "exception": false,
     "start_time": "2023-11-26T23:35:43.011922",
     "status": "completed"
    },
    "tags": []
   },
   "source": [
    "# Feature Importance"
   ]
  },
  {
   "cell_type": "markdown",
   "id": "8d39d1a6",
   "metadata": {
    "papermill": {
     "duration": 0.018845,
     "end_time": "2023-11-26T23:35:43.069015",
     "exception": false,
     "start_time": "2023-11-26T23:35:43.050170",
     "status": "completed"
    },
    "tags": []
   },
   "source": [
    "## Categorical variables: mutual information"
   ]
  },
  {
   "cell_type": "code",
   "execution_count": 19,
   "id": "7d254d0f",
   "metadata": {
    "execution": {
     "iopub.execute_input": "2023-11-26T23:35:43.115334Z",
     "iopub.status.busy": "2023-11-26T23:35:43.113890Z",
     "iopub.status.idle": "2023-11-26T23:35:43.143779Z",
     "shell.execute_reply": "2023-11-26T23:35:43.142377Z"
    },
    "papermill": {
     "duration": 0.056455,
     "end_time": "2023-11-26T23:35:43.146707",
     "exception": false,
     "start_time": "2023-11-26T23:35:43.090252",
     "status": "completed"
    },
    "tags": []
   },
   "outputs": [],
   "source": [
    "cat_cols = df_train.columns[df_train.nunique() < 10].tolist()"
   ]
  },
  {
   "cell_type": "code",
   "execution_count": 20,
   "id": "ba392535",
   "metadata": {
    "execution": {
     "iopub.execute_input": "2023-11-26T23:35:43.188939Z",
     "iopub.status.busy": "2023-11-26T23:35:43.188536Z",
     "iopub.status.idle": "2023-11-26T23:35:43.543245Z",
     "shell.execute_reply": "2023-11-26T23:35:43.542256Z"
    },
    "papermill": {
     "duration": 0.378966,
     "end_time": "2023-11-26T23:35:43.545380",
     "exception": false,
     "start_time": "2023-11-26T23:35:43.166414",
     "status": "completed"
    },
    "tags": []
   },
   "outputs": [
    {
     "data": {
      "text/plain": [
       "smoking          0.685280\n",
       "dental_caries    0.005644\n",
       "hearing_left     0.000753\n",
       "hearing_right    0.000700\n",
       "urine_protein    0.000551\n",
       "dtype: float64"
      ]
     },
     "metadata": {},
     "output_type": "display_data"
    },
    {
     "data": {
      "text/plain": [
       "Text(0.5, 1.0, 'Mutual Information: Top 10 categorical features')"
      ]
     },
     "execution_count": 20,
     "metadata": {},
     "output_type": "execute_result"
    },
    {
     "data": {
      "image/png": "[encoded data removed]",
      "text/plain": [
       "<Figure size 500x500 with 1 Axes>"
      ]
     },
     "metadata": {},
     "output_type": "display_data"
    }
   ],
   "source": [
    "def mutual_info_no_show_score(series):\n",
    "    return mutual_info_score(series, df_train.smoking)\n",
    "\n",
    "mi = df_train[cat_cols].apply(mutual_info_no_show_score)\n",
    "\n",
    "display(mi.sort_values(ascending=False))\n",
    "\n",
    "fig, ax = plt.subplots(figsize=(5,5))\n",
    "mi.sort_values(ascending=False)[1:][::-1].plot.barh(ax=ax)\n",
    "ax.set_title('Mutual Information: Top 10 categorical features')"
   ]
  },
  {
   "cell_type": "markdown",
   "id": "6d6ceb11",
   "metadata": {
    "papermill": {
     "duration": 0.018474,
     "end_time": "2023-11-26T23:35:43.583170",
     "exception": false,
     "start_time": "2023-11-26T23:35:43.564696",
     "status": "completed"
    },
    "tags": []
   },
   "source": [
    "## Numeric Variables: Correlation"
   ]
  },
  {
   "cell_type": "code",
   "execution_count": 21,
   "id": "06234625",
   "metadata": {
    "execution": {
     "iopub.execute_input": "2023-11-26T23:35:43.622681Z",
     "iopub.status.busy": "2023-11-26T23:35:43.622073Z",
     "iopub.status.idle": "2023-11-26T23:35:44.035802Z",
     "shell.execute_reply": "2023-11-26T23:35:44.035203Z"
    },
    "papermill": {
     "duration": 0.436521,
     "end_time": "2023-11-26T23:35:44.038293",
     "exception": false,
     "start_time": "2023-11-26T23:35:43.601772",
     "status": "completed"
    },
    "tags": []
   },
   "outputs": [
    {
     "data": {
      "text/plain": [
       "hemoglobin             0.450679\n",
       "height_cm              0.447111\n",
       "weight_kg              0.351748\n",
       "triglyceride           0.331975\n",
       "gtp                    0.305561\n",
       "serum_creatinine       0.272979\n",
       "hdl                    0.271186\n",
       "waist_cm               0.262715\n",
       "age                    0.206033\n",
       "alt                    0.163016\n",
       "eyesight_right         0.109781\n",
       "relaxation             0.109501\n",
       "eyesight_left          0.100420\n",
       "fasting_blood_sugar    0.096534\n",
       "ldl                    0.072285\n",
       "ast                    0.059394\n",
       "systolic               0.058642\n",
       "cholesterol            0.051896\n",
       "id                     0.000632\n",
       "dtype: float64"
      ]
     },
     "metadata": {},
     "output_type": "display_data"
    },
    {
     "data": {
      "text/plain": [
       "Text(0.5, 1.0, 'Correlation: Top 10 numerical features')"
      ]
     },
     "execution_count": 21,
     "metadata": {},
     "output_type": "execute_result"
    },
    {
     "data": {
      "image/png": "[encoded data removed]",
      "text/plain": [
       "<Figure size 500x500 with 1 Axes>"
      ]
     },
     "metadata": {},
     "output_type": "display_data"
    }
   ],
   "source": [
    "num_cols = df_train.columns[df_train.nunique() > 10].tolist()\n",
    "\n",
    "corr = df_train[num_cols].corrwith(df_train.smoking).abs().sort_values(ascending=False)\n",
    "display(corr)\n",
    "\n",
    "fig, ax = plt.subplots(figsize=(5,5))\n",
    "corr[::-1].plot.barh(ax=ax)\n",
    "ax.set_title('Correlation: Top 10 numerical features')"
   ]
  },
  {
   "cell_type": "markdown",
   "id": "16e503b2",
   "metadata": {
    "papermill": {
     "duration": 0.020327,
     "end_time": "2023-11-26T23:35:44.079116",
     "exception": false,
     "start_time": "2023-11-26T23:35:44.058789",
     "status": "completed"
    },
    "tags": []
   },
   "source": [
    "# Data reduction\n",
    "* `id` seems to add no value to the final result: drop it"
   ]
  },
  {
   "cell_type": "code",
   "execution_count": 22,
   "id": "68665909",
   "metadata": {
    "execution": {
     "iopub.execute_input": "2023-11-26T23:35:44.124124Z",
     "iopub.status.busy": "2023-11-26T23:35:44.123114Z",
     "iopub.status.idle": "2023-11-26T23:35:44.131514Z",
     "shell.execute_reply": "2023-11-26T23:35:44.130781Z"
    },
    "papermill": {
     "duration": 0.034283,
     "end_time": "2023-11-26T23:35:44.134243",
     "exception": false,
     "start_time": "2023-11-26T23:35:44.099960",
     "status": "completed"
    },
    "tags": []
   },
   "outputs": [],
   "source": [
    "df_train.drop('id', axis=1, inplace=True)"
   ]
  },
  {
   "cell_type": "markdown",
   "id": "19c7b3cf",
   "metadata": {
    "papermill": {
     "duration": 0.019072,
     "end_time": "2023-11-26T23:35:44.174519",
     "exception": false,
     "start_time": "2023-11-26T23:35:44.155447",
     "status": "completed"
    },
    "tags": []
   },
   "source": [
    "# Prepared data"
   ]
  },
  {
   "cell_type": "code",
   "execution_count": 23,
   "id": "265e5b23",
   "metadata": {
    "execution": {
     "iopub.execute_input": "2023-11-26T23:35:44.215454Z",
     "iopub.status.busy": "2023-11-26T23:35:44.214443Z",
     "iopub.status.idle": "2023-11-26T23:35:44.231816Z",
     "shell.execute_reply": "2023-11-26T23:35:44.230897Z"
    },
    "papermill": {
     "duration": 0.039965,
     "end_time": "2023-11-26T23:35:44.233603",
     "exception": false,
     "start_time": "2023-11-26T23:35:44.193638",
     "status": "completed"
    },
    "tags": []
   },
   "outputs": [
    {
     "data": {
      "text/html": [
       "<div>\n",
       "<style scoped>\n",
       "    .dataframe tbody tr th:only-of-type {\n",
       "        vertical-align: middle;\n",
       "    }\n",
       "\n",
       "    .dataframe tbody tr th {\n",
       "        vertical-align: top;\n",
       "    }\n",
       "\n",
       "    .dataframe thead th {\n",
       "        text-align: right;\n",
       "    }\n",
       "</style>\n",
       "<table border=\"1\" class=\"dataframe\">\n",
       "  <thead>\n",
       "    <tr style=\"text-align: right;\">\n",
       "      <th></th>\n",
       "      <th>159251</th>\n",
       "      <th>159252</th>\n",
       "      <th>159253</th>\n",
       "      <th>159254</th>\n",
       "      <th>159255</th>\n",
       "    </tr>\n",
       "  </thead>\n",
       "  <tbody>\n",
       "    <tr>\n",
       "      <th>age</th>\n",
       "      <td>40.0</td>\n",
       "      <td>50.0</td>\n",
       "      <td>40.0</td>\n",
       "      <td>50.0</td>\n",
       "      <td>40.0</td>\n",
       "    </tr>\n",
       "    <tr>\n",
       "      <th>height_cm</th>\n",
       "      <td>155.0</td>\n",
       "      <td>155.0</td>\n",
       "      <td>160.0</td>\n",
       "      <td>165.0</td>\n",
       "      <td>145.0</td>\n",
       "    </tr>\n",
       "    <tr>\n",
       "      <th>weight_kg</th>\n",
       "      <td>45.0</td>\n",
       "      <td>75.0</td>\n",
       "      <td>50.0</td>\n",
       "      <td>75.0</td>\n",
       "      <td>45.0</td>\n",
       "    </tr>\n",
       "    <tr>\n",
       "      <th>waist_cm</th>\n",
       "      <td>69.0</td>\n",
       "      <td>82.0</td>\n",
       "      <td>66.0</td>\n",
       "      <td>92.0</td>\n",
       "      <td>76.4</td>\n",
       "    </tr>\n",
       "    <tr>\n",
       "      <th>eyesight_left</th>\n",
       "      <td>1.5</td>\n",
       "      <td>1.0</td>\n",
       "      <td>1.5</td>\n",
       "      <td>1.2</td>\n",
       "      <td>1.0</td>\n",
       "    </tr>\n",
       "    <tr>\n",
       "      <th>eyesight_right</th>\n",
       "      <td>2.0</td>\n",
       "      <td>1.0</td>\n",
       "      <td>1.0</td>\n",
       "      <td>1.0</td>\n",
       "      <td>1.2</td>\n",
       "    </tr>\n",
       "    <tr>\n",
       "      <th>hearing_left</th>\n",
       "      <td>0.0</td>\n",
       "      <td>0.0</td>\n",
       "      <td>0.0</td>\n",
       "      <td>0.0</td>\n",
       "      <td>0.0</td>\n",
       "    </tr>\n",
       "    <tr>\n",
       "      <th>hearing_right</th>\n",
       "      <td>0.0</td>\n",
       "      <td>0.0</td>\n",
       "      <td>0.0</td>\n",
       "      <td>0.0</td>\n",
       "      <td>0.0</td>\n",
       "    </tr>\n",
       "    <tr>\n",
       "      <th>systolic</th>\n",
       "      <td>127.0</td>\n",
       "      <td>120.0</td>\n",
       "      <td>114.0</td>\n",
       "      <td>121.0</td>\n",
       "      <td>125.0</td>\n",
       "    </tr>\n",
       "    <tr>\n",
       "      <th>relaxation</th>\n",
       "      <td>80.0</td>\n",
       "      <td>80.0</td>\n",
       "      <td>70.0</td>\n",
       "      <td>90.0</td>\n",
       "      <td>87.0</td>\n",
       "    </tr>\n",
       "    <tr>\n",
       "      <th>fasting_blood_sugar</th>\n",
       "      <td>64.0</td>\n",
       "      <td>89.0</td>\n",
       "      <td>84.0</td>\n",
       "      <td>122.0</td>\n",
       "      <td>83.0</td>\n",
       "    </tr>\n",
       "    <tr>\n",
       "      <th>cholesterol</th>\n",
       "      <td>238.0</td>\n",
       "      <td>213.0</td>\n",
       "      <td>189.0</td>\n",
       "      <td>165.0</td>\n",
       "      <td>186.0</td>\n",
       "    </tr>\n",
       "    <tr>\n",
       "      <th>triglyceride</th>\n",
       "      <td>47.0</td>\n",
       "      <td>202.0</td>\n",
       "      <td>45.0</td>\n",
       "      <td>148.0</td>\n",
       "      <td>87.0</td>\n",
       "    </tr>\n",
       "    <tr>\n",
       "      <th>hdl</th>\n",
       "      <td>72.0</td>\n",
       "      <td>64.0</td>\n",
       "      <td>87.0</td>\n",
       "      <td>55.0</td>\n",
       "      <td>87.0</td>\n",
       "    </tr>\n",
       "    <tr>\n",
       "      <th>ldl</th>\n",
       "      <td>159.0</td>\n",
       "      <td>108.0</td>\n",
       "      <td>93.0</td>\n",
       "      <td>80.0</td>\n",
       "      <td>81.0</td>\n",
       "    </tr>\n",
       "    <tr>\n",
       "      <th>hemoglobin</th>\n",
       "      <td>14.5</td>\n",
       "      <td>14.5</td>\n",
       "      <td>10.9</td>\n",
       "      <td>14.4</td>\n",
       "      <td>14.0</td>\n",
       "    </tr>\n",
       "    <tr>\n",
       "      <th>urine_protein</th>\n",
       "      <td>1.0</td>\n",
       "      <td>1.0</td>\n",
       "      <td>1.0</td>\n",
       "      <td>1.0</td>\n",
       "      <td>1.0</td>\n",
       "    </tr>\n",
       "    <tr>\n",
       "      <th>serum_creatinine</th>\n",
       "      <td>0.8</td>\n",
       "      <td>0.6</td>\n",
       "      <td>0.6</td>\n",
       "      <td>1.1</td>\n",
       "      <td>0.8</td>\n",
       "    </tr>\n",
       "    <tr>\n",
       "      <th>ast</th>\n",
       "      <td>25.0</td>\n",
       "      <td>21.0</td>\n",
       "      <td>15.0</td>\n",
       "      <td>22.0</td>\n",
       "      <td>21.0</td>\n",
       "    </tr>\n",
       "    <tr>\n",
       "      <th>alt</th>\n",
       "      <td>26.0</td>\n",
       "      <td>20.0</td>\n",
       "      <td>9.0</td>\n",
       "      <td>17.0</td>\n",
       "      <td>16.0</td>\n",
       "    </tr>\n",
       "    <tr>\n",
       "      <th>gtp</th>\n",
       "      <td>13.0</td>\n",
       "      <td>18.0</td>\n",
       "      <td>12.0</td>\n",
       "      <td>37.0</td>\n",
       "      <td>17.0</td>\n",
       "    </tr>\n",
       "    <tr>\n",
       "      <th>dental_caries</th>\n",
       "      <td>0.0</td>\n",
       "      <td>0.0</td>\n",
       "      <td>0.0</td>\n",
       "      <td>0.0</td>\n",
       "      <td>0.0</td>\n",
       "    </tr>\n",
       "    <tr>\n",
       "      <th>smoking</th>\n",
       "      <td>0.0</td>\n",
       "      <td>0.0</td>\n",
       "      <td>0.0</td>\n",
       "      <td>1.0</td>\n",
       "      <td>0.0</td>\n",
       "    </tr>\n",
       "  </tbody>\n",
       "</table>\n",
       "</div>"
      ],
      "text/plain": [
       "                     159251  159252  159253  159254  159255\n",
       "age                    40.0    50.0    40.0    50.0    40.0\n",
       "height_cm             155.0   155.0   160.0   165.0   145.0\n",
       "weight_kg              45.0    75.0    50.0    75.0    45.0\n",
       "waist_cm               69.0    82.0    66.0    92.0    76.4\n",
       "eyesight_left           1.5     1.0     1.5     1.2     1.0\n",
       "eyesight_right          2.0     1.0     1.0     1.0     1.2\n",
       "hearing_left            0.0     0.0     0.0     0.0     0.0\n",
       "hearing_right           0.0     0.0     0.0     0.0     0.0\n",
       "systolic              127.0   120.0   114.0   121.0   125.0\n",
       "relaxation             80.0    80.0    70.0    90.0    87.0\n",
       "fasting_blood_sugar    64.0    89.0    84.0   122.0    83.0\n",
       "cholesterol           238.0   213.0   189.0   165.0   186.0\n",
       "triglyceride           47.0   202.0    45.0   148.0    87.0\n",
       "hdl                    72.0    64.0    87.0    55.0    87.0\n",
       "ldl                   159.0   108.0    93.0    80.0    81.0\n",
       "hemoglobin             14.5    14.5    10.9    14.4    14.0\n",
       "urine_protein           1.0     1.0     1.0     1.0     1.0\n",
       "serum_creatinine        0.8     0.6     0.6     1.1     0.8\n",
       "ast                    25.0    21.0    15.0    22.0    21.0\n",
       "alt                    26.0    20.0     9.0    17.0    16.0\n",
       "gtp                    13.0    18.0    12.0    37.0    17.0\n",
       "dental_caries           0.0     0.0     0.0     0.0     0.0\n",
       "smoking                 0.0     0.0     0.0     1.0     0.0"
      ]
     },
     "execution_count": 23,
     "metadata": {},
     "output_type": "execute_result"
    }
   ],
   "source": [
    "df_train.tail().T"
   ]
  },
  {
   "cell_type": "markdown",
   "id": "e90ed364",
   "metadata": {
    "papermill": {
     "duration": 0.02167,
     "end_time": "2023-11-26T23:35:44.277548",
     "exception": false,
     "start_time": "2023-11-26T23:35:44.255878",
     "status": "completed"
    },
    "tags": []
   },
   "source": [
    "# Modelling"
   ]
  },
  {
   "cell_type": "markdown",
   "id": "0caa7f32",
   "metadata": {
    "papermill": {
     "duration": 0.018831,
     "end_time": "2023-11-26T23:35:44.316130",
     "exception": false,
     "start_time": "2023-11-26T23:35:44.297299",
     "status": "completed"
    },
    "tags": []
   },
   "source": [
    "## Load raw train/test data\n",
    "* Load the raw training/test data again\n",
    "* Call test set as `test_set_ext` because we will create a separate test set for model evaluation\n",
    "* Test data size 2/3rd of the full training data\n",
    "* This time, we use the prepare_data function to clean/perpare the data"
   ]
  },
  {
   "cell_type": "code",
   "execution_count": 24,
   "id": "630faffe",
   "metadata": {
    "execution": {
     "iopub.execute_input": "2023-11-26T23:35:44.356732Z",
     "iopub.status.busy": "2023-11-26T23:35:44.356356Z",
     "iopub.status.idle": "2023-11-26T23:35:44.781914Z",
     "shell.execute_reply": "2023-11-26T23:35:44.781232Z"
    },
    "papermill": {
     "duration": 0.449057,
     "end_time": "2023-11-26T23:35:44.784635",
     "exception": false,
     "start_time": "2023-11-26T23:35:44.335578",
     "status": "completed"
    },
    "tags": []
   },
   "outputs": [],
   "source": [
    "df_train = pd.read_csv('/kaggle/input/playground-series-s3e24/train.csv')\n",
    "df_test_ext = pd.read_csv('/kaggle/input/playground-series-s3e24/test.csv')"
   ]
  },
  {
   "cell_type": "markdown",
   "id": "ff86acec",
   "metadata": {
    "papermill": {
     "duration": 0.023029,
     "end_time": "2023-11-26T23:35:44.828799",
     "exception": false,
     "start_time": "2023-11-26T23:35:44.805770",
     "status": "completed"
    },
    "tags": []
   },
   "source": [
    "## Data Preparation\n",
    "* use the prepare_data function to clean/prepare training/test datasets"
   ]
  },
  {
   "cell_type": "code",
   "execution_count": 25,
   "id": "391ef9d6",
   "metadata": {
    "execution": {
     "iopub.execute_input": "2023-11-26T23:35:44.885687Z",
     "iopub.status.busy": "2023-11-26T23:35:44.884833Z",
     "iopub.status.idle": "2023-11-26T23:35:44.891650Z",
     "shell.execute_reply": "2023-11-26T23:35:44.890670Z"
    },
    "papermill": {
     "duration": 0.035794,
     "end_time": "2023-11-26T23:35:44.894949",
     "exception": false,
     "start_time": "2023-11-26T23:35:44.859155",
     "status": "completed"
    },
    "tags": []
   },
   "outputs": [],
   "source": [
    "def prepare_data(df):\n",
    "    \n",
    "    # handle missing values\n",
    "    df.fillna(0., inplace=True)\n",
    "    \n",
    "    \n",
    "    # Make the column names lower-case and uniform\n",
    "    df.columns = (\n",
    "                        df.columns.str.lower()\n",
    "                        .str.replace(' ', '_', regex=True) # replace spaces\n",
    "                        .str.replace(r'\\(', '_', regex=True) # replace parantheses\n",
    "                        .str.replace(r'\\)', '', regex=True)\n",
    "    )\n",
    "    \n",
    "        \n",
    "    # making 'hearing_left/right' binary labels\n",
    "    df.hearing_left.replace({1:0, 2:1}, inplace=True)\n",
    "    df.hearing_right.replace({1:0, 2:1}, inplace=True)\n",
    "    \n",
    "    # log-transformations\n",
    "    for col in ['gtp', 'alt', 'ast', 'serum_creatinine', 'ldl', 'eyesight_right', 'eyesight_left']:\n",
    "        df[col] = np.log1p(df[col])\n",
    "        \n",
    "    # drop columns `id`\n",
    "    df.drop('id', axis=1, inplace=True)\n",
    "        \n",
    "    return df"
   ]
  },
  {
   "cell_type": "code",
   "execution_count": 26,
   "id": "2d3909fb",
   "metadata": {
    "execution": {
     "iopub.execute_input": "2023-11-26T23:35:44.941077Z",
     "iopub.status.busy": "2023-11-26T23:35:44.939683Z",
     "iopub.status.idle": "2023-11-26T23:35:45.001094Z",
     "shell.execute_reply": "2023-11-26T23:35:44.998918Z"
    },
    "papermill": {
     "duration": 0.088411,
     "end_time": "2023-11-26T23:35:45.004680",
     "exception": false,
     "start_time": "2023-11-26T23:35:44.916269",
     "status": "completed"
    },
    "tags": []
   },
   "outputs": [],
   "source": [
    "df_train = prepare_data(df_train)\n",
    "df_test_ext = prepare_data(df_test_ext)"
   ]
  },
  {
   "cell_type": "markdown",
   "id": "83285f8a",
   "metadata": {
    "papermill": {
     "duration": 0.020252,
     "end_time": "2023-11-26T23:35:45.046044",
     "exception": false,
     "start_time": "2023-11-26T23:35:45.025792",
     "status": "completed"
    },
    "tags": []
   },
   "source": [
    "## Set up validation framework\n",
    "* Split training dataset into train + validation + test sets using sklearn: 60-20-20\n",
    "* Call this test set, for model evaluation, `test_set_int`"
   ]
  },
  {
   "cell_type": "code",
   "execution_count": 27,
   "id": "49032b53",
   "metadata": {
    "execution": {
     "iopub.execute_input": "2023-11-26T23:35:45.087243Z",
     "iopub.status.busy": "2023-11-26T23:35:45.086740Z",
     "iopub.status.idle": "2023-11-26T23:35:45.170935Z",
     "shell.execute_reply": "2023-11-26T23:35:45.169414Z"
    },
    "papermill": {
     "duration": 0.107928,
     "end_time": "2023-11-26T23:35:45.173528",
     "exception": false,
     "start_time": "2023-11-26T23:35:45.065600",
     "status": "completed"
    },
    "tags": []
   },
   "outputs": [],
   "source": [
    "df_full_train, df_test_int = train_test_split(df_train, test_size=0.2, random_state=42)\n",
    "df_train, df_val = train_test_split(df_full_train, test_size=0.25, random_state=42)\n",
    "\n",
    "df_train = df_train.reset_index(drop=True)\n",
    "df_val = df_val.reset_index(drop=True)\n",
    "df_test_int = df_test_int.reset_index(drop=True)\n",
    "\n",
    "y_train = df_train.smoking.values\n",
    "y_val = df_val.smoking.values\n",
    "y_test_int = df_test_int.smoking.values\n",
    "\n",
    "del df_train['smoking']\n",
    "del df_val['smoking']\n",
    "del df_test_int['smoking']\n"
   ]
  },
  {
   "cell_type": "markdown",
   "id": "1e130361",
   "metadata": {
    "papermill": {
     "duration": 0.018762,
     "end_time": "2023-11-26T23:35:45.211619",
     "exception": false,
     "start_time": "2023-11-26T23:35:45.192857",
     "status": "completed"
    },
    "tags": []
   },
   "source": [
    "## Encoding"
   ]
  },
  {
   "cell_type": "code",
   "execution_count": 28,
   "id": "6b0d695c",
   "metadata": {
    "execution": {
     "iopub.execute_input": "2023-11-26T23:35:45.251370Z",
     "iopub.status.busy": "2023-11-26T23:35:45.251002Z",
     "iopub.status.idle": "2023-11-26T23:35:45.255956Z",
     "shell.execute_reply": "2023-11-26T23:35:45.254951Z"
    },
    "papermill": {
     "duration": 0.027315,
     "end_time": "2023-11-26T23:35:45.257981",
     "exception": false,
     "start_time": "2023-11-26T23:35:45.230666",
     "status": "completed"
    },
    "tags": []
   },
   "outputs": [],
   "source": [
    "#df_train.nunique()"
   ]
  },
  {
   "cell_type": "markdown",
   "id": "a35b8dcf",
   "metadata": {
    "papermill": {
     "duration": 0.019305,
     "end_time": "2023-11-26T23:35:45.296838",
     "exception": false,
     "start_time": "2023-11-26T23:35:45.277533",
     "status": "completed"
    },
    "tags": []
   },
   "source": [
    "### Categorical Features\n",
    "* Label encoding for variables with 2 unique values (binary variables)\n",
    "* Ohe-hot-encoding for variables with between 2 and 20 unique values\n",
    "* Frequency encoding for variables with more than 20 unique values\n",
    "\n",
    "Here, we do not have a categorical variable that could be frequency encoded. So, we assume the rest of the columns are numerical."
   ]
  },
  {
   "cell_type": "code",
   "execution_count": 29,
   "id": "be102bae",
   "metadata": {
    "execution": {
     "iopub.execute_input": "2023-11-26T23:35:45.336912Z",
     "iopub.status.busy": "2023-11-26T23:35:45.336610Z",
     "iopub.status.idle": "2023-11-26T23:35:45.380432Z",
     "shell.execute_reply": "2023-11-26T23:35:45.378245Z"
    },
    "papermill": {
     "duration": 0.066302,
     "end_time": "2023-11-26T23:35:45.382743",
     "exception": false,
     "start_time": "2023-11-26T23:35:45.316441",
     "status": "completed"
    },
    "tags": []
   },
   "outputs": [],
   "source": [
    "le_cols = [col for col in df_train.columns if df_train[col].nunique() == 2]\n",
    "ohe_cols = [col for col in df_train.columns if 2 < df_train[col].nunique() < 10]\n",
    "num_cols = [col for col in df_train.columns if df_train[col].nunique() >= 10]"
   ]
  },
  {
   "cell_type": "code",
   "execution_count": 30,
   "id": "ff143178",
   "metadata": {
    "execution": {
     "iopub.execute_input": "2023-11-26T23:35:45.421818Z",
     "iopub.status.busy": "2023-11-26T23:35:45.421508Z",
     "iopub.status.idle": "2023-11-26T23:35:45.427139Z",
     "shell.execute_reply": "2023-11-26T23:35:45.425901Z"
    },
    "papermill": {
     "duration": 0.02726,
     "end_time": "2023-11-26T23:35:45.429135",
     "exception": false,
     "start_time": "2023-11-26T23:35:45.401875",
     "status": "completed"
    },
    "tags": []
   },
   "outputs": [
    {
     "name": "stdout",
     "output_type": "stream",
     "text": [
      "Label Encoded: ['hearing_left', 'hearing_right', 'dental_caries']\n",
      "One Hot Encoded: ['urine_protein']\n",
      "Numerical: ['age', 'height_cm', 'weight_kg', 'waist_cm', 'eyesight_left', 'eyesight_right', 'systolic', 'relaxation', 'fasting_blood_sugar', 'cholesterol', 'triglyceride', 'hdl', 'ldl', 'hemoglobin', 'serum_creatinine', 'ast', 'alt', 'gtp']\n"
     ]
    }
   ],
   "source": [
    "print('Label Encoded:', le_cols)\n",
    "print('One Hot Encoded:', ohe_cols)\n",
    "print('Numerical:', num_cols)"
   ]
  },
  {
   "cell_type": "code",
   "execution_count": 31,
   "id": "4244520d",
   "metadata": {
    "execution": {
     "iopub.execute_input": "2023-11-26T23:35:45.469072Z",
     "iopub.status.busy": "2023-11-26T23:35:45.468603Z",
     "iopub.status.idle": "2023-11-26T23:35:45.539532Z",
     "shell.execute_reply": "2023-11-26T23:35:45.538180Z"
    },
    "papermill": {
     "duration": 0.093988,
     "end_time": "2023-11-26T23:35:45.541795",
     "exception": false,
     "start_time": "2023-11-26T23:35:45.447807",
     "status": "completed"
    },
    "tags": []
   },
   "outputs": [],
   "source": [
    "scaler = StandardScaler()\n",
    "\n",
    "X_train_num = scaler.fit_transform(df_train[num_cols])\n",
    "X_val_num = scaler.transform(df_val[num_cols])\n",
    "X_test_int_num = scaler.transform(df_test_int[num_cols])\n",
    "X_test_ext_num = scaler.transform(df_test_ext[num_cols])"
   ]
  },
  {
   "cell_type": "code",
   "execution_count": 32,
   "id": "2f593c9d",
   "metadata": {
    "execution": {
     "iopub.execute_input": "2023-11-26T23:35:45.584518Z",
     "iopub.status.busy": "2023-11-26T23:35:45.583999Z",
     "iopub.status.idle": "2023-11-26T23:35:45.614367Z",
     "shell.execute_reply": "2023-11-26T23:35:45.613462Z"
    },
    "papermill": {
     "duration": 0.054906,
     "end_time": "2023-11-26T23:35:45.616245",
     "exception": false,
     "start_time": "2023-11-26T23:35:45.561339",
     "status": "completed"
    },
    "tags": []
   },
   "outputs": [],
   "source": [
    "label = LabelEncoder()\n",
    "X_train_le = df_train[le_cols].apply(label.fit_transform).values\n",
    "X_val_le = df_val[le_cols].apply(label.transform)\n",
    "X_test_int_le = df_test_int[le_cols].apply(label.transform)\n",
    "X_test_ext_le = df_test_ext[le_cols].apply(label.transform)"
   ]
  },
  {
   "cell_type": "code",
   "execution_count": 33,
   "id": "503dcbf2",
   "metadata": {
    "execution": {
     "iopub.execute_input": "2023-11-26T23:35:45.657348Z",
     "iopub.status.busy": "2023-11-26T23:35:45.656859Z",
     "iopub.status.idle": "2023-11-26T23:35:45.691711Z",
     "shell.execute_reply": "2023-11-26T23:35:45.689770Z"
    },
    "papermill": {
     "duration": 0.059041,
     "end_time": "2023-11-26T23:35:45.694586",
     "exception": false,
     "start_time": "2023-11-26T23:35:45.635545",
     "status": "completed"
    },
    "tags": []
   },
   "outputs": [
    {
     "name": "stderr",
     "output_type": "stream",
     "text": [
      "/opt/conda/lib/python3.10/site-packages/sklearn/preprocessing/_encoders.py:868: FutureWarning: `sparse` was renamed to `sparse_output` in version 1.2 and will be removed in 1.4. `sparse_output` is ignored unless you leave `sparse` to its default value.\n",
      "  warnings.warn(\n"
     ]
    }
   ],
   "source": [
    "ohe = OneHotEncoder(sparse=False, handle_unknown='ignore')\n",
    "\n",
    "X_train_ohe = ohe.fit_transform(df_train[ohe_cols])\n",
    "X_val_ohe = ohe.transform(df_val[ohe_cols])\n",
    "X_test_int_ohe = ohe.transform(df_test_int[ohe_cols])\n",
    "X_test_ext_ohe = ohe.transform(df_test_ext[ohe_cols])\n",
    "\n",
    "ohe_features = ohe.get_feature_names_out().tolist()"
   ]
  },
  {
   "cell_type": "code",
   "execution_count": 34,
   "id": "c402114d",
   "metadata": {
    "execution": {
     "iopub.execute_input": "2023-11-26T23:35:45.736094Z",
     "iopub.status.busy": "2023-11-26T23:35:45.735222Z",
     "iopub.status.idle": "2023-11-26T23:35:45.768869Z",
     "shell.execute_reply": "2023-11-26T23:35:45.767751Z"
    },
    "papermill": {
     "duration": 0.056994,
     "end_time": "2023-11-26T23:35:45.771429",
     "exception": false,
     "start_time": "2023-11-26T23:35:45.714435",
     "status": "completed"
    },
    "tags": []
   },
   "outputs": [],
   "source": [
    "X_train = np.column_stack([X_train_num, X_train_le, X_train_ohe])\n",
    "X_val = np.column_stack([X_val_num, X_val_le, X_val_ohe])\n",
    "X_test_int = np.column_stack([X_test_int_num, X_test_int_le, X_test_int_ohe])\n",
    "X_test_ext = np.column_stack([X_test_ext_num, X_test_ext_le, X_test_ext_ohe])\n",
    "\n",
    "features = num_cols + le_cols + ohe_features"
   ]
  },
  {
   "cell_type": "markdown",
   "id": "dbf82e21",
   "metadata": {
    "papermill": {
     "duration": 0.018781,
     "end_time": "2023-11-26T23:35:45.809866",
     "exception": false,
     "start_time": "2023-11-26T23:35:45.791085",
     "status": "completed"
    },
    "tags": []
   },
   "source": [
    "## Metric: ROC Curve\n",
    "\n",
    "As mentioned above, submissions are evaluated on [area under the Receiver Operating Characteristic (ROC) curve](https://en.wikipedia.org/wiki/Receiver_operating_characteristic) between the predicted probability and the observed target. \n",
    "\n",
    "The ROC curve is a graphical representation of a binary classification model's performance across various discrimination thresholds. It illustrates the trade-off between sensitivity (true positive rate) and specificity (true negative rate). The curve plots the true positive rate against the false positive rate, providing a comprehensive view of a model's ability to discriminate between classes. \n",
    "\n",
    "The area under the ROC curve (AUC-ROC) quantifies the overall performance, with a higher AUC-ROC indicating superior predictive accuracy. Importantly, the ROC curve and AUC-ROC serve as crucial tools in assessing the effectiveness of binary classification models, offering a nuanced perspective beyond simple accuracy and facilitating informed decision-making in scenarios where balancing sensitivity and specificity is vital.\n",
    "\n",
    "We additionally define:\n",
    "* precision\n",
    "* recall\n",
    "* f1 score\n",
    "* AUC-PR"
   ]
  },
  {
   "cell_type": "code",
   "execution_count": 35,
   "id": "5d2da92a",
   "metadata": {
    "execution": {
     "iopub.execute_input": "2023-11-26T23:35:45.852317Z",
     "iopub.status.busy": "2023-11-26T23:35:45.851823Z",
     "iopub.status.idle": "2023-11-26T23:35:45.858908Z",
     "shell.execute_reply": "2023-11-26T23:35:45.857441Z"
    },
    "papermill": {
     "duration": 0.031925,
     "end_time": "2023-11-26T23:35:45.860865",
     "exception": false,
     "start_time": "2023-11-26T23:35:45.828940",
     "status": "completed"
    },
    "tags": []
   },
   "outputs": [],
   "source": [
    "def fraud_scores(y_true, y_pred_prob):\n",
    "\n",
    "    # precicion score\n",
    "    prec = precision_score(y_true, y_pred_prob >= 0.5)\n",
    "    rec = recall_score(y_true, y_pred_prob >= 0.5)\n",
    "    f1 = f1_score(y_true, y_pred_prob>= 0.5)\n",
    "    auc_curve = roc_auc_score(y_true, y_pred_prob)\n",
    "\n",
    "    # Data to plot precision - recall curve\n",
    "    # and use AUC function to calculate the area under the curve of \n",
    "    # precision recall curve\n",
    "    precision, recall, thresholds = precision_recall_curve(y_true, y_pred_prob)\n",
    "    auc_pr = auc(recall, precision)\n",
    "\n",
    "    return f\"Precision: {prec:.3f}, Recall: {rec:.3f}, F1: {f1:.3f}, AUC: {auc_curve:.3f}, AUC-PR: {auc_pr:.3f}\""
   ]
  },
  {
   "cell_type": "code",
   "execution_count": 36,
   "id": "dbb44d1b",
   "metadata": {
    "execution": {
     "iopub.execute_input": "2023-11-26T23:35:45.903248Z",
     "iopub.status.busy": "2023-11-26T23:35:45.902004Z",
     "iopub.status.idle": "2023-11-26T23:35:45.910703Z",
     "shell.execute_reply": "2023-11-26T23:35:45.909539Z"
    },
    "papermill": {
     "duration": 0.03225,
     "end_time": "2023-11-26T23:35:45.912905",
     "exception": false,
     "start_time": "2023-11-26T23:35:45.880655",
     "status": "completed"
    },
    "tags": []
   },
   "outputs": [],
   "source": [
    "def cf_matrix_plot(cf_matrix):\n",
    "\n",
    "    group_names = [\"TN\",\"FP\",\"FN\",\"TP\"]\n",
    "    group_counts = [\"{0:0.0f}\".format(value) for value in\n",
    "                    cf_matrix.flatten()]\n",
    "    group_percentages = [\"{0:.2%}\".format(value) for value in\n",
    "                        cf_matrix.flatten()/np.sum(cf_matrix)]\n",
    "    labels = [f\"{v1}\\n{v2}\\n{v3}\" for v1, v2, v3 in\n",
    "            zip(group_names,group_counts,group_percentages)]\n",
    "    labels = np.asarray(labels).reshape(2,2)\n",
    "    return sns.heatmap(cf_matrix, annot=labels, fmt='', cmap='coolwarm')"
   ]
  },
  {
   "cell_type": "code",
   "execution_count": 37,
   "id": "d648dc19",
   "metadata": {
    "execution": {
     "iopub.execute_input": "2023-11-26T23:35:45.954940Z",
     "iopub.status.busy": "2023-11-26T23:35:45.954466Z",
     "iopub.status.idle": "2023-11-26T23:35:48.573591Z",
     "shell.execute_reply": "2023-11-26T23:35:48.572056Z"
    },
    "papermill": {
     "duration": 2.643701,
     "end_time": "2023-11-26T23:35:48.576253",
     "exception": false,
     "start_time": "2023-11-26T23:35:45.932552",
     "status": "completed"
    },
    "tags": []
   },
   "outputs": [
    {
     "name": "stdout",
     "output_type": "stream",
     "text": [
      "...defining model\n",
      "...fitting training data\n",
      "...evaluation of fit\n",
      "Precision: 0.735, Recall: 0.830, F1: 0.780, AUC: 0.881, AUC-PR: 0.829\n",
      "...prediction scores on validation set\n",
      "Precision: 0.717, Recall: 0.811, F1: 0.761, AUC: 0.862, AUC-PR: 0.797\n"
     ]
    }
   ],
   "source": [
    "print('...defining model')\n",
    "lgbm_model = lgbm.LGBMClassifier()\n",
    "\n",
    "print('...fitting training data')\n",
    "lgbm_model.fit(X_train, y_train)\n",
    "\n",
    "# fitting to training set\n",
    "print('...evaluation of fit')\n",
    "y_fit = lgbm_model.predict_proba(X_train)[:, 1]\n",
    "print(fraud_scores(y_train, y_fit))\n",
    "\n",
    "# validation set predictions\n",
    "print('...prediction scores on validation set')\n",
    "y_pred = lgbm_model.predict_proba(X_val)[:, 1]\n",
    "print(fraud_scores(y_val, y_pred))"
   ]
  },
  {
   "cell_type": "code",
   "execution_count": 38,
   "id": "5842c9db",
   "metadata": {
    "execution": {
     "iopub.execute_input": "2023-11-26T23:35:48.618142Z",
     "iopub.status.busy": "2023-11-26T23:35:48.617840Z",
     "iopub.status.idle": "2023-11-26T23:35:49.046752Z",
     "shell.execute_reply": "2023-11-26T23:35:49.045386Z"
    },
    "papermill": {
     "duration": 0.452744,
     "end_time": "2023-11-26T23:35:49.049296",
     "exception": false,
     "start_time": "2023-11-26T23:35:48.596552",
     "status": "completed"
    },
    "tags": []
   },
   "outputs": [
    {
     "data": {
      "text/plain": [
       "<Axes: >"
      ]
     },
     "execution_count": 38,
     "metadata": {},
     "output_type": "execute_result"
    },
    {
     "data": {
      "image/png": "[encoded data removed]",
      "text/plain": [
       "<Figure size 640x480 with 2 Axes>"
      ]
     },
     "metadata": {},
     "output_type": "display_data"
    }
   ],
   "source": [
    "cm = confusion_matrix(y_val, y_pred >= 0.5)\n",
    "cf_matrix_plot(cm)"
   ]
  },
  {
   "cell_type": "code",
   "execution_count": 39,
   "id": "1fe4e6cc",
   "metadata": {
    "execution": {
     "iopub.execute_input": "2023-11-26T23:35:49.093554Z",
     "iopub.status.busy": "2023-11-26T23:35:49.093174Z",
     "iopub.status.idle": "2023-11-26T23:35:49.581760Z",
     "shell.execute_reply": "2023-11-26T23:35:49.579812Z"
    },
    "papermill": {
     "duration": 0.514545,
     "end_time": "2023-11-26T23:35:49.584687",
     "exception": false,
     "start_time": "2023-11-26T23:35:49.070142",
     "status": "completed"
    },
    "tags": []
   },
   "outputs": [
    {
     "data": {
      "image/png": "[encoded data removed]",
      "text/plain": [
       "<Figure size 640x480 with 1 Axes>"
      ]
     },
     "metadata": {},
     "output_type": "display_data"
    }
   ],
   "source": [
    "importances = lgbm_model.feature_importances_\n",
    "forest_importances = pd.Series(importances, index=features)\n",
    "\n",
    "\n",
    "fig, ax = plt.subplots()\n",
    "ax.set_title('Top 10 features')\n",
    "forest_importances.sort_values(ascending=False)[::-1].plot.barh(ax=ax)\n",
    "ax.set_title(\"Feature importances using MDI\")\n",
    "ax.set_ylabel(\"Mean decrease in impurity\")\n",
    "fig.tight_layout()"
   ]
  },
  {
   "cell_type": "markdown",
   "id": "bfb4d1c3",
   "metadata": {
    "papermill": {
     "duration": 0.022089,
     "end_time": "2023-11-26T23:35:49.630926",
     "exception": false,
     "start_time": "2023-11-26T23:35:49.608837",
     "status": "completed"
    },
    "tags": []
   },
   "source": [
    "## Data Reduction-II\n",
    "* Drop features connected to urine_protein"
   ]
  },
  {
   "cell_type": "code",
   "execution_count": 40,
   "id": "6426f2c7",
   "metadata": {
    "execution": {
     "iopub.execute_input": "2023-11-26T23:35:49.677646Z",
     "iopub.status.busy": "2023-11-26T23:35:49.677326Z",
     "iopub.status.idle": "2023-11-26T23:35:49.682877Z",
     "shell.execute_reply": "2023-11-26T23:35:49.681725Z"
    },
    "papermill": {
     "duration": 0.032416,
     "end_time": "2023-11-26T23:35:49.685811",
     "exception": false,
     "start_time": "2023-11-26T23:35:49.653395",
     "status": "completed"
    },
    "tags": []
   },
   "outputs": [],
   "source": [
    "X_train = X_train[:, :-6]\n",
    "X_val = X_val[:, :-6]\n",
    "X_test_int = X_test_int[:, :-6]\n",
    "X_test_ext = X_test_ext[:, :-6]\n",
    "\n",
    "features = features[:-6]"
   ]
  },
  {
   "cell_type": "code",
   "execution_count": 41,
   "id": "52e3058b",
   "metadata": {
    "execution": {
     "iopub.execute_input": "2023-11-26T23:35:49.734245Z",
     "iopub.status.busy": "2023-11-26T23:35:49.733725Z",
     "iopub.status.idle": "2023-11-26T23:35:52.591152Z",
     "shell.execute_reply": "2023-11-26T23:35:52.589694Z"
    },
    "papermill": {
     "duration": 2.884337,
     "end_time": "2023-11-26T23:35:52.593437",
     "exception": false,
     "start_time": "2023-11-26T23:35:49.709100",
     "status": "completed"
    },
    "tags": []
   },
   "outputs": [
    {
     "name": "stdout",
     "output_type": "stream",
     "text": [
      "...defining model\n",
      "...fitting training data\n",
      "...evaluation of fit\n",
      "Precision: 0.734, Recall: 0.830, F1: 0.779, AUC: 0.881, AUC-PR: 0.829\n",
      "...prediction scores on validation set\n",
      "Precision: 0.717, Recall: 0.811, F1: 0.761, AUC: 0.862, AUC-PR: 0.796\n"
     ]
    }
   ],
   "source": [
    "print('...defining model')\n",
    "lgbm_model = lgbm.LGBMClassifier()\n",
    "\n",
    "print('...fitting training data')\n",
    "lgbm_model.fit(X_train, y_train)\n",
    "\n",
    "# fitting to training set\n",
    "print('...evaluation of fit')\n",
    "y_fit = lgbm_model.predict_proba(X_train)[:, 1]\n",
    "print(fraud_scores(y_train, y_fit))\n",
    "\n",
    "# validation set predictions\n",
    "print('...prediction scores on validation set')\n",
    "y_pred = lgbm_model.predict_proba(X_val)[:, 1]\n",
    "print(fraud_scores(y_val, y_pred))"
   ]
  },
  {
   "cell_type": "code",
   "execution_count": 42,
   "id": "d1f1e04d",
   "metadata": {
    "execution": {
     "iopub.execute_input": "2023-11-26T23:35:52.642214Z",
     "iopub.status.busy": "2023-11-26T23:35:52.641861Z",
     "iopub.status.idle": "2023-11-26T23:35:52.649777Z",
     "shell.execute_reply": "2023-11-26T23:35:52.648693Z"
    },
    "papermill": {
     "duration": 0.035777,
     "end_time": "2023-11-26T23:35:52.652749",
     "exception": false,
     "start_time": "2023-11-26T23:35:52.616972",
     "status": "completed"
    },
    "tags": []
   },
   "outputs": [
    {
     "data": {
      "text/plain": [
       "\"lgbm_model = lgbm.LGBMClassifier()\\n\\nlgbm_params = {\\n              'n_estimators': [10, 50, 100, 500],\\n              'max_depth': [3, 6, 9, 12],\\n              'learning_rate' : [0.01, 0.1, 1.0],\\n              'boosting_type' : ['gbdt', 'dart', 'goss']\\n              }\\n\\nclf = GridSearchCV(lgbm_model, lgbm_params, scoring='roc_auc', n_jobs=-1, verbose=3)\\n\\nclf.fit(X_train, y_train)\\n\\nlgbm_best = clf.best_estimator_\\n\\nprint(clf.best_estimator_)\\nprint(clf.best_params_)\\nprint(clf.best_score_)\""
      ]
     },
     "execution_count": 42,
     "metadata": {},
     "output_type": "execute_result"
    }
   ],
   "source": [
    "\"\"\"lgbm_model = lgbm.LGBMClassifier()\n",
    "\n",
    "lgbm_params = {\n",
    "              'n_estimators': [10, 50, 100, 500],\n",
    "              'max_depth': [3, 6, 9, 12],\n",
    "              'learning_rate' : [0.01, 0.1, 1.0],\n",
    "              'boosting_type' : ['gbdt', 'dart', 'goss']\n",
    "              }\n",
    "\n",
    "clf = GridSearchCV(lgbm_model, lgbm_params, scoring='roc_auc', n_jobs=-1, verbose=3)\n",
    "\n",
    "clf.fit(X_train, y_train)\n",
    "\n",
    "lgbm_best = clf.best_estimator_\n",
    "\n",
    "print(clf.best_estimator_)\n",
    "print(clf.best_params_)\n",
    "print(clf.best_score_)\"\"\""
   ]
  },
  {
   "cell_type": "markdown",
   "id": "630accd5",
   "metadata": {
    "papermill": {
     "duration": 0.023567,
     "end_time": "2023-11-26T23:35:52.700170",
     "exception": false,
     "start_time": "2023-11-26T23:35:52.676603",
     "status": "completed"
    },
    "tags": []
   },
   "source": [
    "# Submissions-1"
   ]
  },
  {
   "cell_type": "code",
   "execution_count": 43,
   "id": "af77b682",
   "metadata": {
    "execution": {
     "iopub.execute_input": "2023-11-26T23:35:52.749624Z",
     "iopub.status.busy": "2023-11-26T23:35:52.749275Z",
     "iopub.status.idle": "2023-11-26T23:35:53.181665Z",
     "shell.execute_reply": "2023-11-26T23:35:53.180513Z"
    },
    "papermill": {
     "duration": 0.460557,
     "end_time": "2023-11-26T23:35:53.184655",
     "exception": false,
     "start_time": "2023-11-26T23:35:52.724098",
     "status": "completed"
    },
    "tags": []
   },
   "outputs": [],
   "source": [
    "submission = pd.read_csv('/kaggle/input/playground-series-s3e24/sample_submission.csv')\n",
    "\n",
    "y_submission = lgbm_model.predict_proba(X_test_ext)[:, 1]\n",
    "submission['smoking'] = y_submission\n",
    "\n",
    "submission.to_csv('/kaggle/working/submission_1.csv', index=False)"
   ]
  },
  {
   "cell_type": "code",
   "execution_count": 44,
   "id": "dcfb063e",
   "metadata": {
    "execution": {
     "iopub.execute_input": "2023-11-26T23:35:53.238628Z",
     "iopub.status.busy": "2023-11-26T23:35:53.238232Z",
     "iopub.status.idle": "2023-11-26T23:35:53.250364Z",
     "shell.execute_reply": "2023-11-26T23:35:53.249220Z"
    },
    "papermill": {
     "duration": 0.041612,
     "end_time": "2023-11-26T23:35:53.252248",
     "exception": false,
     "start_time": "2023-11-26T23:35:53.210636",
     "status": "completed"
    },
    "tags": []
   },
   "outputs": [
    {
     "data": {
      "text/html": [
       "<div>\n",
       "<style scoped>\n",
       "    .dataframe tbody tr th:only-of-type {\n",
       "        vertical-align: middle;\n",
       "    }\n",
       "\n",
       "    .dataframe tbody tr th {\n",
       "        vertical-align: top;\n",
       "    }\n",
       "\n",
       "    .dataframe thead th {\n",
       "        text-align: right;\n",
       "    }\n",
       "</style>\n",
       "<table border=\"1\" class=\"dataframe\">\n",
       "  <thead>\n",
       "    <tr style=\"text-align: right;\">\n",
       "      <th></th>\n",
       "      <th>id</th>\n",
       "      <th>smoking</th>\n",
       "    </tr>\n",
       "  </thead>\n",
       "  <tbody>\n",
       "    <tr>\n",
       "      <th>0</th>\n",
       "      <td>159256</td>\n",
       "      <td>0.614341</td>\n",
       "    </tr>\n",
       "    <tr>\n",
       "      <th>1</th>\n",
       "      <td>159257</td>\n",
       "      <td>0.083147</td>\n",
       "    </tr>\n",
       "    <tr>\n",
       "      <th>2</th>\n",
       "      <td>159258</td>\n",
       "      <td>0.448191</td>\n",
       "    </tr>\n",
       "    <tr>\n",
       "      <th>3</th>\n",
       "      <td>159259</td>\n",
       "      <td>0.019838</td>\n",
       "    </tr>\n",
       "    <tr>\n",
       "      <th>4</th>\n",
       "      <td>159260</td>\n",
       "      <td>0.558174</td>\n",
       "    </tr>\n",
       "    <tr>\n",
       "      <th>...</th>\n",
       "      <td>...</td>\n",
       "      <td>...</td>\n",
       "    </tr>\n",
       "    <tr>\n",
       "      <th>106166</th>\n",
       "      <td>265422</td>\n",
       "      <td>0.508144</td>\n",
       "    </tr>\n",
       "    <tr>\n",
       "      <th>106167</th>\n",
       "      <td>265423</td>\n",
       "      <td>0.617906</td>\n",
       "    </tr>\n",
       "    <tr>\n",
       "      <th>106168</th>\n",
       "      <td>265424</td>\n",
       "      <td>0.463769</td>\n",
       "    </tr>\n",
       "    <tr>\n",
       "      <th>106169</th>\n",
       "      <td>265425</td>\n",
       "      <td>0.095950</td>\n",
       "    </tr>\n",
       "    <tr>\n",
       "      <th>106170</th>\n",
       "      <td>265426</td>\n",
       "      <td>0.034426</td>\n",
       "    </tr>\n",
       "  </tbody>\n",
       "</table>\n",
       "<p>106171 rows × 2 columns</p>\n",
       "</div>"
      ],
      "text/plain": [
       "            id   smoking\n",
       "0       159256  0.614341\n",
       "1       159257  0.083147\n",
       "2       159258  0.448191\n",
       "3       159259  0.019838\n",
       "4       159260  0.558174\n",
       "...        ...       ...\n",
       "106166  265422  0.508144\n",
       "106167  265423  0.617906\n",
       "106168  265424  0.463769\n",
       "106169  265425  0.095950\n",
       "106170  265426  0.034426\n",
       "\n",
       "[106171 rows x 2 columns]"
      ]
     },
     "execution_count": 44,
     "metadata": {},
     "output_type": "execute_result"
    }
   ],
   "source": [
    "submission"
   ]
  },
  {
   "cell_type": "code",
   "execution_count": null,
   "id": "316823b3",
   "metadata": {
    "papermill": {
     "duration": 0.024098,
     "end_time": "2023-11-26T23:35:53.299144",
     "exception": false,
     "start_time": "2023-11-26T23:35:53.275046",
     "status": "completed"
    },
    "tags": []
   },
   "outputs": [],
   "source": []
  }
 ],
 "metadata": {
  "kaggle": {
   "accelerator": "none",
   "dataSources": [
    {
     "databundleVersionId": 6622892,
     "sourceId": 60891,
     "sourceType": "competition"
    }
   ],
   "dockerImageVersionId": 30587,
   "isGpuEnabled": false,
   "isInternetEnabled": true,
   "language": "python",
   "sourceType": "notebook"
  },
  "kernelspec": {
   "display_name": "Python 3",
   "language": "python",
   "name": "python3"
  },
  "language_info": {
   "codemirror_mode": {
    "name": "ipython",
    "version": 3
   },
   "file_extension": ".py",
   "mimetype": "text/x-python",
   "name": "python",
   "nbconvert_exporter": "python",
   "pygments_lexer": "ipython3",
   "version": "3.10.12"
  },
  "papermill": {
   "default_parameters": {},
   "duration": 28.431442,
   "end_time": "2023-11-26T23:35:54.346595",
   "environment_variables": {},
   "exception": null,
   "input_path": "__notebook__.ipynb",
   "output_path": "__notebook__.ipynb",
   "parameters": {},
   "start_time": "2023-11-26T23:35:25.915153",
   "version": "2.4.0"
  }
 },
 "nbformat": 4,
 "nbformat_minor": 5
}
