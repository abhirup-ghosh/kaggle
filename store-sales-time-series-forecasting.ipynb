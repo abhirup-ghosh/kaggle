{
 "cells": [
  {
   "cell_type": "markdown",
   "id": "a689aadc",
   "metadata": {
    "papermill": {
     "duration": 0.013135,
     "end_time": "2022-11-21T11:04:11.175908",
     "exception": false,
     "start_time": "2022-11-21T11:04:11.162773",
     "status": "completed"
    },
    "tags": []
   },
   "source": [
    "# Competition: [Store Sales - Time Series Forecasting](https://www.kaggle.com/competitions/store-sales-time-series-forecasting)"
   ]
  },
  {
   "cell_type": "markdown",
   "id": "b0a5622f",
   "metadata": {
    "papermill": {
     "duration": 0.010622,
     "end_time": "2022-11-21T11:04:11.197752",
     "exception": false,
     "start_time": "2022-11-21T11:04:11.187130",
     "status": "completed"
    },
    "tags": []
   },
   "source": [
    "## [Short Description](https://www.kaggle.com/competitions/store-sales-time-series-forecasting/overview/description) (and Disclaimer)\n",
    "\n",
    "This is a “getting started” competition, where we use time-series forecasting to forecast store sales on data from Corporación Favorita, a large Ecuadorian-based grocery retailer. I used the [Time Series course on Kaggle](https://www.kaggle.com/learn/time-series) to help me get started, and a lot of the code in this notebook is from that course.rse are inspired by winning solutions from past Kaggle time series forecasting competitions.\n",
    "\n",
    "## [Evaluation](https://www.kaggle.com/competitions/store-sales-time-series-forecasting/overview/evaluation)\n",
    "The evaluation metric for this competition is Root Mean Squared Logarithmic Error.\n",
    "\n",
    "The RMSLE is calculated as:\n",
    "$[\\sqrt{ \\frac{1}{n} \\sum_{i=1}^n \\left(\\log (1 + \\hat{y}_i) - \\log (1 + y_i)\\right)^2}]$\n",
    "where:\n",
    "\n",
    "𝑛 is the total number of instances,  \n",
    "𝑦̂ 𝑖 is the predicted value of the target for instance (i),  \n",
    "𝑦𝑖 is the actual value of the target for instance (i), and,  \n",
    "log is the natural logarithm.\n",
    "\n",
    "## [Data](https://www.kaggle.com/competitions/store-sales-time-series-forecasting/data)\n",
    "\n",
    "### Training data: train.csv\n",
    "\n",
    "* The training data, comprising time series of features **store_nbr**, **family**, and **onpromotion** as well as the target **sales**.\n",
    "* **store_nbr** identifies the store at which the products are sold.\n",
    "* **family** identifies the type of product sold.\n",
    "* **sales** gives the total sales for a product family at a particular store at a given date. Fractional values are possible since products can be sold in fractional units (1.5 kg of cheese, for instance, as opposed to 1 bag of chips).\n",
    "* **onpromotion** gives the total number of items in a product family that were being promoted at a store at a given date.\n",
    "\n",
    "\n",
    "### Test data: test.csv\n",
    "\n",
    "* The test data, having the same features as the training data. You will predict the target **sales** for the dates in this file. \n",
    "* The dates in the test data are for the 15 days after the last date in the training data.\n",
    "\n",
    "\n",
    "### Submission file: sample_submission.csv\n",
    "A sample submission file in the correct format.\n",
    "\n",
    "### Additional information\n",
    "#### 1. Store metadata: stores.csv\n",
    "  * Store metadata, including **city**, **state**, **type**, and **cluster**.\n",
    "  * **cluster** is a grouping of similar stores.\n",
    "\n",
    "#### 2. Daily oil price: oil.csv \n",
    "Includes values during both the train and test data timeframes. (Ecuador is an oil-dependent country and it's economical health is highly vulnerable to shocks in oil prices.)\n",
    "\n",
    "#### 3. Holidays and Events, with metadata: holidays_events.csv\n",
    "  * NOTE: Pay special attention to the **transferred** column. A holiday that is transferred officially falls on that calendar day, but was moved to another date by the government. A transferred day is more like a normal day than a holiday. To find the day that it was actually celebrated, look for the corresponding row where type is Transfer. For example, the holiday Independencia de Guayaquil was transferred from 2012-10-09 to 2012-10-12, which means it was celebrated on 2012-10-12. Days that are type Bridge are extra days that are added to a holiday (e.g., to extend the break across a long weekend). These are frequently made up by the type Work Day which is a day not normally scheduled for work (e.g., Saturday) that is meant to payback the Bridge.\n",
    "  * Additional holidays are days added a regular calendar holiday, for example, as typically happens around Christmas (making Christmas Eve a holiday).\n",
    "\n",
    "\n",
    "### Additional Notes\n",
    "* Wages in the public sector are paid every two weeks on the 15 th and on the last day of the month. Supermarket sales could be affected by this.\n",
    "* A magnitude 7.8 earthquake struck Ecuador on April 16, 2016. People rallied in relief efforts donating water and other first need products which greatly affected supermarket sales for several weeks after the earthquake."
   ]
  },
  {
   "cell_type": "code",
   "execution_count": 1,
   "id": "aa7cb255",
   "metadata": {
    "_cell_guid": "b1076dfc-b9ad-4769-8c92-a6c4dae69d19",
    "_uuid": "8f2839f25d086af736a60e9eeb907d3b93b6e0e5",
    "execution": {
     "iopub.execute_input": "2022-11-21T11:04:11.224111Z",
     "iopub.status.busy": "2022-11-21T11:04:11.223219Z",
     "iopub.status.idle": "2022-11-21T11:04:11.237171Z",
     "shell.execute_reply": "2022-11-21T11:04:11.236162Z"
    },
    "papermill": {
     "duration": 0.031748,
     "end_time": "2022-11-21T11:04:11.240470",
     "exception": false,
     "start_time": "2022-11-21T11:04:11.208722",
     "status": "completed"
    },
    "tags": []
   },
   "outputs": [
    {
     "name": "stdout",
     "output_type": "stream",
     "text": [
      "/kaggle/input/store-sales-time-series-forecasting/oil.csv\n",
      "/kaggle/input/store-sales-time-series-forecasting/sample_submission.csv\n",
      "/kaggle/input/store-sales-time-series-forecasting/holidays_events.csv\n",
      "/kaggle/input/store-sales-time-series-forecasting/stores.csv\n",
      "/kaggle/input/store-sales-time-series-forecasting/train.csv\n",
      "/kaggle/input/store-sales-time-series-forecasting/test.csv\n",
      "/kaggle/input/store-sales-time-series-forecasting/transactions.csv\n"
     ]
    }
   ],
   "source": [
    "# This Python 3 environment comes with many helpful analytics libraries installed\n",
    "# It is defined by the kaggle/python Docker image: https://github.com/kaggle/docker-python\n",
    "# For example, here's several helpful packages to load\n",
    "\n",
    "import numpy as np # linear algebra\n",
    "import pandas as pd # data processing, CSV file I/O (e.g. pd.read_csv)\n",
    "\n",
    "# Input data files are available in the read-only \"../input/\" directory\n",
    "# For example, running this (by clicking run or pressing Shift+Enter) will list all files under the input directory\n",
    "\n",
    "import os\n",
    "for dirname, _, filenames in os.walk('/kaggle/input'):\n",
    "    for filename in filenames:\n",
    "        print(os.path.join(dirname, filename))\n",
    "\n",
    "# You can write up to 20GB to the current directory (/kaggle/working/) that gets preserved as output when you create a version using \"Save & Run All\" \n",
    "# You can also write temporary files to /kaggle/temp/, but they won't be saved outside of the current session"
   ]
  },
  {
   "cell_type": "markdown",
   "id": "6b0ddbb9",
   "metadata": {
    "papermill": {
     "duration": 0.010891,
     "end_time": "2022-11-21T11:04:11.264502",
     "exception": false,
     "start_time": "2022-11-21T11:04:11.253611",
     "status": "completed"
    },
    "tags": []
   },
   "source": [
    "# Preliminaries"
   ]
  },
  {
   "cell_type": "markdown",
   "id": "26e5cafe",
   "metadata": {
    "papermill": {
     "duration": 0.010967,
     "end_time": "2022-11-21T11:04:11.286683",
     "exception": false,
     "start_time": "2022-11-21T11:04:11.275716",
     "status": "completed"
    },
    "tags": []
   },
   "source": [
    "## Dependencies"
   ]
  },
  {
   "cell_type": "code",
   "execution_count": 2,
   "id": "dacce0c5",
   "metadata": {
    "execution": {
     "iopub.execute_input": "2022-11-21T11:04:11.311967Z",
     "iopub.status.busy": "2022-11-21T11:04:11.311182Z",
     "iopub.status.idle": "2022-11-21T11:04:23.476896Z",
     "shell.execute_reply": "2022-11-21T11:04:23.475474Z"
    },
    "papermill": {
     "duration": 12.182468,
     "end_time": "2022-11-21T11:04:23.480396",
     "exception": false,
     "start_time": "2022-11-21T11:04:11.297928",
     "status": "completed"
    },
    "tags": []
   },
   "outputs": [],
   "source": [
    "# Setup feedback system\n",
    "from learntools.core import binder\n",
    "binder.bind(globals())\n",
    "from learntools.time_series.ex4 import *\n",
    "\n",
    "# Setup notebook\n",
    "from pathlib import Path\n",
    "from learntools.time_series.style import *  # plot style settings\n",
    "from learntools.time_series.utils import plot_lags, make_lags, make_leads\n",
    "\n",
    "import pandas as pd\n",
    "import matplotlib.pyplot as plt\n",
    "import numpy as np\n",
    "import seaborn as sns\n",
    "from sklearn.linear_model import LinearRegression\n",
    "from sklearn.metrics import mean_squared_log_error\n",
    "from statsmodels.graphics.tsaplots import plot_pacf\n",
    "from statsmodels.tsa.deterministic import CalendarFourier, DeterministicProcess\n",
    "\n",
    "from sklearn.model_selection import train_test_split\n",
    "from sklearn.metrics import mean_squared_log_error"
   ]
  },
  {
   "cell_type": "markdown",
   "id": "c1d9ef26",
   "metadata": {
    "papermill": {
     "duration": 0.01102,
     "end_time": "2022-11-21T11:04:23.503019",
     "exception": false,
     "start_time": "2022-11-21T11:04:23.491999",
     "status": "completed"
    },
    "tags": []
   },
   "source": [
    "## Competition Data"
   ]
  },
  {
   "cell_type": "code",
   "execution_count": 3,
   "id": "d89672e2",
   "metadata": {
    "execution": {
     "iopub.execute_input": "2022-11-21T11:04:23.527924Z",
     "iopub.status.busy": "2022-11-21T11:04:23.527498Z",
     "iopub.status.idle": "2022-11-21T11:04:27.423813Z",
     "shell.execute_reply": "2022-11-21T11:04:27.420164Z"
    },
    "papermill": {
     "duration": 3.916411,
     "end_time": "2022-11-21T11:04:27.431008",
     "exception": false,
     "start_time": "2022-11-21T11:04:23.514597",
     "status": "completed"
    },
    "tags": []
   },
   "outputs": [],
   "source": [
    "comp_dir = Path('../input/store-sales-time-series-forecasting')\n",
    "\n",
    "# Train data: train.csv\n",
    "store_sales = pd.read_csv(\n",
    "    comp_dir / 'train.csv',\n",
    "    usecols=['store_nbr', 'family', 'date', 'sales'],\n",
    "    dtype={\n",
    "        'store_nbr': 'category',\n",
    "        'family': 'category',\n",
    "        'sales': 'float32',\n",
    "    },\n",
    "    parse_dates=['date'],\n",
    "    infer_datetime_format=True,\n",
    ")\n",
    "store_sales['date'] = store_sales.date.dt.to_period('D')\n",
    "store_sales = store_sales.set_index(['store_nbr', 'family', 'date']).sort_index()\n",
    "\n",
    "# Holidays and Events, with metadata\n",
    "holidays_events = pd.read_csv(\n",
    "    comp_dir / \"holidays_events.csv\",\n",
    "    dtype={\n",
    "        'type': 'category',\n",
    "        'locale': 'category',\n",
    "        'locale_name': 'category',\n",
    "        'description': 'category',\n",
    "        'transferred': 'bool',\n",
    "    },\n",
    "    parse_dates=['date'],\n",
    "    infer_datetime_format=True,\n",
    ")\n",
    "holidays_events = holidays_events.set_index('date').to_period('D')\n",
    "\n",
    "# Test data: test.csv\n",
    "df_test = pd.read_csv(\n",
    "    comp_dir / 'test.csv',\n",
    "    dtype={\n",
    "        'store_nbr': 'category',\n",
    "        'family': 'category',\n",
    "        'onpromotion': 'uint32',\n",
    "    },\n",
    "    parse_dates=['date'],\n",
    "    infer_datetime_format=True,\n",
    ")\n",
    "df_test['date'] = df_test.date.dt.to_period('D')\n",
    "df_test = df_test.set_index(['store_nbr', 'family', 'date']).sort_index()"
   ]
  },
  {
   "cell_type": "markdown",
   "id": "da2dd3d2",
   "metadata": {
    "papermill": {
     "duration": 0.010933,
     "end_time": "2022-11-21T11:04:27.453923",
     "exception": false,
     "start_time": "2022-11-21T11:04:27.442990",
     "status": "completed"
    },
    "tags": []
   },
   "source": [
    "# EDA\n",
    "\n",
    "[WIP]: Going to expand this section in upcoming weeks"
   ]
  },
  {
   "cell_type": "code",
   "execution_count": 4,
   "id": "10afca0d",
   "metadata": {
    "execution": {
     "iopub.execute_input": "2022-11-21T11:04:27.478749Z",
     "iopub.status.busy": "2022-11-21T11:04:27.478323Z",
     "iopub.status.idle": "2022-11-21T11:04:27.498532Z",
     "shell.execute_reply": "2022-11-21T11:04:27.496950Z"
    },
    "papermill": {
     "duration": 0.037133,
     "end_time": "2022-11-21T11:04:27.502462",
     "exception": false,
     "start_time": "2022-11-21T11:04:27.465329",
     "status": "completed"
    },
    "tags": []
   },
   "outputs": [
    {
     "data": {
      "text/html": [
       "<div>\n",
       "<style scoped>\n",
       "    .dataframe tbody tr th:only-of-type {\n",
       "        vertical-align: middle;\n",
       "    }\n",
       "\n",
       "    .dataframe tbody tr th {\n",
       "        vertical-align: top;\n",
       "    }\n",
       "\n",
       "    .dataframe thead th {\n",
       "        text-align: right;\n",
       "    }\n",
       "</style>\n",
       "<table border=\"1\" class=\"dataframe\">\n",
       "  <thead>\n",
       "    <tr style=\"text-align: right;\">\n",
       "      <th></th>\n",
       "      <th></th>\n",
       "      <th></th>\n",
       "      <th>sales</th>\n",
       "    </tr>\n",
       "    <tr>\n",
       "      <th>store_nbr</th>\n",
       "      <th>family</th>\n",
       "      <th>date</th>\n",
       "      <th></th>\n",
       "    </tr>\n",
       "  </thead>\n",
       "  <tbody>\n",
       "    <tr>\n",
       "      <th rowspan=\"5\" valign=\"top\">1</th>\n",
       "      <th rowspan=\"5\" valign=\"top\">AUTOMOTIVE</th>\n",
       "      <th>2013-01-01</th>\n",
       "      <td>0.0</td>\n",
       "    </tr>\n",
       "    <tr>\n",
       "      <th>2013-01-02</th>\n",
       "      <td>2.0</td>\n",
       "    </tr>\n",
       "    <tr>\n",
       "      <th>2013-01-03</th>\n",
       "      <td>3.0</td>\n",
       "    </tr>\n",
       "    <tr>\n",
       "      <th>2013-01-04</th>\n",
       "      <td>3.0</td>\n",
       "    </tr>\n",
       "    <tr>\n",
       "      <th>2013-01-05</th>\n",
       "      <td>5.0</td>\n",
       "    </tr>\n",
       "  </tbody>\n",
       "</table>\n",
       "</div>"
      ],
      "text/plain": [
       "                                 sales\n",
       "store_nbr family     date             \n",
       "1         AUTOMOTIVE 2013-01-01    0.0\n",
       "                     2013-01-02    2.0\n",
       "                     2013-01-03    3.0\n",
       "                     2013-01-04    3.0\n",
       "                     2013-01-05    5.0"
      ]
     },
     "execution_count": 4,
     "metadata": {},
     "output_type": "execute_result"
    }
   ],
   "source": [
    "store_sales.head()"
   ]
  },
  {
   "cell_type": "markdown",
   "id": "eebba191",
   "metadata": {
    "papermill": {
     "duration": 0.014115,
     "end_time": "2022-11-21T11:04:27.529215",
     "exception": false,
     "start_time": "2022-11-21T11:04:27.515100",
     "status": "completed"
    },
    "tags": []
   },
   "source": [
    "### Indices"
   ]
  },
  {
   "cell_type": "markdown",
   "id": "cc6ca10d",
   "metadata": {
    "papermill": {
     "duration": 0.016338,
     "end_time": "2022-11-21T11:04:27.558027",
     "exception": false,
     "start_time": "2022-11-21T11:04:27.541689",
     "status": "completed"
    },
    "tags": []
   },
   "source": [
    "#### Date\n",
    "\n",
    "**Total duration of data:**"
   ]
  },
  {
   "cell_type": "code",
   "execution_count": 5,
   "id": "0a0268d2",
   "metadata": {
    "execution": {
     "iopub.execute_input": "2022-11-21T11:04:27.589152Z",
     "iopub.status.busy": "2022-11-21T11:04:27.588315Z",
     "iopub.status.idle": "2022-11-21T11:04:27.641150Z",
     "shell.execute_reply": "2022-11-21T11:04:27.639834Z"
    },
    "papermill": {
     "duration": 0.069813,
     "end_time": "2022-11-21T11:04:27.644578",
     "exception": false,
     "start_time": "2022-11-21T11:04:27.574765",
     "status": "completed"
    },
    "tags": []
   },
   "outputs": [
    {
     "name": "stdout",
     "output_type": "stream",
     "text": [
      "Training data: 2013-01-01 -- 2017-08-15\n",
      "Test data: 2017-08-16 -- 2017-08-31\n"
     ]
    }
   ],
   "source": [
    "print(f\"Training data: {store_sales.index.get_level_values(2).min()} -- {store_sales.index.get_level_values(2).max()}\")\n",
    "print(f\"Test data: {df_test.index.get_level_values(2).min()} -- {df_test.index.get_level_values(2).max()}\")\n"
   ]
  },
  {
   "cell_type": "markdown",
   "id": "b9175b81",
   "metadata": {
    "papermill": {
     "duration": 0.011492,
     "end_time": "2022-11-21T11:04:27.667683",
     "exception": false,
     "start_time": "2022-11-21T11:04:27.656191",
     "status": "completed"
    },
    "tags": []
   },
   "source": [
    "This amounts to slightly more than 4.5 years (55 months) of training data, followed by the next 15 days to test our model on."
   ]
  },
  {
   "cell_type": "markdown",
   "id": "06c8b997",
   "metadata": {
    "papermill": {
     "duration": 0.010936,
     "end_time": "2022-11-21T11:04:27.690654",
     "exception": false,
     "start_time": "2022-11-21T11:04:27.679718",
     "status": "completed"
    },
    "tags": []
   },
   "source": [
    "#### Family\n",
    "\n",
    "The products in the training data belong to different families."
   ]
  },
  {
   "cell_type": "code",
   "execution_count": 6,
   "id": "10931477",
   "metadata": {
    "execution": {
     "iopub.execute_input": "2022-11-21T11:04:27.715803Z",
     "iopub.status.busy": "2022-11-21T11:04:27.714942Z",
     "iopub.status.idle": "2022-11-21T11:04:27.784772Z",
     "shell.execute_reply": "2022-11-21T11:04:27.783180Z"
    },
    "papermill": {
     "duration": 0.086584,
     "end_time": "2022-11-21T11:04:27.788746",
     "exception": false,
     "start_time": "2022-11-21T11:04:27.702162",
     "status": "completed"
    },
    "tags": []
   },
   "outputs": [
    {
     "name": "stdout",
     "output_type": "stream",
     "text": [
      "Total number of families: 33\n",
      "First 5 families (in alphabetical order): ['Automotive', 'Baby care', 'Beauty', 'Beverages', 'Books']\n",
      "Last 5 families (in alphabetical order): ['Poultry', 'Prepared foods', 'Produce', 'School and office supplies', 'Seafood']\n"
     ]
    }
   ],
   "source": [
    "print(f\"Total number of families: {len(store_sales.index.unique(level=1))}\")\n",
    "\n",
    "print(f\"First 5 families (in alphabetical order): {[x.capitalize() for x in store_sales.index.unique(level=1)[:5]]}\")\n",
    "\n",
    "print(f\"Last 5 families (in alphabetical order): {[x.capitalize() for x in store_sales.index.unique(level=1)[-5:]]}\")"
   ]
  },
  {
   "cell_type": "markdown",
   "id": "3b44a83a",
   "metadata": {
    "papermill": {
     "duration": 0.011206,
     "end_time": "2022-11-21T11:04:27.811854",
     "exception": false,
     "start_time": "2022-11-21T11:04:27.800648",
     "status": "completed"
    },
    "tags": []
   },
   "source": [
    "# Modelling"
   ]
  },
  {
   "cell_type": "markdown",
   "id": "c171cf2a",
   "metadata": {
    "papermill": {
     "duration": 0.011133,
     "end_time": "2022-11-21T11:04:27.834959",
     "exception": false,
     "start_time": "2022-11-21T11:04:27.823826",
     "status": "completed"
    },
    "tags": []
   },
   "source": [
    "As we learnt in the [Time Series course on Kaggle](https://www.kaggle.com/learn/time-series), there are 2 essential components of a time-series:\n",
    "* **Time dependence** that leads to two key featues: [Trends](https://www.kaggle.com/code/ryanholbrook/trend) and [Seasonality](https://www.kaggle.com/code/ryanholbrook/seasonality)\n",
    "* **Serial depencdence** that leads to [cycles](https://www.kaggle.com/code/ryanholbrook/time-series-as-features), and can be explored through lag features.\n",
    "\n",
    "Each of these features are worth exploring one-by-one in detail. We are goinig to follow the lead of the tutorial in realising that a single machine learning algorithm might not be best-suited to capture all these independent components. While regression algorithms are better for detrending/deseasonalising, [serial dependence is best explored through **decision trees**](https://www.kaggle.com/code/ryanholbrook/time-series-as-features). Hence, getting the best of both worlds, we are going to explore [Hybrid models](https://www.kaggle.com/code/ryanholbrook/hybrid-models) that employ a combination of the above algorithms."
   ]
  },
  {
   "cell_type": "markdown",
   "id": "00119859",
   "metadata": {
    "papermill": {
     "duration": 0.011825,
     "end_time": "2022-11-21T11:04:27.860065",
     "exception": false,
     "start_time": "2022-11-21T11:04:27.848240",
     "status": "completed"
    },
    "tags": []
   },
   "source": [
    "## Trends"
   ]
  },
  {
   "cell_type": "markdown",
   "id": "ce4d9256",
   "metadata": {
    "papermill": {
     "duration": 0.011091,
     "end_time": "2022-11-21T11:04:27.882780",
     "exception": false,
     "start_time": "2022-11-21T11:04:27.871689",
     "status": "completed"
    },
    "tags": []
   },
   "source": [
    "As defined in [Time Series course on Kaggle](https://www.kaggle.com/code/ryanholbrook/trend) course, the **trend** component of a time series represents a persistent, long-term change in the mean of the series. The trend is the slowest-moving part of a series, the part representing the largest time scale of importance."
   ]
  },
  {
   "cell_type": "markdown",
   "id": "066058d7",
   "metadata": {
    "papermill": {
     "duration": 0.010992,
     "end_time": "2022-11-21T11:04:27.905259",
     "exception": false,
     "start_time": "2022-11-21T11:04:27.894267",
     "status": "completed"
    },
    "tags": []
   },
   "source": [
    "The training set has information that drills down to different levels of detail, eg, store number, product family, etc. At the highest-level, we start looking at trends in the time-dependence of average sales."
   ]
  },
  {
   "cell_type": "code",
   "execution_count": 7,
   "id": "987d54fa",
   "metadata": {
    "execution": {
     "iopub.execute_input": "2022-11-21T11:04:27.931035Z",
     "iopub.status.busy": "2022-11-21T11:04:27.929949Z",
     "iopub.status.idle": "2022-11-21T11:04:28.036744Z",
     "shell.execute_reply": "2022-11-21T11:04:28.034893Z"
    },
    "papermill": {
     "duration": 0.123154,
     "end_time": "2022-11-21T11:04:28.039813",
     "exception": false,
     "start_time": "2022-11-21T11:04:27.916659",
     "status": "completed"
    },
    "tags": []
   },
   "outputs": [
    {
     "data": {
      "text/plain": [
       "date\n",
       "2013-01-01      1.409438\n",
       "2013-01-02    278.390808\n",
       "2013-01-03    202.840195\n",
       "2013-01-04    198.911148\n",
       "2013-01-05    267.873230\n",
       "Freq: D, Name: sales, dtype: float32"
      ]
     },
     "execution_count": 7,
     "metadata": {},
     "output_type": "execute_result"
    }
   ],
   "source": [
    "average_sales = store_sales.groupby('date').mean()['sales']\n",
    "average_sales.head()"
   ]
  },
  {
   "cell_type": "markdown",
   "id": "83b1b757",
   "metadata": {
    "papermill": {
     "duration": 0.011486,
     "end_time": "2022-11-21T11:04:28.062985",
     "exception": false,
     "start_time": "2022-11-21T11:04:28.051499",
     "status": "completed"
    },
    "tags": []
   },
   "source": [
    "Calculating a year-long moving average smoothens out short-term fluctuations in the series retaining only long-term changes. With this, we see a year-on-year growth in the average sales."
   ]
  },
  {
   "cell_type": "code",
   "execution_count": 8,
   "id": "bd34ade9",
   "metadata": {
    "execution": {
     "iopub.execute_input": "2022-11-21T11:04:28.091786Z",
     "iopub.status.busy": "2022-11-21T11:04:28.091043Z",
     "iopub.status.idle": "2022-11-21T11:04:28.485998Z",
     "shell.execute_reply": "2022-11-21T11:04:28.484735Z"
    },
    "papermill": {
     "duration": 0.415306,
     "end_time": "2022-11-21T11:04:28.490070",
     "exception": false,
     "start_time": "2022-11-21T11:04:28.074764",
     "status": "completed"
    },
    "tags": []
   },
   "outputs": [
    {
     "data": {
      "image/png": "[encoded data removed]",
      "text/plain": [
       "<Figure size 792x288 with 1 Axes>"
      ]
     },
     "metadata": {},
     "output_type": "display_data"
    }
   ],
   "source": [
    "# moving average plot of average_sales estimating the trend\n",
    "\n",
    "trend = average_sales.rolling(\n",
    "    window=365,\n",
    "    center=True,\n",
    "    min_periods=183,\n",
    ").mean()\n",
    "\n",
    "ax = average_sales.plot(**plot_params, alpha=0.5)\n",
    "ax = trend.plot(ax=ax, linewidth=3)"
   ]
  },
  {
   "cell_type": "markdown",
   "id": "704423c5",
   "metadata": {
    "papermill": {
     "duration": 0.013848,
     "end_time": "2022-11-21T11:04:28.520727",
     "exception": false,
     "start_time": "2022-11-21T11:04:28.506879",
     "status": "completed"
    },
    "tags": []
   },
   "source": [
    "### First prediction: based on trend\n",
    "\n",
    "At this point, we attempt to make our first prediction, just using the trend of first, the average sales, and then each family at a time. As we have already seen in the previous plot, the average sales show a year-on-year growth which can be approximated using a linear regression. The polynomial we fit to the sales is our choice, and we will use orders 1 and 3 to see their effects on the prediction. We use the `DeterministicProcess` function to create a feature set for a trend model."
   ]
  },
  {
   "cell_type": "markdown",
   "id": "55316381",
   "metadata": {
    "papermill": {
     "duration": 0.012947,
     "end_time": "2022-11-21T11:04:28.547238",
     "exception": false,
     "start_time": "2022-11-21T11:04:28.534291",
     "status": "completed"
    },
    "tags": []
   },
   "source": [
    "#### Polynomial order: 1"
   ]
  },
  {
   "cell_type": "code",
   "execution_count": 9,
   "id": "84d93fd1",
   "metadata": {
    "execution": {
     "iopub.execute_input": "2022-11-21T11:04:28.576898Z",
     "iopub.status.busy": "2022-11-21T11:04:28.576132Z",
     "iopub.status.idle": "2022-11-21T11:04:28.585485Z",
     "shell.execute_reply": "2022-11-21T11:04:28.584466Z"
    },
    "papermill": {
     "duration": 0.027377,
     "end_time": "2022-11-21T11:04:28.587944",
     "exception": false,
     "start_time": "2022-11-21T11:04:28.560567",
     "status": "completed"
    },
    "tags": []
   },
   "outputs": [
    {
     "data": {
      "text/plain": [
       "date\n",
       "2013-01-01      1.409438\n",
       "2013-01-02    278.390808\n",
       "2013-01-03    202.840195\n",
       "2013-01-04    198.911148\n",
       "2013-01-05    267.873230\n",
       "Freq: D, Name: sales, dtype: float32"
      ]
     },
     "execution_count": 9,
     "metadata": {},
     "output_type": "execute_result"
    }
   ],
   "source": [
    "# the target\n",
    "\n",
    "y = average_sales.copy()\n",
    "y.head()"
   ]
  },
  {
   "cell_type": "code",
   "execution_count": 10,
   "id": "eef09b1d",
   "metadata": {
    "execution": {
     "iopub.execute_input": "2022-11-21T11:04:28.617469Z",
     "iopub.status.busy": "2022-11-21T11:04:28.616981Z",
     "iopub.status.idle": "2022-11-21T11:04:28.636599Z",
     "shell.execute_reply": "2022-11-21T11:04:28.635370Z"
    },
    "papermill": {
     "duration": 0.037398,
     "end_time": "2022-11-21T11:04:28.639179",
     "exception": false,
     "start_time": "2022-11-21T11:04:28.601781",
     "status": "completed"
    },
    "tags": []
   },
   "outputs": [
    {
     "data": {
      "text/html": [
       "<div>\n",
       "<style scoped>\n",
       "    .dataframe tbody tr th:only-of-type {\n",
       "        vertical-align: middle;\n",
       "    }\n",
       "\n",
       "    .dataframe tbody tr th {\n",
       "        vertical-align: top;\n",
       "    }\n",
       "\n",
       "    .dataframe thead th {\n",
       "        text-align: right;\n",
       "    }\n",
       "</style>\n",
       "<table border=\"1\" class=\"dataframe\">\n",
       "  <thead>\n",
       "    <tr style=\"text-align: right;\">\n",
       "      <th></th>\n",
       "      <th>const</th>\n",
       "      <th>trend</th>\n",
       "    </tr>\n",
       "    <tr>\n",
       "      <th>date</th>\n",
       "      <th></th>\n",
       "      <th></th>\n",
       "    </tr>\n",
       "  </thead>\n",
       "  <tbody>\n",
       "    <tr>\n",
       "      <th>2013-01-01</th>\n",
       "      <td>1.0</td>\n",
       "      <td>1.0</td>\n",
       "    </tr>\n",
       "    <tr>\n",
       "      <th>2013-01-02</th>\n",
       "      <td>1.0</td>\n",
       "      <td>2.0</td>\n",
       "    </tr>\n",
       "    <tr>\n",
       "      <th>2013-01-03</th>\n",
       "      <td>1.0</td>\n",
       "      <td>3.0</td>\n",
       "    </tr>\n",
       "    <tr>\n",
       "      <th>2013-01-04</th>\n",
       "      <td>1.0</td>\n",
       "      <td>4.0</td>\n",
       "    </tr>\n",
       "    <tr>\n",
       "      <th>2013-01-05</th>\n",
       "      <td>1.0</td>\n",
       "      <td>5.0</td>\n",
       "    </tr>\n",
       "  </tbody>\n",
       "</table>\n",
       "</div>"
      ],
      "text/plain": [
       "            const  trend\n",
       "date                    \n",
       "2013-01-01    1.0    1.0\n",
       "2013-01-02    1.0    2.0\n",
       "2013-01-03    1.0    3.0\n",
       "2013-01-04    1.0    4.0\n",
       "2013-01-05    1.0    5.0"
      ]
     },
     "execution_count": 10,
     "metadata": {},
     "output_type": "execute_result"
    }
   ],
   "source": [
    "# Instantiate `DeterministicProcess` with arguments\n",
    "# appropriate for a cubic trend model\n",
    "dp = DeterministicProcess(\n",
    "    index=y.index,  # dates from the training data\n",
    "    constant=True,       # dummy feature for the bias (y_intercept)\n",
    "    order=1,             # the time dummy (trend): linear trend\n",
    "    drop=True,           # drop terms if necessary to avoid collinearity\n",
    ")\n",
    "\n",
    "# YOUR CODE HERE: Create the feature set for the dates given in y.index\n",
    "X = dp.in_sample()\n",
    "\n",
    "X.head()"
   ]
  },
  {
   "cell_type": "markdown",
   "id": "00510b71",
   "metadata": {
    "papermill": {
     "duration": 0.014483,
     "end_time": "2022-11-21T11:04:28.667381",
     "exception": false,
     "start_time": "2022-11-21T11:04:28.652898",
     "status": "completed"
    },
    "tags": []
   },
   "source": [
    "As is standard for evaluating machine learning models, we split our training data into a training set and a validation set. We use the training set to train the model and evaluate its performance on the validation set. In this case, we choose our validation set to be the same size as the actual test set (15 days), and we choose it to be the last 15 days of the original training set. This is to resemble the test set which is 15 days from the end of the training data. \n",
    "\n",
    "**[Evaluation](https://www.kaggle.com/competitions/store-sales-time-series-forecasting/overview/evaluation):** We use the same metric for evaluating performance on the validation set as will be used for the actual test set, namely, the Root Mean Squared Logarithmic Error, calculated as:\n",
    "\n",
    "$[\\sqrt{ \\frac{1}{n} \\sum_{i=1}^n \\left(\\log (1 + \\hat{y}_i) - \\log (1 + y_i)\\right)^2}]$\n",
    "\n",
    "where:\n",
    "\n",
    "𝑛 is the total number of instances,  \n",
    "𝑦̂ 𝑖 is the predicted value of the target for instance (i),  \n",
    "𝑦𝑖 is the actual value of the target for instance (i), and,  \n",
    "log is the natural logarithm."
   ]
  },
  {
   "cell_type": "code",
   "execution_count": 11,
   "id": "7b321908",
   "metadata": {
    "execution": {
     "iopub.execute_input": "2022-11-21T11:04:28.697294Z",
     "iopub.status.busy": "2022-11-21T11:04:28.696820Z",
     "iopub.status.idle": "2022-11-21T11:04:29.073898Z",
     "shell.execute_reply": "2022-11-21T11:04:29.072912Z"
    },
    "papermill": {
     "duration": 0.395289,
     "end_time": "2022-11-21T11:04:29.076522",
     "exception": false,
     "start_time": "2022-11-21T11:04:28.681233",
     "status": "completed"
    },
    "tags": []
   },
   "outputs": [
    {
     "name": "stdout",
     "output_type": "stream",
     "text": [
      "Training RMSLE: 0.32472\n",
      "Validation RMSLE: 0.18144\n"
     ]
    },
    {
     "data": {
      "image/png": "[encoded data removed]",
      "text/plain": [
       "<Figure size 792x288 with 1 Axes>"
      ]
     },
     "metadata": {},
     "output_type": "display_data"
    }
   ],
   "source": [
    "X_train, X_valid, y_train, y_valid = train_test_split(X, y, test_size=15, shuffle=False)\n",
    "\n",
    "model = LinearRegression(fit_intercept=False).fit(X_train, y_train)\n",
    "y_fit = pd.Series(model.predict(X_train), index=X_train.index).clip(0.0)\n",
    "y_pred = pd.Series(model.predict(X_valid), index=X_valid.index).clip(0.0)\n",
    "\n",
    "rmsle_train = mean_squared_log_error(y_train, y_fit) ** 0.5\n",
    "rmsle_valid = mean_squared_log_error(y_valid, y_pred) ** 0.5\n",
    "print(f'Training RMSLE: {rmsle_train:.5f}')\n",
    "print(f'Validation RMSLE: {rmsle_valid:.5f}')\n",
    "\n",
    "ax = y.plot(**plot_params, alpha=0.5, title=\"Average Sales\", ylabel=\"items sold\")\n",
    "ax = y_fit.plot(ax=ax, label=\"Fitted\", color='C0')\n",
    "ax = y_pred.plot(ax=ax, label=\"Forecast\", color='C3')\n",
    "ax.legend();"
   ]
  },
  {
   "cell_type": "markdown",
   "id": "5b2194d1",
   "metadata": {
    "papermill": {
     "duration": 0.015216,
     "end_time": "2022-11-21T11:04:29.107760",
     "exception": false,
     "start_time": "2022-11-21T11:04:29.092544",
     "status": "completed"
    },
    "tags": []
   },
   "source": [
    "#### Polynomial order: 3"
   ]
  },
  {
   "cell_type": "code",
   "execution_count": 12,
   "id": "a79a7140",
   "metadata": {
    "execution": {
     "iopub.execute_input": "2022-11-21T11:04:29.141943Z",
     "iopub.status.busy": "2022-11-21T11:04:29.141498Z",
     "iopub.status.idle": "2022-11-21T11:04:29.164438Z",
     "shell.execute_reply": "2022-11-21T11:04:29.162904Z"
    },
    "papermill": {
     "duration": 0.0439,
     "end_time": "2022-11-21T11:04:29.167299",
     "exception": false,
     "start_time": "2022-11-21T11:04:29.123399",
     "status": "completed"
    },
    "tags": []
   },
   "outputs": [
    {
     "data": {
      "text/html": [
       "<div>\n",
       "<style scoped>\n",
       "    .dataframe tbody tr th:only-of-type {\n",
       "        vertical-align: middle;\n",
       "    }\n",
       "\n",
       "    .dataframe tbody tr th {\n",
       "        vertical-align: top;\n",
       "    }\n",
       "\n",
       "    .dataframe thead th {\n",
       "        text-align: right;\n",
       "    }\n",
       "</style>\n",
       "<table border=\"1\" class=\"dataframe\">\n",
       "  <thead>\n",
       "    <tr style=\"text-align: right;\">\n",
       "      <th></th>\n",
       "      <th>const</th>\n",
       "      <th>trend</th>\n",
       "      <th>trend_squared</th>\n",
       "      <th>trend_cubed</th>\n",
       "    </tr>\n",
       "    <tr>\n",
       "      <th>date</th>\n",
       "      <th></th>\n",
       "      <th></th>\n",
       "      <th></th>\n",
       "      <th></th>\n",
       "    </tr>\n",
       "  </thead>\n",
       "  <tbody>\n",
       "    <tr>\n",
       "      <th>2013-01-01</th>\n",
       "      <td>1.0</td>\n",
       "      <td>1.0</td>\n",
       "      <td>1.0</td>\n",
       "      <td>1.0</td>\n",
       "    </tr>\n",
       "    <tr>\n",
       "      <th>2013-01-02</th>\n",
       "      <td>1.0</td>\n",
       "      <td>2.0</td>\n",
       "      <td>4.0</td>\n",
       "      <td>8.0</td>\n",
       "    </tr>\n",
       "    <tr>\n",
       "      <th>2013-01-03</th>\n",
       "      <td>1.0</td>\n",
       "      <td>3.0</td>\n",
       "      <td>9.0</td>\n",
       "      <td>27.0</td>\n",
       "    </tr>\n",
       "    <tr>\n",
       "      <th>2013-01-04</th>\n",
       "      <td>1.0</td>\n",
       "      <td>4.0</td>\n",
       "      <td>16.0</td>\n",
       "      <td>64.0</td>\n",
       "    </tr>\n",
       "    <tr>\n",
       "      <th>2013-01-05</th>\n",
       "      <td>1.0</td>\n",
       "      <td>5.0</td>\n",
       "      <td>25.0</td>\n",
       "      <td>125.0</td>\n",
       "    </tr>\n",
       "  </tbody>\n",
       "</table>\n",
       "</div>"
      ],
      "text/plain": [
       "            const  trend  trend_squared  trend_cubed\n",
       "date                                                \n",
       "2013-01-01    1.0    1.0            1.0          1.0\n",
       "2013-01-02    1.0    2.0            4.0          8.0\n",
       "2013-01-03    1.0    3.0            9.0         27.0\n",
       "2013-01-04    1.0    4.0           16.0         64.0\n",
       "2013-01-05    1.0    5.0           25.0        125.0"
      ]
     },
     "execution_count": 12,
     "metadata": {},
     "output_type": "execute_result"
    }
   ],
   "source": [
    "# Instantiate `DeterministicProcess` with arguments\n",
    "# appropriate for a cubic trend model\n",
    "dp = DeterministicProcess(\n",
    "    index=y.index,  # dates from the training data\n",
    "    constant=True,       # dummy feature for the bias (y_intercept)\n",
    "    order=3,             # the time dummy (trend): cubic trend\n",
    "    drop=True,           # drop terms if necessary to avoid collinearity\n",
    ")\n",
    "\n",
    "# YOUR CODE HERE: Create the feature set for the dates given in y.index\n",
    "X = dp.in_sample()\n",
    "\n",
    "X.head()"
   ]
  },
  {
   "cell_type": "code",
   "execution_count": 13,
   "id": "f9b405e8",
   "metadata": {
    "execution": {
     "iopub.execute_input": "2022-11-21T11:04:29.200951Z",
     "iopub.status.busy": "2022-11-21T11:04:29.200520Z",
     "iopub.status.idle": "2022-11-21T11:04:29.593856Z",
     "shell.execute_reply": "2022-11-21T11:04:29.592609Z"
    },
    "papermill": {
     "duration": 0.413561,
     "end_time": "2022-11-21T11:04:29.596726",
     "exception": false,
     "start_time": "2022-11-21T11:04:29.183165",
     "status": "completed"
    },
    "tags": []
   },
   "outputs": [
    {
     "name": "stdout",
     "output_type": "stream",
     "text": [
      "Training RMSLE: 0.32328\n",
      "Validation RMSLE: 0.14174\n"
     ]
    },
    {
     "data": {
      "image/png": "[encoded data removed]",
      "text/plain": [
       "<Figure size 792x288 with 1 Axes>"
      ]
     },
     "metadata": {},
     "output_type": "display_data"
    }
   ],
   "source": [
    "X_train, X_valid, y_train, y_valid = train_test_split(X, y, test_size=15, shuffle=False)\n",
    "\n",
    "model = LinearRegression(fit_intercept=False).fit(X_train, y_train)\n",
    "y_fit = pd.Series(model.predict(X_train), index=X_train.index).clip(0.0)\n",
    "y_pred = pd.Series(model.predict(X_valid), index=X_valid.index).clip(0.0)\n",
    "\n",
    "rmsle_train = mean_squared_log_error(y_train, y_fit) ** 0.5\n",
    "rmsle_valid = mean_squared_log_error(y_valid, y_pred) ** 0.5\n",
    "print(f'Training RMSLE: {rmsle_train:.5f}')\n",
    "print(f'Validation RMSLE: {rmsle_valid:.5f}')\n",
    "\n",
    "ax = y.plot(**plot_params, alpha=0.5, title=\"Average Sales\", ylabel=\"items sold\")\n",
    "ax = y_fit.plot(ax=ax, label=\"Fitted\", color='C0')\n",
    "ax = y_pred.plot(ax=ax, label=\"Forecast\", color='C3')\n",
    "ax.legend();"
   ]
  },
  {
   "cell_type": "markdown",
   "id": "9cf9eab7",
   "metadata": {
    "papermill": {
     "duration": 0.018251,
     "end_time": "2022-11-21T11:04:29.633194",
     "exception": false,
     "start_time": "2022-11-21T11:04:29.614943",
     "status": "completed"
    },
    "tags": []
   },
   "source": [
    "We see that the cubic polynomial performs about the same on the training data, but generalises better to the validation set. We will retain the cubic trend for the remainder of this analyses."
   ]
  },
  {
   "cell_type": "markdown",
   "id": "5733aff4",
   "metadata": {
    "papermill": {
     "duration": 0.018564,
     "end_time": "2022-11-21T11:04:29.671730",
     "exception": false,
     "start_time": "2022-11-21T11:04:29.653166",
     "status": "completed"
    },
    "tags": []
   },
   "source": [
    "#### Average sales vs Per Item sales\n",
    "\n",
    "In practise, each family of items can have its own trends; and the resulting trend is expected to be their combination. We use this information to redefine our target sales in terms of the data **and family**, instead of averaging over the latter as previously. From there on, we follow the exact procedure with `DeterministicProcess` as we did for the `average_sales` in order to compute the resultant cubic trend of each family; and evaluate our performance on the validation set."
   ]
  },
  {
   "cell_type": "code",
   "execution_count": 14,
   "id": "e608e29f",
   "metadata": {
    "execution": {
     "iopub.execute_input": "2022-11-21T11:04:29.710320Z",
     "iopub.status.busy": "2022-11-21T11:04:29.709855Z",
     "iopub.status.idle": "2022-11-21T11:04:31.098382Z",
     "shell.execute_reply": "2022-11-21T11:04:31.097164Z"
    },
    "papermill": {
     "duration": 1.411071,
     "end_time": "2022-11-21T11:04:31.101310",
     "exception": false,
     "start_time": "2022-11-21T11:04:29.690239",
     "status": "completed"
    },
    "tags": []
   },
   "outputs": [
    {
     "data": {
      "text/html": [
       "<div>\n",
       "<style scoped>\n",
       "    .dataframe tbody tr th:only-of-type {\n",
       "        vertical-align: middle;\n",
       "    }\n",
       "\n",
       "    .dataframe tbody tr th {\n",
       "        vertical-align: top;\n",
       "    }\n",
       "\n",
       "    .dataframe thead tr th {\n",
       "        text-align: left;\n",
       "    }\n",
       "\n",
       "    .dataframe thead tr:last-of-type th {\n",
       "        text-align: right;\n",
       "    }\n",
       "</style>\n",
       "<table border=\"1\" class=\"dataframe\">\n",
       "  <thead>\n",
       "    <tr>\n",
       "      <th></th>\n",
       "      <th colspan=\"21\" halign=\"left\">sales</th>\n",
       "    </tr>\n",
       "    <tr>\n",
       "      <th>store_nbr</th>\n",
       "      <th colspan=\"10\" halign=\"left\">1</th>\n",
       "      <th>...</th>\n",
       "      <th colspan=\"10\" halign=\"left\">9</th>\n",
       "    </tr>\n",
       "    <tr>\n",
       "      <th>family</th>\n",
       "      <th>AUTOMOTIVE</th>\n",
       "      <th>BABY CARE</th>\n",
       "      <th>BEAUTY</th>\n",
       "      <th>BEVERAGES</th>\n",
       "      <th>BOOKS</th>\n",
       "      <th>BREAD/BAKERY</th>\n",
       "      <th>CELEBRATION</th>\n",
       "      <th>CLEANING</th>\n",
       "      <th>DAIRY</th>\n",
       "      <th>DELI</th>\n",
       "      <th>...</th>\n",
       "      <th>MAGAZINES</th>\n",
       "      <th>MEATS</th>\n",
       "      <th>PERSONAL CARE</th>\n",
       "      <th>PET SUPPLIES</th>\n",
       "      <th>PLAYERS AND ELECTRONICS</th>\n",
       "      <th>POULTRY</th>\n",
       "      <th>PREPARED FOODS</th>\n",
       "      <th>PRODUCE</th>\n",
       "      <th>SCHOOL AND OFFICE SUPPLIES</th>\n",
       "      <th>SEAFOOD</th>\n",
       "    </tr>\n",
       "    <tr>\n",
       "      <th>date</th>\n",
       "      <th></th>\n",
       "      <th></th>\n",
       "      <th></th>\n",
       "      <th></th>\n",
       "      <th></th>\n",
       "      <th></th>\n",
       "      <th></th>\n",
       "      <th></th>\n",
       "      <th></th>\n",
       "      <th></th>\n",
       "      <th></th>\n",
       "      <th></th>\n",
       "      <th></th>\n",
       "      <th></th>\n",
       "      <th></th>\n",
       "      <th></th>\n",
       "      <th></th>\n",
       "      <th></th>\n",
       "      <th></th>\n",
       "      <th></th>\n",
       "      <th></th>\n",
       "    </tr>\n",
       "  </thead>\n",
       "  <tbody>\n",
       "    <tr>\n",
       "      <th>2013-01-01</th>\n",
       "      <td>0.0</td>\n",
       "      <td>0.0</td>\n",
       "      <td>0.0</td>\n",
       "      <td>0.0</td>\n",
       "      <td>0.0</td>\n",
       "      <td>0.000000</td>\n",
       "      <td>0.0</td>\n",
       "      <td>0.0</td>\n",
       "      <td>0.0</td>\n",
       "      <td>0.000000</td>\n",
       "      <td>...</td>\n",
       "      <td>0.0</td>\n",
       "      <td>0.000000</td>\n",
       "      <td>0.0</td>\n",
       "      <td>0.0</td>\n",
       "      <td>0.0</td>\n",
       "      <td>0.000000</td>\n",
       "      <td>0.0</td>\n",
       "      <td>0.0</td>\n",
       "      <td>0.0</td>\n",
       "      <td>0.000000</td>\n",
       "    </tr>\n",
       "    <tr>\n",
       "      <th>2013-01-02</th>\n",
       "      <td>2.0</td>\n",
       "      <td>0.0</td>\n",
       "      <td>2.0</td>\n",
       "      <td>1091.0</td>\n",
       "      <td>0.0</td>\n",
       "      <td>470.652008</td>\n",
       "      <td>0.0</td>\n",
       "      <td>1060.0</td>\n",
       "      <td>579.0</td>\n",
       "      <td>164.069000</td>\n",
       "      <td>...</td>\n",
       "      <td>0.0</td>\n",
       "      <td>374.531006</td>\n",
       "      <td>482.0</td>\n",
       "      <td>0.0</td>\n",
       "      <td>0.0</td>\n",
       "      <td>651.291992</td>\n",
       "      <td>83.0</td>\n",
       "      <td>0.0</td>\n",
       "      <td>0.0</td>\n",
       "      <td>29.214001</td>\n",
       "    </tr>\n",
       "    <tr>\n",
       "      <th>2013-01-03</th>\n",
       "      <td>3.0</td>\n",
       "      <td>0.0</td>\n",
       "      <td>0.0</td>\n",
       "      <td>919.0</td>\n",
       "      <td>0.0</td>\n",
       "      <td>310.654999</td>\n",
       "      <td>0.0</td>\n",
       "      <td>836.0</td>\n",
       "      <td>453.0</td>\n",
       "      <td>151.582001</td>\n",
       "      <td>...</td>\n",
       "      <td>0.0</td>\n",
       "      <td>400.863007</td>\n",
       "      <td>372.0</td>\n",
       "      <td>0.0</td>\n",
       "      <td>0.0</td>\n",
       "      <td>509.496002</td>\n",
       "      <td>66.0</td>\n",
       "      <td>0.0</td>\n",
       "      <td>0.0</td>\n",
       "      <td>25.000000</td>\n",
       "    </tr>\n",
       "    <tr>\n",
       "      <th>2013-01-04</th>\n",
       "      <td>3.0</td>\n",
       "      <td>0.0</td>\n",
       "      <td>3.0</td>\n",
       "      <td>953.0</td>\n",
       "      <td>0.0</td>\n",
       "      <td>198.365997</td>\n",
       "      <td>0.0</td>\n",
       "      <td>827.0</td>\n",
       "      <td>460.0</td>\n",
       "      <td>131.410995</td>\n",
       "      <td>...</td>\n",
       "      <td>0.0</td>\n",
       "      <td>310.877991</td>\n",
       "      <td>324.0</td>\n",
       "      <td>0.0</td>\n",
       "      <td>0.0</td>\n",
       "      <td>332.671997</td>\n",
       "      <td>57.0</td>\n",
       "      <td>0.0</td>\n",
       "      <td>0.0</td>\n",
       "      <td>11.000000</td>\n",
       "    </tr>\n",
       "    <tr>\n",
       "      <th>2013-01-05</th>\n",
       "      <td>5.0</td>\n",
       "      <td>0.0</td>\n",
       "      <td>3.0</td>\n",
       "      <td>1160.0</td>\n",
       "      <td>0.0</td>\n",
       "      <td>301.057007</td>\n",
       "      <td>0.0</td>\n",
       "      <td>811.0</td>\n",
       "      <td>464.0</td>\n",
       "      <td>118.612999</td>\n",
       "      <td>...</td>\n",
       "      <td>0.0</td>\n",
       "      <td>447.684998</td>\n",
       "      <td>461.0</td>\n",
       "      <td>0.0</td>\n",
       "      <td>0.0</td>\n",
       "      <td>510.919006</td>\n",
       "      <td>84.0</td>\n",
       "      <td>0.0</td>\n",
       "      <td>0.0</td>\n",
       "      <td>28.361000</td>\n",
       "    </tr>\n",
       "  </tbody>\n",
       "</table>\n",
       "<p>5 rows × 1782 columns</p>\n",
       "</div>"
      ],
      "text/plain": [
       "                sales                                                \\\n",
       "store_nbr           1                                                 \n",
       "family     AUTOMOTIVE BABY CARE BEAUTY BEVERAGES BOOKS BREAD/BAKERY   \n",
       "date                                                                  \n",
       "2013-01-01        0.0       0.0    0.0       0.0   0.0     0.000000   \n",
       "2013-01-02        2.0       0.0    2.0    1091.0   0.0   470.652008   \n",
       "2013-01-03        3.0       0.0    0.0     919.0   0.0   310.654999   \n",
       "2013-01-04        3.0       0.0    3.0     953.0   0.0   198.365997   \n",
       "2013-01-05        5.0       0.0    3.0    1160.0   0.0   301.057007   \n",
       "\n",
       "                                                    ...                        \\\n",
       "store_nbr                                           ...         9               \n",
       "family     CELEBRATION CLEANING  DAIRY        DELI  ... MAGAZINES       MEATS   \n",
       "date                                                ...                         \n",
       "2013-01-01         0.0      0.0    0.0    0.000000  ...       0.0    0.000000   \n",
       "2013-01-02         0.0   1060.0  579.0  164.069000  ...       0.0  374.531006   \n",
       "2013-01-03         0.0    836.0  453.0  151.582001  ...       0.0  400.863007   \n",
       "2013-01-04         0.0    827.0  460.0  131.410995  ...       0.0  310.877991   \n",
       "2013-01-05         0.0    811.0  464.0  118.612999  ...       0.0  447.684998   \n",
       "\n",
       "                                                                           \\\n",
       "store_nbr                                                                   \n",
       "family     PERSONAL CARE PET SUPPLIES PLAYERS AND ELECTRONICS     POULTRY   \n",
       "date                                                                        \n",
       "2013-01-01           0.0          0.0                     0.0    0.000000   \n",
       "2013-01-02         482.0          0.0                     0.0  651.291992   \n",
       "2013-01-03         372.0          0.0                     0.0  509.496002   \n",
       "2013-01-04         324.0          0.0                     0.0  332.671997   \n",
       "2013-01-05         461.0          0.0                     0.0  510.919006   \n",
       "\n",
       "                                                                         \n",
       "store_nbr                                                                \n",
       "family     PREPARED FOODS PRODUCE SCHOOL AND OFFICE SUPPLIES    SEAFOOD  \n",
       "date                                                                     \n",
       "2013-01-01            0.0     0.0                        0.0   0.000000  \n",
       "2013-01-02           83.0     0.0                        0.0  29.214001  \n",
       "2013-01-03           66.0     0.0                        0.0  25.000000  \n",
       "2013-01-04           57.0     0.0                        0.0  11.000000  \n",
       "2013-01-05           84.0     0.0                        0.0  28.361000  \n",
       "\n",
       "[5 rows x 1782 columns]"
      ]
     },
     "execution_count": 14,
     "metadata": {},
     "output_type": "execute_result"
    }
   ],
   "source": [
    "y = store_sales.unstack(['store_nbr', 'family'])  # the target\n",
    "y.head()"
   ]
  },
  {
   "cell_type": "code",
   "execution_count": 15,
   "id": "8fd151f6",
   "metadata": {
    "execution": {
     "iopub.execute_input": "2022-11-21T11:04:31.140876Z",
     "iopub.status.busy": "2022-11-21T11:04:31.140467Z",
     "iopub.status.idle": "2022-11-21T11:04:31.162680Z",
     "shell.execute_reply": "2022-11-21T11:04:31.161387Z"
    },
    "papermill": {
     "duration": 0.045147,
     "end_time": "2022-11-21T11:04:31.165506",
     "exception": false,
     "start_time": "2022-11-21T11:04:31.120359",
     "status": "completed"
    },
    "tags": []
   },
   "outputs": [
    {
     "data": {
      "text/html": [
       "<div>\n",
       "<style scoped>\n",
       "    .dataframe tbody tr th:only-of-type {\n",
       "        vertical-align: middle;\n",
       "    }\n",
       "\n",
       "    .dataframe tbody tr th {\n",
       "        vertical-align: top;\n",
       "    }\n",
       "\n",
       "    .dataframe thead th {\n",
       "        text-align: right;\n",
       "    }\n",
       "</style>\n",
       "<table border=\"1\" class=\"dataframe\">\n",
       "  <thead>\n",
       "    <tr style=\"text-align: right;\">\n",
       "      <th></th>\n",
       "      <th>const</th>\n",
       "      <th>trend</th>\n",
       "      <th>trend_squared</th>\n",
       "      <th>trend_cubed</th>\n",
       "    </tr>\n",
       "    <tr>\n",
       "      <th>date</th>\n",
       "      <th></th>\n",
       "      <th></th>\n",
       "      <th></th>\n",
       "      <th></th>\n",
       "    </tr>\n",
       "  </thead>\n",
       "  <tbody>\n",
       "    <tr>\n",
       "      <th>2013-01-01</th>\n",
       "      <td>1.0</td>\n",
       "      <td>1.0</td>\n",
       "      <td>1.0</td>\n",
       "      <td>1.0</td>\n",
       "    </tr>\n",
       "    <tr>\n",
       "      <th>2013-01-02</th>\n",
       "      <td>1.0</td>\n",
       "      <td>2.0</td>\n",
       "      <td>4.0</td>\n",
       "      <td>8.0</td>\n",
       "    </tr>\n",
       "    <tr>\n",
       "      <th>2013-01-03</th>\n",
       "      <td>1.0</td>\n",
       "      <td>3.0</td>\n",
       "      <td>9.0</td>\n",
       "      <td>27.0</td>\n",
       "    </tr>\n",
       "    <tr>\n",
       "      <th>2013-01-04</th>\n",
       "      <td>1.0</td>\n",
       "      <td>4.0</td>\n",
       "      <td>16.0</td>\n",
       "      <td>64.0</td>\n",
       "    </tr>\n",
       "    <tr>\n",
       "      <th>2013-01-05</th>\n",
       "      <td>1.0</td>\n",
       "      <td>5.0</td>\n",
       "      <td>25.0</td>\n",
       "      <td>125.0</td>\n",
       "    </tr>\n",
       "  </tbody>\n",
       "</table>\n",
       "</div>"
      ],
      "text/plain": [
       "            const  trend  trend_squared  trend_cubed\n",
       "date                                                \n",
       "2013-01-01    1.0    1.0            1.0          1.0\n",
       "2013-01-02    1.0    2.0            4.0          8.0\n",
       "2013-01-03    1.0    3.0            9.0         27.0\n",
       "2013-01-04    1.0    4.0           16.0         64.0\n",
       "2013-01-05    1.0    5.0           25.0        125.0"
      ]
     },
     "execution_count": 15,
     "metadata": {},
     "output_type": "execute_result"
    }
   ],
   "source": [
    "# Instantiate `DeterministicProcess` with arguments\n",
    "# appropriate for a cubic trend model\n",
    "dp = DeterministicProcess(\n",
    "    index=y.index,  # dates from the training data\n",
    "    constant=True,       # dummy feature for the bias (y_intercept)\n",
    "    order=3,             # the time dummy (trend): cubic trend\n",
    "    drop=True,           # drop terms if necessary to avoid collinearity\n",
    ")\n",
    "\n",
    "# YOUR CODE HERE: Create the feature set for the dates given in y.index\n",
    "X = dp.in_sample()\n",
    "\n",
    "X.head()"
   ]
  },
  {
   "cell_type": "code",
   "execution_count": 16,
   "id": "a0b8b44e",
   "metadata": {
    "execution": {
     "iopub.execute_input": "2022-11-21T11:04:31.206274Z",
     "iopub.status.busy": "2022-11-21T11:04:31.205501Z",
     "iopub.status.idle": "2022-11-21T11:04:31.650055Z",
     "shell.execute_reply": "2022-11-21T11:04:31.648103Z"
    },
    "papermill": {
     "duration": 0.468605,
     "end_time": "2022-11-21T11:04:31.653324",
     "exception": false,
     "start_time": "2022-11-21T11:04:31.184719",
     "status": "completed"
    },
    "tags": []
   },
   "outputs": [
    {
     "name": "stdout",
     "output_type": "stream",
     "text": [
      "Training RMSLE: 1.08942\n",
      "Validation RMSLE: 0.59417\n"
     ]
    },
    {
     "data": {
      "text/html": [
       "<div>\n",
       "<style scoped>\n",
       "    .dataframe tbody tr th:only-of-type {\n",
       "        vertical-align: middle;\n",
       "    }\n",
       "\n",
       "    .dataframe tbody tr th {\n",
       "        vertical-align: top;\n",
       "    }\n",
       "\n",
       "    .dataframe thead tr th {\n",
       "        text-align: left;\n",
       "    }\n",
       "\n",
       "    .dataframe thead tr:last-of-type th {\n",
       "        text-align: right;\n",
       "    }\n",
       "</style>\n",
       "<table border=\"1\" class=\"dataframe\">\n",
       "  <thead>\n",
       "    <tr>\n",
       "      <th></th>\n",
       "      <th colspan=\"21\" halign=\"left\">sales</th>\n",
       "    </tr>\n",
       "    <tr>\n",
       "      <th>store_nbr</th>\n",
       "      <th colspan=\"10\" halign=\"left\">1</th>\n",
       "      <th>...</th>\n",
       "      <th colspan=\"10\" halign=\"left\">9</th>\n",
       "    </tr>\n",
       "    <tr>\n",
       "      <th>family</th>\n",
       "      <th>AUTOMOTIVE</th>\n",
       "      <th>BABY CARE</th>\n",
       "      <th>BEAUTY</th>\n",
       "      <th>BEVERAGES</th>\n",
       "      <th>BOOKS</th>\n",
       "      <th>BREAD/BAKERY</th>\n",
       "      <th>CELEBRATION</th>\n",
       "      <th>CLEANING</th>\n",
       "      <th>DAIRY</th>\n",
       "      <th>DELI</th>\n",
       "      <th>...</th>\n",
       "      <th>MAGAZINES</th>\n",
       "      <th>MEATS</th>\n",
       "      <th>PERSONAL CARE</th>\n",
       "      <th>PET SUPPLIES</th>\n",
       "      <th>PLAYERS AND ELECTRONICS</th>\n",
       "      <th>POULTRY</th>\n",
       "      <th>PREPARED FOODS</th>\n",
       "      <th>PRODUCE</th>\n",
       "      <th>SCHOOL AND OFFICE SUPPLIES</th>\n",
       "      <th>SEAFOOD</th>\n",
       "    </tr>\n",
       "    <tr>\n",
       "      <th>date</th>\n",
       "      <th></th>\n",
       "      <th></th>\n",
       "      <th></th>\n",
       "      <th></th>\n",
       "      <th></th>\n",
       "      <th></th>\n",
       "      <th></th>\n",
       "      <th></th>\n",
       "      <th></th>\n",
       "      <th></th>\n",
       "      <th></th>\n",
       "      <th></th>\n",
       "      <th></th>\n",
       "      <th></th>\n",
       "      <th></th>\n",
       "      <th></th>\n",
       "      <th></th>\n",
       "      <th></th>\n",
       "      <th></th>\n",
       "      <th></th>\n",
       "      <th></th>\n",
       "    </tr>\n",
       "  </thead>\n",
       "  <tbody>\n",
       "    <tr>\n",
       "      <th>2017-08-01</th>\n",
       "      <td>3.989250</td>\n",
       "      <td>0.0</td>\n",
       "      <td>3.531821</td>\n",
       "      <td>2196.628603</td>\n",
       "      <td>0.716912</td>\n",
       "      <td>343.640481</td>\n",
       "      <td>14.867376</td>\n",
       "      <td>652.084491</td>\n",
       "      <td>723.399901</td>\n",
       "      <td>125.146642</td>\n",
       "      <td>...</td>\n",
       "      <td>3.572239</td>\n",
       "      <td>400.943405</td>\n",
       "      <td>450.827401</td>\n",
       "      <td>8.332957</td>\n",
       "      <td>11.246038</td>\n",
       "      <td>469.952945</td>\n",
       "      <td>130.385421</td>\n",
       "      <td>1632.064882</td>\n",
       "      <td>2.883387</td>\n",
       "      <td>16.740531</td>\n",
       "    </tr>\n",
       "    <tr>\n",
       "      <th>2017-08-02</th>\n",
       "      <td>3.987273</td>\n",
       "      <td>0.0</td>\n",
       "      <td>3.534058</td>\n",
       "      <td>2196.550189</td>\n",
       "      <td>0.718472</td>\n",
       "      <td>343.374526</td>\n",
       "      <td>14.857873</td>\n",
       "      <td>651.978731</td>\n",
       "      <td>723.315812</td>\n",
       "      <td>125.079406</td>\n",
       "      <td>...</td>\n",
       "      <td>3.567129</td>\n",
       "      <td>400.976549</td>\n",
       "      <td>450.483202</td>\n",
       "      <td>8.338341</td>\n",
       "      <td>11.239880</td>\n",
       "      <td>470.156275</td>\n",
       "      <td>130.457848</td>\n",
       "      <td>1631.080944</td>\n",
       "      <td>2.857556</td>\n",
       "      <td>16.732058</td>\n",
       "    </tr>\n",
       "    <tr>\n",
       "      <th>2017-08-03</th>\n",
       "      <td>3.985285</td>\n",
       "      <td>0.0</td>\n",
       "      <td>3.536296</td>\n",
       "      <td>2196.469286</td>\n",
       "      <td>0.720033</td>\n",
       "      <td>343.107744</td>\n",
       "      <td>14.848331</td>\n",
       "      <td>651.872595</td>\n",
       "      <td>723.231415</td>\n",
       "      <td>125.011949</td>\n",
       "      <td>...</td>\n",
       "      <td>3.561989</td>\n",
       "      <td>401.009700</td>\n",
       "      <td>450.137935</td>\n",
       "      <td>8.343720</td>\n",
       "      <td>11.233688</td>\n",
       "      <td>470.360760</td>\n",
       "      <td>130.530316</td>\n",
       "      <td>1630.091322</td>\n",
       "      <td>2.831655</td>\n",
       "      <td>16.723550</td>\n",
       "    </tr>\n",
       "    <tr>\n",
       "      <th>2017-08-04</th>\n",
       "      <td>3.983288</td>\n",
       "      <td>0.0</td>\n",
       "      <td>3.538537</td>\n",
       "      <td>2196.385892</td>\n",
       "      <td>0.721597</td>\n",
       "      <td>342.840136</td>\n",
       "      <td>14.838750</td>\n",
       "      <td>651.766082</td>\n",
       "      <td>723.146710</td>\n",
       "      <td>124.944271</td>\n",
       "      <td>...</td>\n",
       "      <td>3.556819</td>\n",
       "      <td>401.042858</td>\n",
       "      <td>449.791600</td>\n",
       "      <td>8.349094</td>\n",
       "      <td>11.227461</td>\n",
       "      <td>470.566403</td>\n",
       "      <td>130.602826</td>\n",
       "      <td>1629.096009</td>\n",
       "      <td>2.805684</td>\n",
       "      <td>16.715008</td>\n",
       "    </tr>\n",
       "    <tr>\n",
       "      <th>2017-08-05</th>\n",
       "      <td>3.981282</td>\n",
       "      <td>0.0</td>\n",
       "      <td>3.540779</td>\n",
       "      <td>2196.300004</td>\n",
       "      <td>0.723162</td>\n",
       "      <td>342.571700</td>\n",
       "      <td>14.829128</td>\n",
       "      <td>651.659192</td>\n",
       "      <td>723.061697</td>\n",
       "      <td>124.876371</td>\n",
       "      <td>...</td>\n",
       "      <td>3.551620</td>\n",
       "      <td>401.076023</td>\n",
       "      <td>449.444195</td>\n",
       "      <td>8.354462</td>\n",
       "      <td>11.221199</td>\n",
       "      <td>470.773206</td>\n",
       "      <td>130.675376</td>\n",
       "      <td>1628.094999</td>\n",
       "      <td>2.779641</td>\n",
       "      <td>16.706430</td>\n",
       "    </tr>\n",
       "  </tbody>\n",
       "</table>\n",
       "<p>5 rows × 1782 columns</p>\n",
       "</div>"
      ],
      "text/plain": [
       "                sales                                                          \\\n",
       "store_nbr           1                                                           \n",
       "family     AUTOMOTIVE BABY CARE    BEAUTY    BEVERAGES     BOOKS BREAD/BAKERY   \n",
       "date                                                                            \n",
       "2017-08-01   3.989250       0.0  3.531821  2196.628603  0.716912   343.640481   \n",
       "2017-08-02   3.987273       0.0  3.534058  2196.550189  0.718472   343.374526   \n",
       "2017-08-03   3.985285       0.0  3.536296  2196.469286  0.720033   343.107744   \n",
       "2017-08-04   3.983288       0.0  3.538537  2196.385892  0.721597   342.840136   \n",
       "2017-08-05   3.981282       0.0  3.540779  2196.300004  0.723162   342.571700   \n",
       "\n",
       "                                                            ...            \\\n",
       "store_nbr                                                   ...         9   \n",
       "family     CELEBRATION    CLEANING       DAIRY        DELI  ... MAGAZINES   \n",
       "date                                                        ...             \n",
       "2017-08-01   14.867376  652.084491  723.399901  125.146642  ...  3.572239   \n",
       "2017-08-02   14.857873  651.978731  723.315812  125.079406  ...  3.567129   \n",
       "2017-08-03   14.848331  651.872595  723.231415  125.011949  ...  3.561989   \n",
       "2017-08-04   14.838750  651.766082  723.146710  124.944271  ...  3.556819   \n",
       "2017-08-05   14.829128  651.659192  723.061697  124.876371  ...  3.551620   \n",
       "\n",
       "                                                                           \\\n",
       "store_nbr                                                                   \n",
       "family           MEATS PERSONAL CARE PET SUPPLIES PLAYERS AND ELECTRONICS   \n",
       "date                                                                        \n",
       "2017-08-01  400.943405    450.827401     8.332957               11.246038   \n",
       "2017-08-02  400.976549    450.483202     8.338341               11.239880   \n",
       "2017-08-03  401.009700    450.137935     8.343720               11.233688   \n",
       "2017-08-04  401.042858    449.791600     8.349094               11.227461   \n",
       "2017-08-05  401.076023    449.444195     8.354462               11.221199   \n",
       "\n",
       "                                                                               \\\n",
       "store_nbr                                                                       \n",
       "family         POULTRY PREPARED FOODS      PRODUCE SCHOOL AND OFFICE SUPPLIES   \n",
       "date                                                                            \n",
       "2017-08-01  469.952945     130.385421  1632.064882                   2.883387   \n",
       "2017-08-02  470.156275     130.457848  1631.080944                   2.857556   \n",
       "2017-08-03  470.360760     130.530316  1630.091322                   2.831655   \n",
       "2017-08-04  470.566403     130.602826  1629.096009                   2.805684   \n",
       "2017-08-05  470.773206     130.675376  1628.094999                   2.779641   \n",
       "\n",
       "                       \n",
       "store_nbr              \n",
       "family        SEAFOOD  \n",
       "date                   \n",
       "2017-08-01  16.740531  \n",
       "2017-08-02  16.732058  \n",
       "2017-08-03  16.723550  \n",
       "2017-08-04  16.715008  \n",
       "2017-08-05  16.706430  \n",
       "\n",
       "[5 rows x 1782 columns]"
      ]
     },
     "execution_count": 16,
     "metadata": {},
     "output_type": "execute_result"
    }
   ],
   "source": [
    "X_train, X_valid, y_train, y_valid = train_test_split(X, y, test_size=15, shuffle=False)\n",
    "\n",
    "model = LinearRegression(fit_intercept=False).fit(X_train, y_train)\n",
    "\n",
    "y_fit = pd.DataFrame(model.predict(X_train), index=X_train.index, columns=y_train.columns).clip(0.0)\n",
    "y_pred = pd.DataFrame(model.predict(X_valid), index=X_valid.index, columns=y_valid.columns).clip(0.0)\n",
    "\n",
    "rmsle_train = mean_squared_log_error(y_train, y_fit) ** 0.5\n",
    "rmsle_valid = mean_squared_log_error(y_valid, y_pred) ** 0.5\n",
    "print(f'Training RMSLE: {rmsle_train:.5f}')\n",
    "print(f'Validation RMSLE: {rmsle_valid:.5f}')\n",
    "\n",
    "y_pred.head()"
   ]
  },
  {
   "cell_type": "markdown",
   "id": "6e9efc2b",
   "metadata": {
    "papermill": {
     "duration": 0.019488,
     "end_time": "2022-11-21T11:04:31.692371",
     "exception": false,
     "start_time": "2022-11-21T11:04:31.672883",
     "status": "completed"
    },
    "tags": []
   },
   "source": [
    "Our model seems to generalise well to our validation set. We will use this model to make our first submission and set a baseline for future revisions of our model."
   ]
  },
  {
   "cell_type": "markdown",
   "id": "e6a768af",
   "metadata": {
    "papermill": {
     "duration": 0.019798,
     "end_time": "2022-11-21T11:04:31.731338",
     "exception": false,
     "start_time": "2022-11-21T11:04:31.711540",
     "status": "completed"
    },
    "tags": []
   },
   "source": [
    "### First submission: based on trends"
   ]
  },
  {
   "cell_type": "code",
   "execution_count": 17,
   "id": "687a1a8f",
   "metadata": {
    "execution": {
     "iopub.execute_input": "2022-11-21T11:04:31.772335Z",
     "iopub.status.busy": "2022-11-21T11:04:31.771859Z",
     "iopub.status.idle": "2022-11-21T11:04:31.791381Z",
     "shell.execute_reply": "2022-11-21T11:04:31.790317Z"
    },
    "papermill": {
     "duration": 0.043096,
     "end_time": "2022-11-21T11:04:31.793909",
     "exception": false,
     "start_time": "2022-11-21T11:04:31.750813",
     "status": "completed"
    },
    "tags": []
   },
   "outputs": [
    {
     "data": {
      "text/html": [
       "<div>\n",
       "<style scoped>\n",
       "    .dataframe tbody tr th:only-of-type {\n",
       "        vertical-align: middle;\n",
       "    }\n",
       "\n",
       "    .dataframe tbody tr th {\n",
       "        vertical-align: top;\n",
       "    }\n",
       "\n",
       "    .dataframe thead th {\n",
       "        text-align: right;\n",
       "    }\n",
       "</style>\n",
       "<table border=\"1\" class=\"dataframe\">\n",
       "  <thead>\n",
       "    <tr style=\"text-align: right;\">\n",
       "      <th></th>\n",
       "      <th>const</th>\n",
       "      <th>trend</th>\n",
       "      <th>trend_squared</th>\n",
       "      <th>trend_cubed</th>\n",
       "    </tr>\n",
       "    <tr>\n",
       "      <th>date</th>\n",
       "      <th></th>\n",
       "      <th></th>\n",
       "      <th></th>\n",
       "      <th></th>\n",
       "    </tr>\n",
       "  </thead>\n",
       "  <tbody>\n",
       "    <tr>\n",
       "      <th>2017-08-16</th>\n",
       "      <td>1.0</td>\n",
       "      <td>1685.0</td>\n",
       "      <td>2839225.0</td>\n",
       "      <td>4.784094e+09</td>\n",
       "    </tr>\n",
       "    <tr>\n",
       "      <th>2017-08-17</th>\n",
       "      <td>1.0</td>\n",
       "      <td>1686.0</td>\n",
       "      <td>2842596.0</td>\n",
       "      <td>4.792617e+09</td>\n",
       "    </tr>\n",
       "    <tr>\n",
       "      <th>2017-08-18</th>\n",
       "      <td>1.0</td>\n",
       "      <td>1687.0</td>\n",
       "      <td>2845969.0</td>\n",
       "      <td>4.801150e+09</td>\n",
       "    </tr>\n",
       "    <tr>\n",
       "      <th>2017-08-19</th>\n",
       "      <td>1.0</td>\n",
       "      <td>1688.0</td>\n",
       "      <td>2849344.0</td>\n",
       "      <td>4.809693e+09</td>\n",
       "    </tr>\n",
       "    <tr>\n",
       "      <th>2017-08-20</th>\n",
       "      <td>1.0</td>\n",
       "      <td>1689.0</td>\n",
       "      <td>2852721.0</td>\n",
       "      <td>4.818246e+09</td>\n",
       "    </tr>\n",
       "  </tbody>\n",
       "</table>\n",
       "</div>"
      ],
      "text/plain": [
       "            const   trend  trend_squared   trend_cubed\n",
       "date                                                  \n",
       "2017-08-16    1.0  1685.0      2839225.0  4.784094e+09\n",
       "2017-08-17    1.0  1686.0      2842596.0  4.792617e+09\n",
       "2017-08-18    1.0  1687.0      2845969.0  4.801150e+09\n",
       "2017-08-19    1.0  1688.0      2849344.0  4.809693e+09\n",
       "2017-08-20    1.0  1689.0      2852721.0  4.818246e+09"
      ]
     },
     "execution_count": 17,
     "metadata": {},
     "output_type": "execute_result"
    }
   ],
   "source": [
    "# Create features for test set\n",
    "X_test = dp.out_of_sample(steps=16)\n",
    "X_test.index.name = 'date'\n",
    "\n",
    "X_test.head()"
   ]
  },
  {
   "cell_type": "code",
   "execution_count": 18,
   "id": "d275c79b",
   "metadata": {
    "execution": {
     "iopub.execute_input": "2022-11-21T11:04:31.838410Z",
     "iopub.status.busy": "2022-11-21T11:04:31.836799Z",
     "iopub.status.idle": "2022-11-21T11:04:32.268260Z",
     "shell.execute_reply": "2022-11-21T11:04:32.266955Z"
    },
    "papermill": {
     "duration": 0.456827,
     "end_time": "2022-11-21T11:04:32.271109",
     "exception": false,
     "start_time": "2022-11-21T11:04:31.814282",
     "status": "completed"
    },
    "tags": []
   },
   "outputs": [
    {
     "data": {
      "text/html": [
       "<div>\n",
       "<style scoped>\n",
       "    .dataframe tbody tr th:only-of-type {\n",
       "        vertical-align: middle;\n",
       "    }\n",
       "\n",
       "    .dataframe tbody tr th {\n",
       "        vertical-align: top;\n",
       "    }\n",
       "\n",
       "    .dataframe thead th {\n",
       "        text-align: right;\n",
       "    }\n",
       "</style>\n",
       "<table border=\"1\" class=\"dataframe\">\n",
       "  <thead>\n",
       "    <tr style=\"text-align: right;\">\n",
       "      <th></th>\n",
       "      <th></th>\n",
       "      <th></th>\n",
       "      <th>id</th>\n",
       "      <th>sales</th>\n",
       "    </tr>\n",
       "    <tr>\n",
       "      <th>date</th>\n",
       "      <th>store_nbr</th>\n",
       "      <th>family</th>\n",
       "      <th></th>\n",
       "      <th></th>\n",
       "    </tr>\n",
       "  </thead>\n",
       "  <tbody>\n",
       "    <tr>\n",
       "      <th rowspan=\"5\" valign=\"top\">2017-08-16</th>\n",
       "      <th rowspan=\"5\" valign=\"top\">1</th>\n",
       "      <th>AUTOMOTIVE</th>\n",
       "      <td>3000888</td>\n",
       "      <td>3.958569</td>\n",
       "    </tr>\n",
       "    <tr>\n",
       "      <th>BABY CARE</th>\n",
       "      <td>3000889</td>\n",
       "      <td>0.000000</td>\n",
       "    </tr>\n",
       "    <tr>\n",
       "      <th>BEAUTY</th>\n",
       "      <td>3000890</td>\n",
       "      <td>3.565596</td>\n",
       "    </tr>\n",
       "    <tr>\n",
       "      <th>BEVERAGES</th>\n",
       "      <td>3000891</td>\n",
       "      <td>2195.189935</td>\n",
       "    </tr>\n",
       "    <tr>\n",
       "      <th>BOOKS</th>\n",
       "      <td>3000892</td>\n",
       "      <td>0.740510</td>\n",
       "    </tr>\n",
       "  </tbody>\n",
       "</table>\n",
       "</div>"
      ],
      "text/plain": [
       "                                      id        sales\n",
       "date       store_nbr family                          \n",
       "2017-08-16 1         AUTOMOTIVE  3000888     3.958569\n",
       "                     BABY CARE   3000889     0.000000\n",
       "                     BEAUTY      3000890     3.565596\n",
       "                     BEVERAGES   3000891  2195.189935\n",
       "                     BOOKS       3000892     0.740510"
      ]
     },
     "execution_count": 18,
     "metadata": {},
     "output_type": "execute_result"
    }
   ],
   "source": [
    "y_submit = pd.DataFrame(model.predict(X_test), index=X_test.index, columns=y.columns)\n",
    "y_submit = y_submit.stack(['store_nbr', 'family'])\n",
    "y_submit = y_submit.join(df_test.id).reindex(columns=['id', 'sales'])\n",
    "y_submit.to_csv('submission_trend.csv', index=False)\n",
    "\n",
    "y_submit.head()"
   ]
  },
  {
   "cell_type": "markdown",
   "id": "d301255c",
   "metadata": {
    "papermill": {
     "duration": 0.019301,
     "end_time": "2022-11-21T11:04:32.310643",
     "exception": false,
     "start_time": "2022-11-21T11:04:32.291342",
     "status": "completed"
    },
    "tags": []
   },
   "source": [
    "### [Public Score: 0.63608](https://www.kaggle.com/code/abhirupghosh184098/store-sales-time-series-forecasting?scriptVersionId=111635179)\n",
    "\n",
    "With the above submission, which only uses trends to make a prediction, we were able to get a RMSLE score of 0.63608. We will slowly improve on the model in iterations."
   ]
  },
  {
   "cell_type": "markdown",
   "id": "b0711458",
   "metadata": {
    "papermill": {
     "duration": 0.019579,
     "end_time": "2022-11-21T11:04:32.350347",
     "exception": false,
     "start_time": "2022-11-21T11:04:32.330768",
     "status": "completed"
    },
    "tags": []
   },
   "source": [
    "#### Only 2017 data\n",
    "\n",
    "One of the reasons we might be doing so much better in the validation set than the training set using just information about trends is that the training set has > 50 months of data points, while the validation and test sets are just a fortnight. It might be worth checking out if trends in the more recent past might be better at predicting the trends of the test period, so as to not be biased by trends which are > 4 years old."
   ]
  },
  {
   "cell_type": "code",
   "execution_count": 19,
   "id": "4313a9bc",
   "metadata": {
    "execution": {
     "iopub.execute_input": "2022-11-21T11:04:32.394313Z",
     "iopub.status.busy": "2022-11-21T11:04:32.393760Z",
     "iopub.status.idle": "2022-11-21T11:04:33.828519Z",
     "shell.execute_reply": "2022-11-21T11:04:33.826910Z"
    },
    "papermill": {
     "duration": 1.459824,
     "end_time": "2022-11-21T11:04:33.831008",
     "exception": false,
     "start_time": "2022-11-21T11:04:32.371184",
     "status": "completed"
    },
    "tags": []
   },
   "outputs": [
    {
     "data": {
      "text/html": [
       "<div>\n",
       "<style scoped>\n",
       "    .dataframe tbody tr th:only-of-type {\n",
       "        vertical-align: middle;\n",
       "    }\n",
       "\n",
       "    .dataframe tbody tr th {\n",
       "        vertical-align: top;\n",
       "    }\n",
       "\n",
       "    .dataframe thead tr th {\n",
       "        text-align: left;\n",
       "    }\n",
       "\n",
       "    .dataframe thead tr:last-of-type th {\n",
       "        text-align: right;\n",
       "    }\n",
       "</style>\n",
       "<table border=\"1\" class=\"dataframe\">\n",
       "  <thead>\n",
       "    <tr>\n",
       "      <th></th>\n",
       "      <th colspan=\"21\" halign=\"left\">sales</th>\n",
       "    </tr>\n",
       "    <tr>\n",
       "      <th>store_nbr</th>\n",
       "      <th colspan=\"10\" halign=\"left\">1</th>\n",
       "      <th>...</th>\n",
       "      <th colspan=\"10\" halign=\"left\">9</th>\n",
       "    </tr>\n",
       "    <tr>\n",
       "      <th>family</th>\n",
       "      <th>AUTOMOTIVE</th>\n",
       "      <th>BABY CARE</th>\n",
       "      <th>BEAUTY</th>\n",
       "      <th>BEVERAGES</th>\n",
       "      <th>BOOKS</th>\n",
       "      <th>BREAD/BAKERY</th>\n",
       "      <th>CELEBRATION</th>\n",
       "      <th>CLEANING</th>\n",
       "      <th>DAIRY</th>\n",
       "      <th>DELI</th>\n",
       "      <th>...</th>\n",
       "      <th>MAGAZINES</th>\n",
       "      <th>MEATS</th>\n",
       "      <th>PERSONAL CARE</th>\n",
       "      <th>PET SUPPLIES</th>\n",
       "      <th>PLAYERS AND ELECTRONICS</th>\n",
       "      <th>POULTRY</th>\n",
       "      <th>PREPARED FOODS</th>\n",
       "      <th>PRODUCE</th>\n",
       "      <th>SCHOOL AND OFFICE SUPPLIES</th>\n",
       "      <th>SEAFOOD</th>\n",
       "    </tr>\n",
       "    <tr>\n",
       "      <th>date</th>\n",
       "      <th></th>\n",
       "      <th></th>\n",
       "      <th></th>\n",
       "      <th></th>\n",
       "      <th></th>\n",
       "      <th></th>\n",
       "      <th></th>\n",
       "      <th></th>\n",
       "      <th></th>\n",
       "      <th></th>\n",
       "      <th></th>\n",
       "      <th></th>\n",
       "      <th></th>\n",
       "      <th></th>\n",
       "      <th></th>\n",
       "      <th></th>\n",
       "      <th></th>\n",
       "      <th></th>\n",
       "      <th></th>\n",
       "      <th></th>\n",
       "      <th></th>\n",
       "    </tr>\n",
       "  </thead>\n",
       "  <tbody>\n",
       "    <tr>\n",
       "      <th>2017-01-01</th>\n",
       "      <td>0.0</td>\n",
       "      <td>0.0</td>\n",
       "      <td>0.0</td>\n",
       "      <td>0.0</td>\n",
       "      <td>0.0</td>\n",
       "      <td>0.000000</td>\n",
       "      <td>0.0</td>\n",
       "      <td>0.0</td>\n",
       "      <td>0.0</td>\n",
       "      <td>0.000000</td>\n",
       "      <td>...</td>\n",
       "      <td>0.0</td>\n",
       "      <td>0.000000</td>\n",
       "      <td>0.0</td>\n",
       "      <td>0.0</td>\n",
       "      <td>0.0</td>\n",
       "      <td>0.000000</td>\n",
       "      <td>0.000000</td>\n",
       "      <td>0.000000</td>\n",
       "      <td>0.0</td>\n",
       "      <td>0.0</td>\n",
       "    </tr>\n",
       "    <tr>\n",
       "      <th>2017-01-02</th>\n",
       "      <td>5.0</td>\n",
       "      <td>0.0</td>\n",
       "      <td>0.0</td>\n",
       "      <td>1434.0</td>\n",
       "      <td>0.0</td>\n",
       "      <td>166.819000</td>\n",
       "      <td>0.0</td>\n",
       "      <td>332.0</td>\n",
       "      <td>376.0</td>\n",
       "      <td>44.980000</td>\n",
       "      <td>...</td>\n",
       "      <td>5.0</td>\n",
       "      <td>659.570007</td>\n",
       "      <td>1243.0</td>\n",
       "      <td>11.0</td>\n",
       "      <td>41.0</td>\n",
       "      <td>843.596008</td>\n",
       "      <td>115.188995</td>\n",
       "      <td>3136.895996</td>\n",
       "      <td>1.0</td>\n",
       "      <td>23.0</td>\n",
       "    </tr>\n",
       "    <tr>\n",
       "      <th>2017-01-03</th>\n",
       "      <td>4.0</td>\n",
       "      <td>0.0</td>\n",
       "      <td>4.0</td>\n",
       "      <td>3081.0</td>\n",
       "      <td>2.0</td>\n",
       "      <td>519.348022</td>\n",
       "      <td>15.0</td>\n",
       "      <td>952.0</td>\n",
       "      <td>1045.0</td>\n",
       "      <td>209.300003</td>\n",
       "      <td>...</td>\n",
       "      <td>2.0</td>\n",
       "      <td>547.364014</td>\n",
       "      <td>876.0</td>\n",
       "      <td>6.0</td>\n",
       "      <td>15.0</td>\n",
       "      <td>714.659973</td>\n",
       "      <td>133.039001</td>\n",
       "      <td>3229.558105</td>\n",
       "      <td>1.0</td>\n",
       "      <td>14.0</td>\n",
       "    </tr>\n",
       "    <tr>\n",
       "      <th>2017-01-04</th>\n",
       "      <td>1.0</td>\n",
       "      <td>0.0</td>\n",
       "      <td>4.0</td>\n",
       "      <td>3039.0</td>\n",
       "      <td>2.0</td>\n",
       "      <td>543.250977</td>\n",
       "      <td>17.0</td>\n",
       "      <td>1055.0</td>\n",
       "      <td>1029.0</td>\n",
       "      <td>135.944000</td>\n",
       "      <td>...</td>\n",
       "      <td>3.0</td>\n",
       "      <td>395.287994</td>\n",
       "      <td>677.0</td>\n",
       "      <td>6.0</td>\n",
       "      <td>13.0</td>\n",
       "      <td>536.830017</td>\n",
       "      <td>75.201004</td>\n",
       "      <td>1491.416992</td>\n",
       "      <td>7.0</td>\n",
       "      <td>0.0</td>\n",
       "    </tr>\n",
       "    <tr>\n",
       "      <th>2017-01-05</th>\n",
       "      <td>2.0</td>\n",
       "      <td>0.0</td>\n",
       "      <td>3.0</td>\n",
       "      <td>2617.0</td>\n",
       "      <td>0.0</td>\n",
       "      <td>533.479980</td>\n",
       "      <td>40.0</td>\n",
       "      <td>918.0</td>\n",
       "      <td>853.0</td>\n",
       "      <td>137.005997</td>\n",
       "      <td>...</td>\n",
       "      <td>2.0</td>\n",
       "      <td>470.768005</td>\n",
       "      <td>604.0</td>\n",
       "      <td>7.0</td>\n",
       "      <td>10.0</td>\n",
       "      <td>414.100006</td>\n",
       "      <td>113.698997</td>\n",
       "      <td>1566.821045</td>\n",
       "      <td>1.0</td>\n",
       "      <td>17.0</td>\n",
       "    </tr>\n",
       "  </tbody>\n",
       "</table>\n",
       "<p>5 rows × 1782 columns</p>\n",
       "</div>"
      ],
      "text/plain": [
       "                sales                                                \\\n",
       "store_nbr           1                                                 \n",
       "family     AUTOMOTIVE BABY CARE BEAUTY BEVERAGES BOOKS BREAD/BAKERY   \n",
       "date                                                                  \n",
       "2017-01-01        0.0       0.0    0.0       0.0   0.0     0.000000   \n",
       "2017-01-02        5.0       0.0    0.0    1434.0   0.0   166.819000   \n",
       "2017-01-03        4.0       0.0    4.0    3081.0   2.0   519.348022   \n",
       "2017-01-04        1.0       0.0    4.0    3039.0   2.0   543.250977   \n",
       "2017-01-05        2.0       0.0    3.0    2617.0   0.0   533.479980   \n",
       "\n",
       "                                                     ...            \\\n",
       "store_nbr                                            ...         9   \n",
       "family     CELEBRATION CLEANING   DAIRY        DELI  ... MAGAZINES   \n",
       "date                                                 ...             \n",
       "2017-01-01         0.0      0.0     0.0    0.000000  ...       0.0   \n",
       "2017-01-02         0.0    332.0   376.0   44.980000  ...       5.0   \n",
       "2017-01-03        15.0    952.0  1045.0  209.300003  ...       2.0   \n",
       "2017-01-04        17.0   1055.0  1029.0  135.944000  ...       3.0   \n",
       "2017-01-05        40.0    918.0   853.0  137.005997  ...       2.0   \n",
       "\n",
       "                                                                           \\\n",
       "store_nbr                                                                   \n",
       "family           MEATS PERSONAL CARE PET SUPPLIES PLAYERS AND ELECTRONICS   \n",
       "date                                                                        \n",
       "2017-01-01    0.000000           0.0          0.0                     0.0   \n",
       "2017-01-02  659.570007        1243.0         11.0                    41.0   \n",
       "2017-01-03  547.364014         876.0          6.0                    15.0   \n",
       "2017-01-04  395.287994         677.0          6.0                    13.0   \n",
       "2017-01-05  470.768005         604.0          7.0                    10.0   \n",
       "\n",
       "                                                                               \\\n",
       "store_nbr                                                                       \n",
       "family         POULTRY PREPARED FOODS      PRODUCE SCHOOL AND OFFICE SUPPLIES   \n",
       "date                                                                            \n",
       "2017-01-01    0.000000       0.000000     0.000000                        0.0   \n",
       "2017-01-02  843.596008     115.188995  3136.895996                        1.0   \n",
       "2017-01-03  714.659973     133.039001  3229.558105                        1.0   \n",
       "2017-01-04  536.830017      75.201004  1491.416992                        7.0   \n",
       "2017-01-05  414.100006     113.698997  1566.821045                        1.0   \n",
       "\n",
       "                    \n",
       "store_nbr           \n",
       "family     SEAFOOD  \n",
       "date                \n",
       "2017-01-01     0.0  \n",
       "2017-01-02    23.0  \n",
       "2017-01-03    14.0  \n",
       "2017-01-04     0.0  \n",
       "2017-01-05    17.0  \n",
       "\n",
       "[5 rows x 1782 columns]"
      ]
     },
     "execution_count": 19,
     "metadata": {},
     "output_type": "execute_result"
    }
   ],
   "source": [
    "# target sales only in 2017\n",
    "\n",
    "y = store_sales.unstack(['store_nbr', 'family']).loc[\"2017\"]\n",
    "y.head()"
   ]
  },
  {
   "cell_type": "code",
   "execution_count": 20,
   "id": "195007ed",
   "metadata": {
    "execution": {
     "iopub.execute_input": "2022-11-21T11:04:33.875470Z",
     "iopub.status.busy": "2022-11-21T11:04:33.874199Z",
     "iopub.status.idle": "2022-11-21T11:04:33.894264Z",
     "shell.execute_reply": "2022-11-21T11:04:33.893018Z"
    },
    "papermill": {
     "duration": 0.044452,
     "end_time": "2022-11-21T11:04:33.896713",
     "exception": false,
     "start_time": "2022-11-21T11:04:33.852261",
     "status": "completed"
    },
    "tags": []
   },
   "outputs": [
    {
     "data": {
      "text/html": [
       "<div>\n",
       "<style scoped>\n",
       "    .dataframe tbody tr th:only-of-type {\n",
       "        vertical-align: middle;\n",
       "    }\n",
       "\n",
       "    .dataframe tbody tr th {\n",
       "        vertical-align: top;\n",
       "    }\n",
       "\n",
       "    .dataframe thead th {\n",
       "        text-align: right;\n",
       "    }\n",
       "</style>\n",
       "<table border=\"1\" class=\"dataframe\">\n",
       "  <thead>\n",
       "    <tr style=\"text-align: right;\">\n",
       "      <th></th>\n",
       "      <th>const</th>\n",
       "      <th>trend</th>\n",
       "      <th>trend_squared</th>\n",
       "      <th>trend_cubed</th>\n",
       "    </tr>\n",
       "    <tr>\n",
       "      <th>date</th>\n",
       "      <th></th>\n",
       "      <th></th>\n",
       "      <th></th>\n",
       "      <th></th>\n",
       "    </tr>\n",
       "  </thead>\n",
       "  <tbody>\n",
       "    <tr>\n",
       "      <th>2017-01-01</th>\n",
       "      <td>1.0</td>\n",
       "      <td>1.0</td>\n",
       "      <td>1.0</td>\n",
       "      <td>1.0</td>\n",
       "    </tr>\n",
       "    <tr>\n",
       "      <th>2017-01-02</th>\n",
       "      <td>1.0</td>\n",
       "      <td>2.0</td>\n",
       "      <td>4.0</td>\n",
       "      <td>8.0</td>\n",
       "    </tr>\n",
       "    <tr>\n",
       "      <th>2017-01-03</th>\n",
       "      <td>1.0</td>\n",
       "      <td>3.0</td>\n",
       "      <td>9.0</td>\n",
       "      <td>27.0</td>\n",
       "    </tr>\n",
       "    <tr>\n",
       "      <th>2017-01-04</th>\n",
       "      <td>1.0</td>\n",
       "      <td>4.0</td>\n",
       "      <td>16.0</td>\n",
       "      <td>64.0</td>\n",
       "    </tr>\n",
       "    <tr>\n",
       "      <th>2017-01-05</th>\n",
       "      <td>1.0</td>\n",
       "      <td>5.0</td>\n",
       "      <td>25.0</td>\n",
       "      <td>125.0</td>\n",
       "    </tr>\n",
       "  </tbody>\n",
       "</table>\n",
       "</div>"
      ],
      "text/plain": [
       "            const  trend  trend_squared  trend_cubed\n",
       "date                                                \n",
       "2017-01-01    1.0    1.0            1.0          1.0\n",
       "2017-01-02    1.0    2.0            4.0          8.0\n",
       "2017-01-03    1.0    3.0            9.0         27.0\n",
       "2017-01-04    1.0    4.0           16.0         64.0\n",
       "2017-01-05    1.0    5.0           25.0        125.0"
      ]
     },
     "execution_count": 20,
     "metadata": {},
     "output_type": "execute_result"
    }
   ],
   "source": [
    "# Instantiate `DeterministicProcess` with arguments\n",
    "# appropriate for a cubic trend model\n",
    "dp = DeterministicProcess(\n",
    "    index=y.index,  # dates from the training data\n",
    "    constant=True,       # dummy feature for the bias (y_intercept)\n",
    "    order=3,             # the time dummy (trend): cubic trend\n",
    "    drop=True,           # drop terms if necessary to avoid collinearity\n",
    ")\n",
    "\n",
    "# YOUR CODE HERE: Create the feature set for the dates given in y.index\n",
    "X = dp.in_sample()\n",
    "\n",
    "X.head()"
   ]
  },
  {
   "cell_type": "code",
   "execution_count": 21,
   "id": "f1596f36",
   "metadata": {
    "execution": {
     "iopub.execute_input": "2022-11-21T11:04:33.941826Z",
     "iopub.status.busy": "2022-11-21T11:04:33.941115Z",
     "iopub.status.idle": "2022-11-21T11:04:34.200489Z",
     "shell.execute_reply": "2022-11-21T11:04:34.198569Z"
    },
    "papermill": {
     "duration": 0.285391,
     "end_time": "2022-11-21T11:04:34.203989",
     "exception": false,
     "start_time": "2022-11-21T11:04:33.918598",
     "status": "completed"
    },
    "tags": []
   },
   "outputs": [
    {
     "name": "stdout",
     "output_type": "stream",
     "text": [
      "Training RMSLE: 0.62841\n",
      "Validation RMSLE: 0.56709\n"
     ]
    },
    {
     "data": {
      "text/html": [
       "<div>\n",
       "<style scoped>\n",
       "    .dataframe tbody tr th:only-of-type {\n",
       "        vertical-align: middle;\n",
       "    }\n",
       "\n",
       "    .dataframe tbody tr th {\n",
       "        vertical-align: top;\n",
       "    }\n",
       "\n",
       "    .dataframe thead tr th {\n",
       "        text-align: left;\n",
       "    }\n",
       "\n",
       "    .dataframe thead tr:last-of-type th {\n",
       "        text-align: right;\n",
       "    }\n",
       "</style>\n",
       "<table border=\"1\" class=\"dataframe\">\n",
       "  <thead>\n",
       "    <tr>\n",
       "      <th></th>\n",
       "      <th colspan=\"21\" halign=\"left\">sales</th>\n",
       "    </tr>\n",
       "    <tr>\n",
       "      <th>store_nbr</th>\n",
       "      <th colspan=\"10\" halign=\"left\">1</th>\n",
       "      <th>...</th>\n",
       "      <th colspan=\"10\" halign=\"left\">9</th>\n",
       "    </tr>\n",
       "    <tr>\n",
       "      <th>family</th>\n",
       "      <th>AUTOMOTIVE</th>\n",
       "      <th>BABY CARE</th>\n",
       "      <th>BEAUTY</th>\n",
       "      <th>BEVERAGES</th>\n",
       "      <th>BOOKS</th>\n",
       "      <th>BREAD/BAKERY</th>\n",
       "      <th>CELEBRATION</th>\n",
       "      <th>CLEANING</th>\n",
       "      <th>DAIRY</th>\n",
       "      <th>DELI</th>\n",
       "      <th>...</th>\n",
       "      <th>MAGAZINES</th>\n",
       "      <th>MEATS</th>\n",
       "      <th>PERSONAL CARE</th>\n",
       "      <th>PET SUPPLIES</th>\n",
       "      <th>PLAYERS AND ELECTRONICS</th>\n",
       "      <th>POULTRY</th>\n",
       "      <th>PREPARED FOODS</th>\n",
       "      <th>PRODUCE</th>\n",
       "      <th>SCHOOL AND OFFICE SUPPLIES</th>\n",
       "      <th>SEAFOOD</th>\n",
       "    </tr>\n",
       "    <tr>\n",
       "      <th>date</th>\n",
       "      <th></th>\n",
       "      <th></th>\n",
       "      <th></th>\n",
       "      <th></th>\n",
       "      <th></th>\n",
       "      <th></th>\n",
       "      <th></th>\n",
       "      <th></th>\n",
       "      <th></th>\n",
       "      <th></th>\n",
       "      <th></th>\n",
       "      <th></th>\n",
       "      <th></th>\n",
       "      <th></th>\n",
       "      <th></th>\n",
       "      <th></th>\n",
       "      <th></th>\n",
       "      <th></th>\n",
       "      <th></th>\n",
       "      <th></th>\n",
       "      <th></th>\n",
       "    </tr>\n",
       "  </thead>\n",
       "  <tbody>\n",
       "    <tr>\n",
       "      <th>2017-08-01</th>\n",
       "      <td>5.349450</td>\n",
       "      <td>0.0</td>\n",
       "      <td>3.344444</td>\n",
       "      <td>2124.133887</td>\n",
       "      <td>0.092436</td>\n",
       "      <td>338.766558</td>\n",
       "      <td>14.902556</td>\n",
       "      <td>645.655768</td>\n",
       "      <td>672.191072</td>\n",
       "      <td>137.821375</td>\n",
       "      <td>...</td>\n",
       "      <td>2.974365</td>\n",
       "      <td>380.757536</td>\n",
       "      <td>393.289108</td>\n",
       "      <td>8.116384</td>\n",
       "      <td>6.445317</td>\n",
       "      <td>413.811796</td>\n",
       "      <td>102.347958</td>\n",
       "      <td>1585.752995</td>\n",
       "      <td>10.281379</td>\n",
       "      <td>14.092199</td>\n",
       "    </tr>\n",
       "    <tr>\n",
       "      <th>2017-08-02</th>\n",
       "      <td>5.393372</td>\n",
       "      <td>0.0</td>\n",
       "      <td>3.340316</td>\n",
       "      <td>2119.957001</td>\n",
       "      <td>0.081210</td>\n",
       "      <td>338.736613</td>\n",
       "      <td>14.858090</td>\n",
       "      <td>644.919083</td>\n",
       "      <td>671.439019</td>\n",
       "      <td>138.216361</td>\n",
       "      <td>...</td>\n",
       "      <td>2.964886</td>\n",
       "      <td>380.534249</td>\n",
       "      <td>390.608215</td>\n",
       "      <td>8.109137</td>\n",
       "      <td>6.344014</td>\n",
       "      <td>412.205319</td>\n",
       "      <td>101.846460</td>\n",
       "      <td>1582.088909</td>\n",
       "      <td>10.531045</td>\n",
       "      <td>13.898313</td>\n",
       "    </tr>\n",
       "    <tr>\n",
       "      <th>2017-08-03</th>\n",
       "      <td>5.438187</td>\n",
       "      <td>0.0</td>\n",
       "      <td>3.335902</td>\n",
       "      <td>2115.658091</td>\n",
       "      <td>0.069748</td>\n",
       "      <td>338.716315</td>\n",
       "      <td>14.812717</td>\n",
       "      <td>644.165706</td>\n",
       "      <td>670.690078</td>\n",
       "      <td>138.623278</td>\n",
       "      <td>...</td>\n",
       "      <td>2.955491</td>\n",
       "      <td>380.309941</td>\n",
       "      <td>387.881987</td>\n",
       "      <td>8.101568</td>\n",
       "      <td>6.242382</td>\n",
       "      <td>410.559099</td>\n",
       "      <td>101.340696</td>\n",
       "      <td>1578.336275</td>\n",
       "      <td>10.785652</td>\n",
       "      <td>13.701075</td>\n",
       "    </tr>\n",
       "    <tr>\n",
       "      <th>2017-08-04</th>\n",
       "      <td>5.483904</td>\n",
       "      <td>0.0</td>\n",
       "      <td>3.331199</td>\n",
       "      <td>2111.235822</td>\n",
       "      <td>0.058048</td>\n",
       "      <td>338.705777</td>\n",
       "      <td>14.766429</td>\n",
       "      <td>643.395464</td>\n",
       "      <td>669.944353</td>\n",
       "      <td>139.042253</td>\n",
       "      <td>...</td>\n",
       "      <td>2.946182</td>\n",
       "      <td>380.084599</td>\n",
       "      <td>385.110039</td>\n",
       "      <td>8.093675</td>\n",
       "      <td>6.140427</td>\n",
       "      <td>408.872733</td>\n",
       "      <td>100.830664</td>\n",
       "      <td>1574.494123</td>\n",
       "      <td>11.045242</td>\n",
       "      <td>13.500466</td>\n",
       "    </tr>\n",
       "    <tr>\n",
       "      <th>2017-08-05</th>\n",
       "      <td>5.530532</td>\n",
       "      <td>0.0</td>\n",
       "      <td>3.326201</td>\n",
       "      <td>2106.688860</td>\n",
       "      <td>0.046107</td>\n",
       "      <td>338.705109</td>\n",
       "      <td>14.719221</td>\n",
       "      <td>642.608187</td>\n",
       "      <td>669.201944</td>\n",
       "      <td>139.473411</td>\n",
       "      <td>...</td>\n",
       "      <td>2.936964</td>\n",
       "      <td>379.858211</td>\n",
       "      <td>382.291983</td>\n",
       "      <td>8.085454</td>\n",
       "      <td>6.038155</td>\n",
       "      <td>407.145821</td>\n",
       "      <td>100.316361</td>\n",
       "      <td>1570.561484</td>\n",
       "      <td>11.309859</td>\n",
       "      <td>13.296464</td>\n",
       "    </tr>\n",
       "  </tbody>\n",
       "</table>\n",
       "<p>5 rows × 1782 columns</p>\n",
       "</div>"
      ],
      "text/plain": [
       "                sales                                                          \\\n",
       "store_nbr           1                                                           \n",
       "family     AUTOMOTIVE BABY CARE    BEAUTY    BEVERAGES     BOOKS BREAD/BAKERY   \n",
       "date                                                                            \n",
       "2017-08-01   5.349450       0.0  3.344444  2124.133887  0.092436   338.766558   \n",
       "2017-08-02   5.393372       0.0  3.340316  2119.957001  0.081210   338.736613   \n",
       "2017-08-03   5.438187       0.0  3.335902  2115.658091  0.069748   338.716315   \n",
       "2017-08-04   5.483904       0.0  3.331199  2111.235822  0.058048   338.705777   \n",
       "2017-08-05   5.530532       0.0  3.326201  2106.688860  0.046107   338.705109   \n",
       "\n",
       "                                                            ...            \\\n",
       "store_nbr                                                   ...         9   \n",
       "family     CELEBRATION    CLEANING       DAIRY        DELI  ... MAGAZINES   \n",
       "date                                                        ...             \n",
       "2017-08-01   14.902556  645.655768  672.191072  137.821375  ...  2.974365   \n",
       "2017-08-02   14.858090  644.919083  671.439019  138.216361  ...  2.964886   \n",
       "2017-08-03   14.812717  644.165706  670.690078  138.623278  ...  2.955491   \n",
       "2017-08-04   14.766429  643.395464  669.944353  139.042253  ...  2.946182   \n",
       "2017-08-05   14.719221  642.608187  669.201944  139.473411  ...  2.936964   \n",
       "\n",
       "                                                                           \\\n",
       "store_nbr                                                                   \n",
       "family           MEATS PERSONAL CARE PET SUPPLIES PLAYERS AND ELECTRONICS   \n",
       "date                                                                        \n",
       "2017-08-01  380.757536    393.289108     8.116384                6.445317   \n",
       "2017-08-02  380.534249    390.608215     8.109137                6.344014   \n",
       "2017-08-03  380.309941    387.881987     8.101568                6.242382   \n",
       "2017-08-04  380.084599    385.110039     8.093675                6.140427   \n",
       "2017-08-05  379.858211    382.291983     8.085454                6.038155   \n",
       "\n",
       "                                                                               \\\n",
       "store_nbr                                                                       \n",
       "family         POULTRY PREPARED FOODS      PRODUCE SCHOOL AND OFFICE SUPPLIES   \n",
       "date                                                                            \n",
       "2017-08-01  413.811796     102.347958  1585.752995                  10.281379   \n",
       "2017-08-02  412.205319     101.846460  1582.088909                  10.531045   \n",
       "2017-08-03  410.559099     101.340696  1578.336275                  10.785652   \n",
       "2017-08-04  408.872733     100.830664  1574.494123                  11.045242   \n",
       "2017-08-05  407.145821     100.316361  1570.561484                  11.309859   \n",
       "\n",
       "                       \n",
       "store_nbr              \n",
       "family        SEAFOOD  \n",
       "date                   \n",
       "2017-08-01  14.092199  \n",
       "2017-08-02  13.898313  \n",
       "2017-08-03  13.701075  \n",
       "2017-08-04  13.500466  \n",
       "2017-08-05  13.296464  \n",
       "\n",
       "[5 rows x 1782 columns]"
      ]
     },
     "execution_count": 21,
     "metadata": {},
     "output_type": "execute_result"
    }
   ],
   "source": [
    "X_train, X_valid, y_train, y_valid = train_test_split(X, y, test_size=15, shuffle=False)\n",
    "\n",
    "model = LinearRegression(fit_intercept=False).fit(X_train, y_train)\n",
    "\n",
    "y_fit = pd.DataFrame(model.predict(X_train), index=X_train.index, columns=y_train.columns).clip(0.0)\n",
    "y_pred = pd.DataFrame(model.predict(X_valid), index=X_valid.index, columns=y_valid.columns).clip(0.0)\n",
    "\n",
    "rmsle_train = mean_squared_log_error(y_train, y_fit) ** 0.5\n",
    "rmsle_valid = mean_squared_log_error(y_valid, y_pred) ** 0.5\n",
    "print(f'Training RMSLE: {rmsle_train:.5f}')\n",
    "print(f'Validation RMSLE: {rmsle_valid:.5f}')\n",
    "\n",
    "y_pred.head()"
   ]
  },
  {
   "cell_type": "markdown",
   "id": "2d4e2f1f",
   "metadata": {
    "papermill": {
     "duration": 0.022099,
     "end_time": "2022-11-21T11:04:34.247663",
     "exception": false,
     "start_time": "2022-11-21T11:04:34.225564",
     "status": "completed"
    },
    "tags": []
   },
   "source": [
    "Suddenly, our training and validation scores are a lot closer to each other. This comes in the form of a betterment of the training score and a worsening of the validation score. But what it really indicates is that the model generalises a lot better now. \n",
    "\n",
    "**We will now use this model to make predictions for the test score.**"
   ]
  },
  {
   "cell_type": "code",
   "execution_count": 22,
   "id": "2df6506c",
   "metadata": {
    "execution": {
     "iopub.execute_input": "2022-11-21T11:04:34.302661Z",
     "iopub.status.busy": "2022-11-21T11:04:34.301496Z",
     "iopub.status.idle": "2022-11-21T11:04:34.319159Z",
     "shell.execute_reply": "2022-11-21T11:04:34.318119Z"
    },
    "papermill": {
     "duration": 0.049667,
     "end_time": "2022-11-21T11:04:34.321920",
     "exception": false,
     "start_time": "2022-11-21T11:04:34.272253",
     "status": "completed"
    },
    "tags": []
   },
   "outputs": [
    {
     "data": {
      "text/html": [
       "<div>\n",
       "<style scoped>\n",
       "    .dataframe tbody tr th:only-of-type {\n",
       "        vertical-align: middle;\n",
       "    }\n",
       "\n",
       "    .dataframe tbody tr th {\n",
       "        vertical-align: top;\n",
       "    }\n",
       "\n",
       "    .dataframe thead th {\n",
       "        text-align: right;\n",
       "    }\n",
       "</style>\n",
       "<table border=\"1\" class=\"dataframe\">\n",
       "  <thead>\n",
       "    <tr style=\"text-align: right;\">\n",
       "      <th></th>\n",
       "      <th>const</th>\n",
       "      <th>trend</th>\n",
       "      <th>trend_squared</th>\n",
       "      <th>trend_cubed</th>\n",
       "    </tr>\n",
       "    <tr>\n",
       "      <th>date</th>\n",
       "      <th></th>\n",
       "      <th></th>\n",
       "      <th></th>\n",
       "      <th></th>\n",
       "    </tr>\n",
       "  </thead>\n",
       "  <tbody>\n",
       "    <tr>\n",
       "      <th>2017-08-16</th>\n",
       "      <td>1.0</td>\n",
       "      <td>228.0</td>\n",
       "      <td>51984.0</td>\n",
       "      <td>11852352.0</td>\n",
       "    </tr>\n",
       "    <tr>\n",
       "      <th>2017-08-17</th>\n",
       "      <td>1.0</td>\n",
       "      <td>229.0</td>\n",
       "      <td>52441.0</td>\n",
       "      <td>12008989.0</td>\n",
       "    </tr>\n",
       "    <tr>\n",
       "      <th>2017-08-18</th>\n",
       "      <td>1.0</td>\n",
       "      <td>230.0</td>\n",
       "      <td>52900.0</td>\n",
       "      <td>12167000.0</td>\n",
       "    </tr>\n",
       "    <tr>\n",
       "      <th>2017-08-19</th>\n",
       "      <td>1.0</td>\n",
       "      <td>231.0</td>\n",
       "      <td>53361.0</td>\n",
       "      <td>12326391.0</td>\n",
       "    </tr>\n",
       "    <tr>\n",
       "      <th>2017-08-20</th>\n",
       "      <td>1.0</td>\n",
       "      <td>232.0</td>\n",
       "      <td>53824.0</td>\n",
       "      <td>12487168.0</td>\n",
       "    </tr>\n",
       "  </tbody>\n",
       "</table>\n",
       "</div>"
      ],
      "text/plain": [
       "            const  trend  trend_squared  trend_cubed\n",
       "date                                                \n",
       "2017-08-16    1.0  228.0        51984.0   11852352.0\n",
       "2017-08-17    1.0  229.0        52441.0   12008989.0\n",
       "2017-08-18    1.0  230.0        52900.0   12167000.0\n",
       "2017-08-19    1.0  231.0        53361.0   12326391.0\n",
       "2017-08-20    1.0  232.0        53824.0   12487168.0"
      ]
     },
     "execution_count": 22,
     "metadata": {},
     "output_type": "execute_result"
    }
   ],
   "source": [
    "# Create features for test set\n",
    "X_test = dp.out_of_sample(steps=16)\n",
    "X_test.index.name = 'date'\n",
    "\n",
    "X_test.head()"
   ]
  },
  {
   "cell_type": "code",
   "execution_count": 23,
   "id": "c93cdb90",
   "metadata": {
    "execution": {
     "iopub.execute_input": "2022-11-21T11:04:34.373944Z",
     "iopub.status.busy": "2022-11-21T11:04:34.372311Z",
     "iopub.status.idle": "2022-11-21T11:04:34.912757Z",
     "shell.execute_reply": "2022-11-21T11:04:34.911764Z"
    },
    "papermill": {
     "duration": 0.568702,
     "end_time": "2022-11-21T11:04:34.916122",
     "exception": false,
     "start_time": "2022-11-21T11:04:34.347420",
     "status": "completed"
    },
    "tags": []
   },
   "outputs": [
    {
     "data": {
      "text/html": [
       "<div>\n",
       "<style scoped>\n",
       "    .dataframe tbody tr th:only-of-type {\n",
       "        vertical-align: middle;\n",
       "    }\n",
       "\n",
       "    .dataframe tbody tr th {\n",
       "        vertical-align: top;\n",
       "    }\n",
       "\n",
       "    .dataframe thead th {\n",
       "        text-align: right;\n",
       "    }\n",
       "</style>\n",
       "<table border=\"1\" class=\"dataframe\">\n",
       "  <thead>\n",
       "    <tr style=\"text-align: right;\">\n",
       "      <th></th>\n",
       "      <th></th>\n",
       "      <th></th>\n",
       "      <th>id</th>\n",
       "      <th>sales</th>\n",
       "    </tr>\n",
       "    <tr>\n",
       "      <th>date</th>\n",
       "      <th>store_nbr</th>\n",
       "      <th>family</th>\n",
       "      <th></th>\n",
       "      <th></th>\n",
       "    </tr>\n",
       "  </thead>\n",
       "  <tbody>\n",
       "    <tr>\n",
       "      <th rowspan=\"5\" valign=\"top\">2017-08-16</th>\n",
       "      <th rowspan=\"5\" valign=\"top\">1</th>\n",
       "      <th>AUTOMOTIVE</th>\n",
       "      <td>3000888</td>\n",
       "      <td>6.105940</td>\n",
       "    </tr>\n",
       "    <tr>\n",
       "      <th>BABY CARE</th>\n",
       "      <td>3000889</td>\n",
       "      <td>0.000000</td>\n",
       "    </tr>\n",
       "    <tr>\n",
       "      <th>BEAUTY</th>\n",
       "      <td>3000890</td>\n",
       "      <td>3.250720</td>\n",
       "    </tr>\n",
       "    <tr>\n",
       "      <th>BEVERAGES</th>\n",
       "      <td>3000891</td>\n",
       "      <td>2048.061053</td>\n",
       "    </tr>\n",
       "    <tr>\n",
       "      <th>BOOKS</th>\n",
       "      <td>3000892</td>\n",
       "      <td>-0.101825</td>\n",
       "    </tr>\n",
       "  </tbody>\n",
       "</table>\n",
       "</div>"
      ],
      "text/plain": [
       "                                      id        sales\n",
       "date       store_nbr family                          \n",
       "2017-08-16 1         AUTOMOTIVE  3000888     6.105940\n",
       "                     BABY CARE   3000889     0.000000\n",
       "                     BEAUTY      3000890     3.250720\n",
       "                     BEVERAGES   3000891  2048.061053\n",
       "                     BOOKS       3000892    -0.101825"
      ]
     },
     "execution_count": 23,
     "metadata": {},
     "output_type": "execute_result"
    }
   ],
   "source": [
    "y_submit = pd.DataFrame(model.predict(X_test), index=X_test.index, columns=y.columns)\n",
    "y_submit = y_submit.stack(['store_nbr', 'family'])\n",
    "y_submit = y_submit.join(df_test.id).reindex(columns=['id', 'sales'])\n",
    "y_submit.to_csv('submission_trend_2017.csv', index=False)\n",
    "\n",
    "y_submit.head()"
   ]
  },
  {
   "cell_type": "code",
   "execution_count": null,
   "id": "740ca2f9",
   "metadata": {
    "papermill": {
     "duration": 0.021476,
     "end_time": "2022-11-21T11:04:34.960225",
     "exception": false,
     "start_time": "2022-11-21T11:04:34.938749",
     "status": "completed"
    },
    "tags": []
   },
   "outputs": [],
   "source": []
  }
 ],
 "metadata": {
  "kernelspec": {
   "display_name": "Python 3",
   "language": "python",
   "name": "python3"
  },
  "language_info": {
   "codemirror_mode": {
    "name": "ipython",
    "version": 3
   },
   "file_extension": ".py",
   "mimetype": "text/x-python",
   "name": "python",
   "nbconvert_exporter": "python",
   "pygments_lexer": "ipython3",
   "version": "3.7.12"
  },
  "papermill": {
   "default_parameters": {},
   "duration": 35.319289,
   "end_time": "2022-11-21T11:04:35.806537",
   "environment_variables": {},
   "exception": null,
   "input_path": "__notebook__.ipynb",
   "output_path": "__notebook__.ipynb",
   "parameters": {},
   "start_time": "2022-11-21T11:04:00.487248",
   "version": "2.3.4"
  }
 },
 "nbformat": 4,
 "nbformat_minor": 5
}
