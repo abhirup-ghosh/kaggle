{
 "cells": [
  {
   "cell_type": "markdown",
   "id": "3322937e",
   "metadata": {
    "papermill": {
     "duration": 0.006231,
     "end_time": "2022-11-20T17:34:13.482183",
     "exception": false,
     "start_time": "2022-11-20T17:34:13.475952",
     "status": "completed"
    },
    "tags": []
   },
   "source": [
    "# Competition: [Store Sales - Time Series Forecasting](https://www.kaggle.com/competitions/store-sales-time-series-forecasting)"
   ]
  },
  {
   "cell_type": "markdown",
   "id": "c22a25ea",
   "metadata": {
    "papermill": {
     "duration": 0.004822,
     "end_time": "2022-11-20T17:34:13.492276",
     "exception": false,
     "start_time": "2022-11-20T17:34:13.487454",
     "status": "completed"
    },
    "tags": []
   },
   "source": [
    "## [Short Description](https://www.kaggle.com/competitions/store-sales-time-series-forecasting/overview/description) (and Disclaimer)\n",
    "\n",
    "This is a “getting started” competition, where we use time-series forecasting to forecast store sales on data from Corporación Favorita, a large Ecuadorian-based grocery retailer. I used the [Time Series course on Kaggle](https://www.kaggle.com/learn/time-series) to help me get started, and a lot of the code in this notebook is from that course.rse are inspired by winning solutions from past Kaggle time series forecasting competitions.\n",
    "\n",
    "## [Evaluation](https://www.kaggle.com/competitions/store-sales-time-series-forecasting/overview/evaluation)\n",
    "The evaluation metric for this competition is Root Mean Squared Logarithmic Error.\n",
    "\n",
    "The RMSLE is calculated as:\n",
    "$[\\sqrt{ \\frac{1}{n} \\sum_{i=1}^n \\left(\\log (1 + \\hat{y}_i) - \\log (1 + y_i)\\right)^2}]$\n",
    "where:\n",
    "\n",
    "𝑛 is the total number of instances,  \n",
    "𝑦̂ 𝑖 is the predicted value of the target for instance (i),  \n",
    "𝑦𝑖 is the actual value of the target for instance (i), and,  \n",
    "log is the natural logarithm.\n",
    "\n",
    "## [Data](https://www.kaggle.com/competitions/store-sales-time-series-forecasting/data)\n",
    "\n",
    "### Training data: train.csv\n",
    "\n",
    "* The training data, comprising time series of features **store_nbr**, **family**, and **onpromotion** as well as the target **sales**.\n",
    "* **store_nbr** identifies the store at which the products are sold.\n",
    "* **family** identifies the type of product sold.\n",
    "* **sales** gives the total sales for a product family at a particular store at a given date. Fractional values are possible since products can be sold in fractional units (1.5 kg of cheese, for instance, as opposed to 1 bag of chips).\n",
    "* **onpromotion** gives the total number of items in a product family that were being promoted at a store at a given date.\n",
    "\n",
    "\n",
    "### Test data: test.csv\n",
    "\n",
    "* The test data, having the same features as the training data. You will predict the target **sales** for the dates in this file. \n",
    "* The dates in the test data are for the 15 days after the last date in the training data.\n",
    "\n",
    "\n",
    "### Submission file: sample_submission.csv\n",
    "A sample submission file in the correct format.\n",
    "\n",
    "### Additional information\n",
    "#### 1. Store metadata: stores.csv\n",
    "  * Store metadata, including **city**, **state**, **type**, and **cluster**.\n",
    "  * **cluster** is a grouping of similar stores.\n",
    "\n",
    "#### 2. Daily oil price: oil.csv \n",
    "Includes values during both the train and test data timeframes. (Ecuador is an oil-dependent country and it's economical health is highly vulnerable to shocks in oil prices.)\n",
    "\n",
    "#### 3. Holidays and Events, with metadata: holidays_events.csv\n",
    "  * NOTE: Pay special attention to the **transferred** column. A holiday that is transferred officially falls on that calendar day, but was moved to another date by the government. A transferred day is more like a normal day than a holiday. To find the day that it was actually celebrated, look for the corresponding row where type is Transfer. For example, the holiday Independencia de Guayaquil was transferred from 2012-10-09 to 2012-10-12, which means it was celebrated on 2012-10-12. Days that are type Bridge are extra days that are added to a holiday (e.g., to extend the break across a long weekend). These are frequently made up by the type Work Day which is a day not normally scheduled for work (e.g., Saturday) that is meant to payback the Bridge.\n",
    "  * Additional holidays are days added a regular calendar holiday, for example, as typically happens around Christmas (making Christmas Eve a holiday).\n",
    "\n",
    "\n",
    "### Additional Notes\n",
    "* Wages in the public sector are paid every two weeks on the 15 th and on the last day of the month. Supermarket sales could be affected by this.\n",
    "* A magnitude 7.8 earthquake struck Ecuador on April 16, 2016. People rallied in relief efforts donating water and other first need products which greatly affected supermarket sales for several weeks after the earthquake."
   ]
  },
  {
   "cell_type": "code",
   "execution_count": 1,
   "id": "0f82ddbc",
   "metadata": {
    "_cell_guid": "b1076dfc-b9ad-4769-8c92-a6c4dae69d19",
    "_uuid": "8f2839f25d086af736a60e9eeb907d3b93b6e0e5",
    "execution": {
     "iopub.execute_input": "2022-11-20T17:34:13.504883Z",
     "iopub.status.busy": "2022-11-20T17:34:13.504157Z",
     "iopub.status.idle": "2022-11-20T17:34:13.516484Z",
     "shell.execute_reply": "2022-11-20T17:34:13.515500Z"
    },
    "papermill": {
     "duration": 0.021709,
     "end_time": "2022-11-20T17:34:13.519149",
     "exception": false,
     "start_time": "2022-11-20T17:34:13.497440",
     "status": "completed"
    },
    "tags": []
   },
   "outputs": [
    {
     "name": "stdout",
     "output_type": "stream",
     "text": [
      "/kaggle/input/store-sales-time-series-forecasting/oil.csv\n",
      "/kaggle/input/store-sales-time-series-forecasting/sample_submission.csv\n",
      "/kaggle/input/store-sales-time-series-forecasting/holidays_events.csv\n",
      "/kaggle/input/store-sales-time-series-forecasting/stores.csv\n",
      "/kaggle/input/store-sales-time-series-forecasting/train.csv\n",
      "/kaggle/input/store-sales-time-series-forecasting/test.csv\n",
      "/kaggle/input/store-sales-time-series-forecasting/transactions.csv\n"
     ]
    }
   ],
   "source": [
    "# This Python 3 environment comes with many helpful analytics libraries installed\n",
    "# It is defined by the kaggle/python Docker image: https://github.com/kaggle/docker-python\n",
    "# For example, here's several helpful packages to load\n",
    "\n",
    "import numpy as np # linear algebra\n",
    "import pandas as pd # data processing, CSV file I/O (e.g. pd.read_csv)\n",
    "\n",
    "# Input data files are available in the read-only \"../input/\" directory\n",
    "# For example, running this (by clicking run or pressing Shift+Enter) will list all files under the input directory\n",
    "\n",
    "import os\n",
    "for dirname, _, filenames in os.walk('/kaggle/input'):\n",
    "    for filename in filenames:\n",
    "        print(os.path.join(dirname, filename))\n",
    "\n",
    "# You can write up to 20GB to the current directory (/kaggle/working/) that gets preserved as output when you create a version using \"Save & Run All\" \n",
    "# You can also write temporary files to /kaggle/temp/, but they won't be saved outside of the current session"
   ]
  },
  {
   "cell_type": "markdown",
   "id": "4747babc",
   "metadata": {
    "papermill": {
     "duration": 0.005232,
     "end_time": "2022-11-20T17:34:13.530820",
     "exception": false,
     "start_time": "2022-11-20T17:34:13.525588",
     "status": "completed"
    },
    "tags": []
   },
   "source": [
    "# Preliminaries"
   ]
  },
  {
   "cell_type": "markdown",
   "id": "ad3e0e25",
   "metadata": {
    "papermill": {
     "duration": 0.005103,
     "end_time": "2022-11-20T17:34:13.541367",
     "exception": false,
     "start_time": "2022-11-20T17:34:13.536264",
     "status": "completed"
    },
    "tags": []
   },
   "source": [
    "## Dependencies"
   ]
  },
  {
   "cell_type": "code",
   "execution_count": 2,
   "id": "9ae5e33e",
   "metadata": {
    "execution": {
     "iopub.execute_input": "2022-11-20T17:34:13.554144Z",
     "iopub.status.busy": "2022-11-20T17:34:13.553526Z",
     "iopub.status.idle": "2022-11-20T17:34:22.605871Z",
     "shell.execute_reply": "2022-11-20T17:34:22.604656Z"
    },
    "papermill": {
     "duration": 9.061466,
     "end_time": "2022-11-20T17:34:22.608264",
     "exception": false,
     "start_time": "2022-11-20T17:34:13.546798",
     "status": "completed"
    },
    "tags": []
   },
   "outputs": [],
   "source": [
    "# Setup feedback system\n",
    "from learntools.core import binder\n",
    "binder.bind(globals())\n",
    "from learntools.time_series.ex4 import *\n",
    "\n",
    "# Setup notebook\n",
    "from pathlib import Path\n",
    "from learntools.time_series.style import *  # plot style settings\n",
    "from learntools.time_series.utils import plot_lags, make_lags, make_leads\n",
    "\n",
    "import pandas as pd\n",
    "import matplotlib.pyplot as plt\n",
    "import numpy as np\n",
    "import seaborn as sns\n",
    "from sklearn.linear_model import LinearRegression\n",
    "from sklearn.metrics import mean_squared_log_error\n",
    "from statsmodels.graphics.tsaplots import plot_pacf\n",
    "from statsmodels.tsa.deterministic import CalendarFourier, DeterministicProcess"
   ]
  },
  {
   "cell_type": "markdown",
   "id": "fe48ec3b",
   "metadata": {
    "papermill": {
     "duration": 0.004996,
     "end_time": "2022-11-20T17:34:22.618883",
     "exception": false,
     "start_time": "2022-11-20T17:34:22.613887",
     "status": "completed"
    },
    "tags": []
   },
   "source": [
    "## Competition Data"
   ]
  },
  {
   "cell_type": "code",
   "execution_count": 3,
   "id": "f585a7b0",
   "metadata": {
    "execution": {
     "iopub.execute_input": "2022-11-20T17:34:22.634360Z",
     "iopub.status.busy": "2022-11-20T17:34:22.633770Z",
     "iopub.status.idle": "2022-11-20T17:34:25.118119Z",
     "shell.execute_reply": "2022-11-20T17:34:25.116985Z"
    },
    "papermill": {
     "duration": 2.495255,
     "end_time": "2022-11-20T17:34:25.120314",
     "exception": false,
     "start_time": "2022-11-20T17:34:22.625059",
     "status": "completed"
    },
    "tags": []
   },
   "outputs": [],
   "source": [
    "comp_dir = Path('../input/store-sales-time-series-forecasting')\n",
    "\n",
    "# Train data: train.csv\n",
    "store_sales = pd.read_csv(\n",
    "    comp_dir / 'train.csv',\n",
    "    usecols=['store_nbr', 'family', 'date', 'sales'],\n",
    "    dtype={\n",
    "        'store_nbr': 'category',\n",
    "        'family': 'category',\n",
    "        'sales': 'float32',\n",
    "    },\n",
    "    parse_dates=['date'],\n",
    "    infer_datetime_format=True,\n",
    ")\n",
    "store_sales['date'] = store_sales.date.dt.to_period('D')\n",
    "store_sales = store_sales.set_index(['store_nbr', 'family', 'date']).sort_index()\n",
    "\n",
    "# Holidays and Events, with metadata\n",
    "holidays_events = pd.read_csv(\n",
    "    comp_dir / \"holidays_events.csv\",\n",
    "    dtype={\n",
    "        'type': 'category',\n",
    "        'locale': 'category',\n",
    "        'locale_name': 'category',\n",
    "        'description': 'category',\n",
    "        'transferred': 'bool',\n",
    "    },\n",
    "    parse_dates=['date'],\n",
    "    infer_datetime_format=True,\n",
    ")\n",
    "holidays_events = holidays_events.set_index('date').to_period('D')\n",
    "\n",
    "# Test data: test.csv\n",
    "df_test = pd.read_csv(\n",
    "    comp_dir / 'test.csv',\n",
    "    dtype={\n",
    "        'store_nbr': 'category',\n",
    "        'family': 'category',\n",
    "        'onpromotion': 'uint32',\n",
    "    },\n",
    "    parse_dates=['date'],\n",
    "    infer_datetime_format=True,\n",
    ")\n",
    "df_test['date'] = df_test.date.dt.to_period('D')\n",
    "df_test = df_test.set_index(['store_nbr', 'family', 'date']).sort_index()"
   ]
  },
  {
   "cell_type": "markdown",
   "id": "206d4176",
   "metadata": {
    "papermill": {
     "duration": 0.005125,
     "end_time": "2022-11-20T17:34:25.130938",
     "exception": false,
     "start_time": "2022-11-20T17:34:25.125813",
     "status": "completed"
    },
    "tags": []
   },
   "source": [
    "# EDA\n",
    "\n",
    "[WIP]: Going to expand this section in upcoming weeks"
   ]
  },
  {
   "cell_type": "code",
   "execution_count": 4,
   "id": "09987445",
   "metadata": {
    "execution": {
     "iopub.execute_input": "2022-11-20T17:34:25.144100Z",
     "iopub.status.busy": "2022-11-20T17:34:25.143654Z",
     "iopub.status.idle": "2022-11-20T17:34:25.161773Z",
     "shell.execute_reply": "2022-11-20T17:34:25.160524Z"
    },
    "papermill": {
     "duration": 0.027689,
     "end_time": "2022-11-20T17:34:25.164208",
     "exception": false,
     "start_time": "2022-11-20T17:34:25.136519",
     "status": "completed"
    },
    "tags": []
   },
   "outputs": [
    {
     "data": {
      "text/html": [
       "<div>\n",
       "<style scoped>\n",
       "    .dataframe tbody tr th:only-of-type {\n",
       "        vertical-align: middle;\n",
       "    }\n",
       "\n",
       "    .dataframe tbody tr th {\n",
       "        vertical-align: top;\n",
       "    }\n",
       "\n",
       "    .dataframe thead th {\n",
       "        text-align: right;\n",
       "    }\n",
       "</style>\n",
       "<table border=\"1\" class=\"dataframe\">\n",
       "  <thead>\n",
       "    <tr style=\"text-align: right;\">\n",
       "      <th></th>\n",
       "      <th></th>\n",
       "      <th></th>\n",
       "      <th>sales</th>\n",
       "    </tr>\n",
       "    <tr>\n",
       "      <th>store_nbr</th>\n",
       "      <th>family</th>\n",
       "      <th>date</th>\n",
       "      <th></th>\n",
       "    </tr>\n",
       "  </thead>\n",
       "  <tbody>\n",
       "    <tr>\n",
       "      <th rowspan=\"5\" valign=\"top\">1</th>\n",
       "      <th rowspan=\"5\" valign=\"top\">AUTOMOTIVE</th>\n",
       "      <th>2013-01-01</th>\n",
       "      <td>0.0</td>\n",
       "    </tr>\n",
       "    <tr>\n",
       "      <th>2013-01-02</th>\n",
       "      <td>2.0</td>\n",
       "    </tr>\n",
       "    <tr>\n",
       "      <th>2013-01-03</th>\n",
       "      <td>3.0</td>\n",
       "    </tr>\n",
       "    <tr>\n",
       "      <th>2013-01-04</th>\n",
       "      <td>3.0</td>\n",
       "    </tr>\n",
       "    <tr>\n",
       "      <th>2013-01-05</th>\n",
       "      <td>5.0</td>\n",
       "    </tr>\n",
       "  </tbody>\n",
       "</table>\n",
       "</div>"
      ],
      "text/plain": [
       "                                 sales\n",
       "store_nbr family     date             \n",
       "1         AUTOMOTIVE 2013-01-01    0.0\n",
       "                     2013-01-02    2.0\n",
       "                     2013-01-03    3.0\n",
       "                     2013-01-04    3.0\n",
       "                     2013-01-05    5.0"
      ]
     },
     "execution_count": 4,
     "metadata": {},
     "output_type": "execute_result"
    }
   ],
   "source": [
    "store_sales.head()"
   ]
  },
  {
   "cell_type": "markdown",
   "id": "1ae90f69",
   "metadata": {
    "papermill": {
     "duration": 0.005562,
     "end_time": "2022-11-20T17:34:25.175554",
     "exception": false,
     "start_time": "2022-11-20T17:34:25.169992",
     "status": "completed"
    },
    "tags": []
   },
   "source": [
    "# Modelling"
   ]
  },
  {
   "cell_type": "markdown",
   "id": "4ff4ac98",
   "metadata": {
    "papermill": {
     "duration": 0.005261,
     "end_time": "2022-11-20T17:34:25.186379",
     "exception": false,
     "start_time": "2022-11-20T17:34:25.181118",
     "status": "completed"
    },
    "tags": []
   },
   "source": [
    "As we learnt in the [Time Series course on Kaggle](https://www.kaggle.com/learn/time-series), there are 2 essential components of a time-series:\n",
    "* **Time dependence** that leads to two key featues: [Trends](https://www.kaggle.com/code/ryanholbrook/trend) and [Seasonality](https://www.kaggle.com/code/ryanholbrook/seasonality)\n",
    "* **Serial depencdence** that leads to [cycles](https://www.kaggle.com/code/ryanholbrook/time-series-as-features), and can be explored through lag features.\n",
    "\n",
    "Each of these features are worth exploring one-by-one in detail. We are goinig to follow the lead of the tutorial in realising that a single machine learning algorithm might not be best-suited to capture all these independent components. While regression algorithms are better for detrending/deseasonalising, [serial dependence is best explored through **decision trees**](https://www.kaggle.com/code/ryanholbrook/time-series-as-features). Hence, getting the best of both worlds, we are going to explore [Hybrid models](https://www.kaggle.com/code/ryanholbrook/hybrid-models) that employ a combination of the above algorithms."
   ]
  },
  {
   "cell_type": "markdown",
   "id": "b783d7b6",
   "metadata": {
    "papermill": {
     "duration": 0.005409,
     "end_time": "2022-11-20T17:34:25.197572",
     "exception": false,
     "start_time": "2022-11-20T17:34:25.192163",
     "status": "completed"
    },
    "tags": []
   },
   "source": [
    "## Trends"
   ]
  },
  {
   "cell_type": "markdown",
   "id": "15719343",
   "metadata": {
    "papermill": {
     "duration": 0.005716,
     "end_time": "2022-11-20T17:34:25.209376",
     "exception": false,
     "start_time": "2022-11-20T17:34:25.203660",
     "status": "completed"
    },
    "tags": []
   },
   "source": [
    "As defined in [Time Series course on Kaggle](https://www.kaggle.com/code/ryanholbrook/trend) course, the **trend** component of a time series represents a persistent, long-term change in the mean of the series. The trend is the slowest-moving part of a series, the part representing the largest time scale of importance."
   ]
  },
  {
   "cell_type": "markdown",
   "id": "7ffcc6aa",
   "metadata": {
    "papermill": {
     "duration": 0.005265,
     "end_time": "2022-11-20T17:34:25.220319",
     "exception": false,
     "start_time": "2022-11-20T17:34:25.215054",
     "status": "completed"
    },
    "tags": []
   },
   "source": [
    "The training set has information that drills down to different levels of detail, eg, store number, product family, etc. At the highest-level, we start looking at trends in the time-dependence of average sales."
   ]
  },
  {
   "cell_type": "code",
   "execution_count": 5,
   "id": "59d623e8",
   "metadata": {
    "execution": {
     "iopub.execute_input": "2022-11-20T17:34:25.235395Z",
     "iopub.status.busy": "2022-11-20T17:34:25.235014Z",
     "iopub.status.idle": "2022-11-20T17:34:25.317644Z",
     "shell.execute_reply": "2022-11-20T17:34:25.316558Z"
    },
    "papermill": {
     "duration": 0.094128,
     "end_time": "2022-11-20T17:34:25.320117",
     "exception": false,
     "start_time": "2022-11-20T17:34:25.225989",
     "status": "completed"
    },
    "tags": []
   },
   "outputs": [
    {
     "data": {
      "text/plain": [
       "date\n",
       "2013-01-01      1.409438\n",
       "2013-01-02    278.390808\n",
       "2013-01-03    202.840195\n",
       "2013-01-04    198.911148\n",
       "2013-01-05    267.873230\n",
       "Freq: D, Name: sales, dtype: float32"
      ]
     },
     "execution_count": 5,
     "metadata": {},
     "output_type": "execute_result"
    }
   ],
   "source": [
    "average_sales = store_sales.groupby('date').mean()['sales']\n",
    "average_sales.head()"
   ]
  },
  {
   "cell_type": "code",
   "execution_count": 6,
   "id": "d2a66930",
   "metadata": {
    "execution": {
     "iopub.execute_input": "2022-11-20T17:34:25.334159Z",
     "iopub.status.busy": "2022-11-20T17:34:25.333778Z",
     "iopub.status.idle": "2022-11-20T17:34:25.654261Z",
     "shell.execute_reply": "2022-11-20T17:34:25.653038Z"
    },
    "papermill": {
     "duration": 0.329693,
     "end_time": "2022-11-20T17:34:25.656057",
     "exception": false,
     "start_time": "2022-11-20T17:34:25.326364",
     "status": "completed"
    },
    "tags": []
   },
   "outputs": [
    {
     "data": {
      "image/png": "[encoded data removed]",
      "text/plain": [
       "<Figure size 792x288 with 1 Axes>"
      ]
     },
     "metadata": {},
     "output_type": "display_data"
    }
   ],
   "source": [
    "trend = average_sales.rolling(\n",
    "    window=365,\n",
    "    center=True,\n",
    "    min_periods=183,\n",
    ").mean()\n",
    "\n",
    "ax = average_sales.plot(**plot_params, alpha=0.5)\n",
    "ax = trend.plot(ax=ax, linewidth=3)"
   ]
  },
  {
   "cell_type": "code",
   "execution_count": 7,
   "id": "dbd7f1bc",
   "metadata": {
    "execution": {
     "iopub.execute_input": "2022-11-20T17:34:25.672460Z",
     "iopub.status.busy": "2022-11-20T17:34:25.671849Z",
     "iopub.status.idle": "2022-11-20T17:34:25.678456Z",
     "shell.execute_reply": "2022-11-20T17:34:25.677788Z"
    },
    "papermill": {
     "duration": 0.016998,
     "end_time": "2022-11-20T17:34:25.680320",
     "exception": false,
     "start_time": "2022-11-20T17:34:25.663322",
     "status": "completed"
    },
    "tags": []
   },
   "outputs": [
    {
     "data": {
      "text/plain": [
       "date\n",
       "2013-01-01      1.409438\n",
       "2013-01-02    278.390808\n",
       "2013-01-03    202.840195\n",
       "2013-01-04    198.911148\n",
       "2013-01-05    267.873230\n",
       "Freq: D, Name: sales, dtype: float32"
      ]
     },
     "execution_count": 7,
     "metadata": {},
     "output_type": "execute_result"
    }
   ],
   "source": [
    "y = average_sales.copy()  # the target\n",
    "y.head()"
   ]
  },
  {
   "cell_type": "code",
   "execution_count": 8,
   "id": "2849a072",
   "metadata": {
    "execution": {
     "iopub.execute_input": "2022-11-20T17:34:25.696585Z",
     "iopub.status.busy": "2022-11-20T17:34:25.696018Z",
     "iopub.status.idle": "2022-11-20T17:34:25.712676Z",
     "shell.execute_reply": "2022-11-20T17:34:25.710859Z"
    },
    "papermill": {
     "duration": 0.02782,
     "end_time": "2022-11-20T17:34:25.715321",
     "exception": false,
     "start_time": "2022-11-20T17:34:25.687501",
     "status": "completed"
    },
    "tags": []
   },
   "outputs": [
    {
     "data": {
      "text/html": [
       "<div>\n",
       "<style scoped>\n",
       "    .dataframe tbody tr th:only-of-type {\n",
       "        vertical-align: middle;\n",
       "    }\n",
       "\n",
       "    .dataframe tbody tr th {\n",
       "        vertical-align: top;\n",
       "    }\n",
       "\n",
       "    .dataframe thead th {\n",
       "        text-align: right;\n",
       "    }\n",
       "</style>\n",
       "<table border=\"1\" class=\"dataframe\">\n",
       "  <thead>\n",
       "    <tr style=\"text-align: right;\">\n",
       "      <th></th>\n",
       "      <th>const</th>\n",
       "      <th>trend</th>\n",
       "      <th>trend_squared</th>\n",
       "      <th>trend_cubed</th>\n",
       "    </tr>\n",
       "    <tr>\n",
       "      <th>date</th>\n",
       "      <th></th>\n",
       "      <th></th>\n",
       "      <th></th>\n",
       "      <th></th>\n",
       "    </tr>\n",
       "  </thead>\n",
       "  <tbody>\n",
       "    <tr>\n",
       "      <th>2013-01-01</th>\n",
       "      <td>1.0</td>\n",
       "      <td>1.0</td>\n",
       "      <td>1.0</td>\n",
       "      <td>1.0</td>\n",
       "    </tr>\n",
       "    <tr>\n",
       "      <th>2013-01-02</th>\n",
       "      <td>1.0</td>\n",
       "      <td>2.0</td>\n",
       "      <td>4.0</td>\n",
       "      <td>8.0</td>\n",
       "    </tr>\n",
       "    <tr>\n",
       "      <th>2013-01-03</th>\n",
       "      <td>1.0</td>\n",
       "      <td>3.0</td>\n",
       "      <td>9.0</td>\n",
       "      <td>27.0</td>\n",
       "    </tr>\n",
       "    <tr>\n",
       "      <th>2013-01-04</th>\n",
       "      <td>1.0</td>\n",
       "      <td>4.0</td>\n",
       "      <td>16.0</td>\n",
       "      <td>64.0</td>\n",
       "    </tr>\n",
       "    <tr>\n",
       "      <th>2013-01-05</th>\n",
       "      <td>1.0</td>\n",
       "      <td>5.0</td>\n",
       "      <td>25.0</td>\n",
       "      <td>125.0</td>\n",
       "    </tr>\n",
       "  </tbody>\n",
       "</table>\n",
       "</div>"
      ],
      "text/plain": [
       "            const  trend  trend_squared  trend_cubed\n",
       "date                                                \n",
       "2013-01-01    1.0    1.0            1.0          1.0\n",
       "2013-01-02    1.0    2.0            4.0          8.0\n",
       "2013-01-03    1.0    3.0            9.0         27.0\n",
       "2013-01-04    1.0    4.0           16.0         64.0\n",
       "2013-01-05    1.0    5.0           25.0        125.0"
      ]
     },
     "execution_count": 8,
     "metadata": {},
     "output_type": "execute_result"
    }
   ],
   "source": [
    "from statsmodels.tsa.deterministic import DeterministicProcess\n",
    "\n",
    "# Instantiate `DeterministicProcess` with arguments\n",
    "# appropriate for a cubic trend model\n",
    "dp = DeterministicProcess(\n",
    "    index=y.index,  # dates from the training data\n",
    "    constant=True,       # dummy feature for the bias (y_intercept)\n",
    "    order=3,             # the time dummy (trend): cubic trend\n",
    "    drop=True,           # drop terms if necessary to avoid collinearity\n",
    ")\n",
    "\n",
    "# YOUR CODE HERE: Create the feature set for the dates given in y.index\n",
    "X = dp.in_sample()\n",
    "\n",
    "X.head()"
   ]
  },
  {
   "cell_type": "code",
   "execution_count": 9,
   "id": "b66d772d",
   "metadata": {
    "execution": {
     "iopub.execute_input": "2022-11-20T17:34:25.731822Z",
     "iopub.status.busy": "2022-11-20T17:34:25.731420Z",
     "iopub.status.idle": "2022-11-20T17:34:26.044824Z",
     "shell.execute_reply": "2022-11-20T17:34:26.043435Z"
    },
    "papermill": {
     "duration": 0.324777,
     "end_time": "2022-11-20T17:34:26.047478",
     "exception": false,
     "start_time": "2022-11-20T17:34:25.722701",
     "status": "completed"
    },
    "tags": []
   },
   "outputs": [
    {
     "data": {
      "image/png": "[encoded data removed]",
      "text/plain": [
       "<Figure size 792x288 with 1 Axes>"
      ]
     },
     "metadata": {},
     "output_type": "display_data"
    }
   ],
   "source": [
    "model = LinearRegression()\n",
    "model.fit(X, y)\n",
    "\n",
    "y_pred = pd.DataFrame(model.predict(X), index=X.index)\n",
    "\n",
    "\n",
    "ax = y.plot(**plot_params, alpha=0.5, title=\"Average Sales\", ylabel=\"items sold\")\n",
    "ax = y_pred.plot(ax=ax, linewidth=3, label=\"Trend: DeterministicProcess\", color='C0')\n",
    "ax = trend.plot(ax=ax, linewidth=3, label=\"Trend: Moving average\", color='r')\n",
    "ax.legend();"
   ]
  },
  {
   "cell_type": "code",
   "execution_count": 10,
   "id": "0eade058",
   "metadata": {
    "execution": {
     "iopub.execute_input": "2022-11-20T17:34:26.066233Z",
     "iopub.status.busy": "2022-11-20T17:34:26.065849Z",
     "iopub.status.idle": "2022-11-20T17:34:26.929625Z",
     "shell.execute_reply": "2022-11-20T17:34:26.928629Z"
    },
    "papermill": {
     "duration": 0.876571,
     "end_time": "2022-11-20T17:34:26.932560",
     "exception": false,
     "start_time": "2022-11-20T17:34:26.055989",
     "status": "completed"
    },
    "tags": []
   },
   "outputs": [
    {
     "data": {
      "text/html": [
       "<div>\n",
       "<style scoped>\n",
       "    .dataframe tbody tr th:only-of-type {\n",
       "        vertical-align: middle;\n",
       "    }\n",
       "\n",
       "    .dataframe tbody tr th {\n",
       "        vertical-align: top;\n",
       "    }\n",
       "\n",
       "    .dataframe thead tr th {\n",
       "        text-align: left;\n",
       "    }\n",
       "\n",
       "    .dataframe thead tr:last-of-type th {\n",
       "        text-align: right;\n",
       "    }\n",
       "</style>\n",
       "<table border=\"1\" class=\"dataframe\">\n",
       "  <thead>\n",
       "    <tr>\n",
       "      <th></th>\n",
       "      <th colspan=\"21\" halign=\"left\">sales</th>\n",
       "    </tr>\n",
       "    <tr>\n",
       "      <th>store_nbr</th>\n",
       "      <th colspan=\"10\" halign=\"left\">1</th>\n",
       "      <th>...</th>\n",
       "      <th colspan=\"10\" halign=\"left\">9</th>\n",
       "    </tr>\n",
       "    <tr>\n",
       "      <th>family</th>\n",
       "      <th>AUTOMOTIVE</th>\n",
       "      <th>BABY CARE</th>\n",
       "      <th>BEAUTY</th>\n",
       "      <th>BEVERAGES</th>\n",
       "      <th>BOOKS</th>\n",
       "      <th>BREAD/BAKERY</th>\n",
       "      <th>CELEBRATION</th>\n",
       "      <th>CLEANING</th>\n",
       "      <th>DAIRY</th>\n",
       "      <th>DELI</th>\n",
       "      <th>...</th>\n",
       "      <th>MAGAZINES</th>\n",
       "      <th>MEATS</th>\n",
       "      <th>PERSONAL CARE</th>\n",
       "      <th>PET SUPPLIES</th>\n",
       "      <th>PLAYERS AND ELECTRONICS</th>\n",
       "      <th>POULTRY</th>\n",
       "      <th>PREPARED FOODS</th>\n",
       "      <th>PRODUCE</th>\n",
       "      <th>SCHOOL AND OFFICE SUPPLIES</th>\n",
       "      <th>SEAFOOD</th>\n",
       "    </tr>\n",
       "    <tr>\n",
       "      <th>date</th>\n",
       "      <th></th>\n",
       "      <th></th>\n",
       "      <th></th>\n",
       "      <th></th>\n",
       "      <th></th>\n",
       "      <th></th>\n",
       "      <th></th>\n",
       "      <th></th>\n",
       "      <th></th>\n",
       "      <th></th>\n",
       "      <th></th>\n",
       "      <th></th>\n",
       "      <th></th>\n",
       "      <th></th>\n",
       "      <th></th>\n",
       "      <th></th>\n",
       "      <th></th>\n",
       "      <th></th>\n",
       "      <th></th>\n",
       "      <th></th>\n",
       "      <th></th>\n",
       "    </tr>\n",
       "  </thead>\n",
       "  <tbody>\n",
       "    <tr>\n",
       "      <th>2013-01-01</th>\n",
       "      <td>0.0</td>\n",
       "      <td>0.0</td>\n",
       "      <td>0.0</td>\n",
       "      <td>0.0</td>\n",
       "      <td>0.0</td>\n",
       "      <td>0.000000</td>\n",
       "      <td>0.0</td>\n",
       "      <td>0.0</td>\n",
       "      <td>0.0</td>\n",
       "      <td>0.000000</td>\n",
       "      <td>...</td>\n",
       "      <td>0.0</td>\n",
       "      <td>0.000000</td>\n",
       "      <td>0.0</td>\n",
       "      <td>0.0</td>\n",
       "      <td>0.0</td>\n",
       "      <td>0.000000</td>\n",
       "      <td>0.0</td>\n",
       "      <td>0.0</td>\n",
       "      <td>0.0</td>\n",
       "      <td>0.000000</td>\n",
       "    </tr>\n",
       "    <tr>\n",
       "      <th>2013-01-02</th>\n",
       "      <td>2.0</td>\n",
       "      <td>0.0</td>\n",
       "      <td>2.0</td>\n",
       "      <td>1091.0</td>\n",
       "      <td>0.0</td>\n",
       "      <td>470.652008</td>\n",
       "      <td>0.0</td>\n",
       "      <td>1060.0</td>\n",
       "      <td>579.0</td>\n",
       "      <td>164.069000</td>\n",
       "      <td>...</td>\n",
       "      <td>0.0</td>\n",
       "      <td>374.531006</td>\n",
       "      <td>482.0</td>\n",
       "      <td>0.0</td>\n",
       "      <td>0.0</td>\n",
       "      <td>651.291992</td>\n",
       "      <td>83.0</td>\n",
       "      <td>0.0</td>\n",
       "      <td>0.0</td>\n",
       "      <td>29.214001</td>\n",
       "    </tr>\n",
       "    <tr>\n",
       "      <th>2013-01-03</th>\n",
       "      <td>3.0</td>\n",
       "      <td>0.0</td>\n",
       "      <td>0.0</td>\n",
       "      <td>919.0</td>\n",
       "      <td>0.0</td>\n",
       "      <td>310.654999</td>\n",
       "      <td>0.0</td>\n",
       "      <td>836.0</td>\n",
       "      <td>453.0</td>\n",
       "      <td>151.582001</td>\n",
       "      <td>...</td>\n",
       "      <td>0.0</td>\n",
       "      <td>400.863007</td>\n",
       "      <td>372.0</td>\n",
       "      <td>0.0</td>\n",
       "      <td>0.0</td>\n",
       "      <td>509.496002</td>\n",
       "      <td>66.0</td>\n",
       "      <td>0.0</td>\n",
       "      <td>0.0</td>\n",
       "      <td>25.000000</td>\n",
       "    </tr>\n",
       "    <tr>\n",
       "      <th>2013-01-04</th>\n",
       "      <td>3.0</td>\n",
       "      <td>0.0</td>\n",
       "      <td>3.0</td>\n",
       "      <td>953.0</td>\n",
       "      <td>0.0</td>\n",
       "      <td>198.365997</td>\n",
       "      <td>0.0</td>\n",
       "      <td>827.0</td>\n",
       "      <td>460.0</td>\n",
       "      <td>131.410995</td>\n",
       "      <td>...</td>\n",
       "      <td>0.0</td>\n",
       "      <td>310.877991</td>\n",
       "      <td>324.0</td>\n",
       "      <td>0.0</td>\n",
       "      <td>0.0</td>\n",
       "      <td>332.671997</td>\n",
       "      <td>57.0</td>\n",
       "      <td>0.0</td>\n",
       "      <td>0.0</td>\n",
       "      <td>11.000000</td>\n",
       "    </tr>\n",
       "    <tr>\n",
       "      <th>2013-01-05</th>\n",
       "      <td>5.0</td>\n",
       "      <td>0.0</td>\n",
       "      <td>3.0</td>\n",
       "      <td>1160.0</td>\n",
       "      <td>0.0</td>\n",
       "      <td>301.057007</td>\n",
       "      <td>0.0</td>\n",
       "      <td>811.0</td>\n",
       "      <td>464.0</td>\n",
       "      <td>118.612999</td>\n",
       "      <td>...</td>\n",
       "      <td>0.0</td>\n",
       "      <td>447.684998</td>\n",
       "      <td>461.0</td>\n",
       "      <td>0.0</td>\n",
       "      <td>0.0</td>\n",
       "      <td>510.919006</td>\n",
       "      <td>84.0</td>\n",
       "      <td>0.0</td>\n",
       "      <td>0.0</td>\n",
       "      <td>28.361000</td>\n",
       "    </tr>\n",
       "  </tbody>\n",
       "</table>\n",
       "<p>5 rows × 1782 columns</p>\n",
       "</div>"
      ],
      "text/plain": [
       "                sales                                                \\\n",
       "store_nbr           1                                                 \n",
       "family     AUTOMOTIVE BABY CARE BEAUTY BEVERAGES BOOKS BREAD/BAKERY   \n",
       "date                                                                  \n",
       "2013-01-01        0.0       0.0    0.0       0.0   0.0     0.000000   \n",
       "2013-01-02        2.0       0.0    2.0    1091.0   0.0   470.652008   \n",
       "2013-01-03        3.0       0.0    0.0     919.0   0.0   310.654999   \n",
       "2013-01-04        3.0       0.0    3.0     953.0   0.0   198.365997   \n",
       "2013-01-05        5.0       0.0    3.0    1160.0   0.0   301.057007   \n",
       "\n",
       "                                                    ...                        \\\n",
       "store_nbr                                           ...         9               \n",
       "family     CELEBRATION CLEANING  DAIRY        DELI  ... MAGAZINES       MEATS   \n",
       "date                                                ...                         \n",
       "2013-01-01         0.0      0.0    0.0    0.000000  ...       0.0    0.000000   \n",
       "2013-01-02         0.0   1060.0  579.0  164.069000  ...       0.0  374.531006   \n",
       "2013-01-03         0.0    836.0  453.0  151.582001  ...       0.0  400.863007   \n",
       "2013-01-04         0.0    827.0  460.0  131.410995  ...       0.0  310.877991   \n",
       "2013-01-05         0.0    811.0  464.0  118.612999  ...       0.0  447.684998   \n",
       "\n",
       "                                                                           \\\n",
       "store_nbr                                                                   \n",
       "family     PERSONAL CARE PET SUPPLIES PLAYERS AND ELECTRONICS     POULTRY   \n",
       "date                                                                        \n",
       "2013-01-01           0.0          0.0                     0.0    0.000000   \n",
       "2013-01-02         482.0          0.0                     0.0  651.291992   \n",
       "2013-01-03         372.0          0.0                     0.0  509.496002   \n",
       "2013-01-04         324.0          0.0                     0.0  332.671997   \n",
       "2013-01-05         461.0          0.0                     0.0  510.919006   \n",
       "\n",
       "                                                                         \n",
       "store_nbr                                                                \n",
       "family     PREPARED FOODS PRODUCE SCHOOL AND OFFICE SUPPLIES    SEAFOOD  \n",
       "date                                                                     \n",
       "2013-01-01            0.0     0.0                        0.0   0.000000  \n",
       "2013-01-02           83.0     0.0                        0.0  29.214001  \n",
       "2013-01-03           66.0     0.0                        0.0  25.000000  \n",
       "2013-01-04           57.0     0.0                        0.0  11.000000  \n",
       "2013-01-05           84.0     0.0                        0.0  28.361000  \n",
       "\n",
       "[5 rows x 1782 columns]"
      ]
     },
     "execution_count": 10,
     "metadata": {},
     "output_type": "execute_result"
    }
   ],
   "source": [
    "y = store_sales.unstack(['store_nbr', 'family'])  # the target\n",
    "y.head()"
   ]
  },
  {
   "cell_type": "code",
   "execution_count": 11,
   "id": "e08b1a9b",
   "metadata": {
    "execution": {
     "iopub.execute_input": "2022-11-20T17:34:26.952498Z",
     "iopub.status.busy": "2022-11-20T17:34:26.952122Z",
     "iopub.status.idle": "2022-11-20T17:34:26.970501Z",
     "shell.execute_reply": "2022-11-20T17:34:26.968873Z"
    },
    "papermill": {
     "duration": 0.03119,
     "end_time": "2022-11-20T17:34:26.972996",
     "exception": false,
     "start_time": "2022-11-20T17:34:26.941806",
     "status": "completed"
    },
    "tags": []
   },
   "outputs": [
    {
     "data": {
      "text/html": [
       "<div>\n",
       "<style scoped>\n",
       "    .dataframe tbody tr th:only-of-type {\n",
       "        vertical-align: middle;\n",
       "    }\n",
       "\n",
       "    .dataframe tbody tr th {\n",
       "        vertical-align: top;\n",
       "    }\n",
       "\n",
       "    .dataframe thead th {\n",
       "        text-align: right;\n",
       "    }\n",
       "</style>\n",
       "<table border=\"1\" class=\"dataframe\">\n",
       "  <thead>\n",
       "    <tr style=\"text-align: right;\">\n",
       "      <th></th>\n",
       "      <th>const</th>\n",
       "      <th>trend</th>\n",
       "      <th>trend_squared</th>\n",
       "      <th>trend_cubed</th>\n",
       "    </tr>\n",
       "    <tr>\n",
       "      <th>date</th>\n",
       "      <th></th>\n",
       "      <th></th>\n",
       "      <th></th>\n",
       "      <th></th>\n",
       "    </tr>\n",
       "  </thead>\n",
       "  <tbody>\n",
       "    <tr>\n",
       "      <th>2013-01-01</th>\n",
       "      <td>1.0</td>\n",
       "      <td>1.0</td>\n",
       "      <td>1.0</td>\n",
       "      <td>1.0</td>\n",
       "    </tr>\n",
       "    <tr>\n",
       "      <th>2013-01-02</th>\n",
       "      <td>1.0</td>\n",
       "      <td>2.0</td>\n",
       "      <td>4.0</td>\n",
       "      <td>8.0</td>\n",
       "    </tr>\n",
       "    <tr>\n",
       "      <th>2013-01-03</th>\n",
       "      <td>1.0</td>\n",
       "      <td>3.0</td>\n",
       "      <td>9.0</td>\n",
       "      <td>27.0</td>\n",
       "    </tr>\n",
       "    <tr>\n",
       "      <th>2013-01-04</th>\n",
       "      <td>1.0</td>\n",
       "      <td>4.0</td>\n",
       "      <td>16.0</td>\n",
       "      <td>64.0</td>\n",
       "    </tr>\n",
       "    <tr>\n",
       "      <th>2013-01-05</th>\n",
       "      <td>1.0</td>\n",
       "      <td>5.0</td>\n",
       "      <td>25.0</td>\n",
       "      <td>125.0</td>\n",
       "    </tr>\n",
       "  </tbody>\n",
       "</table>\n",
       "</div>"
      ],
      "text/plain": [
       "            const  trend  trend_squared  trend_cubed\n",
       "date                                                \n",
       "2013-01-01    1.0    1.0            1.0          1.0\n",
       "2013-01-02    1.0    2.0            4.0          8.0\n",
       "2013-01-03    1.0    3.0            9.0         27.0\n",
       "2013-01-04    1.0    4.0           16.0         64.0\n",
       "2013-01-05    1.0    5.0           25.0        125.0"
      ]
     },
     "execution_count": 11,
     "metadata": {},
     "output_type": "execute_result"
    }
   ],
   "source": [
    "from statsmodels.tsa.deterministic import DeterministicProcess\n",
    "\n",
    "# Instantiate `DeterministicProcess` with arguments\n",
    "# appropriate for a cubic trend model\n",
    "dp = DeterministicProcess(\n",
    "    index=y.index,  # dates from the training data\n",
    "    constant=True,       # dummy feature for the bias (y_intercept)\n",
    "    order=3,             # the time dummy (trend): cubic trend\n",
    "    drop=True,           # drop terms if necessary to avoid collinearity\n",
    ")\n",
    "\n",
    "# YOUR CODE HERE: Create the feature set for the dates given in y.index\n",
    "X = dp.in_sample()\n",
    "\n",
    "X.head()"
   ]
  },
  {
   "cell_type": "code",
   "execution_count": 12,
   "id": "456b971e",
   "metadata": {
    "execution": {
     "iopub.execute_input": "2022-11-20T17:34:26.993039Z",
     "iopub.status.busy": "2022-11-20T17:34:26.991852Z",
     "iopub.status.idle": "2022-11-20T17:34:27.049094Z",
     "shell.execute_reply": "2022-11-20T17:34:27.047821Z"
    },
    "papermill": {
     "duration": 0.069538,
     "end_time": "2022-11-20T17:34:27.051494",
     "exception": false,
     "start_time": "2022-11-20T17:34:26.981956",
     "status": "completed"
    },
    "tags": []
   },
   "outputs": [],
   "source": [
    "model = LinearRegression()\n",
    "model.fit(X, y)\n",
    "\n",
    "y_pred = pd.DataFrame(model.predict(X), index=X.index, columns=y.columns)"
   ]
  },
  {
   "cell_type": "code",
   "execution_count": 13,
   "id": "5a0e5e98",
   "metadata": {
    "execution": {
     "iopub.execute_input": "2022-11-20T17:34:27.100485Z",
     "iopub.status.busy": "2022-11-20T17:34:27.099321Z",
     "iopub.status.idle": "2022-11-20T17:34:27.114851Z",
     "shell.execute_reply": "2022-11-20T17:34:27.114083Z"
    },
    "papermill": {
     "duration": 0.044825,
     "end_time": "2022-11-20T17:34:27.116835",
     "exception": false,
     "start_time": "2022-11-20T17:34:27.072010",
     "status": "completed"
    },
    "tags": []
   },
   "outputs": [
    {
     "data": {
      "text/html": [
       "<div>\n",
       "<style scoped>\n",
       "    .dataframe tbody tr th:only-of-type {\n",
       "        vertical-align: middle;\n",
       "    }\n",
       "\n",
       "    .dataframe tbody tr th {\n",
       "        vertical-align: top;\n",
       "    }\n",
       "\n",
       "    .dataframe thead th {\n",
       "        text-align: right;\n",
       "    }\n",
       "</style>\n",
       "<table border=\"1\" class=\"dataframe\">\n",
       "  <thead>\n",
       "    <tr style=\"text-align: right;\">\n",
       "      <th></th>\n",
       "      <th>const</th>\n",
       "      <th>trend</th>\n",
       "      <th>trend_squared</th>\n",
       "      <th>trend_cubed</th>\n",
       "    </tr>\n",
       "    <tr>\n",
       "      <th>date</th>\n",
       "      <th></th>\n",
       "      <th></th>\n",
       "      <th></th>\n",
       "      <th></th>\n",
       "    </tr>\n",
       "  </thead>\n",
       "  <tbody>\n",
       "    <tr>\n",
       "      <th>2017-08-16</th>\n",
       "      <td>1.0</td>\n",
       "      <td>1685.0</td>\n",
       "      <td>2839225.0</td>\n",
       "      <td>4.784094e+09</td>\n",
       "    </tr>\n",
       "    <tr>\n",
       "      <th>2017-08-17</th>\n",
       "      <td>1.0</td>\n",
       "      <td>1686.0</td>\n",
       "      <td>2842596.0</td>\n",
       "      <td>4.792617e+09</td>\n",
       "    </tr>\n",
       "    <tr>\n",
       "      <th>2017-08-18</th>\n",
       "      <td>1.0</td>\n",
       "      <td>1687.0</td>\n",
       "      <td>2845969.0</td>\n",
       "      <td>4.801150e+09</td>\n",
       "    </tr>\n",
       "    <tr>\n",
       "      <th>2017-08-19</th>\n",
       "      <td>1.0</td>\n",
       "      <td>1688.0</td>\n",
       "      <td>2849344.0</td>\n",
       "      <td>4.809693e+09</td>\n",
       "    </tr>\n",
       "    <tr>\n",
       "      <th>2017-08-20</th>\n",
       "      <td>1.0</td>\n",
       "      <td>1689.0</td>\n",
       "      <td>2852721.0</td>\n",
       "      <td>4.818246e+09</td>\n",
       "    </tr>\n",
       "  </tbody>\n",
       "</table>\n",
       "</div>"
      ],
      "text/plain": [
       "            const   trend  trend_squared   trend_cubed\n",
       "date                                                  \n",
       "2017-08-16    1.0  1685.0      2839225.0  4.784094e+09\n",
       "2017-08-17    1.0  1686.0      2842596.0  4.792617e+09\n",
       "2017-08-18    1.0  1687.0      2845969.0  4.801150e+09\n",
       "2017-08-19    1.0  1688.0      2849344.0  4.809693e+09\n",
       "2017-08-20    1.0  1689.0      2852721.0  4.818246e+09"
      ]
     },
     "execution_count": 13,
     "metadata": {},
     "output_type": "execute_result"
    }
   ],
   "source": [
    "# Create features for test set\n",
    "X_test = dp.out_of_sample(steps=16)\n",
    "X_test.index.name = 'date'\n",
    "\n",
    "X_test.head()"
   ]
  },
  {
   "cell_type": "code",
   "execution_count": 14,
   "id": "b64f75d2",
   "metadata": {
    "execution": {
     "iopub.execute_input": "2022-11-20T17:34:27.157360Z",
     "iopub.status.busy": "2022-11-20T17:34:27.157000Z",
     "iopub.status.idle": "2022-11-20T17:34:27.507336Z",
     "shell.execute_reply": "2022-11-20T17:34:27.506312Z"
    },
    "papermill": {
     "duration": 0.374527,
     "end_time": "2022-11-20T17:34:27.509190",
     "exception": false,
     "start_time": "2022-11-20T17:34:27.134663",
     "status": "completed"
    },
    "tags": []
   },
   "outputs": [
    {
     "data": {
      "text/html": [
       "<div>\n",
       "<style scoped>\n",
       "    .dataframe tbody tr th:only-of-type {\n",
       "        vertical-align: middle;\n",
       "    }\n",
       "\n",
       "    .dataframe tbody tr th {\n",
       "        vertical-align: top;\n",
       "    }\n",
       "\n",
       "    .dataframe thead th {\n",
       "        text-align: right;\n",
       "    }\n",
       "</style>\n",
       "<table border=\"1\" class=\"dataframe\">\n",
       "  <thead>\n",
       "    <tr style=\"text-align: right;\">\n",
       "      <th></th>\n",
       "      <th></th>\n",
       "      <th></th>\n",
       "      <th>id</th>\n",
       "      <th>sales</th>\n",
       "    </tr>\n",
       "    <tr>\n",
       "      <th>date</th>\n",
       "      <th>store_nbr</th>\n",
       "      <th>family</th>\n",
       "      <th></th>\n",
       "      <th></th>\n",
       "    </tr>\n",
       "  </thead>\n",
       "  <tbody>\n",
       "    <tr>\n",
       "      <th rowspan=\"5\" valign=\"top\">2017-08-16</th>\n",
       "      <th rowspan=\"5\" valign=\"top\">1</th>\n",
       "      <th>AUTOMOTIVE</th>\n",
       "      <td>3000888</td>\n",
       "      <td>4.061261</td>\n",
       "    </tr>\n",
       "    <tr>\n",
       "      <th>BABY CARE</th>\n",
       "      <td>3000889</td>\n",
       "      <td>0.000000</td>\n",
       "    </tr>\n",
       "    <tr>\n",
       "      <th>BEAUTY</th>\n",
       "      <td>3000890</td>\n",
       "      <td>3.618728</td>\n",
       "    </tr>\n",
       "    <tr>\n",
       "      <th>BEVERAGES</th>\n",
       "      <td>3000891</td>\n",
       "      <td>2164.202471</td>\n",
       "    </tr>\n",
       "    <tr>\n",
       "      <th>BOOKS</th>\n",
       "      <td>3000892</td>\n",
       "      <td>0.639958</td>\n",
       "    </tr>\n",
       "  </tbody>\n",
       "</table>\n",
       "</div>"
      ],
      "text/plain": [
       "                                      id        sales\n",
       "date       store_nbr family                          \n",
       "2017-08-16 1         AUTOMOTIVE  3000888     4.061261\n",
       "                     BABY CARE   3000889     0.000000\n",
       "                     BEAUTY      3000890     3.618728\n",
       "                     BEVERAGES   3000891  2164.202471\n",
       "                     BOOKS       3000892     0.639958"
      ]
     },
     "execution_count": 14,
     "metadata": {},
     "output_type": "execute_result"
    }
   ],
   "source": [
    "y_submit = pd.DataFrame(model.predict(X_test), index=X_test.index, columns=y.columns)\n",
    "y_submit = y_submit.stack(['store_nbr', 'family'])\n",
    "y_submit = y_submit.join(df_test.id).reindex(columns=['id', 'sales'])\n",
    "y_submit.to_csv('submission_trend.csv', index=False)\n",
    "\n",
    "y_submit.head()"
   ]
  },
  {
   "cell_type": "code",
   "execution_count": null,
   "id": "d0f0eb74",
   "metadata": {
    "papermill": {
     "duration": 0.009204,
     "end_time": "2022-11-20T17:34:27.527815",
     "exception": false,
     "start_time": "2022-11-20T17:34:27.518611",
     "status": "completed"
    },
    "tags": []
   },
   "outputs": [],
   "source": []
  }
 ],
 "metadata": {
  "kernelspec": {
   "display_name": "Python 3",
   "language": "python",
   "name": "python3"
  },
  "language_info": {
   "codemirror_mode": {
    "name": "ipython",
    "version": 3
   },
   "file_extension": ".py",
   "mimetype": "text/x-python",
   "name": "python",
   "nbconvert_exporter": "python",
   "pygments_lexer": "ipython3",
   "version": "3.7.12"
  },
  "papermill": {
   "default_parameters": {},
   "duration": 22.357238,
   "end_time": "2022-11-20T17:34:28.357343",
   "environment_variables": {},
   "exception": null,
   "input_path": "__notebook__.ipynb",
   "output_path": "__notebook__.ipynb",
   "parameters": {},
   "start_time": "2022-11-20T17:34:06.000105",
   "version": "2.3.4"
  }
 },
 "nbformat": 4,
 "nbformat_minor": 5
}
