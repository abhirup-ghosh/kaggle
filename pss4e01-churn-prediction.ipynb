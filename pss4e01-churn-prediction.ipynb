{
 "cells": [
  {
   "cell_type": "code",
   "execution_count": 1,
   "id": "5b24a603",
   "metadata": {
    "_kg_hide-input": true,
    "execution": {
     "iopub.execute_input": "2024-01-07T19:05:02.621797Z",
     "iopub.status.busy": "2024-01-07T19:05:02.620642Z",
     "iopub.status.idle": "2024-01-07T19:05:07.335247Z",
     "shell.execute_reply": "2024-01-07T19:05:07.334010Z"
    },
    "papermill": {
     "duration": 4.726541,
     "end_time": "2024-01-07T19:05:07.337997",
     "exception": false,
     "start_time": "2024-01-07T19:05:02.611456",
     "status": "completed"
    },
    "tags": []
   },
   "outputs": [],
   "source": [
    "import numpy as np\n",
    "import pandas as pd\n",
    "import os\n",
    "import matplotlib.pyplot as plt\n",
    "import seaborn as sns\n",
    "\n",
    "from sklearn.model_selection import train_test_split, GridSearchCV, KFold\n",
    "from sklearn.preprocessing import StandardScaler, LabelEncoder, OrdinalEncoder, OneHotEncoder, MinMaxScaler\n",
    "from sklearn.pipeline import Pipeline\n",
    "from sklearn.compose import ColumnTransformer\n",
    "from sklearn.metrics import roc_auc_score\n",
    "\n",
    "from imblearn.over_sampling import SMOTE\n",
    "\n",
    "import xgboost as xgb\n",
    "import lightgbm as lgbm\n",
    "\n",
    "\n",
    "sns.set_style(\"whitegrid\")\n",
    "sns.set_palette('muted')"
   ]
  },
  {
   "cell_type": "code",
   "execution_count": 2,
   "id": "2a73c905",
   "metadata": {
    "_kg_hide-input": true,
    "execution": {
     "iopub.execute_input": "2024-01-07T19:05:07.354572Z",
     "iopub.status.busy": "2024-01-07T19:05:07.354118Z",
     "iopub.status.idle": "2024-01-07T19:05:07.362619Z",
     "shell.execute_reply": "2024-01-07T19:05:07.361372Z"
    },
    "papermill": {
     "duration": 0.01994,
     "end_time": "2024-01-07T19:05:07.365538",
     "exception": false,
     "start_time": "2024-01-07T19:05:07.345598",
     "status": "completed"
    },
    "tags": []
   },
   "outputs": [
    {
     "name": "stdout",
     "output_type": "stream",
     "text": [
      "/kaggle/input/playground-series-s4e1/sample_submission.csv\n",
      "/kaggle/input/playground-series-s4e1/train.csv\n",
      "/kaggle/input/playground-series-s4e1/test.csv\n"
     ]
    }
   ],
   "source": [
    "for dirname, _, filenames in os.walk('/kaggle/input'):\n",
    "    for filename in filenames:\n",
    "        print(os.path.join(dirname, filename))"
   ]
  },
  {
   "cell_type": "code",
   "execution_count": 3,
   "id": "e51e787d",
   "metadata": {
    "_kg_hide-input": true,
    "execution": {
     "iopub.execute_input": "2024-01-07T19:05:07.383927Z",
     "iopub.status.busy": "2024-01-07T19:05:07.383466Z",
     "iopub.status.idle": "2024-01-07T19:05:08.279230Z",
     "shell.execute_reply": "2024-01-07T19:05:08.277323Z"
    },
    "papermill": {
     "duration": 0.910116,
     "end_time": "2024-01-07T19:05:08.283020",
     "exception": false,
     "start_time": "2024-01-07T19:05:07.372904",
     "status": "completed"
    },
    "tags": []
   },
   "outputs": [],
   "source": [
    "data_loc = '/kaggle/input/playground-series-s4e1/'\n",
    "train = pd.read_csv(data_loc + 'train.csv')\n",
    "test = pd.read_csv(data_loc + 'test.csv')\n",
    "submission = pd.read_csv(data_loc + 'sample_submission.csv')"
   ]
  },
  {
   "cell_type": "code",
   "execution_count": 4,
   "id": "5238e0f2",
   "metadata": {
    "execution": {
     "iopub.execute_input": "2024-01-07T19:05:08.300535Z",
     "iopub.status.busy": "2024-01-07T19:05:08.300075Z",
     "iopub.status.idle": "2024-01-07T19:05:08.329275Z",
     "shell.execute_reply": "2024-01-07T19:05:08.328280Z"
    },
    "papermill": {
     "duration": 0.040601,
     "end_time": "2024-01-07T19:05:08.331876",
     "exception": false,
     "start_time": "2024-01-07T19:05:08.291275",
     "status": "completed"
    },
    "tags": []
   },
   "outputs": [
    {
     "data": {
      "text/html": [
       "<div>\n",
       "<style scoped>\n",
       "    .dataframe tbody tr th:only-of-type {\n",
       "        vertical-align: middle;\n",
       "    }\n",
       "\n",
       "    .dataframe tbody tr th {\n",
       "        vertical-align: top;\n",
       "    }\n",
       "\n",
       "    .dataframe thead th {\n",
       "        text-align: right;\n",
       "    }\n",
       "</style>\n",
       "<table border=\"1\" class=\"dataframe\">\n",
       "  <thead>\n",
       "    <tr style=\"text-align: right;\">\n",
       "      <th></th>\n",
       "      <th>0</th>\n",
       "      <th>1</th>\n",
       "      <th>2</th>\n",
       "      <th>3</th>\n",
       "      <th>4</th>\n",
       "    </tr>\n",
       "  </thead>\n",
       "  <tbody>\n",
       "    <tr>\n",
       "      <th>id</th>\n",
       "      <td>0</td>\n",
       "      <td>1</td>\n",
       "      <td>2</td>\n",
       "      <td>3</td>\n",
       "      <td>4</td>\n",
       "    </tr>\n",
       "    <tr>\n",
       "      <th>CustomerId</th>\n",
       "      <td>15674932</td>\n",
       "      <td>15749177</td>\n",
       "      <td>15694510</td>\n",
       "      <td>15741417</td>\n",
       "      <td>15766172</td>\n",
       "    </tr>\n",
       "    <tr>\n",
       "      <th>Surname</th>\n",
       "      <td>Okwudilichukwu</td>\n",
       "      <td>Okwudiliolisa</td>\n",
       "      <td>Hsueh</td>\n",
       "      <td>Kao</td>\n",
       "      <td>Chiemenam</td>\n",
       "    </tr>\n",
       "    <tr>\n",
       "      <th>CreditScore</th>\n",
       "      <td>668</td>\n",
       "      <td>627</td>\n",
       "      <td>678</td>\n",
       "      <td>581</td>\n",
       "      <td>716</td>\n",
       "    </tr>\n",
       "    <tr>\n",
       "      <th>Geography</th>\n",
       "      <td>France</td>\n",
       "      <td>France</td>\n",
       "      <td>France</td>\n",
       "      <td>France</td>\n",
       "      <td>Spain</td>\n",
       "    </tr>\n",
       "    <tr>\n",
       "      <th>Gender</th>\n",
       "      <td>Male</td>\n",
       "      <td>Male</td>\n",
       "      <td>Male</td>\n",
       "      <td>Male</td>\n",
       "      <td>Male</td>\n",
       "    </tr>\n",
       "    <tr>\n",
       "      <th>Age</th>\n",
       "      <td>33.0</td>\n",
       "      <td>33.0</td>\n",
       "      <td>40.0</td>\n",
       "      <td>34.0</td>\n",
       "      <td>33.0</td>\n",
       "    </tr>\n",
       "    <tr>\n",
       "      <th>Tenure</th>\n",
       "      <td>3</td>\n",
       "      <td>1</td>\n",
       "      <td>10</td>\n",
       "      <td>2</td>\n",
       "      <td>5</td>\n",
       "    </tr>\n",
       "    <tr>\n",
       "      <th>Balance</th>\n",
       "      <td>0.0</td>\n",
       "      <td>0.0</td>\n",
       "      <td>0.0</td>\n",
       "      <td>148882.54</td>\n",
       "      <td>0.0</td>\n",
       "    </tr>\n",
       "    <tr>\n",
       "      <th>NumOfProducts</th>\n",
       "      <td>2</td>\n",
       "      <td>2</td>\n",
       "      <td>2</td>\n",
       "      <td>1</td>\n",
       "      <td>2</td>\n",
       "    </tr>\n",
       "    <tr>\n",
       "      <th>HasCrCard</th>\n",
       "      <td>1.0</td>\n",
       "      <td>1.0</td>\n",
       "      <td>1.0</td>\n",
       "      <td>1.0</td>\n",
       "      <td>1.0</td>\n",
       "    </tr>\n",
       "    <tr>\n",
       "      <th>IsActiveMember</th>\n",
       "      <td>0.0</td>\n",
       "      <td>1.0</td>\n",
       "      <td>0.0</td>\n",
       "      <td>1.0</td>\n",
       "      <td>1.0</td>\n",
       "    </tr>\n",
       "    <tr>\n",
       "      <th>EstimatedSalary</th>\n",
       "      <td>181449.97</td>\n",
       "      <td>49503.5</td>\n",
       "      <td>184866.69</td>\n",
       "      <td>84560.88</td>\n",
       "      <td>15068.83</td>\n",
       "    </tr>\n",
       "    <tr>\n",
       "      <th>Exited</th>\n",
       "      <td>0</td>\n",
       "      <td>0</td>\n",
       "      <td>0</td>\n",
       "      <td>0</td>\n",
       "      <td>0</td>\n",
       "    </tr>\n",
       "  </tbody>\n",
       "</table>\n",
       "</div>"
      ],
      "text/plain": [
       "                              0              1          2          3  \\\n",
       "id                            0              1          2          3   \n",
       "CustomerId             15674932       15749177   15694510   15741417   \n",
       "Surname          Okwudilichukwu  Okwudiliolisa      Hsueh        Kao   \n",
       "CreditScore                 668            627        678        581   \n",
       "Geography                France         France     France     France   \n",
       "Gender                     Male           Male       Male       Male   \n",
       "Age                        33.0           33.0       40.0       34.0   \n",
       "Tenure                        3              1         10          2   \n",
       "Balance                     0.0            0.0        0.0  148882.54   \n",
       "NumOfProducts                 2              2          2          1   \n",
       "HasCrCard                   1.0            1.0        1.0        1.0   \n",
       "IsActiveMember              0.0            1.0        0.0        1.0   \n",
       "EstimatedSalary       181449.97        49503.5  184866.69   84560.88   \n",
       "Exited                        0              0          0          0   \n",
       "\n",
       "                         4  \n",
       "id                       4  \n",
       "CustomerId        15766172  \n",
       "Surname          Chiemenam  \n",
       "CreditScore            716  \n",
       "Geography            Spain  \n",
       "Gender                Male  \n",
       "Age                   33.0  \n",
       "Tenure                   5  \n",
       "Balance                0.0  \n",
       "NumOfProducts            2  \n",
       "HasCrCard              1.0  \n",
       "IsActiveMember         1.0  \n",
       "EstimatedSalary   15068.83  \n",
       "Exited                   0  "
      ]
     },
     "metadata": {},
     "output_type": "display_data"
    }
   ],
   "source": [
    "display(train.head().T)\n",
    "#display(test.head().T)\n",
    "#display(submission.head())"
   ]
  },
  {
   "cell_type": "code",
   "execution_count": 5,
   "id": "c8a13dd3",
   "metadata": {
    "execution": {
     "iopub.execute_input": "2024-01-07T19:05:08.350007Z",
     "iopub.status.busy": "2024-01-07T19:05:08.349525Z",
     "iopub.status.idle": "2024-01-07T19:05:08.517708Z",
     "shell.execute_reply": "2024-01-07T19:05:08.516561Z"
    },
    "papermill": {
     "duration": 0.180498,
     "end_time": "2024-01-07T19:05:08.520300",
     "exception": false,
     "start_time": "2024-01-07T19:05:08.339802",
     "status": "completed"
    },
    "tags": []
   },
   "outputs": [
    {
     "name": "stdout",
     "output_type": "stream",
     "text": [
      "<class 'pandas.core.frame.DataFrame'>\n",
      "RangeIndex: 165034 entries, 0 to 165033\n",
      "Data columns (total 14 columns):\n",
      " #   Column           Non-Null Count   Dtype  \n",
      "---  ------           --------------   -----  \n",
      " 0   id               165034 non-null  int64  \n",
      " 1   CustomerId       165034 non-null  int64  \n",
      " 2   Surname          165034 non-null  object \n",
      " 3   CreditScore      165034 non-null  int64  \n",
      " 4   Geography        165034 non-null  object \n",
      " 5   Gender           165034 non-null  object \n",
      " 6   Age              165034 non-null  float64\n",
      " 7   Tenure           165034 non-null  int64  \n",
      " 8   Balance          165034 non-null  float64\n",
      " 9   NumOfProducts    165034 non-null  int64  \n",
      " 10  HasCrCard        165034 non-null  float64\n",
      " 11  IsActiveMember   165034 non-null  float64\n",
      " 12  EstimatedSalary  165034 non-null  float64\n",
      " 13  Exited           165034 non-null  int64  \n",
      "dtypes: float64(5), int64(6), object(3)\n",
      "memory usage: 17.6+ MB\n"
     ]
    },
    {
     "data": {
      "text/plain": [
       "id                 165034\n",
       "CustomerId          23221\n",
       "Surname              2797\n",
       "CreditScore           457\n",
       "Geography               3\n",
       "Gender                  2\n",
       "Age                    71\n",
       "Tenure                 11\n",
       "Balance             30075\n",
       "NumOfProducts           4\n",
       "HasCrCard               2\n",
       "IsActiveMember          2\n",
       "EstimatedSalary     55298\n",
       "Exited                  2\n",
       "dtype: int64"
      ]
     },
     "execution_count": 5,
     "metadata": {},
     "output_type": "execute_result"
    }
   ],
   "source": [
    "train.info()\n",
    "#train.isnull().sum()\n",
    "#train.describe(include='all')\n",
    "train.nunique()"
   ]
  },
  {
   "cell_type": "code",
   "execution_count": 6,
   "id": "eaa82635",
   "metadata": {
    "execution": {
     "iopub.execute_input": "2024-01-07T19:05:08.539316Z",
     "iopub.status.busy": "2024-01-07T19:05:08.538859Z",
     "iopub.status.idle": "2024-01-07T19:05:09.193739Z",
     "shell.execute_reply": "2024-01-07T19:05:09.192423Z"
    },
    "papermill": {
     "duration": 0.667892,
     "end_time": "2024-01-07T19:05:09.196497",
     "exception": false,
     "start_time": "2024-01-07T19:05:08.528605",
     "status": "completed"
    },
    "tags": []
   },
   "outputs": [],
   "source": [
    "def prepare_data(df):\n",
    "    \n",
    "    # Make the column names lower-case\n",
    "    df.columns = df.columns.str.lower()\n",
    "    \n",
    "    # Make the string values of categorical columns lower-case and uniform\n",
    "    categorical_columns = df.dtypes[df.dtypes == 'object'].index.tolist()\n",
    "\n",
    "    for col in categorical_columns:\n",
    "        df[col] = df[col].str.lower()\n",
    "    \n",
    "    # Feature engineering\n",
    "    df['balance_high'] = df['balance'] > 10\n",
    "    \n",
    "    # replace number of products greater than 2, by 3\n",
    "    df['numofproducts'] = df['numofproducts'].replace(4, 3)\n",
    "\n",
    "    bins = [18, 40, 60, 100]  # Define age bins\n",
    "    labels = ['young', 'middleaged', 'senior']  # Labels for each category\n",
    "    df['agecategory'] = pd.cut(df['age'], bins=bins, labels=labels, right=False)\n",
    "\n",
    "    df['balance_credit_ratio'] = df['balance'] / df['creditscore']\n",
    "    df['credit_utilization'] = df['balance'] / (df['hascrcard'] * df['creditscore'] + 1)  # Adding 1 to avoid division by zero\n",
    "    df['tenure_age_ratio'] = df['tenure'] / df['age']\n",
    "    df['geo_gender_interaction'] = df['geography'] + '_' + df['gender']\n",
    "    \n",
    "    # Binarise 'gender' and 'geography'\n",
    "    df['gender'] = (df['gender'] == 'male').astype(int)\n",
    "    df['geography'] = (df['geography'] == 'germany').astype(int)\n",
    "    \n",
    "    # numerical transformations\n",
    "    for col in ['creditscore', 'age', 'balance', 'estimatedsalary']:\n",
    "        df[f'{col}_square'] = df[col]*df[col]\n",
    "        df[f'{col}_sqrt'] = np.sqrt(df[col])\n",
    "        df[f'{col}_log'] = np.log1p(df[col])\n",
    "\n",
    "    \n",
    "    return df\n",
    "\n",
    "train = prepare_data(train)\n",
    "test = prepare_data(test)"
   ]
  },
  {
   "cell_type": "code",
   "execution_count": 7,
   "id": "1f10499e",
   "metadata": {
    "execution": {
     "iopub.execute_input": "2024-01-07T19:05:09.214904Z",
     "iopub.status.busy": "2024-01-07T19:05:09.214507Z",
     "iopub.status.idle": "2024-01-07T19:05:09.221712Z",
     "shell.execute_reply": "2024-01-07T19:05:09.220249Z"
    },
    "papermill": {
     "duration": 0.019432,
     "end_time": "2024-01-07T19:05:09.224271",
     "exception": false,
     "start_time": "2024-01-07T19:05:09.204839",
     "status": "completed"
    },
    "tags": []
   },
   "outputs": [],
   "source": [
    "dep_var = 'exited'\n",
    "\n",
    "fe_cols = ['surname', 'customerid', 'id', 'tenure_age_ratio']\n",
    "le_cols = ['gender', 'hascrcard', 'isactivemember', 'geography', 'balance_high']\n",
    "ohe_cols = ['numofproducts', 'geo_gender_interaction', 'agecategory']\n",
    "\n",
    "cat_cols = fe_cols + le_cols + ohe_cols\n",
    "\n",
    "num_cols = ['creditscore', 'age', 'balance', 'estimatedsalary', \n",
    "            'credit_utilization', 'balance_credit_ratio',\n",
    "           'creditscore_square', 'creditscore_sqrt',\n",
    "           'creditscore_log', 'age_square', 'age_sqrt', 'age_log',\n",
    "           'balance_square', 'balance_sqrt', 'balance_log',\n",
    "           'estimatedsalary_square', 'estimatedsalary_sqrt',\n",
    "           'estimatedsalary_log']"
   ]
  },
  {
   "cell_type": "code",
   "execution_count": 8,
   "id": "ccbecfe4",
   "metadata": {
    "execution": {
     "iopub.execute_input": "2024-01-07T19:05:09.242335Z",
     "iopub.status.busy": "2024-01-07T19:05:09.241930Z",
     "iopub.status.idle": "2024-01-07T19:05:09.250792Z",
     "shell.execute_reply": "2024-01-07T19:05:09.249549Z"
    },
    "papermill": {
     "duration": 0.020962,
     "end_time": "2024-01-07T19:05:09.253229",
     "exception": false,
     "start_time": "2024-01-07T19:05:09.232267",
     "status": "completed"
    },
    "tags": []
   },
   "outputs": [
    {
     "data": {
      "text/plain": [
       "'%matplotlib inline\\n\\ncmap = plt.get_cmap(\"tab20c\")\\ncolors = cmap(range(len(cat_cols)))\\n\\nfig, axs = plt.subplots(ncols=len(cat_cols), nrows=1, figsize=(int(3*len(cat_cols)+1),3))\\naxs = axs.flatten()\\n\\nfor idx, col in enumerate(cat_cols[1:] + [dep_var]):\\n    #display(df[col].value_counts(normalize=True))\\n    train[col].value_counts(normalize=True).plot.barh(ax=axs[idx], color=colors[idx], ylabel=\\'\\')\\n    axs[idx].set_title(col)\\n    \\nfig.suptitle(\\'Categorical Variables: Value Counts\\')\\nplt.tight_layout()\\n\\ncmap = plt.get_cmap(\"tab20c\")\\ncolors = cmap(range(len(num_cols)))\\n\\nfig, axs = plt.subplots(ncols=len(num_cols), nrows=1, figsize=(3*int(len(num_cols)),3))\\naxs = axs.flatten()\\n\\nfor idx, col in enumerate(num_cols):\\n    if col == \\'balance\\':\\n        train[train.balance > 10][col].plot.hist(ax=axs[idx], bins=20, color=colors[idx], ylabel=\\'\\')\\n        axs[idx].set_title(\\'balance > 10\\')\\n    #display(df[col].value_counts(normalize=True))\\n    else: \\n        train[col].plot.hist(ax=axs[idx], bins=20, color=colors[idx], ylabel=\\'\\')\\n        axs[idx].set_title(col)\\n    \\nfig.suptitle(\\'Numerical Variables: Normalised historgrams\\')\\nplt.tight_layout()'"
      ]
     },
     "execution_count": 8,
     "metadata": {},
     "output_type": "execute_result"
    }
   ],
   "source": [
    "\"\"\"%matplotlib inline\n",
    "\n",
    "cmap = plt.get_cmap(\"tab20c\")\n",
    "colors = cmap(range(len(cat_cols)))\n",
    "\n",
    "fig, axs = plt.subplots(ncols=len(cat_cols), nrows=1, figsize=(int(3*len(cat_cols)+1),3))\n",
    "axs = axs.flatten()\n",
    "\n",
    "for idx, col in enumerate(cat_cols[1:] + [dep_var]):\n",
    "    #display(df[col].value_counts(normalize=True))\n",
    "    train[col].value_counts(normalize=True).plot.barh(ax=axs[idx], color=colors[idx], ylabel='')\n",
    "    axs[idx].set_title(col)\n",
    "    \n",
    "fig.suptitle('Categorical Variables: Value Counts')\n",
    "plt.tight_layout()\n",
    "\n",
    "cmap = plt.get_cmap(\"tab20c\")\n",
    "colors = cmap(range(len(num_cols)))\n",
    "\n",
    "fig, axs = plt.subplots(ncols=len(num_cols), nrows=1, figsize=(3*int(len(num_cols)),3))\n",
    "axs = axs.flatten()\n",
    "\n",
    "for idx, col in enumerate(num_cols):\n",
    "    if col == 'balance':\n",
    "        train[train.balance > 10][col].plot.hist(ax=axs[idx], bins=20, color=colors[idx], ylabel='')\n",
    "        axs[idx].set_title('balance > 10')\n",
    "    #display(df[col].value_counts(normalize=True))\n",
    "    else: \n",
    "        train[col].plot.hist(ax=axs[idx], bins=20, color=colors[idx], ylabel='')\n",
    "        axs[idx].set_title(col)\n",
    "    \n",
    "fig.suptitle('Numerical Variables: Normalised historgrams')\n",
    "plt.tight_layout()\"\"\""
   ]
  },
  {
   "cell_type": "code",
   "execution_count": 9,
   "id": "1721f64c",
   "metadata": {
    "execution": {
     "iopub.execute_input": "2024-01-07T19:05:09.271559Z",
     "iopub.status.busy": "2024-01-07T19:05:09.271137Z",
     "iopub.status.idle": "2024-01-07T19:05:09.277866Z",
     "shell.execute_reply": "2024-01-07T19:05:09.276775Z"
    },
    "papermill": {
     "duration": 0.018944,
     "end_time": "2024-01-07T19:05:09.280366",
     "exception": false,
     "start_time": "2024-01-07T19:05:09.261422",
     "status": "completed"
    },
    "tags": []
   },
   "outputs": [],
   "source": [
    "y_train = train['exited'].values\n",
    "\n",
    "del train['exited']"
   ]
  },
  {
   "cell_type": "code",
   "execution_count": 10,
   "id": "4a539761",
   "metadata": {
    "execution": {
     "iopub.execute_input": "2024-01-07T19:05:09.298947Z",
     "iopub.status.busy": "2024-01-07T19:05:09.298550Z",
     "iopub.status.idle": "2024-01-07T19:05:10.486935Z",
     "shell.execute_reply": "2024-01-07T19:05:10.485433Z"
    },
    "papermill": {
     "duration": 1.201202,
     "end_time": "2024-01-07T19:05:10.489980",
     "exception": false,
     "start_time": "2024-01-07T19:05:09.288778",
     "status": "completed"
    },
    "tags": []
   },
   "outputs": [
    {
     "name": "stderr",
     "output_type": "stream",
     "text": [
      "/opt/conda/lib/python3.10/site-packages/sklearn/preprocessing/_encoders.py:868: FutureWarning: `sparse` was renamed to `sparse_output` in version 1.2 and will be removed in 1.4. `sparse_output` is ignored unless you leave `sparse` to its default value.\n",
      "  warnings.warn(\n"
     ]
    }
   ],
   "source": [
    "scaler = StandardScaler()\n",
    "X_train_num = scaler.fit_transform(train[num_cols])\n",
    "X_test_num = scaler.transform(test[num_cols])\n",
    "\n",
    "ordinal_encoder = OrdinalEncoder(handle_unknown='use_encoded_value', unknown_value=-1)\n",
    "X_train_fe = ordinal_encoder.fit_transform(train[fe_cols])\n",
    "X_test_fe = ordinal_encoder.transform(test[fe_cols])\n",
    "\n",
    "label = LabelEncoder()\n",
    "X_train_le = train[le_cols].apply(label.fit_transform).values\n",
    "X_test_le = test[le_cols].apply(label.transform).values\n",
    "\n",
    "ohe = OneHotEncoder(sparse=False, handle_unknown='ignore')\n",
    "X_train_ohe = ohe.fit_transform(train[ohe_cols])\n",
    "X_test_ohe = ohe.transform(test[ohe_cols])\n",
    "ohe_features = ohe.get_feature_names_out().tolist()\n",
    "\n",
    "X_train = np.column_stack([X_train_num, X_train_fe, X_train_le, X_train_ohe])\n",
    "X_test = np.column_stack([X_test_num, X_test_fe, X_test_le, X_test_ohe])\n",
    "\n",
    "feature_names = num_cols + le_cols + fe_cols + ohe_features"
   ]
  },
  {
   "cell_type": "code",
   "execution_count": 11,
   "id": "290bf490",
   "metadata": {
    "execution": {
     "iopub.execute_input": "2024-01-07T19:05:10.510054Z",
     "iopub.status.busy": "2024-01-07T19:05:10.509605Z",
     "iopub.status.idle": "2024-01-07T19:05:10.518817Z",
     "shell.execute_reply": "2024-01-07T19:05:10.517169Z"
    },
    "papermill": {
     "duration": 0.02231,
     "end_time": "2024-01-07T19:05:10.521547",
     "exception": false,
     "start_time": "2024-01-07T19:05:10.499237",
     "status": "completed"
    },
    "tags": []
   },
   "outputs": [
    {
     "data": {
      "text/plain": [
       "(165034, 39)"
      ]
     },
     "execution_count": 11,
     "metadata": {},
     "output_type": "execute_result"
    }
   ],
   "source": [
    "X_train.shape"
   ]
  },
  {
   "cell_type": "code",
   "execution_count": 12,
   "id": "36d51197",
   "metadata": {
    "execution": {
     "iopub.execute_input": "2024-01-07T19:05:10.540757Z",
     "iopub.status.busy": "2024-01-07T19:05:10.540029Z",
     "iopub.status.idle": "2024-01-07T19:05:10.548715Z",
     "shell.execute_reply": "2024-01-07T19:05:10.547454Z"
    },
    "papermill": {
     "duration": 0.021442,
     "end_time": "2024-01-07T19:05:10.551546",
     "exception": false,
     "start_time": "2024-01-07T19:05:10.530104",
     "status": "completed"
    },
    "tags": []
   },
   "outputs": [
    {
     "data": {
      "text/plain": [
       "\"model = xgb.XGBClassifier()\\n\\nxgb_params = {\\n              'n_estimators': [10, 50, 100, 500],\\n              'max_depth': [3, 6, 9, 12],\\n              'learning_rate' : [0.01, 0.1, 1.0],\\n              'boosting_type' : ['gbdt', 'dart', 'goss']\\n              }\\n\\nclf = GridSearchCV(model, xgb_params, scoring='roc_auc', n_jobs=-1)\\n\\nclf.fit(X_train, y_train)\\n\\nmodel_tuned = clf.best_estimator_\\nparams_tuned = clf.best_params_\\n\\nprint(clf.best_estimator_)\\nprint(clf.best_params_)\\nprint(clf.best_score_)\""
      ]
     },
     "execution_count": 12,
     "metadata": {},
     "output_type": "execute_result"
    }
   ],
   "source": [
    "\"\"\"model = xgb.XGBClassifier()\n",
    "\n",
    "xgb_params = {\n",
    "              'n_estimators': [10, 50, 100, 500],\n",
    "              'max_depth': [3, 6, 9, 12],\n",
    "              'learning_rate' : [0.01, 0.1, 1.0],\n",
    "              'boosting_type' : ['gbdt', 'dart', 'goss']\n",
    "              }\n",
    "\n",
    "clf = GridSearchCV(model, xgb_params, scoring='roc_auc', n_jobs=-1)\n",
    "\n",
    "clf.fit(X_train, y_train)\n",
    "\n",
    "model_tuned = clf.best_estimator_\n",
    "params_tuned = clf.best_params_\n",
    "\n",
    "print(clf.best_estimator_)\n",
    "print(clf.best_params_)\n",
    "print(clf.best_score_)\"\"\""
   ]
  },
  {
   "cell_type": "code",
   "execution_count": 13,
   "id": "105aeb11",
   "metadata": {
    "execution": {
     "iopub.execute_input": "2024-01-07T19:05:10.571847Z",
     "iopub.status.busy": "2024-01-07T19:05:10.571392Z",
     "iopub.status.idle": "2024-01-07T19:05:10.578460Z",
     "shell.execute_reply": "2024-01-07T19:05:10.577375Z"
    },
    "papermill": {
     "duration": 0.019892,
     "end_time": "2024-01-07T19:05:10.581039",
     "exception": false,
     "start_time": "2024-01-07T19:05:10.561147",
     "status": "completed"
    },
    "tags": []
   },
   "outputs": [],
   "source": [
    "neg, pos = np.bincount(y_train)\n",
    "total = neg + pos\n",
    "weight_for_0 = (1 / neg) * (total / 2.0)\n",
    "weight_for_1 = (1 / pos) * (total / 2.0)\n",
    "class_weight = {0: weight_for_0, 1: weight_for_1}"
   ]
  },
  {
   "cell_type": "code",
   "execution_count": 14,
   "id": "3ef29d5b",
   "metadata": {
    "execution": {
     "iopub.execute_input": "2024-01-07T19:05:10.600172Z",
     "iopub.status.busy": "2024-01-07T19:05:10.599758Z",
     "iopub.status.idle": "2024-01-07T19:05:10.605935Z",
     "shell.execute_reply": "2024-01-07T19:05:10.604587Z"
    },
    "papermill": {
     "duration": 0.018722,
     "end_time": "2024-01-07T19:05:10.608633",
     "exception": false,
     "start_time": "2024-01-07T19:05:10.589911",
     "status": "completed"
    },
    "tags": []
   },
   "outputs": [],
   "source": [
    "params_tuned = {\n",
    "                #'boosting_type':'gbdt',\n",
    "                'n_estimators': 1000,\n",
    "                #'num_leaves': 12,\n",
    "                'max_depth': 3,\n",
    "                'learning_rate': 0.1,\n",
    "                'colsample_bytree': 0.5,\n",
    "                #'class_weight': class_weight\n",
    "                }\n",
    "\n",
    "model = xgb.XGBClassifier(**params_tuned)"
   ]
  },
  {
   "cell_type": "code",
   "execution_count": 15,
   "id": "b1b94d2e",
   "metadata": {
    "execution": {
     "iopub.execute_input": "2024-01-07T19:05:10.629331Z",
     "iopub.status.busy": "2024-01-07T19:05:10.628322Z",
     "iopub.status.idle": "2024-01-07T19:05:10.637850Z",
     "shell.execute_reply": "2024-01-07T19:05:10.636548Z"
    },
    "papermill": {
     "duration": 0.023385,
     "end_time": "2024-01-07T19:05:10.640691",
     "exception": false,
     "start_time": "2024-01-07T19:05:10.617306",
     "status": "completed"
    },
    "tags": []
   },
   "outputs": [],
   "source": [
    "def run_cross_validation(X, y):\n",
    "    kfold = KFold(n_splits=10)\n",
    "\n",
    "    results = []\n",
    "\n",
    "    for index, (train_index, test_index) in enumerate(kfold.split(X), start=1):\n",
    "        X_train, X_val = X[train_index], X[test_index]\n",
    "        y_train, y_val = y[train_index], y[test_index]\n",
    "\n",
    "        oversample = SMOTE()\n",
    "        X_train, y_train = oversample.fit_resample(X_train, y_train)\n",
    "\n",
    "        model.fit(X_train, y_train)\n",
    "        probas = model.predict_proba(X_val)\n",
    "        positive_label_proba = probas[:, 1]\n",
    "\n",
    "        auc_score = roc_auc_score(y_val, positive_label_proba)\n",
    "        print(f\"[Fold #{index}] ROC AUC Score: {auc_score:.3f}\")\n",
    "        results.append(auc_score)\n",
    "\n",
    "    print(f\"ROC AUC Score: {np.mean(results):.3f} (+/-{2 * np.std(results):.3f})\")"
   ]
  },
  {
   "cell_type": "code",
   "execution_count": 16,
   "id": "96ba8604",
   "metadata": {
    "execution": {
     "iopub.execute_input": "2024-01-07T19:05:10.660848Z",
     "iopub.status.busy": "2024-01-07T19:05:10.660435Z",
     "iopub.status.idle": "2024-01-07T19:17:11.635781Z",
     "shell.execute_reply": "2024-01-07T19:17:11.634607Z"
    },
    "papermill": {
     "duration": 720.997931,
     "end_time": "2024-01-07T19:17:11.647772",
     "exception": false,
     "start_time": "2024-01-07T19:05:10.649841",
     "status": "completed"
    },
    "tags": []
   },
   "outputs": [
    {
     "name": "stdout",
     "output_type": "stream",
     "text": [
      "[Fold #1] ROC AUC Score: 0.890\n",
      "[Fold #2] ROC AUC Score: 0.899\n",
      "[Fold #3] ROC AUC Score: 0.890\n",
      "[Fold #4] ROC AUC Score: 0.888\n",
      "[Fold #5] ROC AUC Score: 0.894\n",
      "[Fold #6] ROC AUC Score: 0.890\n",
      "[Fold #7] ROC AUC Score: 0.891\n",
      "[Fold #8] ROC AUC Score: 0.893\n",
      "[Fold #9] ROC AUC Score: 0.892\n",
      "[Fold #10] ROC AUC Score: 0.890\n",
      "ROC AUC Score: 0.892 (+/-0.006)\n"
     ]
    }
   ],
   "source": [
    "run_cross_validation(X_train, y_train)"
   ]
  },
  {
   "cell_type": "code",
   "execution_count": 17,
   "id": "bb09aa79",
   "metadata": {
    "execution": {
     "iopub.execute_input": "2024-01-07T19:17:11.669725Z",
     "iopub.status.busy": "2024-01-07T19:17:11.668463Z",
     "iopub.status.idle": "2024-01-07T19:17:12.757265Z",
     "shell.execute_reply": "2024-01-07T19:17:12.756416Z"
    },
    "papermill": {
     "duration": 1.102884,
     "end_time": "2024-01-07T19:17:12.760220",
     "exception": false,
     "start_time": "2024-01-07T19:17:11.657336",
     "status": "completed"
    },
    "tags": []
   },
   "outputs": [
    {
     "data": {
      "image/png": "[encoded data removed]",
      "text/plain": [
       "<Figure size 640x480 with 1 Axes>"
      ]
     },
     "metadata": {},
     "output_type": "display_data"
    }
   ],
   "source": [
    "importances = model.feature_importances_\n",
    "\n",
    "forest_importances = pd.Series(importances, index=feature_names)\n",
    "\n",
    "fig, ax = plt.subplots()\n",
    "forest_importances.sort_values(ascending=False)[::-1].plot.barh(ax=ax)\n",
    "ax.set_title(\"Feature importances using MDI\")\n",
    "ax.set_ylabel(\"Mean decrease in impurity\")\n",
    "fig.tight_layout()\n"
   ]
  },
  {
   "cell_type": "code",
   "execution_count": 18,
   "id": "b65437cb",
   "metadata": {
    "execution": {
     "iopub.execute_input": "2024-01-07T19:17:12.785798Z",
     "iopub.status.busy": "2024-01-07T19:17:12.784976Z",
     "iopub.status.idle": "2024-01-07T19:17:14.234321Z",
     "shell.execute_reply": "2024-01-07T19:17:14.233327Z"
    },
    "papermill": {
     "duration": 1.465308,
     "end_time": "2024-01-07T19:17:14.237138",
     "exception": false,
     "start_time": "2024-01-07T19:17:12.771830",
     "status": "completed"
    },
    "tags": []
   },
   "outputs": [],
   "source": [
    "probas = model.predict_proba(X_test)\n",
    "positive_label_proba = probas[:, 1]\n",
    "submission['Exited'] = positive_label_proba\n",
    "submission.to_csv('baseline.csv', index=False)"
   ]
  },
  {
   "cell_type": "markdown",
   "id": "88bd06a5",
   "metadata": {
    "papermill": {
     "duration": 0.011191,
     "end_time": "2024-01-07T19:17:14.260004",
     "exception": false,
     "start_time": "2024-01-07T19:17:14.248813",
     "status": "completed"
    },
    "tags": []
   },
   "source": [
    "🚨🚨🚨 \n",
    "* slightly imbalanced set\n",
    "* balance column: separate between gaussian variable and < 10\n"
   ]
  }
 ],
 "metadata": {
  "kaggle": {
   "accelerator": "none",
   "dataSources": [
    {
     "databundleVersionId": 7405009,
     "sourceId": 65711,
     "sourceType": "competition"
    }
   ],
   "dockerImageVersionId": 30626,
   "isGpuEnabled": false,
   "isInternetEnabled": true,
   "language": "python",
   "sourceType": "notebook"
  },
  "kernelspec": {
   "display_name": "Python 3",
   "language": "python",
   "name": "python3"
  },
  "language_info": {
   "codemirror_mode": {
    "name": "ipython",
    "version": 3
   },
   "file_extension": ".py",
   "mimetype": "text/x-python",
   "name": "python",
   "nbconvert_exporter": "python",
   "pygments_lexer": "ipython3",
   "version": "3.10.12"
  },
  "papermill": {
   "default_parameters": {},
   "duration": 736.308726,
   "end_time": "2024-01-07T19:17:15.196641",
   "environment_variables": {},
   "exception": null,
   "input_path": "__notebook__.ipynb",
   "output_path": "__notebook__.ipynb",
   "parameters": {},
   "start_time": "2024-01-07T19:04:58.887915",
   "version": "2.4.0"
  }
 },
 "nbformat": 4,
 "nbformat_minor": 5
}
