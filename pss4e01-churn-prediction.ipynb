{
 "cells": [
  {
   "cell_type": "code",
   "execution_count": 1,
   "id": "56a023cf",
   "metadata": {
    "_kg_hide-input": true,
    "execution": {
     "iopub.execute_input": "2024-01-06T14:25:41.925461Z",
     "iopub.status.busy": "2024-01-06T14:25:41.925059Z",
     "iopub.status.idle": "2024-01-06T14:25:45.094490Z",
     "shell.execute_reply": "2024-01-06T14:25:45.093562Z"
    },
    "papermill": {
     "duration": 3.178589,
     "end_time": "2024-01-06T14:25:45.096723",
     "exception": false,
     "start_time": "2024-01-06T14:25:41.918134",
     "status": "completed"
    },
    "tags": []
   },
   "outputs": [],
   "source": [
    "import numpy as np\n",
    "import pandas as pd\n",
    "import os\n",
    "import matplotlib.pyplot as plt\n",
    "import seaborn as sns\n",
    "\n",
    "from sklearn.model_selection import train_test_split, GridSearchCV, KFold\n",
    "from sklearn.preprocessing import StandardScaler, LabelEncoder, OrdinalEncoder, OneHotEncoder, MinMaxScaler\n",
    "from sklearn.pipeline import Pipeline\n",
    "from sklearn.compose import ColumnTransformer\n",
    "from sklearn.metrics import roc_auc_score\n",
    "import lightgbm\n",
    "\n",
    "import lightgbm as lgbm\n",
    "import xgboost as xgb\n",
    "\n",
    "\n",
    "sns.set_style(\"whitegrid\")\n",
    "sns.set_palette('muted')"
   ]
  },
  {
   "cell_type": "code",
   "execution_count": 2,
   "id": "72c1667e",
   "metadata": {
    "_kg_hide-input": true,
    "execution": {
     "iopub.execute_input": "2024-01-06T14:25:45.106650Z",
     "iopub.status.busy": "2024-01-06T14:25:45.106336Z",
     "iopub.status.idle": "2024-01-06T14:25:45.113335Z",
     "shell.execute_reply": "2024-01-06T14:25:45.111706Z"
    },
    "papermill": {
     "duration": 0.013938,
     "end_time": "2024-01-06T14:25:45.115132",
     "exception": false,
     "start_time": "2024-01-06T14:25:45.101194",
     "status": "completed"
    },
    "tags": []
   },
   "outputs": [
    {
     "name": "stdout",
     "output_type": "stream",
     "text": [
      "/kaggle/input/playground-series-s4e1/sample_submission.csv\n",
      "/kaggle/input/playground-series-s4e1/train.csv\n",
      "/kaggle/input/playground-series-s4e1/test.csv\n"
     ]
    }
   ],
   "source": [
    "for dirname, _, filenames in os.walk('/kaggle/input'):\n",
    "    for filename in filenames:\n",
    "        print(os.path.join(dirname, filename))"
   ]
  },
  {
   "cell_type": "code",
   "execution_count": 3,
   "id": "6acd9316",
   "metadata": {
    "_kg_hide-input": true,
    "execution": {
     "iopub.execute_input": "2024-01-06T14:25:45.124686Z",
     "iopub.status.busy": "2024-01-06T14:25:45.124399Z",
     "iopub.status.idle": "2024-01-06T14:25:45.698558Z",
     "shell.execute_reply": "2024-01-06T14:25:45.697325Z"
    },
    "papermill": {
     "duration": 0.581823,
     "end_time": "2024-01-06T14:25:45.701125",
     "exception": false,
     "start_time": "2024-01-06T14:25:45.119302",
     "status": "completed"
    },
    "tags": []
   },
   "outputs": [],
   "source": [
    "data_loc = '/kaggle/input/playground-series-s4e1/'\n",
    "train = pd.read_csv(data_loc + 'train.csv')\n",
    "test = pd.read_csv(data_loc + 'test.csv')\n",
    "submission = pd.read_csv(data_loc + 'sample_submission.csv')"
   ]
  },
  {
   "cell_type": "code",
   "execution_count": 4,
   "id": "81c5ada7",
   "metadata": {
    "execution": {
     "iopub.execute_input": "2024-01-06T14:25:45.711153Z",
     "iopub.status.busy": "2024-01-06T14:25:45.710818Z",
     "iopub.status.idle": "2024-01-06T14:25:45.734902Z",
     "shell.execute_reply": "2024-01-06T14:25:45.733877Z"
    },
    "papermill": {
     "duration": 0.031444,
     "end_time": "2024-01-06T14:25:45.736905",
     "exception": false,
     "start_time": "2024-01-06T14:25:45.705461",
     "status": "completed"
    },
    "tags": []
   },
   "outputs": [
    {
     "data": {
      "text/html": [
       "<div>\n",
       "<style scoped>\n",
       "    .dataframe tbody tr th:only-of-type {\n",
       "        vertical-align: middle;\n",
       "    }\n",
       "\n",
       "    .dataframe tbody tr th {\n",
       "        vertical-align: top;\n",
       "    }\n",
       "\n",
       "    .dataframe thead th {\n",
       "        text-align: right;\n",
       "    }\n",
       "</style>\n",
       "<table border=\"1\" class=\"dataframe\">\n",
       "  <thead>\n",
       "    <tr style=\"text-align: right;\">\n",
       "      <th></th>\n",
       "      <th>0</th>\n",
       "      <th>1</th>\n",
       "      <th>2</th>\n",
       "      <th>3</th>\n",
       "      <th>4</th>\n",
       "    </tr>\n",
       "  </thead>\n",
       "  <tbody>\n",
       "    <tr>\n",
       "      <th>id</th>\n",
       "      <td>0</td>\n",
       "      <td>1</td>\n",
       "      <td>2</td>\n",
       "      <td>3</td>\n",
       "      <td>4</td>\n",
       "    </tr>\n",
       "    <tr>\n",
       "      <th>CustomerId</th>\n",
       "      <td>15674932</td>\n",
       "      <td>15749177</td>\n",
       "      <td>15694510</td>\n",
       "      <td>15741417</td>\n",
       "      <td>15766172</td>\n",
       "    </tr>\n",
       "    <tr>\n",
       "      <th>Surname</th>\n",
       "      <td>Okwudilichukwu</td>\n",
       "      <td>Okwudiliolisa</td>\n",
       "      <td>Hsueh</td>\n",
       "      <td>Kao</td>\n",
       "      <td>Chiemenam</td>\n",
       "    </tr>\n",
       "    <tr>\n",
       "      <th>CreditScore</th>\n",
       "      <td>668</td>\n",
       "      <td>627</td>\n",
       "      <td>678</td>\n",
       "      <td>581</td>\n",
       "      <td>716</td>\n",
       "    </tr>\n",
       "    <tr>\n",
       "      <th>Geography</th>\n",
       "      <td>France</td>\n",
       "      <td>France</td>\n",
       "      <td>France</td>\n",
       "      <td>France</td>\n",
       "      <td>Spain</td>\n",
       "    </tr>\n",
       "    <tr>\n",
       "      <th>Gender</th>\n",
       "      <td>Male</td>\n",
       "      <td>Male</td>\n",
       "      <td>Male</td>\n",
       "      <td>Male</td>\n",
       "      <td>Male</td>\n",
       "    </tr>\n",
       "    <tr>\n",
       "      <th>Age</th>\n",
       "      <td>33.0</td>\n",
       "      <td>33.0</td>\n",
       "      <td>40.0</td>\n",
       "      <td>34.0</td>\n",
       "      <td>33.0</td>\n",
       "    </tr>\n",
       "    <tr>\n",
       "      <th>Tenure</th>\n",
       "      <td>3</td>\n",
       "      <td>1</td>\n",
       "      <td>10</td>\n",
       "      <td>2</td>\n",
       "      <td>5</td>\n",
       "    </tr>\n",
       "    <tr>\n",
       "      <th>Balance</th>\n",
       "      <td>0.0</td>\n",
       "      <td>0.0</td>\n",
       "      <td>0.0</td>\n",
       "      <td>148882.54</td>\n",
       "      <td>0.0</td>\n",
       "    </tr>\n",
       "    <tr>\n",
       "      <th>NumOfProducts</th>\n",
       "      <td>2</td>\n",
       "      <td>2</td>\n",
       "      <td>2</td>\n",
       "      <td>1</td>\n",
       "      <td>2</td>\n",
       "    </tr>\n",
       "    <tr>\n",
       "      <th>HasCrCard</th>\n",
       "      <td>1.0</td>\n",
       "      <td>1.0</td>\n",
       "      <td>1.0</td>\n",
       "      <td>1.0</td>\n",
       "      <td>1.0</td>\n",
       "    </tr>\n",
       "    <tr>\n",
       "      <th>IsActiveMember</th>\n",
       "      <td>0.0</td>\n",
       "      <td>1.0</td>\n",
       "      <td>0.0</td>\n",
       "      <td>1.0</td>\n",
       "      <td>1.0</td>\n",
       "    </tr>\n",
       "    <tr>\n",
       "      <th>EstimatedSalary</th>\n",
       "      <td>181449.97</td>\n",
       "      <td>49503.5</td>\n",
       "      <td>184866.69</td>\n",
       "      <td>84560.88</td>\n",
       "      <td>15068.83</td>\n",
       "    </tr>\n",
       "    <tr>\n",
       "      <th>Exited</th>\n",
       "      <td>0</td>\n",
       "      <td>0</td>\n",
       "      <td>0</td>\n",
       "      <td>0</td>\n",
       "      <td>0</td>\n",
       "    </tr>\n",
       "  </tbody>\n",
       "</table>\n",
       "</div>"
      ],
      "text/plain": [
       "                              0              1          2          3  \\\n",
       "id                            0              1          2          3   \n",
       "CustomerId             15674932       15749177   15694510   15741417   \n",
       "Surname          Okwudilichukwu  Okwudiliolisa      Hsueh        Kao   \n",
       "CreditScore                 668            627        678        581   \n",
       "Geography                France         France     France     France   \n",
       "Gender                     Male           Male       Male       Male   \n",
       "Age                        33.0           33.0       40.0       34.0   \n",
       "Tenure                        3              1         10          2   \n",
       "Balance                     0.0            0.0        0.0  148882.54   \n",
       "NumOfProducts                 2              2          2          1   \n",
       "HasCrCard                   1.0            1.0        1.0        1.0   \n",
       "IsActiveMember              0.0            1.0        0.0        1.0   \n",
       "EstimatedSalary       181449.97        49503.5  184866.69   84560.88   \n",
       "Exited                        0              0          0          0   \n",
       "\n",
       "                         4  \n",
       "id                       4  \n",
       "CustomerId        15766172  \n",
       "Surname          Chiemenam  \n",
       "CreditScore            716  \n",
       "Geography            Spain  \n",
       "Gender                Male  \n",
       "Age                   33.0  \n",
       "Tenure                   5  \n",
       "Balance                0.0  \n",
       "NumOfProducts            2  \n",
       "HasCrCard              1.0  \n",
       "IsActiveMember         1.0  \n",
       "EstimatedSalary   15068.83  \n",
       "Exited                   0  "
      ]
     },
     "metadata": {},
     "output_type": "display_data"
    }
   ],
   "source": [
    "display(train.head().T)\n",
    "#display(test.head().T)\n",
    "#display(submission.head())"
   ]
  },
  {
   "cell_type": "code",
   "execution_count": 5,
   "id": "1d911e72",
   "metadata": {
    "execution": {
     "iopub.execute_input": "2024-01-06T14:25:45.747340Z",
     "iopub.status.busy": "2024-01-06T14:25:45.747012Z",
     "iopub.status.idle": "2024-01-06T14:25:45.841407Z",
     "shell.execute_reply": "2024-01-06T14:25:45.840026Z"
    },
    "papermill": {
     "duration": 0.102418,
     "end_time": "2024-01-06T14:25:45.843910",
     "exception": false,
     "start_time": "2024-01-06T14:25:45.741492",
     "status": "completed"
    },
    "tags": []
   },
   "outputs": [
    {
     "name": "stdout",
     "output_type": "stream",
     "text": [
      "<class 'pandas.core.frame.DataFrame'>\n",
      "RangeIndex: 165034 entries, 0 to 165033\n",
      "Data columns (total 14 columns):\n",
      " #   Column           Non-Null Count   Dtype  \n",
      "---  ------           --------------   -----  \n",
      " 0   id               165034 non-null  int64  \n",
      " 1   CustomerId       165034 non-null  int64  \n",
      " 2   Surname          165034 non-null  object \n",
      " 3   CreditScore      165034 non-null  int64  \n",
      " 4   Geography        165034 non-null  object \n",
      " 5   Gender           165034 non-null  object \n",
      " 6   Age              165034 non-null  float64\n",
      " 7   Tenure           165034 non-null  int64  \n",
      " 8   Balance          165034 non-null  float64\n",
      " 9   NumOfProducts    165034 non-null  int64  \n",
      " 10  HasCrCard        165034 non-null  float64\n",
      " 11  IsActiveMember   165034 non-null  float64\n",
      " 12  EstimatedSalary  165034 non-null  float64\n",
      " 13  Exited           165034 non-null  int64  \n",
      "dtypes: float64(5), int64(6), object(3)\n",
      "memory usage: 17.6+ MB\n"
     ]
    },
    {
     "data": {
      "text/plain": [
       "id                 165034\n",
       "CustomerId          23221\n",
       "Surname              2797\n",
       "CreditScore           457\n",
       "Geography               3\n",
       "Gender                  2\n",
       "Age                    71\n",
       "Tenure                 11\n",
       "Balance             30075\n",
       "NumOfProducts           4\n",
       "HasCrCard               2\n",
       "IsActiveMember          2\n",
       "EstimatedSalary     55298\n",
       "Exited                  2\n",
       "dtype: int64"
      ]
     },
     "execution_count": 5,
     "metadata": {},
     "output_type": "execute_result"
    }
   ],
   "source": [
    "train.info()\n",
    "#train.isnull().sum()\n",
    "#train.describe(include='all')\n",
    "train.nunique()"
   ]
  },
  {
   "cell_type": "code",
   "execution_count": 6,
   "id": "962a945e",
   "metadata": {
    "execution": {
     "iopub.execute_input": "2024-01-06T14:25:45.854944Z",
     "iopub.status.busy": "2024-01-06T14:25:45.854584Z",
     "iopub.status.idle": "2024-01-06T14:25:46.074583Z",
     "shell.execute_reply": "2024-01-06T14:25:46.073717Z"
    },
    "papermill": {
     "duration": 0.227778,
     "end_time": "2024-01-06T14:25:46.076689",
     "exception": false,
     "start_time": "2024-01-06T14:25:45.848911",
     "status": "completed"
    },
    "tags": []
   },
   "outputs": [],
   "source": [
    "def prepare_data(df):\n",
    "    \n",
    "    # Make the column names lower-case\n",
    "    df.columns = df.columns.str.lower()\n",
    "    \n",
    "    # Make the string values of categorical columns lower-case and uniform\n",
    "    categorical_columns = df.dtypes[df.dtypes == 'object'].index.tolist()\n",
    "\n",
    "    for col in categorical_columns:\n",
    "        df[col] = df[col].str.lower()\n",
    "        \n",
    "    for col in ['balance', 'estimatedsalary']:\n",
    "        df[col] = np.log1p(df[col])\n",
    "        \n",
    "    # Drop columns: 'id', 'customerid'\n",
    "    df.drop(['id', 'customerid'], axis=1, inplace=True)  \n",
    "    \n",
    "    # Feature engineering\n",
    "    df['balance_high'] = df['balance'] > 10\n",
    "    \n",
    "    # Binarise 'gender'\n",
    "    df['gender'] =(df['gender'] == 'male').astype(int)\n",
    "    \n",
    "    return df\n",
    "\n",
    "train = prepare_data(train)\n",
    "test = prepare_data(test)"
   ]
  },
  {
   "cell_type": "code",
   "execution_count": 7,
   "id": "fa029cc0",
   "metadata": {
    "execution": {
     "iopub.execute_input": "2024-01-06T14:25:46.089359Z",
     "iopub.status.busy": "2024-01-06T14:25:46.088801Z",
     "iopub.status.idle": "2024-01-06T14:25:46.094728Z",
     "shell.execute_reply": "2024-01-06T14:25:46.093542Z"
    },
    "papermill": {
     "duration": 0.015411,
     "end_time": "2024-01-06T14:25:46.097121",
     "exception": false,
     "start_time": "2024-01-06T14:25:46.081710",
     "status": "completed"
    },
    "tags": []
   },
   "outputs": [],
   "source": [
    "dep_var = 'exited'\n",
    "\n",
    "fe_cols = ['surname', 'balance_high']\n",
    "le_cols = ['gender', 'hascrcard', 'isactivemember']\n",
    "ohe_cols = ['geography', 'numofproducts' ]\n",
    "\n",
    "cat_cols = fe_cols + le_cols + ohe_cols\n",
    "\n",
    "num_cols = ['creditscore', 'age', 'tenure', 'balance', 'estimatedsalary']"
   ]
  },
  {
   "cell_type": "code",
   "execution_count": 8,
   "id": "03c1d1ce",
   "metadata": {
    "execution": {
     "iopub.execute_input": "2024-01-06T14:25:46.108823Z",
     "iopub.status.busy": "2024-01-06T14:25:46.108371Z",
     "iopub.status.idle": "2024-01-06T14:25:49.067684Z",
     "shell.execute_reply": "2024-01-06T14:25:49.066286Z"
    },
    "papermill": {
     "duration": 2.967131,
     "end_time": "2024-01-06T14:25:49.069501",
     "exception": false,
     "start_time": "2024-01-06T14:25:46.102370",
     "status": "completed"
    },
    "tags": []
   },
   "outputs": [
    {
     "data": {
      "image/png": "[encoded data removed]",
      "text/plain": [
       "<Figure size 2200x300 with 7 Axes>"
      ]
     },
     "metadata": {},
     "output_type": "display_data"
    },
    {
     "data": {
      "image/png": "[encoded data removed]",
      "text/plain": [
       "<Figure size 1500x300 with 5 Axes>"
      ]
     },
     "metadata": {},
     "output_type": "display_data"
    }
   ],
   "source": [
    "%matplotlib inline\n",
    "\n",
    "cmap = plt.get_cmap(\"tab20c\")\n",
    "colors = cmap(range(len(cat_cols)))\n",
    "\n",
    "fig, axs = plt.subplots(ncols=len(cat_cols), nrows=1, figsize=(int(3*len(cat_cols)+1),3))\n",
    "axs = axs.flatten()\n",
    "\n",
    "for idx, col in enumerate(cat_cols[1:] + [dep_var]):\n",
    "    #display(df[col].value_counts(normalize=True))\n",
    "    train[col].value_counts(normalize=True).plot.barh(ax=axs[idx], color=colors[idx], ylabel='')\n",
    "    axs[idx].set_title(col)\n",
    "    \n",
    "fig.suptitle('Categorical Variables: Value Counts')\n",
    "plt.tight_layout()\n",
    "\n",
    "cmap = plt.get_cmap(\"tab20c\")\n",
    "colors = cmap(range(len(num_cols)))\n",
    "\n",
    "fig, axs = plt.subplots(ncols=len(num_cols), nrows=1, figsize=(3*int(len(num_cols)),3))\n",
    "axs = axs.flatten()\n",
    "\n",
    "for idx, col in enumerate(num_cols):\n",
    "    if col == 'balance':\n",
    "        train[train.balance > 10][col].plot.hist(ax=axs[idx], bins=20, color=colors[idx], ylabel='')\n",
    "        axs[idx].set_title('balance > 10')\n",
    "    #display(df[col].value_counts(normalize=True))\n",
    "    else: \n",
    "        train[col].plot.hist(ax=axs[idx], bins=20, color=colors[idx], ylabel='')\n",
    "        axs[idx].set_title(col)\n",
    "    \n",
    "fig.suptitle('Numerical Variables: Normalised historgrams')\n",
    "plt.tight_layout()"
   ]
  },
  {
   "cell_type": "code",
   "execution_count": 9,
   "id": "397f344a",
   "metadata": {
    "execution": {
     "iopub.execute_input": "2024-01-06T14:25:49.083027Z",
     "iopub.status.busy": "2024-01-06T14:25:49.082272Z",
     "iopub.status.idle": "2024-01-06T14:25:49.087361Z",
     "shell.execute_reply": "2024-01-06T14:25:49.086001Z"
    },
    "papermill": {
     "duration": 0.014316,
     "end_time": "2024-01-06T14:25:49.089483",
     "exception": false,
     "start_time": "2024-01-06T14:25:49.075167",
     "status": "completed"
    },
    "tags": []
   },
   "outputs": [],
   "source": [
    "y_train = train['exited'].values\n",
    "\n",
    "del train['exited']"
   ]
  },
  {
   "cell_type": "code",
   "execution_count": 10,
   "id": "2cfed417",
   "metadata": {
    "execution": {
     "iopub.execute_input": "2024-01-06T14:25:49.102979Z",
     "iopub.status.busy": "2024-01-06T14:25:49.102205Z",
     "iopub.status.idle": "2024-01-06T14:25:49.417363Z",
     "shell.execute_reply": "2024-01-06T14:25:49.416074Z"
    },
    "papermill": {
     "duration": 0.323923,
     "end_time": "2024-01-06T14:25:49.419337",
     "exception": false,
     "start_time": "2024-01-06T14:25:49.095414",
     "status": "completed"
    },
    "tags": []
   },
   "outputs": [
    {
     "name": "stderr",
     "output_type": "stream",
     "text": [
      "/opt/conda/lib/python3.10/site-packages/sklearn/preprocessing/_encoders.py:868: FutureWarning: `sparse` was renamed to `sparse_output` in version 1.2 and will be removed in 1.4. `sparse_output` is ignored unless you leave `sparse` to its default value.\n",
      "  warnings.warn(\n"
     ]
    }
   ],
   "source": [
    "scaler = StandardScaler()\n",
    "X_train_num = scaler.fit_transform(train[num_cols])\n",
    "X_test_num = scaler.transform(test[num_cols])\n",
    "\n",
    "ordinal_encoder = OrdinalEncoder(handle_unknown='use_encoded_value', unknown_value=-1)\n",
    "X_train_fe = ordinal_encoder.fit_transform(train[fe_cols])\n",
    "X_test_fe = ordinal_encoder.transform(test[fe_cols])\n",
    "\n",
    "label = LabelEncoder()\n",
    "X_train_le = train[le_cols].apply(label.fit_transform).values\n",
    "X_test_le = test[le_cols].apply(label.transform).values\n",
    "\n",
    "ohe = OneHotEncoder(sparse=False, handle_unknown='ignore')\n",
    "X_train_ohe = ohe.fit_transform(train[ohe_cols])\n",
    "X_test_ohe = ohe.transform(test[ohe_cols])\n",
    "ohe_features = ohe.get_feature_names_out().tolist()\n",
    "\n",
    "X_train = np.column_stack([X_train_num, X_train_fe, X_train_le, X_train_ohe])\n",
    "X_test = np.column_stack([X_test_num, X_test_fe, X_test_le, X_test_ohe])\n",
    "\n",
    "feature_names = num_cols + le_cols + fe_cols + ohe_features"
   ]
  },
  {
   "cell_type": "code",
   "execution_count": 11,
   "id": "0b7241e8",
   "metadata": {
    "execution": {
     "iopub.execute_input": "2024-01-06T14:25:49.432194Z",
     "iopub.status.busy": "2024-01-06T14:25:49.431845Z",
     "iopub.status.idle": "2024-01-06T14:25:49.438580Z",
     "shell.execute_reply": "2024-01-06T14:25:49.437653Z"
    },
    "papermill": {
     "duration": 0.014975,
     "end_time": "2024-01-06T14:25:49.440288",
     "exception": false,
     "start_time": "2024-01-06T14:25:49.425313",
     "status": "completed"
    },
    "tags": []
   },
   "outputs": [
    {
     "data": {
      "text/plain": [
       "\"lgbm_model = lgbm.LGBMClassifier()\\n\\nlgbm_params = {\\n              'n_estimators': [10, 50, 100, 500],\\n              'max_depth': [3, 6, 9, 12],\\n              'learning_rate' : [0.01, 0.1, 1.0],\\n              'boosting_type' : ['gbdt', 'dart', 'goss']\\n              }\\n\\nclf = GridSearchCV(lgbm_model, lgbm_params, scoring='roc_auc', n_jobs=-1)\\n\\nclf.fit(X_train, y_train)\\n\\nlgbm_tuned = clf.best_estimator_\\nparams_tuned = clf.best_params_\\n\\nprint(clf.best_estimator_)\\nprint(clf.best_params_)\\nprint(clf.best_score_)\""
      ]
     },
     "execution_count": 11,
     "metadata": {},
     "output_type": "execute_result"
    }
   ],
   "source": [
    "\"\"\"lgbm_model = lgbm.LGBMClassifier()\n",
    "\n",
    "lgbm_params = {\n",
    "              'n_estimators': [10, 50, 100, 500],\n",
    "              'max_depth': [3, 6, 9, 12],\n",
    "              'learning_rate' : [0.01, 0.1, 1.0],\n",
    "              'boosting_type' : ['gbdt', 'dart', 'goss']\n",
    "              }\n",
    "\n",
    "clf = GridSearchCV(lgbm_model, lgbm_params, scoring='roc_auc', n_jobs=-1)\n",
    "\n",
    "clf.fit(X_train, y_train)\n",
    "\n",
    "lgbm_tuned = clf.best_estimator_\n",
    "params_tuned = clf.best_params_\n",
    "\n",
    "print(clf.best_estimator_)\n",
    "print(clf.best_params_)\n",
    "print(clf.best_score_)\"\"\""
   ]
  },
  {
   "cell_type": "code",
   "execution_count": 12,
   "id": "3f5b918e",
   "metadata": {
    "execution": {
     "iopub.execute_input": "2024-01-06T14:25:49.452705Z",
     "iopub.status.busy": "2024-01-06T14:25:49.452432Z",
     "iopub.status.idle": "2024-01-06T14:25:49.457660Z",
     "shell.execute_reply": "2024-01-06T14:25:49.456448Z"
    },
    "papermill": {
     "duration": 0.013556,
     "end_time": "2024-01-06T14:25:49.459515",
     "exception": false,
     "start_time": "2024-01-06T14:25:49.445959",
     "status": "completed"
    },
    "tags": []
   },
   "outputs": [],
   "source": [
    "params_tuned = {\n",
    "                'boosting_type':'gbdt',\n",
    "                'n_estimators': 500,\n",
    "                #'num_leaves': 12,\n",
    "                'max_depth': 3,\n",
    "                'learning_rate': 0.1,\n",
    "                #'colsample_bytree': 0.5\n",
    "                }\n",
    "\n",
    "model = lightgbm.LGBMClassifier(**params_tuned)"
   ]
  },
  {
   "cell_type": "code",
   "execution_count": 13,
   "id": "50daa010",
   "metadata": {
    "execution": {
     "iopub.execute_input": "2024-01-06T14:25:49.473076Z",
     "iopub.status.busy": "2024-01-06T14:25:49.472758Z",
     "iopub.status.idle": "2024-01-06T14:25:49.478989Z",
     "shell.execute_reply": "2024-01-06T14:25:49.478052Z"
    },
    "papermill": {
     "duration": 0.015115,
     "end_time": "2024-01-06T14:25:49.480912",
     "exception": false,
     "start_time": "2024-01-06T14:25:49.465797",
     "status": "completed"
    },
    "tags": []
   },
   "outputs": [],
   "source": [
    "def run_cross_validation(X, y):\n",
    "    kfold = KFold(n_splits=10)\n",
    "\n",
    "    results = []\n",
    "\n",
    "    for index, (train_index, test_index) in enumerate(kfold.split(X), start=1):\n",
    "        X_train, X_val = X[train_index], X[test_index]\n",
    "        y_train, y_val = y[train_index], y[test_index]\n",
    "\n",
    "        model.fit(X_train, y_train)\n",
    "        probas = model.predict_proba(X_val)\n",
    "        positive_label_proba = probas[:, 1]\n",
    "\n",
    "        auc_score = roc_auc_score(y_val, positive_label_proba)\n",
    "        print(f\"[Fold #{index}] ROC AUC Score: {auc_score:.3f}\")\n",
    "        results.append(auc_score)\n",
    "\n",
    "    print(f\"ROC AUC Score: {np.mean(results):.3f} (+/-{2 * np.std(results):.3f})\")"
   ]
  },
  {
   "cell_type": "code",
   "execution_count": 14,
   "id": "d7e4b989",
   "metadata": {
    "execution": {
     "iopub.execute_input": "2024-01-06T14:25:49.494292Z",
     "iopub.status.busy": "2024-01-06T14:25:49.493759Z",
     "iopub.status.idle": "2024-01-06T14:26:31.037070Z",
     "shell.execute_reply": "2024-01-06T14:26:31.036179Z"
    },
    "papermill": {
     "duration": 41.551846,
     "end_time": "2024-01-06T14:26:31.038921",
     "exception": false,
     "start_time": "2024-01-06T14:25:49.487075",
     "status": "completed"
    },
    "tags": []
   },
   "outputs": [
    {
     "name": "stdout",
     "output_type": "stream",
     "text": [
      "[Fold #1] ROC AUC Score: 0.892\n",
      "[Fold #2] ROC AUC Score: 0.899\n",
      "[Fold #3] ROC AUC Score: 0.890\n",
      "[Fold #4] ROC AUC Score: 0.889\n",
      "[Fold #5] ROC AUC Score: 0.894\n",
      "[Fold #6] ROC AUC Score: 0.891\n",
      "[Fold #7] ROC AUC Score: 0.892\n",
      "[Fold #8] ROC AUC Score: 0.893\n",
      "[Fold #9] ROC AUC Score: 0.892\n",
      "[Fold #10] ROC AUC Score: 0.892\n",
      "ROC AUC Score: 0.892 (+/-0.005)\n"
     ]
    }
   ],
   "source": [
    "run_cross_validation(X_train, y_train)"
   ]
  },
  {
   "cell_type": "code",
   "execution_count": 15,
   "id": "ed98b221",
   "metadata": {
    "execution": {
     "iopub.execute_input": "2024-01-06T14:26:31.055596Z",
     "iopub.status.busy": "2024-01-06T14:26:31.054260Z",
     "iopub.status.idle": "2024-01-06T14:26:31.525004Z",
     "shell.execute_reply": "2024-01-06T14:26:31.524000Z"
    },
    "papermill": {
     "duration": 0.481243,
     "end_time": "2024-01-06T14:26:31.527017",
     "exception": false,
     "start_time": "2024-01-06T14:26:31.045774",
     "status": "completed"
    },
    "tags": []
   },
   "outputs": [
    {
     "data": {
      "image/png": "[encoded data removed]",
      "text/plain": [
       "<Figure size 640x480 with 1 Axes>"
      ]
     },
     "metadata": {},
     "output_type": "display_data"
    }
   ],
   "source": [
    "importances = model.feature_importances_\n",
    "\n",
    "forest_importances = pd.Series(importances, index=feature_names)\n",
    "\n",
    "fig, ax = plt.subplots()\n",
    "forest_importances.sort_values(ascending=False)[::-1].plot.barh(ax=ax)\n",
    "ax.set_title(\"Feature importances using MDI\")\n",
    "ax.set_ylabel(\"Mean decrease in impurity\")\n",
    "fig.tight_layout()\n"
   ]
  },
  {
   "cell_type": "code",
   "execution_count": 16,
   "id": "7a1c0177",
   "metadata": {
    "execution": {
     "iopub.execute_input": "2024-01-06T14:26:31.542749Z",
     "iopub.status.busy": "2024-01-06T14:26:31.542397Z",
     "iopub.status.idle": "2024-01-06T14:26:32.457419Z",
     "shell.execute_reply": "2024-01-06T14:26:32.456250Z"
    },
    "papermill": {
     "duration": 0.925613,
     "end_time": "2024-01-06T14:26:32.459706",
     "exception": false,
     "start_time": "2024-01-06T14:26:31.534093",
     "status": "completed"
    },
    "tags": []
   },
   "outputs": [],
   "source": [
    "probas = model.predict_proba(X_test)\n",
    "positive_label_proba = probas[:, 1]\n",
    "submission['Exited'] = positive_label_proba\n",
    "submission.to_csv('baseline.csv', index=False)"
   ]
  },
  {
   "cell_type": "markdown",
   "id": "6b60b4b3",
   "metadata": {
    "papermill": {
     "duration": 0.006608,
     "end_time": "2024-01-06T14:26:32.473508",
     "exception": false,
     "start_time": "2024-01-06T14:26:32.466900",
     "status": "completed"
    },
    "tags": []
   },
   "source": [
    "🚨🚨🚨 \n",
    "* slightly imbalanced set\n",
    "* balance column: separate between gaussian variable and < 10\n"
   ]
  }
 ],
 "metadata": {
  "kaggle": {
   "accelerator": "none",
   "dataSources": [
    {
     "databundleVersionId": 7405009,
     "sourceId": 65711,
     "sourceType": "competition"
    }
   ],
   "dockerImageVersionId": 30626,
   "isGpuEnabled": false,
   "isInternetEnabled": true,
   "language": "python",
   "sourceType": "notebook"
  },
  "kernelspec": {
   "display_name": "Python 3",
   "language": "python",
   "name": "python3"
  },
  "language_info": {
   "codemirror_mode": {
    "name": "ipython",
    "version": 3
   },
   "file_extension": ".py",
   "mimetype": "text/x-python",
   "name": "python",
   "nbconvert_exporter": "python",
   "pygments_lexer": "ipython3",
   "version": "3.10.12"
  },
  "papermill": {
   "default_parameters": {},
   "duration": 53.928739,
   "end_time": "2024-01-06T14:26:33.201870",
   "environment_variables": {},
   "exception": null,
   "input_path": "__notebook__.ipynb",
   "output_path": "__notebook__.ipynb",
   "parameters": {},
   "start_time": "2024-01-06T14:25:39.273131",
   "version": "2.4.0"
  }
 },
 "nbformat": 4,
 "nbformat_minor": 5
}
