{
 "cells": [
  {
   "cell_type": "code",
   "execution_count": 1,
   "id": "b04ec3fe",
   "metadata": {
    "_kg_hide-input": true,
    "execution": {
     "iopub.execute_input": "2024-01-07T18:14:55.840592Z",
     "iopub.status.busy": "2024-01-07T18:14:55.840174Z",
     "iopub.status.idle": "2024-01-07T18:15:00.042121Z",
     "shell.execute_reply": "2024-01-07T18:15:00.040964Z"
    },
    "papermill": {
     "duration": 4.214319,
     "end_time": "2024-01-07T18:15:00.045000",
     "exception": false,
     "start_time": "2024-01-07T18:14:55.830681",
     "status": "completed"
    },
    "tags": []
   },
   "outputs": [],
   "source": [
    "import numpy as np\n",
    "import pandas as pd\n",
    "import os\n",
    "import matplotlib.pyplot as plt\n",
    "import seaborn as sns\n",
    "\n",
    "from sklearn.model_selection import train_test_split, GridSearchCV, KFold\n",
    "from sklearn.preprocessing import StandardScaler, LabelEncoder, OrdinalEncoder, OneHotEncoder, MinMaxScaler\n",
    "from sklearn.pipeline import Pipeline\n",
    "from sklearn.compose import ColumnTransformer\n",
    "from sklearn.metrics import roc_auc_score\n",
    "\n",
    "from imblearn.over_sampling import SMOTE\n",
    "\n",
    "\n",
    "import lightgbm as lgbm\n",
    "\n",
    "\n",
    "sns.set_style(\"whitegrid\")\n",
    "sns.set_palette('muted')"
   ]
  },
  {
   "cell_type": "code",
   "execution_count": 2,
   "id": "6f4f38f0",
   "metadata": {
    "_kg_hide-input": true,
    "execution": {
     "iopub.execute_input": "2024-01-07T18:15:00.064078Z",
     "iopub.status.busy": "2024-01-07T18:15:00.063570Z",
     "iopub.status.idle": "2024-01-07T18:15:00.072279Z",
     "shell.execute_reply": "2024-01-07T18:15:00.070999Z"
    },
    "papermill": {
     "duration": 0.021452,
     "end_time": "2024-01-07T18:15:00.075047",
     "exception": false,
     "start_time": "2024-01-07T18:15:00.053595",
     "status": "completed"
    },
    "tags": []
   },
   "outputs": [
    {
     "name": "stdout",
     "output_type": "stream",
     "text": [
      "/kaggle/input/playground-series-s4e1/sample_submission.csv\n",
      "/kaggle/input/playground-series-s4e1/train.csv\n",
      "/kaggle/input/playground-series-s4e1/test.csv\n"
     ]
    }
   ],
   "source": [
    "for dirname, _, filenames in os.walk('/kaggle/input'):\n",
    "    for filename in filenames:\n",
    "        print(os.path.join(dirname, filename))"
   ]
  },
  {
   "cell_type": "code",
   "execution_count": 3,
   "id": "cec1443f",
   "metadata": {
    "_kg_hide-input": true,
    "execution": {
     "iopub.execute_input": "2024-01-07T18:15:00.092656Z",
     "iopub.status.busy": "2024-01-07T18:15:00.092249Z",
     "iopub.status.idle": "2024-01-07T18:15:00.894475Z",
     "shell.execute_reply": "2024-01-07T18:15:00.893235Z"
    },
    "papermill": {
     "duration": 0.81459,
     "end_time": "2024-01-07T18:15:00.897379",
     "exception": false,
     "start_time": "2024-01-07T18:15:00.082789",
     "status": "completed"
    },
    "tags": []
   },
   "outputs": [],
   "source": [
    "data_loc = '/kaggle/input/playground-series-s4e1/'\n",
    "train = pd.read_csv(data_loc + 'train.csv')\n",
    "test = pd.read_csv(data_loc + 'test.csv')\n",
    "submission = pd.read_csv(data_loc + 'sample_submission.csv')"
   ]
  },
  {
   "cell_type": "code",
   "execution_count": 4,
   "id": "641d608a",
   "metadata": {
    "execution": {
     "iopub.execute_input": "2024-01-07T18:15:00.916242Z",
     "iopub.status.busy": "2024-01-07T18:15:00.915805Z",
     "iopub.status.idle": "2024-01-07T18:15:00.944425Z",
     "shell.execute_reply": "2024-01-07T18:15:00.943232Z"
    },
    "papermill": {
     "duration": 0.039992,
     "end_time": "2024-01-07T18:15:00.946784",
     "exception": false,
     "start_time": "2024-01-07T18:15:00.906792",
     "status": "completed"
    },
    "tags": []
   },
   "outputs": [
    {
     "data": {
      "text/html": [
       "<div>\n",
       "<style scoped>\n",
       "    .dataframe tbody tr th:only-of-type {\n",
       "        vertical-align: middle;\n",
       "    }\n",
       "\n",
       "    .dataframe tbody tr th {\n",
       "        vertical-align: top;\n",
       "    }\n",
       "\n",
       "    .dataframe thead th {\n",
       "        text-align: right;\n",
       "    }\n",
       "</style>\n",
       "<table border=\"1\" class=\"dataframe\">\n",
       "  <thead>\n",
       "    <tr style=\"text-align: right;\">\n",
       "      <th></th>\n",
       "      <th>0</th>\n",
       "      <th>1</th>\n",
       "      <th>2</th>\n",
       "      <th>3</th>\n",
       "      <th>4</th>\n",
       "    </tr>\n",
       "  </thead>\n",
       "  <tbody>\n",
       "    <tr>\n",
       "      <th>id</th>\n",
       "      <td>0</td>\n",
       "      <td>1</td>\n",
       "      <td>2</td>\n",
       "      <td>3</td>\n",
       "      <td>4</td>\n",
       "    </tr>\n",
       "    <tr>\n",
       "      <th>CustomerId</th>\n",
       "      <td>15674932</td>\n",
       "      <td>15749177</td>\n",
       "      <td>15694510</td>\n",
       "      <td>15741417</td>\n",
       "      <td>15766172</td>\n",
       "    </tr>\n",
       "    <tr>\n",
       "      <th>Surname</th>\n",
       "      <td>Okwudilichukwu</td>\n",
       "      <td>Okwudiliolisa</td>\n",
       "      <td>Hsueh</td>\n",
       "      <td>Kao</td>\n",
       "      <td>Chiemenam</td>\n",
       "    </tr>\n",
       "    <tr>\n",
       "      <th>CreditScore</th>\n",
       "      <td>668</td>\n",
       "      <td>627</td>\n",
       "      <td>678</td>\n",
       "      <td>581</td>\n",
       "      <td>716</td>\n",
       "    </tr>\n",
       "    <tr>\n",
       "      <th>Geography</th>\n",
       "      <td>France</td>\n",
       "      <td>France</td>\n",
       "      <td>France</td>\n",
       "      <td>France</td>\n",
       "      <td>Spain</td>\n",
       "    </tr>\n",
       "    <tr>\n",
       "      <th>Gender</th>\n",
       "      <td>Male</td>\n",
       "      <td>Male</td>\n",
       "      <td>Male</td>\n",
       "      <td>Male</td>\n",
       "      <td>Male</td>\n",
       "    </tr>\n",
       "    <tr>\n",
       "      <th>Age</th>\n",
       "      <td>33.0</td>\n",
       "      <td>33.0</td>\n",
       "      <td>40.0</td>\n",
       "      <td>34.0</td>\n",
       "      <td>33.0</td>\n",
       "    </tr>\n",
       "    <tr>\n",
       "      <th>Tenure</th>\n",
       "      <td>3</td>\n",
       "      <td>1</td>\n",
       "      <td>10</td>\n",
       "      <td>2</td>\n",
       "      <td>5</td>\n",
       "    </tr>\n",
       "    <tr>\n",
       "      <th>Balance</th>\n",
       "      <td>0.0</td>\n",
       "      <td>0.0</td>\n",
       "      <td>0.0</td>\n",
       "      <td>148882.54</td>\n",
       "      <td>0.0</td>\n",
       "    </tr>\n",
       "    <tr>\n",
       "      <th>NumOfProducts</th>\n",
       "      <td>2</td>\n",
       "      <td>2</td>\n",
       "      <td>2</td>\n",
       "      <td>1</td>\n",
       "      <td>2</td>\n",
       "    </tr>\n",
       "    <tr>\n",
       "      <th>HasCrCard</th>\n",
       "      <td>1.0</td>\n",
       "      <td>1.0</td>\n",
       "      <td>1.0</td>\n",
       "      <td>1.0</td>\n",
       "      <td>1.0</td>\n",
       "    </tr>\n",
       "    <tr>\n",
       "      <th>IsActiveMember</th>\n",
       "      <td>0.0</td>\n",
       "      <td>1.0</td>\n",
       "      <td>0.0</td>\n",
       "      <td>1.0</td>\n",
       "      <td>1.0</td>\n",
       "    </tr>\n",
       "    <tr>\n",
       "      <th>EstimatedSalary</th>\n",
       "      <td>181449.97</td>\n",
       "      <td>49503.5</td>\n",
       "      <td>184866.69</td>\n",
       "      <td>84560.88</td>\n",
       "      <td>15068.83</td>\n",
       "    </tr>\n",
       "    <tr>\n",
       "      <th>Exited</th>\n",
       "      <td>0</td>\n",
       "      <td>0</td>\n",
       "      <td>0</td>\n",
       "      <td>0</td>\n",
       "      <td>0</td>\n",
       "    </tr>\n",
       "  </tbody>\n",
       "</table>\n",
       "</div>"
      ],
      "text/plain": [
       "                              0              1          2          3  \\\n",
       "id                            0              1          2          3   \n",
       "CustomerId             15674932       15749177   15694510   15741417   \n",
       "Surname          Okwudilichukwu  Okwudiliolisa      Hsueh        Kao   \n",
       "CreditScore                 668            627        678        581   \n",
       "Geography                France         France     France     France   \n",
       "Gender                     Male           Male       Male       Male   \n",
       "Age                        33.0           33.0       40.0       34.0   \n",
       "Tenure                        3              1         10          2   \n",
       "Balance                     0.0            0.0        0.0  148882.54   \n",
       "NumOfProducts                 2              2          2          1   \n",
       "HasCrCard                   1.0            1.0        1.0        1.0   \n",
       "IsActiveMember              0.0            1.0        0.0        1.0   \n",
       "EstimatedSalary       181449.97        49503.5  184866.69   84560.88   \n",
       "Exited                        0              0          0          0   \n",
       "\n",
       "                         4  \n",
       "id                       4  \n",
       "CustomerId        15766172  \n",
       "Surname          Chiemenam  \n",
       "CreditScore            716  \n",
       "Geography            Spain  \n",
       "Gender                Male  \n",
       "Age                   33.0  \n",
       "Tenure                   5  \n",
       "Balance                0.0  \n",
       "NumOfProducts            2  \n",
       "HasCrCard              1.0  \n",
       "IsActiveMember         1.0  \n",
       "EstimatedSalary   15068.83  \n",
       "Exited                   0  "
      ]
     },
     "metadata": {},
     "output_type": "display_data"
    }
   ],
   "source": [
    "display(train.head().T)\n",
    "#display(test.head().T)\n",
    "#display(submission.head())"
   ]
  },
  {
   "cell_type": "code",
   "execution_count": 5,
   "id": "e3eff58f",
   "metadata": {
    "execution": {
     "iopub.execute_input": "2024-01-07T18:15:00.964348Z",
     "iopub.status.busy": "2024-01-07T18:15:00.963950Z",
     "iopub.status.idle": "2024-01-07T18:15:01.126791Z",
     "shell.execute_reply": "2024-01-07T18:15:01.125139Z"
    },
    "papermill": {
     "duration": 0.17484,
     "end_time": "2024-01-07T18:15:01.129566",
     "exception": false,
     "start_time": "2024-01-07T18:15:00.954726",
     "status": "completed"
    },
    "tags": []
   },
   "outputs": [
    {
     "name": "stdout",
     "output_type": "stream",
     "text": [
      "<class 'pandas.core.frame.DataFrame'>\n",
      "RangeIndex: 165034 entries, 0 to 165033\n",
      "Data columns (total 14 columns):\n",
      " #   Column           Non-Null Count   Dtype  \n",
      "---  ------           --------------   -----  \n",
      " 0   id               165034 non-null  int64  \n",
      " 1   CustomerId       165034 non-null  int64  \n",
      " 2   Surname          165034 non-null  object \n",
      " 3   CreditScore      165034 non-null  int64  \n",
      " 4   Geography        165034 non-null  object \n",
      " 5   Gender           165034 non-null  object \n",
      " 6   Age              165034 non-null  float64\n",
      " 7   Tenure           165034 non-null  int64  \n",
      " 8   Balance          165034 non-null  float64\n",
      " 9   NumOfProducts    165034 non-null  int64  \n",
      " 10  HasCrCard        165034 non-null  float64\n",
      " 11  IsActiveMember   165034 non-null  float64\n",
      " 12  EstimatedSalary  165034 non-null  float64\n",
      " 13  Exited           165034 non-null  int64  \n",
      "dtypes: float64(5), int64(6), object(3)\n",
      "memory usage: 17.6+ MB\n"
     ]
    },
    {
     "data": {
      "text/plain": [
       "id                 165034\n",
       "CustomerId          23221\n",
       "Surname              2797\n",
       "CreditScore           457\n",
       "Geography               3\n",
       "Gender                  2\n",
       "Age                    71\n",
       "Tenure                 11\n",
       "Balance             30075\n",
       "NumOfProducts           4\n",
       "HasCrCard               2\n",
       "IsActiveMember          2\n",
       "EstimatedSalary     55298\n",
       "Exited                  2\n",
       "dtype: int64"
      ]
     },
     "execution_count": 5,
     "metadata": {},
     "output_type": "execute_result"
    }
   ],
   "source": [
    "train.info()\n",
    "#train.isnull().sum()\n",
    "#train.describe(include='all')\n",
    "train.nunique()"
   ]
  },
  {
   "cell_type": "code",
   "execution_count": 6,
   "id": "0b9abee5",
   "metadata": {
    "execution": {
     "iopub.execute_input": "2024-01-07T18:15:01.148095Z",
     "iopub.status.busy": "2024-01-07T18:15:01.147633Z",
     "iopub.status.idle": "2024-01-07T18:15:01.792270Z",
     "shell.execute_reply": "2024-01-07T18:15:01.791182Z"
    },
    "papermill": {
     "duration": 0.657106,
     "end_time": "2024-01-07T18:15:01.795066",
     "exception": false,
     "start_time": "2024-01-07T18:15:01.137960",
     "status": "completed"
    },
    "tags": []
   },
   "outputs": [],
   "source": [
    "def prepare_data(df):\n",
    "    \n",
    "    # Make the column names lower-case\n",
    "    df.columns = df.columns.str.lower()\n",
    "    \n",
    "    # Make the string values of categorical columns lower-case and uniform\n",
    "    categorical_columns = df.dtypes[df.dtypes == 'object'].index.tolist()\n",
    "\n",
    "    for col in categorical_columns:\n",
    "        df[col] = df[col].str.lower()\n",
    "    \n",
    "    # Feature engineering\n",
    "    df['balance_high'] = df['balance'] > 10\n",
    "    \n",
    "    # replace number of products greater than 2, by 3\n",
    "    df['numofproducts'] = df['numofproducts'].replace(4, 3)\n",
    "\n",
    "    bins = [18, 40, 60, 100]  # Define age bins\n",
    "    labels = ['young', 'middleaged', 'senior']  # Labels for each category\n",
    "    df['agecategory'] = pd.cut(df['age'], bins=bins, labels=labels, right=False)\n",
    "\n",
    "    df['balance_credit_ratio'] = df['balance'] / df['creditscore']\n",
    "    df['credit_utilization'] = df['balance'] / (df['hascrcard'] * df['creditscore'] + 1)  # Adding 1 to avoid division by zero\n",
    "    df['tenure_age_ratio'] = df['tenure'] / df['age']\n",
    "    df['geo_gender_interaction'] = df['geography'] + '_' + df['gender']\n",
    "    \n",
    "    # Binarise 'gender' and 'geography'\n",
    "    df['gender'] = (df['gender'] == 'male').astype(int)\n",
    "    df['geography'] = (df['geography'] == 'germany').astype(int)\n",
    "    \n",
    "    # numerical transformations\n",
    "    for col in ['creditscore', 'age', 'balance', 'estimatedsalary']:\n",
    "        df[f'{col}_square'] = df[col]*df[col]\n",
    "        df[f'{col}_sqrt'] = np.sqrt(df[col])\n",
    "        df[f'{col}_log'] = np.log1p(df[col])\n",
    "\n",
    "    \n",
    "    return df\n",
    "\n",
    "train = prepare_data(train)\n",
    "test = prepare_data(test)"
   ]
  },
  {
   "cell_type": "code",
   "execution_count": 7,
   "id": "1d87a333",
   "metadata": {
    "execution": {
     "iopub.execute_input": "2024-01-07T18:15:01.813874Z",
     "iopub.status.busy": "2024-01-07T18:15:01.813469Z",
     "iopub.status.idle": "2024-01-07T18:15:01.821195Z",
     "shell.execute_reply": "2024-01-07T18:15:01.819698Z"
    },
    "papermill": {
     "duration": 0.020317,
     "end_time": "2024-01-07T18:15:01.823859",
     "exception": false,
     "start_time": "2024-01-07T18:15:01.803542",
     "status": "completed"
    },
    "tags": []
   },
   "outputs": [],
   "source": [
    "dep_var = 'exited'\n",
    "\n",
    "fe_cols = ['surname', 'customerid', 'id', 'tenure_age_ratio']\n",
    "le_cols = ['gender', 'hascrcard', 'isactivemember', 'geography', 'balance_high']\n",
    "ohe_cols = ['numofproducts', 'geo_gender_interaction', 'agecategory']\n",
    "\n",
    "cat_cols = fe_cols + le_cols + ohe_cols\n",
    "\n",
    "num_cols = ['creditscore', 'age', 'balance', 'estimatedsalary', \n",
    "            'credit_utilization', 'balance_credit_ratio',\n",
    "           'creditscore_square', 'creditscore_sqrt',\n",
    "           'creditscore_log', 'age_square', 'age_sqrt', 'age_log',\n",
    "           'balance_square', 'balance_sqrt', 'balance_log',\n",
    "           'estimatedsalary_square', 'estimatedsalary_sqrt',\n",
    "           'estimatedsalary_log']"
   ]
  },
  {
   "cell_type": "code",
   "execution_count": 8,
   "id": "f44301e4",
   "metadata": {
    "execution": {
     "iopub.execute_input": "2024-01-07T18:15:01.843567Z",
     "iopub.status.busy": "2024-01-07T18:15:01.843136Z",
     "iopub.status.idle": "2024-01-07T18:15:01.851671Z",
     "shell.execute_reply": "2024-01-07T18:15:01.850710Z"
    },
    "papermill": {
     "duration": 0.020773,
     "end_time": "2024-01-07T18:15:01.853746",
     "exception": false,
     "start_time": "2024-01-07T18:15:01.832973",
     "status": "completed"
    },
    "tags": []
   },
   "outputs": [
    {
     "data": {
      "text/plain": [
       "'%matplotlib inline\\n\\ncmap = plt.get_cmap(\"tab20c\")\\ncolors = cmap(range(len(cat_cols)))\\n\\nfig, axs = plt.subplots(ncols=len(cat_cols), nrows=1, figsize=(int(3*len(cat_cols)+1),3))\\naxs = axs.flatten()\\n\\nfor idx, col in enumerate(cat_cols[1:] + [dep_var]):\\n    #display(df[col].value_counts(normalize=True))\\n    train[col].value_counts(normalize=True).plot.barh(ax=axs[idx], color=colors[idx], ylabel=\\'\\')\\n    axs[idx].set_title(col)\\n    \\nfig.suptitle(\\'Categorical Variables: Value Counts\\')\\nplt.tight_layout()\\n\\ncmap = plt.get_cmap(\"tab20c\")\\ncolors = cmap(range(len(num_cols)))\\n\\nfig, axs = plt.subplots(ncols=len(num_cols), nrows=1, figsize=(3*int(len(num_cols)),3))\\naxs = axs.flatten()\\n\\nfor idx, col in enumerate(num_cols):\\n    if col == \\'balance\\':\\n        train[train.balance > 10][col].plot.hist(ax=axs[idx], bins=20, color=colors[idx], ylabel=\\'\\')\\n        axs[idx].set_title(\\'balance > 10\\')\\n    #display(df[col].value_counts(normalize=True))\\n    else: \\n        train[col].plot.hist(ax=axs[idx], bins=20, color=colors[idx], ylabel=\\'\\')\\n        axs[idx].set_title(col)\\n    \\nfig.suptitle(\\'Numerical Variables: Normalised historgrams\\')\\nplt.tight_layout()'"
      ]
     },
     "execution_count": 8,
     "metadata": {},
     "output_type": "execute_result"
    }
   ],
   "source": [
    "\"\"\"%matplotlib inline\n",
    "\n",
    "cmap = plt.get_cmap(\"tab20c\")\n",
    "colors = cmap(range(len(cat_cols)))\n",
    "\n",
    "fig, axs = plt.subplots(ncols=len(cat_cols), nrows=1, figsize=(int(3*len(cat_cols)+1),3))\n",
    "axs = axs.flatten()\n",
    "\n",
    "for idx, col in enumerate(cat_cols[1:] + [dep_var]):\n",
    "    #display(df[col].value_counts(normalize=True))\n",
    "    train[col].value_counts(normalize=True).plot.barh(ax=axs[idx], color=colors[idx], ylabel='')\n",
    "    axs[idx].set_title(col)\n",
    "    \n",
    "fig.suptitle('Categorical Variables: Value Counts')\n",
    "plt.tight_layout()\n",
    "\n",
    "cmap = plt.get_cmap(\"tab20c\")\n",
    "colors = cmap(range(len(num_cols)))\n",
    "\n",
    "fig, axs = plt.subplots(ncols=len(num_cols), nrows=1, figsize=(3*int(len(num_cols)),3))\n",
    "axs = axs.flatten()\n",
    "\n",
    "for idx, col in enumerate(num_cols):\n",
    "    if col == 'balance':\n",
    "        train[train.balance > 10][col].plot.hist(ax=axs[idx], bins=20, color=colors[idx], ylabel='')\n",
    "        axs[idx].set_title('balance > 10')\n",
    "    #display(df[col].value_counts(normalize=True))\n",
    "    else: \n",
    "        train[col].plot.hist(ax=axs[idx], bins=20, color=colors[idx], ylabel='')\n",
    "        axs[idx].set_title(col)\n",
    "    \n",
    "fig.suptitle('Numerical Variables: Normalised historgrams')\n",
    "plt.tight_layout()\"\"\""
   ]
  },
  {
   "cell_type": "code",
   "execution_count": 9,
   "id": "f8cfef41",
   "metadata": {
    "execution": {
     "iopub.execute_input": "2024-01-07T18:15:01.873111Z",
     "iopub.status.busy": "2024-01-07T18:15:01.872691Z",
     "iopub.status.idle": "2024-01-07T18:15:01.878652Z",
     "shell.execute_reply": "2024-01-07T18:15:01.877600Z"
    },
    "papermill": {
     "duration": 0.018386,
     "end_time": "2024-01-07T18:15:01.881047",
     "exception": false,
     "start_time": "2024-01-07T18:15:01.862661",
     "status": "completed"
    },
    "tags": []
   },
   "outputs": [],
   "source": [
    "y_train = train['exited'].values\n",
    "\n",
    "del train['exited']"
   ]
  },
  {
   "cell_type": "code",
   "execution_count": 10,
   "id": "58ee96cd",
   "metadata": {
    "execution": {
     "iopub.execute_input": "2024-01-07T18:15:01.900585Z",
     "iopub.status.busy": "2024-01-07T18:15:01.900156Z",
     "iopub.status.idle": "2024-01-07T18:15:03.117735Z",
     "shell.execute_reply": "2024-01-07T18:15:03.116026Z"
    },
    "papermill": {
     "duration": 1.231255,
     "end_time": "2024-01-07T18:15:03.120903",
     "exception": false,
     "start_time": "2024-01-07T18:15:01.889648",
     "status": "completed"
    },
    "tags": []
   },
   "outputs": [
    {
     "name": "stderr",
     "output_type": "stream",
     "text": [
      "/opt/conda/lib/python3.10/site-packages/sklearn/preprocessing/_encoders.py:868: FutureWarning: `sparse` was renamed to `sparse_output` in version 1.2 and will be removed in 1.4. `sparse_output` is ignored unless you leave `sparse` to its default value.\n",
      "  warnings.warn(\n"
     ]
    }
   ],
   "source": [
    "scaler = StandardScaler()\n",
    "X_train_num = scaler.fit_transform(train[num_cols])\n",
    "X_test_num = scaler.transform(test[num_cols])\n",
    "\n",
    "ordinal_encoder = OrdinalEncoder(handle_unknown='use_encoded_value', unknown_value=-1)\n",
    "X_train_fe = ordinal_encoder.fit_transform(train[fe_cols])\n",
    "X_test_fe = ordinal_encoder.transform(test[fe_cols])\n",
    "\n",
    "label = LabelEncoder()\n",
    "X_train_le = train[le_cols].apply(label.fit_transform).values\n",
    "X_test_le = test[le_cols].apply(label.transform).values\n",
    "\n",
    "ohe = OneHotEncoder(sparse=False, handle_unknown='ignore')\n",
    "X_train_ohe = ohe.fit_transform(train[ohe_cols])\n",
    "X_test_ohe = ohe.transform(test[ohe_cols])\n",
    "ohe_features = ohe.get_feature_names_out().tolist()\n",
    "\n",
    "X_train = np.column_stack([X_train_num, X_train_fe, X_train_le, X_train_ohe])\n",
    "X_test = np.column_stack([X_test_num, X_test_fe, X_test_le, X_test_ohe])\n",
    "\n",
    "feature_names = num_cols + le_cols + fe_cols + ohe_features"
   ]
  },
  {
   "cell_type": "code",
   "execution_count": 11,
   "id": "84b0d796",
   "metadata": {
    "execution": {
     "iopub.execute_input": "2024-01-07T18:15:03.141588Z",
     "iopub.status.busy": "2024-01-07T18:15:03.141179Z",
     "iopub.status.idle": "2024-01-07T18:15:03.148264Z",
     "shell.execute_reply": "2024-01-07T18:15:03.147374Z"
    },
    "papermill": {
     "duration": 0.020414,
     "end_time": "2024-01-07T18:15:03.150425",
     "exception": false,
     "start_time": "2024-01-07T18:15:03.130011",
     "status": "completed"
    },
    "tags": []
   },
   "outputs": [
    {
     "data": {
      "text/plain": [
       "(165034, 39)"
      ]
     },
     "execution_count": 11,
     "metadata": {},
     "output_type": "execute_result"
    }
   ],
   "source": [
    "X_train.shape"
   ]
  },
  {
   "cell_type": "code",
   "execution_count": 12,
   "id": "a466a1d4",
   "metadata": {
    "execution": {
     "iopub.execute_input": "2024-01-07T18:15:03.170355Z",
     "iopub.status.busy": "2024-01-07T18:15:03.169881Z",
     "iopub.status.idle": "2024-01-07T18:15:03.177737Z",
     "shell.execute_reply": "2024-01-07T18:15:03.176517Z"
    },
    "papermill": {
     "duration": 0.020843,
     "end_time": "2024-01-07T18:15:03.180253",
     "exception": false,
     "start_time": "2024-01-07T18:15:03.159410",
     "status": "completed"
    },
    "tags": []
   },
   "outputs": [
    {
     "data": {
      "text/plain": [
       "\"lgbm_model = lgbm.LGBMClassifier()\\n\\nlgbm_params = {\\n              'n_estimators': [10, 50, 100, 500],\\n              'max_depth': [3, 6, 9, 12],\\n              'learning_rate' : [0.01, 0.1, 1.0],\\n              'boosting_type' : ['gbdt', 'dart', 'goss']\\n              }\\n\\nclf = GridSearchCV(lgbm_model, lgbm_params, scoring='roc_auc', n_jobs=-1)\\n\\nclf.fit(X_train, y_train)\\n\\nlgbm_tuned = clf.best_estimator_\\nparams_tuned = clf.best_params_\\n\\nprint(clf.best_estimator_)\\nprint(clf.best_params_)\\nprint(clf.best_score_)\""
      ]
     },
     "execution_count": 12,
     "metadata": {},
     "output_type": "execute_result"
    }
   ],
   "source": [
    "\"\"\"lgbm_model = lgbm.LGBMClassifier()\n",
    "\n",
    "lgbm_params = {\n",
    "              'n_estimators': [10, 50, 100, 500],\n",
    "              'max_depth': [3, 6, 9, 12],\n",
    "              'learning_rate' : [0.01, 0.1, 1.0],\n",
    "              'boosting_type' : ['gbdt', 'dart', 'goss']\n",
    "              }\n",
    "\n",
    "clf = GridSearchCV(lgbm_model, lgbm_params, scoring='roc_auc', n_jobs=-1)\n",
    "\n",
    "clf.fit(X_train, y_train)\n",
    "\n",
    "lgbm_tuned = clf.best_estimator_\n",
    "params_tuned = clf.best_params_\n",
    "\n",
    "print(clf.best_estimator_)\n",
    "print(clf.best_params_)\n",
    "print(clf.best_score_)\"\"\""
   ]
  },
  {
   "cell_type": "code",
   "execution_count": 13,
   "id": "65e6f424",
   "metadata": {
    "execution": {
     "iopub.execute_input": "2024-01-07T18:15:03.200650Z",
     "iopub.status.busy": "2024-01-07T18:15:03.200160Z",
     "iopub.status.idle": "2024-01-07T18:15:03.207271Z",
     "shell.execute_reply": "2024-01-07T18:15:03.205985Z"
    },
    "papermill": {
     "duration": 0.021393,
     "end_time": "2024-01-07T18:15:03.210691",
     "exception": false,
     "start_time": "2024-01-07T18:15:03.189298",
     "status": "completed"
    },
    "tags": []
   },
   "outputs": [],
   "source": [
    "neg, pos = np.bincount(y_train)\n",
    "total = neg + pos\n",
    "weight_for_0 = (1 / neg) * (total / 2.0)\n",
    "weight_for_1 = (1 / pos) * (total / 2.0)\n",
    "class_weight = {0: weight_for_0, 1: weight_for_1}"
   ]
  },
  {
   "cell_type": "code",
   "execution_count": 14,
   "id": "e21d58db",
   "metadata": {
    "execution": {
     "iopub.execute_input": "2024-01-07T18:15:03.232077Z",
     "iopub.status.busy": "2024-01-07T18:15:03.231586Z",
     "iopub.status.idle": "2024-01-07T18:15:03.237746Z",
     "shell.execute_reply": "2024-01-07T18:15:03.236292Z"
    },
    "papermill": {
     "duration": 0.019529,
     "end_time": "2024-01-07T18:15:03.240532",
     "exception": false,
     "start_time": "2024-01-07T18:15:03.221003",
     "status": "completed"
    },
    "tags": []
   },
   "outputs": [],
   "source": [
    "params_tuned = {\n",
    "                'boosting_type':'gbdt',\n",
    "                'n_estimators': 500,\n",
    "                #'num_leaves': 12,\n",
    "                'max_depth': 3,\n",
    "                'learning_rate': 0.1,\n",
    "                #'colsample_bytree': 0.5,\n",
    "                #'class_weight': class_weight\n",
    "                }\n",
    "\n",
    "model = lgbm.LGBMClassifier(**params_tuned)"
   ]
  },
  {
   "cell_type": "code",
   "execution_count": 15,
   "id": "a0f60a28",
   "metadata": {
    "execution": {
     "iopub.execute_input": "2024-01-07T18:15:03.261758Z",
     "iopub.status.busy": "2024-01-07T18:15:03.261062Z",
     "iopub.status.idle": "2024-01-07T18:15:03.269954Z",
     "shell.execute_reply": "2024-01-07T18:15:03.267773Z"
    },
    "papermill": {
     "duration": 0.023349,
     "end_time": "2024-01-07T18:15:03.273440",
     "exception": false,
     "start_time": "2024-01-07T18:15:03.250091",
     "status": "completed"
    },
    "tags": []
   },
   "outputs": [
    {
     "data": {
      "text/plain": [
       "['creditscore',\n",
       " 'age',\n",
       " 'balance',\n",
       " 'estimatedsalary',\n",
       " 'credit_utilization',\n",
       " 'balance_credit_ratio',\n",
       " 'creditscore_square',\n",
       " 'creditscore_sqrt',\n",
       " 'creditscore_log',\n",
       " 'age_square',\n",
       " 'age_sqrt',\n",
       " 'age_log',\n",
       " 'balance_square',\n",
       " 'balance_sqrt',\n",
       " 'balance_log',\n",
       " 'estimatedsalary_square',\n",
       " 'estimatedsalary_sqrt',\n",
       " 'estimatedsalary_log',\n",
       " 'gender',\n",
       " 'hascrcard',\n",
       " 'isactivemember',\n",
       " 'geography',\n",
       " 'balance_high',\n",
       " 'surname',\n",
       " 'customerid',\n",
       " 'id',\n",
       " 'tenure_age_ratio',\n",
       " 'numofproducts_1',\n",
       " 'numofproducts_2',\n",
       " 'numofproducts_3',\n",
       " 'geo_gender_interaction_france_female',\n",
       " 'geo_gender_interaction_france_male',\n",
       " 'geo_gender_interaction_germany_female',\n",
       " 'geo_gender_interaction_germany_male',\n",
       " 'geo_gender_interaction_spain_female',\n",
       " 'geo_gender_interaction_spain_male',\n",
       " 'agecategory_middleaged',\n",
       " 'agecategory_senior',\n",
       " 'agecategory_young']"
      ]
     },
     "execution_count": 15,
     "metadata": {},
     "output_type": "execute_result"
    }
   ],
   "source": [
    "feature_names"
   ]
  },
  {
   "cell_type": "code",
   "execution_count": 16,
   "id": "2aa706d6",
   "metadata": {
    "execution": {
     "iopub.execute_input": "2024-01-07T18:15:03.293993Z",
     "iopub.status.busy": "2024-01-07T18:15:03.293233Z",
     "iopub.status.idle": "2024-01-07T18:15:03.301500Z",
     "shell.execute_reply": "2024-01-07T18:15:03.300549Z"
    },
    "papermill": {
     "duration": 0.021373,
     "end_time": "2024-01-07T18:15:03.303997",
     "exception": false,
     "start_time": "2024-01-07T18:15:03.282624",
     "status": "completed"
    },
    "tags": []
   },
   "outputs": [],
   "source": [
    "def run_cross_validation(X, y):\n",
    "    kfold = KFold(n_splits=10)\n",
    "\n",
    "    results = []\n",
    "\n",
    "    for index, (train_index, test_index) in enumerate(kfold.split(X), start=1):\n",
    "        X_train, X_val = X[train_index], X[test_index]\n",
    "        y_train, y_val = y[train_index], y[test_index]\n",
    "\n",
    "        oversample = SMOTE()\n",
    "        X_train, y_train = oversample.fit_resample(X_train, y_train)\n",
    "\n",
    "        model.fit(X_train, y_train)\n",
    "        probas = model.predict_proba(X_val)\n",
    "        positive_label_proba = probas[:, 1]\n",
    "\n",
    "        auc_score = roc_auc_score(y_val, positive_label_proba)\n",
    "        print(f\"[Fold #{index}] ROC AUC Score: {auc_score:.3f}\")\n",
    "        results.append(auc_score)\n",
    "\n",
    "    print(f\"ROC AUC Score: {np.mean(results):.3f} (+/-{2 * np.std(results):.3f})\")"
   ]
  },
  {
   "cell_type": "code",
   "execution_count": 17,
   "id": "641db963",
   "metadata": {
    "execution": {
     "iopub.execute_input": "2024-01-07T18:15:03.325895Z",
     "iopub.status.busy": "2024-01-07T18:15:03.325169Z",
     "iopub.status.idle": "2024-01-07T18:18:44.223704Z",
     "shell.execute_reply": "2024-01-07T18:18:44.222612Z"
    },
    "papermill": {
     "duration": 220.922831,
     "end_time": "2024-01-07T18:18:44.236515",
     "exception": false,
     "start_time": "2024-01-07T18:15:03.313684",
     "status": "completed"
    },
    "tags": []
   },
   "outputs": [
    {
     "name": "stdout",
     "output_type": "stream",
     "text": [
      "[Fold #1] ROC AUC Score: 0.890\n",
      "[Fold #2] ROC AUC Score: 0.898\n",
      "[Fold #3] ROC AUC Score: 0.890\n",
      "[Fold #4] ROC AUC Score: 0.887\n",
      "[Fold #5] ROC AUC Score: 0.893\n",
      "[Fold #6] ROC AUC Score: 0.890\n",
      "[Fold #7] ROC AUC Score: 0.890\n",
      "[Fold #8] ROC AUC Score: 0.892\n",
      "[Fold #9] ROC AUC Score: 0.891\n",
      "[Fold #10] ROC AUC Score: 0.890\n",
      "ROC AUC Score: 0.891 (+/-0.005)\n"
     ]
    }
   ],
   "source": [
    "run_cross_validation(X_train, y_train)"
   ]
  },
  {
   "cell_type": "code",
   "execution_count": 18,
   "id": "b4a41564",
   "metadata": {
    "execution": {
     "iopub.execute_input": "2024-01-07T18:18:44.258561Z",
     "iopub.status.busy": "2024-01-07T18:18:44.257874Z",
     "iopub.status.idle": "2024-01-07T18:18:45.338116Z",
     "shell.execute_reply": "2024-01-07T18:18:45.336607Z"
    },
    "papermill": {
     "duration": 1.095021,
     "end_time": "2024-01-07T18:18:45.341422",
     "exception": false,
     "start_time": "2024-01-07T18:18:44.246401",
     "status": "completed"
    },
    "tags": []
   },
   "outputs": [
    {
     "data": {
      "image/png": "[encoded data removed]",
      "text/plain": [
       "<Figure size 640x480 with 1 Axes>"
      ]
     },
     "metadata": {},
     "output_type": "display_data"
    }
   ],
   "source": [
    "importances = model.feature_importances_\n",
    "\n",
    "forest_importances = pd.Series(importances, index=feature_names)\n",
    "\n",
    "fig, ax = plt.subplots()\n",
    "forest_importances.sort_values(ascending=False)[::-1].plot.barh(ax=ax)\n",
    "ax.set_title(\"Feature importances using MDI\")\n",
    "ax.set_ylabel(\"Mean decrease in impurity\")\n",
    "fig.tight_layout()\n"
   ]
  },
  {
   "cell_type": "code",
   "execution_count": 19,
   "id": "ac348d69",
   "metadata": {
    "execution": {
     "iopub.execute_input": "2024-01-07T18:18:45.367347Z",
     "iopub.status.busy": "2024-01-07T18:18:45.366874Z",
     "iopub.status.idle": "2024-01-07T18:18:46.836896Z",
     "shell.execute_reply": "2024-01-07T18:18:46.835021Z"
    },
    "papermill": {
     "duration": 1.487851,
     "end_time": "2024-01-07T18:18:46.841297",
     "exception": false,
     "start_time": "2024-01-07T18:18:45.353446",
     "status": "completed"
    },
    "tags": []
   },
   "outputs": [],
   "source": [
    "probas = model.predict_proba(X_test)\n",
    "positive_label_proba = probas[:, 1]\n",
    "submission['Exited'] = positive_label_proba\n",
    "submission.to_csv('baseline.csv', index=False)"
   ]
  },
  {
   "cell_type": "markdown",
   "id": "8e3a1413",
   "metadata": {
    "papermill": {
     "duration": 0.012345,
     "end_time": "2024-01-07T18:18:46.865719",
     "exception": false,
     "start_time": "2024-01-07T18:18:46.853374",
     "status": "completed"
    },
    "tags": []
   },
   "source": [
    "🚨🚨🚨 \n",
    "* slightly imbalanced set\n",
    "* balance column: separate between gaussian variable and < 10\n"
   ]
  }
 ],
 "metadata": {
  "kaggle": {
   "accelerator": "none",
   "dataSources": [
    {
     "databundleVersionId": 7405009,
     "sourceId": 65711,
     "sourceType": "competition"
    }
   ],
   "dockerImageVersionId": 30626,
   "isGpuEnabled": false,
   "isInternetEnabled": true,
   "language": "python",
   "sourceType": "notebook"
  },
  "kernelspec": {
   "display_name": "Python 3",
   "language": "python",
   "name": "python3"
  },
  "language_info": {
   "codemirror_mode": {
    "name": "ipython",
    "version": 3
   },
   "file_extension": ".py",
   "mimetype": "text/x-python",
   "name": "python",
   "nbconvert_exporter": "python",
   "pygments_lexer": "ipython3",
   "version": "3.10.12"
  },
  "papermill": {
   "default_parameters": {},
   "duration": 235.59956,
   "end_time": "2024-01-07T18:18:47.805390",
   "environment_variables": {},
   "exception": null,
   "input_path": "__notebook__.ipynb",
   "output_path": "__notebook__.ipynb",
   "parameters": {},
   "start_time": "2024-01-07T18:14:52.205830",
   "version": "2.4.0"
  }
 },
 "nbformat": 4,
 "nbformat_minor": 5
}
