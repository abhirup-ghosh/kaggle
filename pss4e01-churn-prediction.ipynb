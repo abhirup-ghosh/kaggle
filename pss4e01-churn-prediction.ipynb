{
 "cells": [
  {
   "cell_type": "code",
   "execution_count": 1,
   "id": "2003d864",
   "metadata": {
    "_kg_hide-input": true,
    "execution": {
     "iopub.execute_input": "2024-01-06T17:12:28.223244Z",
     "iopub.status.busy": "2024-01-06T17:12:28.222346Z",
     "iopub.status.idle": "2024-01-06T17:12:32.447669Z",
     "shell.execute_reply": "2024-01-06T17:12:32.446315Z"
    },
    "papermill": {
     "duration": 4.23743,
     "end_time": "2024-01-06T17:12:32.451060",
     "exception": false,
     "start_time": "2024-01-06T17:12:28.213630",
     "status": "completed"
    },
    "tags": []
   },
   "outputs": [],
   "source": [
    "import numpy as np\n",
    "import pandas as pd\n",
    "import os\n",
    "import matplotlib.pyplot as plt\n",
    "import seaborn as sns\n",
    "\n",
    "from sklearn.model_selection import train_test_split, GridSearchCV, KFold\n",
    "from sklearn.preprocessing import StandardScaler, LabelEncoder, OrdinalEncoder, OneHotEncoder, MinMaxScaler\n",
    "from sklearn.pipeline import Pipeline\n",
    "from sklearn.compose import ColumnTransformer\n",
    "from sklearn.metrics import roc_auc_score\n",
    "\n",
    "from imblearn.over_sampling import SMOTE\n",
    "\n",
    "\n",
    "import lightgbm as lgbm\n",
    "\n",
    "\n",
    "sns.set_style(\"whitegrid\")\n",
    "sns.set_palette('muted')"
   ]
  },
  {
   "cell_type": "code",
   "execution_count": 2,
   "id": "63e954e4",
   "metadata": {
    "_kg_hide-input": true,
    "execution": {
     "iopub.execute_input": "2024-01-06T17:12:32.464013Z",
     "iopub.status.busy": "2024-01-06T17:12:32.463606Z",
     "iopub.status.idle": "2024-01-06T17:12:32.471856Z",
     "shell.execute_reply": "2024-01-06T17:12:32.470328Z"
    },
    "papermill": {
     "duration": 0.018086,
     "end_time": "2024-01-06T17:12:32.474967",
     "exception": false,
     "start_time": "2024-01-06T17:12:32.456881",
     "status": "completed"
    },
    "tags": []
   },
   "outputs": [
    {
     "name": "stdout",
     "output_type": "stream",
     "text": [
      "/kaggle/input/playground-series-s4e1/sample_submission.csv\n",
      "/kaggle/input/playground-series-s4e1/train.csv\n",
      "/kaggle/input/playground-series-s4e1/test.csv\n"
     ]
    }
   ],
   "source": [
    "for dirname, _, filenames in os.walk('/kaggle/input'):\n",
    "    for filename in filenames:\n",
    "        print(os.path.join(dirname, filename))"
   ]
  },
  {
   "cell_type": "code",
   "execution_count": 3,
   "id": "a3f87f62",
   "metadata": {
    "_kg_hide-input": true,
    "execution": {
     "iopub.execute_input": "2024-01-06T17:12:32.487623Z",
     "iopub.status.busy": "2024-01-06T17:12:32.487216Z",
     "iopub.status.idle": "2024-01-06T17:12:33.148783Z",
     "shell.execute_reply": "2024-01-06T17:12:33.147765Z"
    },
    "papermill": {
     "duration": 0.671104,
     "end_time": "2024-01-06T17:12:33.151521",
     "exception": false,
     "start_time": "2024-01-06T17:12:32.480417",
     "status": "completed"
    },
    "tags": []
   },
   "outputs": [],
   "source": [
    "data_loc = '/kaggle/input/playground-series-s4e1/'\n",
    "train = pd.read_csv(data_loc + 'train.csv')\n",
    "test = pd.read_csv(data_loc + 'test.csv')\n",
    "submission = pd.read_csv(data_loc + 'sample_submission.csv')"
   ]
  },
  {
   "cell_type": "code",
   "execution_count": 4,
   "id": "228b2764",
   "metadata": {
    "execution": {
     "iopub.execute_input": "2024-01-06T17:12:33.163865Z",
     "iopub.status.busy": "2024-01-06T17:12:33.163482Z",
     "iopub.status.idle": "2024-01-06T17:12:33.189544Z",
     "shell.execute_reply": "2024-01-06T17:12:33.188294Z"
    },
    "papermill": {
     "duration": 0.035586,
     "end_time": "2024-01-06T17:12:33.192453",
     "exception": false,
     "start_time": "2024-01-06T17:12:33.156867",
     "status": "completed"
    },
    "tags": []
   },
   "outputs": [
    {
     "data": {
      "text/html": [
       "<div>\n",
       "<style scoped>\n",
       "    .dataframe tbody tr th:only-of-type {\n",
       "        vertical-align: middle;\n",
       "    }\n",
       "\n",
       "    .dataframe tbody tr th {\n",
       "        vertical-align: top;\n",
       "    }\n",
       "\n",
       "    .dataframe thead th {\n",
       "        text-align: right;\n",
       "    }\n",
       "</style>\n",
       "<table border=\"1\" class=\"dataframe\">\n",
       "  <thead>\n",
       "    <tr style=\"text-align: right;\">\n",
       "      <th></th>\n",
       "      <th>0</th>\n",
       "      <th>1</th>\n",
       "      <th>2</th>\n",
       "      <th>3</th>\n",
       "      <th>4</th>\n",
       "    </tr>\n",
       "  </thead>\n",
       "  <tbody>\n",
       "    <tr>\n",
       "      <th>id</th>\n",
       "      <td>0</td>\n",
       "      <td>1</td>\n",
       "      <td>2</td>\n",
       "      <td>3</td>\n",
       "      <td>4</td>\n",
       "    </tr>\n",
       "    <tr>\n",
       "      <th>CustomerId</th>\n",
       "      <td>15674932</td>\n",
       "      <td>15749177</td>\n",
       "      <td>15694510</td>\n",
       "      <td>15741417</td>\n",
       "      <td>15766172</td>\n",
       "    </tr>\n",
       "    <tr>\n",
       "      <th>Surname</th>\n",
       "      <td>Okwudilichukwu</td>\n",
       "      <td>Okwudiliolisa</td>\n",
       "      <td>Hsueh</td>\n",
       "      <td>Kao</td>\n",
       "      <td>Chiemenam</td>\n",
       "    </tr>\n",
       "    <tr>\n",
       "      <th>CreditScore</th>\n",
       "      <td>668</td>\n",
       "      <td>627</td>\n",
       "      <td>678</td>\n",
       "      <td>581</td>\n",
       "      <td>716</td>\n",
       "    </tr>\n",
       "    <tr>\n",
       "      <th>Geography</th>\n",
       "      <td>France</td>\n",
       "      <td>France</td>\n",
       "      <td>France</td>\n",
       "      <td>France</td>\n",
       "      <td>Spain</td>\n",
       "    </tr>\n",
       "    <tr>\n",
       "      <th>Gender</th>\n",
       "      <td>Male</td>\n",
       "      <td>Male</td>\n",
       "      <td>Male</td>\n",
       "      <td>Male</td>\n",
       "      <td>Male</td>\n",
       "    </tr>\n",
       "    <tr>\n",
       "      <th>Age</th>\n",
       "      <td>33.0</td>\n",
       "      <td>33.0</td>\n",
       "      <td>40.0</td>\n",
       "      <td>34.0</td>\n",
       "      <td>33.0</td>\n",
       "    </tr>\n",
       "    <tr>\n",
       "      <th>Tenure</th>\n",
       "      <td>3</td>\n",
       "      <td>1</td>\n",
       "      <td>10</td>\n",
       "      <td>2</td>\n",
       "      <td>5</td>\n",
       "    </tr>\n",
       "    <tr>\n",
       "      <th>Balance</th>\n",
       "      <td>0.0</td>\n",
       "      <td>0.0</td>\n",
       "      <td>0.0</td>\n",
       "      <td>148882.54</td>\n",
       "      <td>0.0</td>\n",
       "    </tr>\n",
       "    <tr>\n",
       "      <th>NumOfProducts</th>\n",
       "      <td>2</td>\n",
       "      <td>2</td>\n",
       "      <td>2</td>\n",
       "      <td>1</td>\n",
       "      <td>2</td>\n",
       "    </tr>\n",
       "    <tr>\n",
       "      <th>HasCrCard</th>\n",
       "      <td>1.0</td>\n",
       "      <td>1.0</td>\n",
       "      <td>1.0</td>\n",
       "      <td>1.0</td>\n",
       "      <td>1.0</td>\n",
       "    </tr>\n",
       "    <tr>\n",
       "      <th>IsActiveMember</th>\n",
       "      <td>0.0</td>\n",
       "      <td>1.0</td>\n",
       "      <td>0.0</td>\n",
       "      <td>1.0</td>\n",
       "      <td>1.0</td>\n",
       "    </tr>\n",
       "    <tr>\n",
       "      <th>EstimatedSalary</th>\n",
       "      <td>181449.97</td>\n",
       "      <td>49503.5</td>\n",
       "      <td>184866.69</td>\n",
       "      <td>84560.88</td>\n",
       "      <td>15068.83</td>\n",
       "    </tr>\n",
       "    <tr>\n",
       "      <th>Exited</th>\n",
       "      <td>0</td>\n",
       "      <td>0</td>\n",
       "      <td>0</td>\n",
       "      <td>0</td>\n",
       "      <td>0</td>\n",
       "    </tr>\n",
       "  </tbody>\n",
       "</table>\n",
       "</div>"
      ],
      "text/plain": [
       "                              0              1          2          3  \\\n",
       "id                            0              1          2          3   \n",
       "CustomerId             15674932       15749177   15694510   15741417   \n",
       "Surname          Okwudilichukwu  Okwudiliolisa      Hsueh        Kao   \n",
       "CreditScore                 668            627        678        581   \n",
       "Geography                France         France     France     France   \n",
       "Gender                     Male           Male       Male       Male   \n",
       "Age                        33.0           33.0       40.0       34.0   \n",
       "Tenure                        3              1         10          2   \n",
       "Balance                     0.0            0.0        0.0  148882.54   \n",
       "NumOfProducts                 2              2          2          1   \n",
       "HasCrCard                   1.0            1.0        1.0        1.0   \n",
       "IsActiveMember              0.0            1.0        0.0        1.0   \n",
       "EstimatedSalary       181449.97        49503.5  184866.69   84560.88   \n",
       "Exited                        0              0          0          0   \n",
       "\n",
       "                         4  \n",
       "id                       4  \n",
       "CustomerId        15766172  \n",
       "Surname          Chiemenam  \n",
       "CreditScore            716  \n",
       "Geography            Spain  \n",
       "Gender                Male  \n",
       "Age                   33.0  \n",
       "Tenure                   5  \n",
       "Balance                0.0  \n",
       "NumOfProducts            2  \n",
       "HasCrCard              1.0  \n",
       "IsActiveMember         1.0  \n",
       "EstimatedSalary   15068.83  \n",
       "Exited                   0  "
      ]
     },
     "metadata": {},
     "output_type": "display_data"
    }
   ],
   "source": [
    "display(train.head().T)\n",
    "#display(test.head().T)\n",
    "#display(submission.head())"
   ]
  },
  {
   "cell_type": "code",
   "execution_count": 5,
   "id": "cbad6362",
   "metadata": {
    "execution": {
     "iopub.execute_input": "2024-01-06T17:12:33.205687Z",
     "iopub.status.busy": "2024-01-06T17:12:33.205232Z",
     "iopub.status.idle": "2024-01-06T17:12:33.329680Z",
     "shell.execute_reply": "2024-01-06T17:12:33.327516Z"
    },
    "papermill": {
     "duration": 0.134707,
     "end_time": "2024-01-06T17:12:33.333060",
     "exception": false,
     "start_time": "2024-01-06T17:12:33.198353",
     "status": "completed"
    },
    "tags": []
   },
   "outputs": [
    {
     "name": "stdout",
     "output_type": "stream",
     "text": [
      "<class 'pandas.core.frame.DataFrame'>\n",
      "RangeIndex: 165034 entries, 0 to 165033\n",
      "Data columns (total 14 columns):\n",
      " #   Column           Non-Null Count   Dtype  \n",
      "---  ------           --------------   -----  \n",
      " 0   id               165034 non-null  int64  \n",
      " 1   CustomerId       165034 non-null  int64  \n",
      " 2   Surname          165034 non-null  object \n",
      " 3   CreditScore      165034 non-null  int64  \n",
      " 4   Geography        165034 non-null  object \n",
      " 5   Gender           165034 non-null  object \n",
      " 6   Age              165034 non-null  float64\n",
      " 7   Tenure           165034 non-null  int64  \n",
      " 8   Balance          165034 non-null  float64\n",
      " 9   NumOfProducts    165034 non-null  int64  \n",
      " 10  HasCrCard        165034 non-null  float64\n",
      " 11  IsActiveMember   165034 non-null  float64\n",
      " 12  EstimatedSalary  165034 non-null  float64\n",
      " 13  Exited           165034 non-null  int64  \n",
      "dtypes: float64(5), int64(6), object(3)\n",
      "memory usage: 17.6+ MB\n"
     ]
    },
    {
     "data": {
      "text/plain": [
       "id                 165034\n",
       "CustomerId          23221\n",
       "Surname              2797\n",
       "CreditScore           457\n",
       "Geography               3\n",
       "Gender                  2\n",
       "Age                    71\n",
       "Tenure                 11\n",
       "Balance             30075\n",
       "NumOfProducts           4\n",
       "HasCrCard               2\n",
       "IsActiveMember          2\n",
       "EstimatedSalary     55298\n",
       "Exited                  2\n",
       "dtype: int64"
      ]
     },
     "execution_count": 5,
     "metadata": {},
     "output_type": "execute_result"
    }
   ],
   "source": [
    "train.info()\n",
    "#train.isnull().sum()\n",
    "#train.describe(include='all')\n",
    "train.nunique()"
   ]
  },
  {
   "cell_type": "code",
   "execution_count": 6,
   "id": "2087e40e",
   "metadata": {
    "execution": {
     "iopub.execute_input": "2024-01-06T17:12:33.347832Z",
     "iopub.status.busy": "2024-01-06T17:12:33.346697Z",
     "iopub.status.idle": "2024-01-06T17:12:33.720585Z",
     "shell.execute_reply": "2024-01-06T17:12:33.718775Z"
    },
    "papermill": {
     "duration": 0.384245,
     "end_time": "2024-01-06T17:12:33.723348",
     "exception": false,
     "start_time": "2024-01-06T17:12:33.339103",
     "status": "completed"
    },
    "tags": []
   },
   "outputs": [],
   "source": [
    "def prepare_data(df):\n",
    "    \n",
    "    # Make the column names lower-case\n",
    "    df.columns = df.columns.str.lower()\n",
    "    \n",
    "    # Make the string values of categorical columns lower-case and uniform\n",
    "    categorical_columns = df.dtypes[df.dtypes == 'object'].index.tolist()\n",
    "\n",
    "    for col in categorical_columns:\n",
    "        df[col] = df[col].str.lower()\n",
    "    \n",
    "    # numerical transformations\n",
    "    for col in ['creditscore', 'age', 'balance', 'estimatedsalary']:\n",
    "        df[f'{col}_sq'] = df[col]*df[col]\n",
    "        df[f'{col}_sqrt'] = np.sqrt(df[col])\n",
    "    \n",
    "    # logarithmic transformations\n",
    "    for col in ['balance', 'estimatedsalary', 'age']:\n",
    "        df[col] = np.log1p(df[col])\n",
    "        \n",
    "    # Drop columns: 'id', 'customerid'\n",
    "    df.drop(['id', 'customerid'], axis=1, inplace=True)  \n",
    "    \n",
    "    # Feature engineering\n",
    "    df['balance_high'] = df['balance'] > 10\n",
    "    \n",
    "    # Binarise 'gender' and 'geography'\n",
    "    df['gender'] = (df['gender'] == 'male').astype(int)\n",
    "    df['geography'] = (df['geography'] == 'germany').astype(int)\n",
    "    \n",
    "    # replace number of products greater than 2, by 3\n",
    "    df['numofproducts'] = df['numofproducts'].replace(4, 3)\n",
    "    \n",
    "    return df\n",
    "\n",
    "train = prepare_data(train)\n",
    "test = prepare_data(test)"
   ]
  },
  {
   "cell_type": "code",
   "execution_count": 7,
   "id": "de9623f5",
   "metadata": {
    "execution": {
     "iopub.execute_input": "2024-01-06T17:12:33.738153Z",
     "iopub.status.busy": "2024-01-06T17:12:33.737750Z",
     "iopub.status.idle": "2024-01-06T17:12:33.747319Z",
     "shell.execute_reply": "2024-01-06T17:12:33.745545Z"
    },
    "papermill": {
     "duration": 0.020469,
     "end_time": "2024-01-06T17:12:33.749890",
     "exception": false,
     "start_time": "2024-01-06T17:12:33.729421",
     "status": "completed"
    },
    "tags": []
   },
   "outputs": [
    {
     "data": {
      "text/plain": [
       "Index(['surname', 'creditscore', 'geography', 'gender', 'age', 'tenure',\n",
       "       'balance', 'numofproducts', 'hascrcard', 'isactivemember',\n",
       "       'estimatedsalary', 'exited', 'creditscore_sq', 'creditscore_sqrt',\n",
       "       'age_sq', 'age_sqrt', 'balance_sq', 'balance_sqrt',\n",
       "       'estimatedsalary_sq', 'estimatedsalary_sqrt', 'balance_high'],\n",
       "      dtype='object')"
      ]
     },
     "execution_count": 7,
     "metadata": {},
     "output_type": "execute_result"
    }
   ],
   "source": [
    "train.columns"
   ]
  },
  {
   "cell_type": "code",
   "execution_count": 8,
   "id": "bdaf724e",
   "metadata": {
    "execution": {
     "iopub.execute_input": "2024-01-06T17:12:33.763866Z",
     "iopub.status.busy": "2024-01-06T17:12:33.763455Z",
     "iopub.status.idle": "2024-01-06T17:12:33.769580Z",
     "shell.execute_reply": "2024-01-06T17:12:33.768205Z"
    },
    "papermill": {
     "duration": 0.016224,
     "end_time": "2024-01-06T17:12:33.772181",
     "exception": false,
     "start_time": "2024-01-06T17:12:33.755957",
     "status": "completed"
    },
    "tags": []
   },
   "outputs": [],
   "source": [
    "dep_var = 'exited'\n",
    "\n",
    "fe_cols = ['surname']\n",
    "le_cols = ['gender', 'hascrcard', 'isactivemember', 'geography', 'balance_high']\n",
    "ohe_cols = ['numofproducts' ]\n",
    "\n",
    "cat_cols = fe_cols + le_cols + ohe_cols\n",
    "\n",
    "num_cols = ['creditscore', 'age', 'balance', 'estimatedsalary', \n",
    "            'creditscore_sq', 'creditscore_sqrt', 'age_sq',\n",
    "           'age_sqrt', 'balance_sq', 'balance_sqrt', 'estimatedsalary_sq',\n",
    "           'estimatedsalary_sqrt']"
   ]
  },
  {
   "cell_type": "code",
   "execution_count": 9,
   "id": "26d5a074",
   "metadata": {
    "execution": {
     "iopub.execute_input": "2024-01-06T17:12:33.786570Z",
     "iopub.status.busy": "2024-01-06T17:12:33.785868Z",
     "iopub.status.idle": "2024-01-06T17:12:33.794068Z",
     "shell.execute_reply": "2024-01-06T17:12:33.792819Z"
    },
    "papermill": {
     "duration": 0.018422,
     "end_time": "2024-01-06T17:12:33.796609",
     "exception": false,
     "start_time": "2024-01-06T17:12:33.778187",
     "status": "completed"
    },
    "tags": []
   },
   "outputs": [
    {
     "data": {
      "text/plain": [
       "'%matplotlib inline\\n\\ncmap = plt.get_cmap(\"tab20c\")\\ncolors = cmap(range(len(cat_cols)))\\n\\nfig, axs = plt.subplots(ncols=len(cat_cols), nrows=1, figsize=(int(3*len(cat_cols)+1),3))\\naxs = axs.flatten()\\n\\nfor idx, col in enumerate(cat_cols[1:] + [dep_var]):\\n    #display(df[col].value_counts(normalize=True))\\n    train[col].value_counts(normalize=True).plot.barh(ax=axs[idx], color=colors[idx], ylabel=\\'\\')\\n    axs[idx].set_title(col)\\n    \\nfig.suptitle(\\'Categorical Variables: Value Counts\\')\\nplt.tight_layout()\\n\\ncmap = plt.get_cmap(\"tab20c\")\\ncolors = cmap(range(len(num_cols)))\\n\\nfig, axs = plt.subplots(ncols=len(num_cols), nrows=1, figsize=(3*int(len(num_cols)),3))\\naxs = axs.flatten()\\n\\nfor idx, col in enumerate(num_cols):\\n    if col == \\'balance\\':\\n        train[train.balance > 10][col].plot.hist(ax=axs[idx], bins=20, color=colors[idx], ylabel=\\'\\')\\n        axs[idx].set_title(\\'balance > 10\\')\\n    #display(df[col].value_counts(normalize=True))\\n    else: \\n        train[col].plot.hist(ax=axs[idx], bins=20, color=colors[idx], ylabel=\\'\\')\\n        axs[idx].set_title(col)\\n    \\nfig.suptitle(\\'Numerical Variables: Normalised historgrams\\')\\nplt.tight_layout()'"
      ]
     },
     "execution_count": 9,
     "metadata": {},
     "output_type": "execute_result"
    }
   ],
   "source": [
    "\"\"\"%matplotlib inline\n",
    "\n",
    "cmap = plt.get_cmap(\"tab20c\")\n",
    "colors = cmap(range(len(cat_cols)))\n",
    "\n",
    "fig, axs = plt.subplots(ncols=len(cat_cols), nrows=1, figsize=(int(3*len(cat_cols)+1),3))\n",
    "axs = axs.flatten()\n",
    "\n",
    "for idx, col in enumerate(cat_cols[1:] + [dep_var]):\n",
    "    #display(df[col].value_counts(normalize=True))\n",
    "    train[col].value_counts(normalize=True).plot.barh(ax=axs[idx], color=colors[idx], ylabel='')\n",
    "    axs[idx].set_title(col)\n",
    "    \n",
    "fig.suptitle('Categorical Variables: Value Counts')\n",
    "plt.tight_layout()\n",
    "\n",
    "cmap = plt.get_cmap(\"tab20c\")\n",
    "colors = cmap(range(len(num_cols)))\n",
    "\n",
    "fig, axs = plt.subplots(ncols=len(num_cols), nrows=1, figsize=(3*int(len(num_cols)),3))\n",
    "axs = axs.flatten()\n",
    "\n",
    "for idx, col in enumerate(num_cols):\n",
    "    if col == 'balance':\n",
    "        train[train.balance > 10][col].plot.hist(ax=axs[idx], bins=20, color=colors[idx], ylabel='')\n",
    "        axs[idx].set_title('balance > 10')\n",
    "    #display(df[col].value_counts(normalize=True))\n",
    "    else: \n",
    "        train[col].plot.hist(ax=axs[idx], bins=20, color=colors[idx], ylabel='')\n",
    "        axs[idx].set_title(col)\n",
    "    \n",
    "fig.suptitle('Numerical Variables: Normalised historgrams')\n",
    "plt.tight_layout()\"\"\""
   ]
  },
  {
   "cell_type": "code",
   "execution_count": 10,
   "id": "fd219dd4",
   "metadata": {
    "execution": {
     "iopub.execute_input": "2024-01-06T17:12:33.811115Z",
     "iopub.status.busy": "2024-01-06T17:12:33.810305Z",
     "iopub.status.idle": "2024-01-06T17:12:33.816721Z",
     "shell.execute_reply": "2024-01-06T17:12:33.815340Z"
    },
    "papermill": {
     "duration": 0.016257,
     "end_time": "2024-01-06T17:12:33.819129",
     "exception": false,
     "start_time": "2024-01-06T17:12:33.802872",
     "status": "completed"
    },
    "tags": []
   },
   "outputs": [],
   "source": [
    "y_train = train['exited'].values\n",
    "\n",
    "del train['exited']"
   ]
  },
  {
   "cell_type": "code",
   "execution_count": 11,
   "id": "7c961049",
   "metadata": {
    "execution": {
     "iopub.execute_input": "2024-01-06T17:12:33.834495Z",
     "iopub.status.busy": "2024-01-06T17:12:33.834084Z",
     "iopub.status.idle": "2024-01-06T17:12:34.198059Z",
     "shell.execute_reply": "2024-01-06T17:12:34.196944Z"
    },
    "papermill": {
     "duration": 0.374308,
     "end_time": "2024-01-06T17:12:34.200678",
     "exception": false,
     "start_time": "2024-01-06T17:12:33.826370",
     "status": "completed"
    },
    "tags": []
   },
   "outputs": [
    {
     "name": "stderr",
     "output_type": "stream",
     "text": [
      "/opt/conda/lib/python3.10/site-packages/sklearn/preprocessing/_encoders.py:868: FutureWarning: `sparse` was renamed to `sparse_output` in version 1.2 and will be removed in 1.4. `sparse_output` is ignored unless you leave `sparse` to its default value.\n",
      "  warnings.warn(\n"
     ]
    }
   ],
   "source": [
    "scaler = StandardScaler()\n",
    "X_train_num = scaler.fit_transform(train[num_cols])\n",
    "X_test_num = scaler.transform(test[num_cols])\n",
    "\n",
    "ordinal_encoder = OrdinalEncoder(handle_unknown='use_encoded_value', unknown_value=-1)\n",
    "X_train_fe = ordinal_encoder.fit_transform(train[fe_cols])\n",
    "X_test_fe = ordinal_encoder.transform(test[fe_cols])\n",
    "\n",
    "label = LabelEncoder()\n",
    "X_train_le = train[le_cols].apply(label.fit_transform).values\n",
    "X_test_le = test[le_cols].apply(label.transform).values\n",
    "\n",
    "ohe = OneHotEncoder(sparse=False, handle_unknown='ignore')\n",
    "X_train_ohe = ohe.fit_transform(train[ohe_cols])\n",
    "X_test_ohe = ohe.transform(test[ohe_cols])\n",
    "ohe_features = ohe.get_feature_names_out().tolist()\n",
    "\n",
    "X_train = np.column_stack([X_train_num, X_train_fe, X_train_le, X_train_ohe])\n",
    "X_test = np.column_stack([X_test_num, X_test_fe, X_test_le, X_test_ohe])\n",
    "\n",
    "feature_names = num_cols + le_cols + fe_cols + ohe_features"
   ]
  },
  {
   "cell_type": "code",
   "execution_count": 12,
   "id": "67f615c3",
   "metadata": {
    "execution": {
     "iopub.execute_input": "2024-01-06T17:12:34.215878Z",
     "iopub.status.busy": "2024-01-06T17:12:34.214230Z",
     "iopub.status.idle": "2024-01-06T17:12:34.223181Z",
     "shell.execute_reply": "2024-01-06T17:12:34.221623Z"
    },
    "papermill": {
     "duration": 0.018982,
     "end_time": "2024-01-06T17:12:34.225773",
     "exception": false,
     "start_time": "2024-01-06T17:12:34.206791",
     "status": "completed"
    },
    "tags": []
   },
   "outputs": [
    {
     "data": {
      "text/plain": [
       "\"lgbm_model = lgbm.LGBMClassifier()\\n\\nlgbm_params = {\\n              'n_estimators': [10, 50, 100, 500],\\n              'max_depth': [3, 6, 9, 12],\\n              'learning_rate' : [0.01, 0.1, 1.0],\\n              'boosting_type' : ['gbdt', 'dart', 'goss']\\n              }\\n\\nclf = GridSearchCV(lgbm_model, lgbm_params, scoring='roc_auc', n_jobs=-1)\\n\\nclf.fit(X_train, y_train)\\n\\nlgbm_tuned = clf.best_estimator_\\nparams_tuned = clf.best_params_\\n\\nprint(clf.best_estimator_)\\nprint(clf.best_params_)\\nprint(clf.best_score_)\""
      ]
     },
     "execution_count": 12,
     "metadata": {},
     "output_type": "execute_result"
    }
   ],
   "source": [
    "\"\"\"lgbm_model = lgbm.LGBMClassifier()\n",
    "\n",
    "lgbm_params = {\n",
    "              'n_estimators': [10, 50, 100, 500],\n",
    "              'max_depth': [3, 6, 9, 12],\n",
    "              'learning_rate' : [0.01, 0.1, 1.0],\n",
    "              'boosting_type' : ['gbdt', 'dart', 'goss']\n",
    "              }\n",
    "\n",
    "clf = GridSearchCV(lgbm_model, lgbm_params, scoring='roc_auc', n_jobs=-1)\n",
    "\n",
    "clf.fit(X_train, y_train)\n",
    "\n",
    "lgbm_tuned = clf.best_estimator_\n",
    "params_tuned = clf.best_params_\n",
    "\n",
    "print(clf.best_estimator_)\n",
    "print(clf.best_params_)\n",
    "print(clf.best_score_)\"\"\""
   ]
  },
  {
   "cell_type": "code",
   "execution_count": 13,
   "id": "2736635e",
   "metadata": {
    "execution": {
     "iopub.execute_input": "2024-01-06T17:12:34.240332Z",
     "iopub.status.busy": "2024-01-06T17:12:34.239911Z",
     "iopub.status.idle": "2024-01-06T17:12:34.246484Z",
     "shell.execute_reply": "2024-01-06T17:12:34.245187Z"
    },
    "papermill": {
     "duration": 0.016754,
     "end_time": "2024-01-06T17:12:34.248858",
     "exception": false,
     "start_time": "2024-01-06T17:12:34.232104",
     "status": "completed"
    },
    "tags": []
   },
   "outputs": [],
   "source": [
    "neg, pos = np.bincount(y_train)\n",
    "total = neg + pos\n",
    "weight_for_0 = (1 / neg) * (total / 2.0)\n",
    "weight_for_1 = (1 / pos) * (total / 2.0)\n",
    "class_weight = {0: weight_for_0, 1: weight_for_1}"
   ]
  },
  {
   "cell_type": "code",
   "execution_count": 14,
   "id": "ff2d06a6",
   "metadata": {
    "execution": {
     "iopub.execute_input": "2024-01-06T17:12:34.263837Z",
     "iopub.status.busy": "2024-01-06T17:12:34.263397Z",
     "iopub.status.idle": "2024-01-06T17:12:34.269038Z",
     "shell.execute_reply": "2024-01-06T17:12:34.267907Z"
    },
    "papermill": {
     "duration": 0.015911,
     "end_time": "2024-01-06T17:12:34.271231",
     "exception": false,
     "start_time": "2024-01-06T17:12:34.255320",
     "status": "completed"
    },
    "tags": []
   },
   "outputs": [],
   "source": [
    "params_tuned = {\n",
    "                'boosting_type':'gbdt',\n",
    "                'n_estimators': 500,\n",
    "                #'num_leaves': 12,\n",
    "                'max_depth': 3,\n",
    "                'learning_rate': 0.1,\n",
    "                #'colsample_bytree': 0.5,\n",
    "                'class_weight': class_weight\n",
    "                }\n",
    "\n",
    "model = lgbm.LGBMClassifier(**params_tuned)"
   ]
  },
  {
   "cell_type": "code",
   "execution_count": 15,
   "id": "b6e83ae6",
   "metadata": {
    "execution": {
     "iopub.execute_input": "2024-01-06T17:12:34.287664Z",
     "iopub.status.busy": "2024-01-06T17:12:34.286886Z",
     "iopub.status.idle": "2024-01-06T17:12:34.293963Z",
     "shell.execute_reply": "2024-01-06T17:12:34.293015Z"
    },
    "papermill": {
     "duration": 0.018653,
     "end_time": "2024-01-06T17:12:34.296297",
     "exception": false,
     "start_time": "2024-01-06T17:12:34.277644",
     "status": "completed"
    },
    "tags": []
   },
   "outputs": [],
   "source": [
    "def run_cross_validation(X, y):\n",
    "    kfold = KFold(n_splits=10)\n",
    "\n",
    "    results = []\n",
    "\n",
    "    for index, (train_index, test_index) in enumerate(kfold.split(X), start=1):\n",
    "        X_train, X_val = X[train_index], X[test_index]\n",
    "        y_train, y_val = y[train_index], y[test_index]\n",
    "\n",
    "        oversample = SMOTE()\n",
    "        X_train, y_train = oversample.fit_resample(X_train, y_train)\n",
    "\n",
    "        model.fit(X_train, y_train)\n",
    "        probas = model.predict_proba(X_val)\n",
    "        positive_label_proba = probas[:, 1]\n",
    "\n",
    "        auc_score = roc_auc_score(y_val, positive_label_proba)\n",
    "        print(f\"[Fold #{index}] ROC AUC Score: {auc_score:.3f}\")\n",
    "        results.append(auc_score)\n",
    "\n",
    "    print(f\"ROC AUC Score: {np.mean(results):.3f} (+/-{2 * np.std(results):.3f})\")"
   ]
  },
  {
   "cell_type": "code",
   "execution_count": 16,
   "id": "41a0ae58",
   "metadata": {
    "execution": {
     "iopub.execute_input": "2024-01-06T17:12:34.311273Z",
     "iopub.status.busy": "2024-01-06T17:12:34.310561Z",
     "iopub.status.idle": "2024-01-06T17:14:57.865027Z",
     "shell.execute_reply": "2024-01-06T17:14:57.863539Z"
    },
    "papermill": {
     "duration": 143.564795,
     "end_time": "2024-01-06T17:14:57.867498",
     "exception": false,
     "start_time": "2024-01-06T17:12:34.302703",
     "status": "completed"
    },
    "tags": []
   },
   "outputs": [
    {
     "name": "stdout",
     "output_type": "stream",
     "text": [
      "[Fold #1] ROC AUC Score: 0.890\n",
      "[Fold #2] ROC AUC Score: 0.898\n",
      "[Fold #3] ROC AUC Score: 0.890\n",
      "[Fold #4] ROC AUC Score: 0.888\n",
      "[Fold #5] ROC AUC Score: 0.894\n",
      "[Fold #6] ROC AUC Score: 0.890\n",
      "[Fold #7] ROC AUC Score: 0.891\n",
      "[Fold #8] ROC AUC Score: 0.892\n",
      "[Fold #9] ROC AUC Score: 0.891\n",
      "[Fold #10] ROC AUC Score: 0.891\n",
      "ROC AUC Score: 0.891 (+/-0.005)\n"
     ]
    }
   ],
   "source": [
    "run_cross_validation(X_train, y_train)"
   ]
  },
  {
   "cell_type": "code",
   "execution_count": 17,
   "id": "54675046",
   "metadata": {
    "execution": {
     "iopub.execute_input": "2024-01-06T17:14:57.883850Z",
     "iopub.status.busy": "2024-01-06T17:14:57.883407Z",
     "iopub.status.idle": "2024-01-06T17:14:58.605058Z",
     "shell.execute_reply": "2024-01-06T17:14:58.603571Z"
    },
    "papermill": {
     "duration": 0.732684,
     "end_time": "2024-01-06T17:14:58.607578",
     "exception": false,
     "start_time": "2024-01-06T17:14:57.874894",
     "status": "completed"
    },
    "tags": []
   },
   "outputs": [
    {
     "data": {
      "image/png": "[encoded data removed]",
      "text/plain": [
       "<Figure size 640x480 with 1 Axes>"
      ]
     },
     "metadata": {},
     "output_type": "display_data"
    }
   ],
   "source": [
    "importances = model.feature_importances_\n",
    "\n",
    "forest_importances = pd.Series(importances, index=feature_names)\n",
    "\n",
    "fig, ax = plt.subplots()\n",
    "forest_importances.sort_values(ascending=False)[::-1].plot.barh(ax=ax)\n",
    "ax.set_title(\"Feature importances using MDI\")\n",
    "ax.set_ylabel(\"Mean decrease in impurity\")\n",
    "fig.tight_layout()\n"
   ]
  },
  {
   "cell_type": "code",
   "execution_count": 18,
   "id": "6f49141d",
   "metadata": {
    "execution": {
     "iopub.execute_input": "2024-01-06T17:14:58.628079Z",
     "iopub.status.busy": "2024-01-06T17:14:58.626789Z",
     "iopub.status.idle": "2024-01-06T17:14:59.763982Z",
     "shell.execute_reply": "2024-01-06T17:14:59.762866Z"
    },
    "papermill": {
     "duration": 1.149894,
     "end_time": "2024-01-06T17:14:59.766728",
     "exception": false,
     "start_time": "2024-01-06T17:14:58.616834",
     "status": "completed"
    },
    "tags": []
   },
   "outputs": [],
   "source": [
    "probas = model.predict_proba(X_test)\n",
    "positive_label_proba = probas[:, 1]\n",
    "submission['Exited'] = positive_label_proba\n",
    "submission.to_csv('baseline.csv', index=False)"
   ]
  },
  {
   "cell_type": "markdown",
   "id": "1b58d182",
   "metadata": {
    "papermill": {
     "duration": 0.008437,
     "end_time": "2024-01-06T17:14:59.783198",
     "exception": false,
     "start_time": "2024-01-06T17:14:59.774761",
     "status": "completed"
    },
    "tags": []
   },
   "source": [
    "🚨🚨🚨 \n",
    "* slightly imbalanced set\n",
    "* balance column: separate between gaussian variable and < 10\n"
   ]
  }
 ],
 "metadata": {
  "kaggle": {
   "accelerator": "none",
   "dataSources": [
    {
     "databundleVersionId": 7405009,
     "sourceId": 65711,
     "sourceType": "competition"
    }
   ],
   "dockerImageVersionId": 30626,
   "isGpuEnabled": false,
   "isInternetEnabled": true,
   "language": "python",
   "sourceType": "notebook"
  },
  "kernelspec": {
   "display_name": "Python 3",
   "language": "python",
   "name": "python3"
  },
  "language_info": {
   "codemirror_mode": {
    "name": "ipython",
    "version": 3
   },
   "file_extension": ".py",
   "mimetype": "text/x-python",
   "name": "python",
   "nbconvert_exporter": "python",
   "pygments_lexer": "ipython3",
   "version": "3.10.12"
  },
  "papermill": {
   "default_parameters": {},
   "duration": 155.770311,
   "end_time": "2024-01-06T17:15:00.714746",
   "environment_variables": {},
   "exception": null,
   "input_path": "__notebook__.ipynb",
   "output_path": "__notebook__.ipynb",
   "parameters": {},
   "start_time": "2024-01-06T17:12:24.944435",
   "version": "2.4.0"
  }
 },
 "nbformat": 4,
 "nbformat_minor": 5
}
