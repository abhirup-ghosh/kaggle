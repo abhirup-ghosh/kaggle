{
 "cells": [
  {
   "cell_type": "code",
   "execution_count": 1,
   "id": "85373f7d",
   "metadata": {
    "_kg_hide-input": true,
    "execution": {
     "iopub.execute_input": "2024-01-08T17:11:09.700815Z",
     "iopub.status.busy": "2024-01-08T17:11:09.700216Z",
     "iopub.status.idle": "2024-01-08T17:11:13.478579Z",
     "shell.execute_reply": "2024-01-08T17:11:13.477299Z"
    },
    "papermill": {
     "duration": 3.787699,
     "end_time": "2024-01-08T17:11:13.481242",
     "exception": false,
     "start_time": "2024-01-08T17:11:09.693543",
     "status": "completed"
    },
    "tags": []
   },
   "outputs": [],
   "source": [
    "import numpy as np\n",
    "import pandas as pd\n",
    "import os\n",
    "import matplotlib.pyplot as plt\n",
    "import seaborn as sns\n",
    "\n",
    "from sklearn.model_selection import train_test_split, GridSearchCV, KFold\n",
    "from sklearn.preprocessing import StandardScaler, LabelEncoder, OrdinalEncoder, OneHotEncoder, MinMaxScaler\n",
    "from sklearn.pipeline import Pipeline\n",
    "from sklearn.compose import ColumnTransformer\n",
    "from sklearn.metrics import roc_auc_score\n",
    "\n",
    "from imblearn.over_sampling import SMOTE\n",
    "\n",
    "import xgboost as xgb\n",
    "import lightgbm as lgbm\n",
    "\n",
    "\n",
    "sns.set_style(\"whitegrid\")\n",
    "sns.set_palette('muted')"
   ]
  },
  {
   "cell_type": "code",
   "execution_count": 2,
   "id": "9ead0b77",
   "metadata": {
    "_kg_hide-input": true,
    "execution": {
     "iopub.execute_input": "2024-01-08T17:11:13.492061Z",
     "iopub.status.busy": "2024-01-08T17:11:13.491662Z",
     "iopub.status.idle": "2024-01-08T17:11:13.498184Z",
     "shell.execute_reply": "2024-01-08T17:11:13.497274Z"
    },
    "papermill": {
     "duration": 0.014224,
     "end_time": "2024-01-08T17:11:13.500303",
     "exception": false,
     "start_time": "2024-01-08T17:11:13.486079",
     "status": "completed"
    },
    "tags": []
   },
   "outputs": [
    {
     "name": "stdout",
     "output_type": "stream",
     "text": [
      "/kaggle/input/playground-series-s4e1/sample_submission.csv\n",
      "/kaggle/input/playground-series-s4e1/train.csv\n",
      "/kaggle/input/playground-series-s4e1/test.csv\n"
     ]
    }
   ],
   "source": [
    "for dirname, _, filenames in os.walk('/kaggle/input'):\n",
    "    for filename in filenames:\n",
    "        print(os.path.join(dirname, filename))"
   ]
  },
  {
   "cell_type": "code",
   "execution_count": 3,
   "id": "ab9310b1",
   "metadata": {
    "_kg_hide-input": true,
    "execution": {
     "iopub.execute_input": "2024-01-08T17:11:13.510848Z",
     "iopub.status.busy": "2024-01-08T17:11:13.510504Z",
     "iopub.status.idle": "2024-01-08T17:11:14.175655Z",
     "shell.execute_reply": "2024-01-08T17:11:14.174829Z"
    },
    "papermill": {
     "duration": 0.673325,
     "end_time": "2024-01-08T17:11:14.178231",
     "exception": false,
     "start_time": "2024-01-08T17:11:13.504906",
     "status": "completed"
    },
    "tags": []
   },
   "outputs": [],
   "source": [
    "data_loc = '/kaggle/input/playground-series-s4e1/'\n",
    "train = pd.read_csv(data_loc + 'train.csv')\n",
    "test = pd.read_csv(data_loc + 'test.csv')\n",
    "submission = pd.read_csv(data_loc + 'sample_submission.csv')"
   ]
  },
  {
   "cell_type": "code",
   "execution_count": 4,
   "id": "58a99f2e",
   "metadata": {
    "execution": {
     "iopub.execute_input": "2024-01-08T17:11:14.189498Z",
     "iopub.status.busy": "2024-01-08T17:11:14.189123Z",
     "iopub.status.idle": "2024-01-08T17:11:14.213160Z",
     "shell.execute_reply": "2024-01-08T17:11:14.212333Z"
    },
    "papermill": {
     "duration": 0.031944,
     "end_time": "2024-01-08T17:11:14.215111",
     "exception": false,
     "start_time": "2024-01-08T17:11:14.183167",
     "status": "completed"
    },
    "tags": []
   },
   "outputs": [
    {
     "data": {
      "text/html": [
       "<div>\n",
       "<style scoped>\n",
       "    .dataframe tbody tr th:only-of-type {\n",
       "        vertical-align: middle;\n",
       "    }\n",
       "\n",
       "    .dataframe tbody tr th {\n",
       "        vertical-align: top;\n",
       "    }\n",
       "\n",
       "    .dataframe thead th {\n",
       "        text-align: right;\n",
       "    }\n",
       "</style>\n",
       "<table border=\"1\" class=\"dataframe\">\n",
       "  <thead>\n",
       "    <tr style=\"text-align: right;\">\n",
       "      <th></th>\n",
       "      <th>0</th>\n",
       "      <th>1</th>\n",
       "      <th>2</th>\n",
       "      <th>3</th>\n",
       "      <th>4</th>\n",
       "    </tr>\n",
       "  </thead>\n",
       "  <tbody>\n",
       "    <tr>\n",
       "      <th>id</th>\n",
       "      <td>0</td>\n",
       "      <td>1</td>\n",
       "      <td>2</td>\n",
       "      <td>3</td>\n",
       "      <td>4</td>\n",
       "    </tr>\n",
       "    <tr>\n",
       "      <th>CustomerId</th>\n",
       "      <td>15674932</td>\n",
       "      <td>15749177</td>\n",
       "      <td>15694510</td>\n",
       "      <td>15741417</td>\n",
       "      <td>15766172</td>\n",
       "    </tr>\n",
       "    <tr>\n",
       "      <th>Surname</th>\n",
       "      <td>Okwudilichukwu</td>\n",
       "      <td>Okwudiliolisa</td>\n",
       "      <td>Hsueh</td>\n",
       "      <td>Kao</td>\n",
       "      <td>Chiemenam</td>\n",
       "    </tr>\n",
       "    <tr>\n",
       "      <th>CreditScore</th>\n",
       "      <td>668</td>\n",
       "      <td>627</td>\n",
       "      <td>678</td>\n",
       "      <td>581</td>\n",
       "      <td>716</td>\n",
       "    </tr>\n",
       "    <tr>\n",
       "      <th>Geography</th>\n",
       "      <td>France</td>\n",
       "      <td>France</td>\n",
       "      <td>France</td>\n",
       "      <td>France</td>\n",
       "      <td>Spain</td>\n",
       "    </tr>\n",
       "    <tr>\n",
       "      <th>Gender</th>\n",
       "      <td>Male</td>\n",
       "      <td>Male</td>\n",
       "      <td>Male</td>\n",
       "      <td>Male</td>\n",
       "      <td>Male</td>\n",
       "    </tr>\n",
       "    <tr>\n",
       "      <th>Age</th>\n",
       "      <td>33.0</td>\n",
       "      <td>33.0</td>\n",
       "      <td>40.0</td>\n",
       "      <td>34.0</td>\n",
       "      <td>33.0</td>\n",
       "    </tr>\n",
       "    <tr>\n",
       "      <th>Tenure</th>\n",
       "      <td>3</td>\n",
       "      <td>1</td>\n",
       "      <td>10</td>\n",
       "      <td>2</td>\n",
       "      <td>5</td>\n",
       "    </tr>\n",
       "    <tr>\n",
       "      <th>Balance</th>\n",
       "      <td>0.0</td>\n",
       "      <td>0.0</td>\n",
       "      <td>0.0</td>\n",
       "      <td>148882.54</td>\n",
       "      <td>0.0</td>\n",
       "    </tr>\n",
       "    <tr>\n",
       "      <th>NumOfProducts</th>\n",
       "      <td>2</td>\n",
       "      <td>2</td>\n",
       "      <td>2</td>\n",
       "      <td>1</td>\n",
       "      <td>2</td>\n",
       "    </tr>\n",
       "    <tr>\n",
       "      <th>HasCrCard</th>\n",
       "      <td>1.0</td>\n",
       "      <td>1.0</td>\n",
       "      <td>1.0</td>\n",
       "      <td>1.0</td>\n",
       "      <td>1.0</td>\n",
       "    </tr>\n",
       "    <tr>\n",
       "      <th>IsActiveMember</th>\n",
       "      <td>0.0</td>\n",
       "      <td>1.0</td>\n",
       "      <td>0.0</td>\n",
       "      <td>1.0</td>\n",
       "      <td>1.0</td>\n",
       "    </tr>\n",
       "    <tr>\n",
       "      <th>EstimatedSalary</th>\n",
       "      <td>181449.97</td>\n",
       "      <td>49503.5</td>\n",
       "      <td>184866.69</td>\n",
       "      <td>84560.88</td>\n",
       "      <td>15068.83</td>\n",
       "    </tr>\n",
       "    <tr>\n",
       "      <th>Exited</th>\n",
       "      <td>0</td>\n",
       "      <td>0</td>\n",
       "      <td>0</td>\n",
       "      <td>0</td>\n",
       "      <td>0</td>\n",
       "    </tr>\n",
       "  </tbody>\n",
       "</table>\n",
       "</div>"
      ],
      "text/plain": [
       "                              0              1          2          3  \\\n",
       "id                            0              1          2          3   \n",
       "CustomerId             15674932       15749177   15694510   15741417   \n",
       "Surname          Okwudilichukwu  Okwudiliolisa      Hsueh        Kao   \n",
       "CreditScore                 668            627        678        581   \n",
       "Geography                France         France     France     France   \n",
       "Gender                     Male           Male       Male       Male   \n",
       "Age                        33.0           33.0       40.0       34.0   \n",
       "Tenure                        3              1         10          2   \n",
       "Balance                     0.0            0.0        0.0  148882.54   \n",
       "NumOfProducts                 2              2          2          1   \n",
       "HasCrCard                   1.0            1.0        1.0        1.0   \n",
       "IsActiveMember              0.0            1.0        0.0        1.0   \n",
       "EstimatedSalary       181449.97        49503.5  184866.69   84560.88   \n",
       "Exited                        0              0          0          0   \n",
       "\n",
       "                         4  \n",
       "id                       4  \n",
       "CustomerId        15766172  \n",
       "Surname          Chiemenam  \n",
       "CreditScore            716  \n",
       "Geography            Spain  \n",
       "Gender                Male  \n",
       "Age                   33.0  \n",
       "Tenure                   5  \n",
       "Balance                0.0  \n",
       "NumOfProducts            2  \n",
       "HasCrCard              1.0  \n",
       "IsActiveMember         1.0  \n",
       "EstimatedSalary   15068.83  \n",
       "Exited                   0  "
      ]
     },
     "metadata": {},
     "output_type": "display_data"
    }
   ],
   "source": [
    "display(train.head().T)\n",
    "#display(test.head().T)\n",
    "#display(submission.head())"
   ]
  },
  {
   "cell_type": "code",
   "execution_count": 5,
   "id": "90042834",
   "metadata": {
    "execution": {
     "iopub.execute_input": "2024-01-08T17:11:14.227057Z",
     "iopub.status.busy": "2024-01-08T17:11:14.226244Z",
     "iopub.status.idle": "2024-01-08T17:11:14.353049Z",
     "shell.execute_reply": "2024-01-08T17:11:14.352229Z"
    },
    "papermill": {
     "duration": 0.135711,
     "end_time": "2024-01-08T17:11:14.355804",
     "exception": false,
     "start_time": "2024-01-08T17:11:14.220093",
     "status": "completed"
    },
    "tags": []
   },
   "outputs": [
    {
     "name": "stdout",
     "output_type": "stream",
     "text": [
      "<class 'pandas.core.frame.DataFrame'>\n",
      "RangeIndex: 165034 entries, 0 to 165033\n",
      "Data columns (total 14 columns):\n",
      " #   Column           Non-Null Count   Dtype  \n",
      "---  ------           --------------   -----  \n",
      " 0   id               165034 non-null  int64  \n",
      " 1   CustomerId       165034 non-null  int64  \n",
      " 2   Surname          165034 non-null  object \n",
      " 3   CreditScore      165034 non-null  int64  \n",
      " 4   Geography        165034 non-null  object \n",
      " 5   Gender           165034 non-null  object \n",
      " 6   Age              165034 non-null  float64\n",
      " 7   Tenure           165034 non-null  int64  \n",
      " 8   Balance          165034 non-null  float64\n",
      " 9   NumOfProducts    165034 non-null  int64  \n",
      " 10  HasCrCard        165034 non-null  float64\n",
      " 11  IsActiveMember   165034 non-null  float64\n",
      " 12  EstimatedSalary  165034 non-null  float64\n",
      " 13  Exited           165034 non-null  int64  \n",
      "dtypes: float64(5), int64(6), object(3)\n",
      "memory usage: 17.6+ MB\n"
     ]
    },
    {
     "data": {
      "text/plain": [
       "id                 165034\n",
       "CustomerId          23221\n",
       "Surname              2797\n",
       "CreditScore           457\n",
       "Geography               3\n",
       "Gender                  2\n",
       "Age                    71\n",
       "Tenure                 11\n",
       "Balance             30075\n",
       "NumOfProducts           4\n",
       "HasCrCard               2\n",
       "IsActiveMember          2\n",
       "EstimatedSalary     55298\n",
       "Exited                  2\n",
       "dtype: int64"
      ]
     },
     "execution_count": 5,
     "metadata": {},
     "output_type": "execute_result"
    }
   ],
   "source": [
    "train.info()\n",
    "#train.isnull().sum()\n",
    "#train.describe(include='all')\n",
    "train.nunique()"
   ]
  },
  {
   "cell_type": "code",
   "execution_count": 6,
   "id": "82f6ff9b",
   "metadata": {
    "execution": {
     "iopub.execute_input": "2024-01-08T17:11:14.367653Z",
     "iopub.status.busy": "2024-01-08T17:11:14.367287Z",
     "iopub.status.idle": "2024-01-08T17:11:14.753235Z",
     "shell.execute_reply": "2024-01-08T17:11:14.752327Z"
    },
    "papermill": {
     "duration": 0.394927,
     "end_time": "2024-01-08T17:11:14.755810",
     "exception": false,
     "start_time": "2024-01-08T17:11:14.360883",
     "status": "completed"
    },
    "tags": []
   },
   "outputs": [],
   "source": [
    "def prepare_data(df):\n",
    "    \n",
    "    # Make the column names lower-case\n",
    "    df.columns = df.columns.str.lower()\n",
    "    \n",
    "    # Make the string values of categorical columns lower-case and uniform\n",
    "    categorical_columns = df.dtypes[df.dtypes == 'object'].index.tolist()\n",
    "\n",
    "    for col in categorical_columns:\n",
    "        df[col] = df[col].str.lower()\n",
    "    \n",
    "    # Feature engineering\n",
    "    df['balance_high'] = df['balance'] > 10\n",
    "    \n",
    "    # replace number of products greater than 2, by 3\n",
    "    #df['numofproducts'] = df['numofproducts'].replace(4, 3)\n",
    "\n",
    "    bins = [18, 40, 60, 100]  # Define age bins\n",
    "    labels = ['young', 'middleaged', 'senior']  # Labels for each category\n",
    "    df['agecategory'] = pd.cut(df['age'], bins=bins, labels=labels, right=False)\n",
    "\n",
    "    df['balance_credit_ratio'] = df['balance'] / df['creditscore']\n",
    "    df['credit_utilization'] = df['balance'] / (df['hascrcard'] * df['creditscore'] + 1)  # Adding 1 to avoid division by zero\n",
    "    df['tenure_age_ratio'] = df['tenure'] / df['age']\n",
    "    df['geo_gender_interaction'] = df['geography'] + '_' + df['gender']\n",
    "    \n",
    "    # Binarise 'gender' and 'geography'\n",
    "    df['gender'] = (df['gender'] == 'male').astype(int)\n",
    "    df['geography'] = (df['geography'] == 'germany').astype(int)\n",
    "    \n",
    "    # numerical transformations\n",
    "    for col in ['creditscore', 'age', 'balance', 'estimatedsalary']:\n",
    "        df[f'{col}_square'] = df[col]*df[col]\n",
    "        df[f'{col}_sqrt'] = np.sqrt(df[col])\n",
    "        df[f'{col}_log'] = np.log1p(df[col])\n",
    "\n",
    "    \n",
    "    return df\n",
    "\n",
    "train = prepare_data(train)\n",
    "test = prepare_data(test)"
   ]
  },
  {
   "cell_type": "code",
   "execution_count": 7,
   "id": "e8b2d9fc",
   "metadata": {
    "execution": {
     "iopub.execute_input": "2024-01-08T17:11:14.768516Z",
     "iopub.status.busy": "2024-01-08T17:11:14.768174Z",
     "iopub.status.idle": "2024-01-08T17:11:14.773657Z",
     "shell.execute_reply": "2024-01-08T17:11:14.772727Z"
    },
    "papermill": {
     "duration": 0.014532,
     "end_time": "2024-01-08T17:11:14.775829",
     "exception": false,
     "start_time": "2024-01-08T17:11:14.761297",
     "status": "completed"
    },
    "tags": []
   },
   "outputs": [],
   "source": [
    "dep_var = 'exited'\n",
    "\n",
    "fe_cols = ['surname', 'customerid', 'id', 'tenure_age_ratio']\n",
    "le_cols = ['gender', 'hascrcard', 'isactivemember', 'geography', 'balance_high']\n",
    "ohe_cols = ['numofproducts', 'agecategory', 'geo_gender_interaction']\n",
    "\n",
    "cat_cols = fe_cols + le_cols + ohe_cols\n",
    "\n",
    "num_cols = ['creditscore', 'age', 'balance', 'estimatedsalary', \n",
    "            'credit_utilization', 'balance_credit_ratio',\n",
    "           'creditscore_square', 'creditscore_sqrt',\n",
    "           'creditscore_log', 'age_square', 'age_sqrt', 'age_log',\n",
    "           'balance_square', 'balance_sqrt', 'balance_log',\n",
    "           'estimatedsalary_square', 'estimatedsalary_sqrt',\n",
    "           'estimatedsalary_log']"
   ]
  },
  {
   "cell_type": "code",
   "execution_count": 8,
   "id": "d790a061",
   "metadata": {
    "execution": {
     "iopub.execute_input": "2024-01-08T17:11:14.787367Z",
     "iopub.status.busy": "2024-01-08T17:11:14.787046Z",
     "iopub.status.idle": "2024-01-08T17:11:14.793611Z",
     "shell.execute_reply": "2024-01-08T17:11:14.792606Z"
    },
    "papermill": {
     "duration": 0.014715,
     "end_time": "2024-01-08T17:11:14.795604",
     "exception": false,
     "start_time": "2024-01-08T17:11:14.780889",
     "status": "completed"
    },
    "tags": []
   },
   "outputs": [
    {
     "data": {
      "text/plain": [
       "'%matplotlib inline\\n\\ncmap = plt.get_cmap(\"tab20c\")\\ncolors = cmap(range(len(cat_cols)))\\n\\nfig, axs = plt.subplots(ncols=len(cat_cols), nrows=1, figsize=(int(3*len(cat_cols)+1),3))\\naxs = axs.flatten()\\n\\nfor idx, col in enumerate(cat_cols[1:] + [dep_var]):\\n    #display(df[col].value_counts(normalize=True))\\n    train[col].value_counts(normalize=True).plot.barh(ax=axs[idx], color=colors[idx], ylabel=\\'\\')\\n    axs[idx].set_title(col)\\n    \\nfig.suptitle(\\'Categorical Variables: Value Counts\\')\\nplt.tight_layout()\\n\\ncmap = plt.get_cmap(\"tab20c\")\\ncolors = cmap(range(len(num_cols)))\\n\\nfig, axs = plt.subplots(ncols=len(num_cols), nrows=1, figsize=(3*int(len(num_cols)),3))\\naxs = axs.flatten()\\n\\nfor idx, col in enumerate(num_cols):\\n    if col == \\'balance\\':\\n        train[train.balance > 10][col].plot.hist(ax=axs[idx], bins=20, color=colors[idx], ylabel=\\'\\')\\n        axs[idx].set_title(\\'balance > 10\\')\\n    #display(df[col].value_counts(normalize=True))\\n    else: \\n        train[col].plot.hist(ax=axs[idx], bins=20, color=colors[idx], ylabel=\\'\\')\\n        axs[idx].set_title(col)\\n    \\nfig.suptitle(\\'Numerical Variables: Normalised historgrams\\')\\nplt.tight_layout()'"
      ]
     },
     "execution_count": 8,
     "metadata": {},
     "output_type": "execute_result"
    }
   ],
   "source": [
    "\"\"\"%matplotlib inline\n",
    "\n",
    "cmap = plt.get_cmap(\"tab20c\")\n",
    "colors = cmap(range(len(cat_cols)))\n",
    "\n",
    "fig, axs = plt.subplots(ncols=len(cat_cols), nrows=1, figsize=(int(3*len(cat_cols)+1),3))\n",
    "axs = axs.flatten()\n",
    "\n",
    "for idx, col in enumerate(cat_cols[1:] + [dep_var]):\n",
    "    #display(df[col].value_counts(normalize=True))\n",
    "    train[col].value_counts(normalize=True).plot.barh(ax=axs[idx], color=colors[idx], ylabel='')\n",
    "    axs[idx].set_title(col)\n",
    "    \n",
    "fig.suptitle('Categorical Variables: Value Counts')\n",
    "plt.tight_layout()\n",
    "\n",
    "cmap = plt.get_cmap(\"tab20c\")\n",
    "colors = cmap(range(len(num_cols)))\n",
    "\n",
    "fig, axs = plt.subplots(ncols=len(num_cols), nrows=1, figsize=(3*int(len(num_cols)),3))\n",
    "axs = axs.flatten()\n",
    "\n",
    "for idx, col in enumerate(num_cols):\n",
    "    if col == 'balance':\n",
    "        train[train.balance > 10][col].plot.hist(ax=axs[idx], bins=20, color=colors[idx], ylabel='')\n",
    "        axs[idx].set_title('balance > 10')\n",
    "    #display(df[col].value_counts(normalize=True))\n",
    "    else: \n",
    "        train[col].plot.hist(ax=axs[idx], bins=20, color=colors[idx], ylabel='')\n",
    "        axs[idx].set_title(col)\n",
    "    \n",
    "fig.suptitle('Numerical Variables: Normalised historgrams')\n",
    "plt.tight_layout()\"\"\""
   ]
  },
  {
   "cell_type": "code",
   "execution_count": 9,
   "id": "f17f4688",
   "metadata": {
    "execution": {
     "iopub.execute_input": "2024-01-08T17:11:14.808240Z",
     "iopub.status.busy": "2024-01-08T17:11:14.807086Z",
     "iopub.status.idle": "2024-01-08T17:11:14.813509Z",
     "shell.execute_reply": "2024-01-08T17:11:14.812765Z"
    },
    "papermill": {
     "duration": 0.014666,
     "end_time": "2024-01-08T17:11:14.815355",
     "exception": false,
     "start_time": "2024-01-08T17:11:14.800689",
     "status": "completed"
    },
    "tags": []
   },
   "outputs": [],
   "source": [
    "y_train = train['exited'].values\n",
    "\n",
    "del train['exited']"
   ]
  },
  {
   "cell_type": "code",
   "execution_count": 10,
   "id": "81f118ed",
   "metadata": {
    "execution": {
     "iopub.execute_input": "2024-01-08T17:11:14.826930Z",
     "iopub.status.busy": "2024-01-08T17:11:14.826569Z",
     "iopub.status.idle": "2024-01-08T17:11:15.736887Z",
     "shell.execute_reply": "2024-01-08T17:11:15.735802Z"
    },
    "papermill": {
     "duration": 0.919001,
     "end_time": "2024-01-08T17:11:15.739457",
     "exception": false,
     "start_time": "2024-01-08T17:11:14.820456",
     "status": "completed"
    },
    "tags": []
   },
   "outputs": [
    {
     "name": "stderr",
     "output_type": "stream",
     "text": [
      "/opt/conda/lib/python3.10/site-packages/sklearn/preprocessing/_encoders.py:868: FutureWarning: `sparse` was renamed to `sparse_output` in version 1.2 and will be removed in 1.4. `sparse_output` is ignored unless you leave `sparse` to its default value.\n",
      "  warnings.warn(\n"
     ]
    }
   ],
   "source": [
    "scaler = StandardScaler()\n",
    "X_train_num = scaler.fit_transform(train[num_cols])\n",
    "X_test_num = scaler.transform(test[num_cols])\n",
    "\n",
    "ordinal_encoder = OrdinalEncoder(handle_unknown='use_encoded_value', unknown_value=-1)\n",
    "X_train_fe = ordinal_encoder.fit_transform(train[fe_cols])\n",
    "X_test_fe = ordinal_encoder.transform(test[fe_cols])\n",
    "\n",
    "label = LabelEncoder()\n",
    "X_train_le = train[le_cols].apply(label.fit_transform).values\n",
    "X_test_le = test[le_cols].apply(label.transform).values\n",
    "\n",
    "ohe = OneHotEncoder(sparse=False, handle_unknown='ignore')\n",
    "X_train_ohe = ohe.fit_transform(train[ohe_cols])\n",
    "X_test_ohe = ohe.transform(test[ohe_cols])\n",
    "ohe_features = ohe.get_feature_names_out().tolist()\n",
    "\n",
    "X_train = np.column_stack([X_train_num, X_train_fe, X_train_le, X_train_ohe])\n",
    "X_test = np.column_stack([X_test_num, X_test_fe, X_test_le, X_test_ohe])\n",
    "\n",
    "feature_names = num_cols + le_cols + fe_cols + ohe_features"
   ]
  },
  {
   "cell_type": "code",
   "execution_count": 11,
   "id": "9e87db41",
   "metadata": {
    "execution": {
     "iopub.execute_input": "2024-01-08T17:11:15.752583Z",
     "iopub.status.busy": "2024-01-08T17:11:15.751613Z",
     "iopub.status.idle": "2024-01-08T19:26:39.035213Z",
     "shell.execute_reply": "2024-01-08T19:26:39.033621Z"
    },
    "papermill": {
     "duration": 8123.297401,
     "end_time": "2024-01-08T19:26:39.042435",
     "exception": false,
     "start_time": "2024-01-08T17:11:15.745034",
     "status": "completed"
    },
    "tags": []
   },
   "outputs": [
    {
     "name": "stderr",
     "output_type": "stream",
     "text": [
      "/opt/conda/lib/python3.10/site-packages/joblib/externals/loky/process_executor.py:752: UserWarning: A worker stopped while some jobs were given to the executor. This can be caused by a too short worker timeout or by a memory leak.\n",
      "  warnings.warn(\n"
     ]
    },
    {
     "name": "stdout",
     "output_type": "stream",
     "text": [
      "XGBClassifier(base_score=None, booster=None, callbacks=None,\n",
      "              colsample_bylevel=None, colsample_bynode=None,\n",
      "              colsample_bytree=None, device=None, early_stopping_rounds=None,\n",
      "              enable_categorical=False, eval_metric=None, feature_types=None,\n",
      "              gamma=None, grow_policy=None, importance_type=None,\n",
      "              interaction_constraints=None, learning_rate=0.1, max_bin=None,\n",
      "              max_cat_threshold=None, max_cat_to_onehot=None,\n",
      "              max_delta_step=None, max_depth=3, max_leaves=None,\n",
      "              min_child_weight=30, missing=nan, monotone_constraints=None,\n",
      "              multi_strategy=None, n_estimators=500, n_jobs=None,\n",
      "              num_parallel_tree=None, random_state=None, ...)\n",
      "{'learning_rate': 0.1, 'max_depth': 3, 'min_child_weight': 30, 'n_estimators': 500}\n",
      "0.891053745438618\n"
     ]
    }
   ],
   "source": [
    "model = xgb.XGBClassifier()\n",
    "\n",
    "xgb_params = xgb_params = {\n",
    "                            'n_estimators': [100, 500, 1000],\n",
    "                            'learning_rate': [0.01, 0.1, 1, 10],\n",
    "                            'max_depth': [3, 6, 9, 12],\n",
    "                            'min_child_weight': [1,10, 30],\n",
    "                        }\n",
    "\n",
    "clf = GridSearchCV(model, xgb_params, scoring='roc_auc', n_jobs=-1)\n",
    "\n",
    "clf.fit(X_train, y_train)\n",
    "\n",
    "model_tuned = clf.best_estimator_\n",
    "params_tuned = clf.best_params_\n",
    "\n",
    "print(clf.best_estimator_)\n",
    "print(clf.best_params_)\n",
    "print(clf.best_score_)"
   ]
  },
  {
   "cell_type": "code",
   "execution_count": 12,
   "id": "cfaefba9",
   "metadata": {
    "execution": {
     "iopub.execute_input": "2024-01-08T19:26:39.056646Z",
     "iopub.status.busy": "2024-01-08T19:26:39.055916Z",
     "iopub.status.idle": "2024-01-08T19:26:39.063820Z",
     "shell.execute_reply": "2024-01-08T19:26:39.062651Z"
    },
    "papermill": {
     "duration": 0.018146,
     "end_time": "2024-01-08T19:26:39.066205",
     "exception": false,
     "start_time": "2024-01-08T19:26:39.048059",
     "status": "completed"
    },
    "tags": []
   },
   "outputs": [],
   "source": [
    "neg, pos = np.bincount(y_train)\n",
    "total = neg + pos\n",
    "weight_for_0 = (1 / neg) * (total / 2.0)\n",
    "weight_for_1 = (1 / pos) * (total / 2.0)\n",
    "class_weight = {0: weight_for_0, 1: weight_for_1}"
   ]
  },
  {
   "cell_type": "code",
   "execution_count": 13,
   "id": "9881979d",
   "metadata": {
    "execution": {
     "iopub.execute_input": "2024-01-08T19:26:39.079131Z",
     "iopub.status.busy": "2024-01-08T19:26:39.078720Z",
     "iopub.status.idle": "2024-01-08T19:26:39.083369Z",
     "shell.execute_reply": "2024-01-08T19:26:39.082289Z"
    },
    "papermill": {
     "duration": 0.013486,
     "end_time": "2024-01-08T19:26:39.085489",
     "exception": false,
     "start_time": "2024-01-08T19:26:39.072003",
     "status": "completed"
    },
    "tags": []
   },
   "outputs": [],
   "source": [
    "#params_tuned = {\n",
    "#                'eta': 0.1, \n",
    "#                'max_depth': 6, \n",
    "#                'min_child_weight': 30}\n",
    "\n",
    "model = xgb.XGBClassifier(**params_tuned)"
   ]
  },
  {
   "cell_type": "code",
   "execution_count": 14,
   "id": "f0194882",
   "metadata": {
    "execution": {
     "iopub.execute_input": "2024-01-08T19:26:39.098507Z",
     "iopub.status.busy": "2024-01-08T19:26:39.097913Z",
     "iopub.status.idle": "2024-01-08T19:26:39.105631Z",
     "shell.execute_reply": "2024-01-08T19:26:39.104618Z"
    },
    "papermill": {
     "duration": 0.016491,
     "end_time": "2024-01-08T19:26:39.107659",
     "exception": false,
     "start_time": "2024-01-08T19:26:39.091168",
     "status": "completed"
    },
    "tags": []
   },
   "outputs": [],
   "source": [
    "def run_cross_validation(X, y):\n",
    "    kfold = KFold(n_splits=10)\n",
    "\n",
    "    results = []\n",
    "\n",
    "    for index, (train_index, test_index) in enumerate(kfold.split(X), start=1):\n",
    "        X_train, X_val = X[train_index], X[test_index]\n",
    "        y_train, y_val = y[train_index], y[test_index]\n",
    "\n",
    "        oversample = SMOTE()\n",
    "        X_train, y_train = oversample.fit_resample(X_train, y_train)\n",
    "\n",
    "        model.fit(X_train, y_train)\n",
    "        probas = model.predict_proba(X_val)\n",
    "        positive_label_proba = probas[:, 1]\n",
    "\n",
    "        auc_score = roc_auc_score(y_val, positive_label_proba)\n",
    "        print(f\"[Fold #{index}] ROC AUC Score: {auc_score:.3f}\")\n",
    "        results.append(auc_score)\n",
    "\n",
    "    print(f\"ROC AUC Score: {np.mean(results):.3f} (+/-{2 * np.std(results):.3f})\")"
   ]
  },
  {
   "cell_type": "code",
   "execution_count": 15,
   "id": "8553d72d",
   "metadata": {
    "execution": {
     "iopub.execute_input": "2024-01-08T19:26:39.121161Z",
     "iopub.status.busy": "2024-01-08T19:26:39.120245Z",
     "iopub.status.idle": "2024-01-08T19:33:49.090940Z",
     "shell.execute_reply": "2024-01-08T19:33:49.089710Z"
    },
    "papermill": {
     "duration": 429.985701,
     "end_time": "2024-01-08T19:33:49.099164",
     "exception": false,
     "start_time": "2024-01-08T19:26:39.113463",
     "status": "completed"
    },
    "tags": []
   },
   "outputs": [
    {
     "name": "stdout",
     "output_type": "stream",
     "text": [
      "[Fold #1] ROC AUC Score: 0.890\n",
      "[Fold #2] ROC AUC Score: 0.898\n",
      "[Fold #3] ROC AUC Score: 0.890\n",
      "[Fold #4] ROC AUC Score: 0.888\n",
      "[Fold #5] ROC AUC Score: 0.894\n",
      "[Fold #6] ROC AUC Score: 0.890\n",
      "[Fold #7] ROC AUC Score: 0.890\n",
      "[Fold #8] ROC AUC Score: 0.892\n",
      "[Fold #9] ROC AUC Score: 0.891\n",
      "[Fold #10] ROC AUC Score: 0.891\n",
      "ROC AUC Score: 0.891 (+/-0.006)\n"
     ]
    }
   ],
   "source": [
    "run_cross_validation(X_train, y_train)"
   ]
  },
  {
   "cell_type": "code",
   "execution_count": 16,
   "id": "4839f906",
   "metadata": {
    "execution": {
     "iopub.execute_input": "2024-01-08T19:33:49.114260Z",
     "iopub.status.busy": "2024-01-08T19:33:49.113879Z",
     "iopub.status.idle": "2024-01-08T19:33:50.109082Z",
     "shell.execute_reply": "2024-01-08T19:33:50.108192Z"
    },
    "papermill": {
     "duration": 1.005698,
     "end_time": "2024-01-08T19:33:50.111339",
     "exception": false,
     "start_time": "2024-01-08T19:33:49.105641",
     "status": "completed"
    },
    "tags": []
   },
   "outputs": [
    {
     "data": {
      "image/png": "[encoded data removed]",
      "text/plain": [
       "<Figure size 640x480 with 1 Axes>"
      ]
     },
     "metadata": {},
     "output_type": "display_data"
    }
   ],
   "source": [
    "importances = model.feature_importances_\n",
    "\n",
    "forest_importances = pd.Series(importances, index=feature_names)\n",
    "\n",
    "fig, ax = plt.subplots()\n",
    "forest_importances.sort_values(ascending=False)[::-1].plot.barh(ax=ax)\n",
    "ax.set_title(\"Feature importances using MDI\")\n",
    "ax.set_ylabel(\"Mean decrease in impurity\")\n",
    "fig.tight_layout()\n"
   ]
  },
  {
   "cell_type": "code",
   "execution_count": 17,
   "id": "5632b4dc",
   "metadata": {
    "execution": {
     "iopub.execute_input": "2024-01-08T19:33:50.130374Z",
     "iopub.status.busy": "2024-01-08T19:33:50.130000Z",
     "iopub.status.idle": "2024-01-08T19:33:51.023897Z",
     "shell.execute_reply": "2024-01-08T19:33:51.022661Z"
    },
    "papermill": {
     "duration": 0.906237,
     "end_time": "2024-01-08T19:33:51.026311",
     "exception": false,
     "start_time": "2024-01-08T19:33:50.120074",
     "status": "completed"
    },
    "tags": []
   },
   "outputs": [],
   "source": [
    "probas = model.predict_proba(X_test)\n",
    "positive_label_proba = probas[:, 1]\n",
    "submission['Exited'] = positive_label_proba\n",
    "submission.to_csv('baseline.csv', index=False)"
   ]
  },
  {
   "cell_type": "markdown",
   "id": "83a2474e",
   "metadata": {
    "papermill": {
     "duration": 0.008053,
     "end_time": "2024-01-08T19:33:51.042925",
     "exception": false,
     "start_time": "2024-01-08T19:33:51.034872",
     "status": "completed"
    },
    "tags": []
   },
   "source": [
    "🚨🚨🚨 \n",
    "* slightly imbalanced set\n",
    "* balance column: separate between gaussian variable and < 10\n"
   ]
  }
 ],
 "metadata": {
  "kaggle": {
   "accelerator": "none",
   "dataSources": [
    {
     "databundleVersionId": 7405009,
     "sourceId": 65711,
     "sourceType": "competition"
    }
   ],
   "dockerImageVersionId": 30626,
   "isGpuEnabled": false,
   "isInternetEnabled": true,
   "language": "python",
   "sourceType": "notebook"
  },
  "kernelspec": {
   "display_name": "Python 3",
   "language": "python",
   "name": "python3"
  },
  "language_info": {
   "codemirror_mode": {
    "name": "ipython",
    "version": 3
   },
   "file_extension": ".py",
   "mimetype": "text/x-python",
   "name": "python",
   "nbconvert_exporter": "python",
   "pygments_lexer": "ipython3",
   "version": "3.10.12"
  },
  "papermill": {
   "default_parameters": {},
   "duration": 8566.97219,
   "end_time": "2024-01-08T19:33:53.685565",
   "environment_variables": {},
   "exception": null,
   "input_path": "__notebook__.ipynb",
   "output_path": "__notebook__.ipynb",
   "parameters": {},
   "start_time": "2024-01-08T17:11:06.713375",
   "version": "2.4.0"
  }
 },
 "nbformat": 4,
 "nbformat_minor": 5
}
