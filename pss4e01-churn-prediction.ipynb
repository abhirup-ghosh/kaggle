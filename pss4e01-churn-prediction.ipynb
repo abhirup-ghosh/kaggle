{
 "cells": [
  {
   "cell_type": "code",
   "execution_count": 1,
   "id": "3e35a913",
   "metadata": {
    "_kg_hide-input": true,
    "execution": {
     "iopub.execute_input": "2024-01-06T14:52:05.746365Z",
     "iopub.status.busy": "2024-01-06T14:52:05.745871Z",
     "iopub.status.idle": "2024-01-06T14:52:08.219485Z",
     "shell.execute_reply": "2024-01-06T14:52:08.218572Z"
    },
    "papermill": {
     "duration": 2.482068,
     "end_time": "2024-01-06T14:52:08.221938",
     "exception": false,
     "start_time": "2024-01-06T14:52:05.739870",
     "status": "completed"
    },
    "tags": []
   },
   "outputs": [],
   "source": [
    "import numpy as np\n",
    "import pandas as pd\n",
    "import os\n",
    "import matplotlib.pyplot as plt\n",
    "import seaborn as sns\n",
    "\n",
    "from sklearn.model_selection import train_test_split, GridSearchCV, KFold\n",
    "from sklearn.preprocessing import StandardScaler, LabelEncoder, OrdinalEncoder, OneHotEncoder, MinMaxScaler\n",
    "from sklearn.pipeline import Pipeline\n",
    "from sklearn.compose import ColumnTransformer\n",
    "from sklearn.metrics import roc_auc_score\n",
    "import lightgbm\n",
    "\n",
    "import lightgbm as lgbm\n",
    "import xgboost as xgb\n",
    "\n",
    "\n",
    "sns.set_style(\"whitegrid\")\n",
    "sns.set_palette('muted')"
   ]
  },
  {
   "cell_type": "code",
   "execution_count": 2,
   "id": "bbe58116",
   "metadata": {
    "_kg_hide-input": true,
    "execution": {
     "iopub.execute_input": "2024-01-06T14:52:08.232024Z",
     "iopub.status.busy": "2024-01-06T14:52:08.231483Z",
     "iopub.status.idle": "2024-01-06T14:52:08.238227Z",
     "shell.execute_reply": "2024-01-06T14:52:08.237169Z"
    },
    "papermill": {
     "duration": 0.013481,
     "end_time": "2024-01-06T14:52:08.239895",
     "exception": false,
     "start_time": "2024-01-06T14:52:08.226414",
     "status": "completed"
    },
    "tags": []
   },
   "outputs": [
    {
     "name": "stdout",
     "output_type": "stream",
     "text": [
      "/kaggle/input/playground-series-s4e1/sample_submission.csv\n",
      "/kaggle/input/playground-series-s4e1/train.csv\n",
      "/kaggle/input/playground-series-s4e1/test.csv\n"
     ]
    }
   ],
   "source": [
    "for dirname, _, filenames in os.walk('/kaggle/input'):\n",
    "    for filename in filenames:\n",
    "        print(os.path.join(dirname, filename))"
   ]
  },
  {
   "cell_type": "code",
   "execution_count": 3,
   "id": "32bc5743",
   "metadata": {
    "_kg_hide-input": true,
    "execution": {
     "iopub.execute_input": "2024-01-06T14:52:08.249360Z",
     "iopub.status.busy": "2024-01-06T14:52:08.248877Z",
     "iopub.status.idle": "2024-01-06T14:52:08.796069Z",
     "shell.execute_reply": "2024-01-06T14:52:08.795221Z"
    },
    "papermill": {
     "duration": 0.554014,
     "end_time": "2024-01-06T14:52:08.798020",
     "exception": false,
     "start_time": "2024-01-06T14:52:08.244006",
     "status": "completed"
    },
    "tags": []
   },
   "outputs": [],
   "source": [
    "data_loc = '/kaggle/input/playground-series-s4e1/'\n",
    "train = pd.read_csv(data_loc + 'train.csv')\n",
    "test = pd.read_csv(data_loc + 'test.csv')\n",
    "submission = pd.read_csv(data_loc + 'sample_submission.csv')"
   ]
  },
  {
   "cell_type": "code",
   "execution_count": 4,
   "id": "af3fdeeb",
   "metadata": {
    "execution": {
     "iopub.execute_input": "2024-01-06T14:52:08.807845Z",
     "iopub.status.busy": "2024-01-06T14:52:08.806987Z",
     "iopub.status.idle": "2024-01-06T14:52:08.826032Z",
     "shell.execute_reply": "2024-01-06T14:52:08.825218Z"
    },
    "papermill": {
     "duration": 0.025707,
     "end_time": "2024-01-06T14:52:08.828008",
     "exception": false,
     "start_time": "2024-01-06T14:52:08.802301",
     "status": "completed"
    },
    "tags": []
   },
   "outputs": [
    {
     "data": {
      "text/html": [
       "<div>\n",
       "<style scoped>\n",
       "    .dataframe tbody tr th:only-of-type {\n",
       "        vertical-align: middle;\n",
       "    }\n",
       "\n",
       "    .dataframe tbody tr th {\n",
       "        vertical-align: top;\n",
       "    }\n",
       "\n",
       "    .dataframe thead th {\n",
       "        text-align: right;\n",
       "    }\n",
       "</style>\n",
       "<table border=\"1\" class=\"dataframe\">\n",
       "  <thead>\n",
       "    <tr style=\"text-align: right;\">\n",
       "      <th></th>\n",
       "      <th>0</th>\n",
       "      <th>1</th>\n",
       "      <th>2</th>\n",
       "      <th>3</th>\n",
       "      <th>4</th>\n",
       "    </tr>\n",
       "  </thead>\n",
       "  <tbody>\n",
       "    <tr>\n",
       "      <th>id</th>\n",
       "      <td>0</td>\n",
       "      <td>1</td>\n",
       "      <td>2</td>\n",
       "      <td>3</td>\n",
       "      <td>4</td>\n",
       "    </tr>\n",
       "    <tr>\n",
       "      <th>CustomerId</th>\n",
       "      <td>15674932</td>\n",
       "      <td>15749177</td>\n",
       "      <td>15694510</td>\n",
       "      <td>15741417</td>\n",
       "      <td>15766172</td>\n",
       "    </tr>\n",
       "    <tr>\n",
       "      <th>Surname</th>\n",
       "      <td>Okwudilichukwu</td>\n",
       "      <td>Okwudiliolisa</td>\n",
       "      <td>Hsueh</td>\n",
       "      <td>Kao</td>\n",
       "      <td>Chiemenam</td>\n",
       "    </tr>\n",
       "    <tr>\n",
       "      <th>CreditScore</th>\n",
       "      <td>668</td>\n",
       "      <td>627</td>\n",
       "      <td>678</td>\n",
       "      <td>581</td>\n",
       "      <td>716</td>\n",
       "    </tr>\n",
       "    <tr>\n",
       "      <th>Geography</th>\n",
       "      <td>France</td>\n",
       "      <td>France</td>\n",
       "      <td>France</td>\n",
       "      <td>France</td>\n",
       "      <td>Spain</td>\n",
       "    </tr>\n",
       "    <tr>\n",
       "      <th>Gender</th>\n",
       "      <td>Male</td>\n",
       "      <td>Male</td>\n",
       "      <td>Male</td>\n",
       "      <td>Male</td>\n",
       "      <td>Male</td>\n",
       "    </tr>\n",
       "    <tr>\n",
       "      <th>Age</th>\n",
       "      <td>33.0</td>\n",
       "      <td>33.0</td>\n",
       "      <td>40.0</td>\n",
       "      <td>34.0</td>\n",
       "      <td>33.0</td>\n",
       "    </tr>\n",
       "    <tr>\n",
       "      <th>Tenure</th>\n",
       "      <td>3</td>\n",
       "      <td>1</td>\n",
       "      <td>10</td>\n",
       "      <td>2</td>\n",
       "      <td>5</td>\n",
       "    </tr>\n",
       "    <tr>\n",
       "      <th>Balance</th>\n",
       "      <td>0.0</td>\n",
       "      <td>0.0</td>\n",
       "      <td>0.0</td>\n",
       "      <td>148882.54</td>\n",
       "      <td>0.0</td>\n",
       "    </tr>\n",
       "    <tr>\n",
       "      <th>NumOfProducts</th>\n",
       "      <td>2</td>\n",
       "      <td>2</td>\n",
       "      <td>2</td>\n",
       "      <td>1</td>\n",
       "      <td>2</td>\n",
       "    </tr>\n",
       "    <tr>\n",
       "      <th>HasCrCard</th>\n",
       "      <td>1.0</td>\n",
       "      <td>1.0</td>\n",
       "      <td>1.0</td>\n",
       "      <td>1.0</td>\n",
       "      <td>1.0</td>\n",
       "    </tr>\n",
       "    <tr>\n",
       "      <th>IsActiveMember</th>\n",
       "      <td>0.0</td>\n",
       "      <td>1.0</td>\n",
       "      <td>0.0</td>\n",
       "      <td>1.0</td>\n",
       "      <td>1.0</td>\n",
       "    </tr>\n",
       "    <tr>\n",
       "      <th>EstimatedSalary</th>\n",
       "      <td>181449.97</td>\n",
       "      <td>49503.5</td>\n",
       "      <td>184866.69</td>\n",
       "      <td>84560.88</td>\n",
       "      <td>15068.83</td>\n",
       "    </tr>\n",
       "    <tr>\n",
       "      <th>Exited</th>\n",
       "      <td>0</td>\n",
       "      <td>0</td>\n",
       "      <td>0</td>\n",
       "      <td>0</td>\n",
       "      <td>0</td>\n",
       "    </tr>\n",
       "  </tbody>\n",
       "</table>\n",
       "</div>"
      ],
      "text/plain": [
       "                              0              1          2          3  \\\n",
       "id                            0              1          2          3   \n",
       "CustomerId             15674932       15749177   15694510   15741417   \n",
       "Surname          Okwudilichukwu  Okwudiliolisa      Hsueh        Kao   \n",
       "CreditScore                 668            627        678        581   \n",
       "Geography                France         France     France     France   \n",
       "Gender                     Male           Male       Male       Male   \n",
       "Age                        33.0           33.0       40.0       34.0   \n",
       "Tenure                        3              1         10          2   \n",
       "Balance                     0.0            0.0        0.0  148882.54   \n",
       "NumOfProducts                 2              2          2          1   \n",
       "HasCrCard                   1.0            1.0        1.0        1.0   \n",
       "IsActiveMember              0.0            1.0        0.0        1.0   \n",
       "EstimatedSalary       181449.97        49503.5  184866.69   84560.88   \n",
       "Exited                        0              0          0          0   \n",
       "\n",
       "                         4  \n",
       "id                       4  \n",
       "CustomerId        15766172  \n",
       "Surname          Chiemenam  \n",
       "CreditScore            716  \n",
       "Geography            Spain  \n",
       "Gender                Male  \n",
       "Age                   33.0  \n",
       "Tenure                   5  \n",
       "Balance                0.0  \n",
       "NumOfProducts            2  \n",
       "HasCrCard              1.0  \n",
       "IsActiveMember         1.0  \n",
       "EstimatedSalary   15068.83  \n",
       "Exited                   0  "
      ]
     },
     "metadata": {},
     "output_type": "display_data"
    }
   ],
   "source": [
    "display(train.head().T)\n",
    "#display(test.head().T)\n",
    "#display(submission.head())"
   ]
  },
  {
   "cell_type": "code",
   "execution_count": 5,
   "id": "82bfa895",
   "metadata": {
    "execution": {
     "iopub.execute_input": "2024-01-06T14:52:08.837797Z",
     "iopub.status.busy": "2024-01-06T14:52:08.837305Z",
     "iopub.status.idle": "2024-01-06T14:52:08.925433Z",
     "shell.execute_reply": "2024-01-06T14:52:08.924344Z"
    },
    "papermill": {
     "duration": 0.094833,
     "end_time": "2024-01-06T14:52:08.927050",
     "exception": false,
     "start_time": "2024-01-06T14:52:08.832217",
     "status": "completed"
    },
    "tags": []
   },
   "outputs": [
    {
     "name": "stdout",
     "output_type": "stream",
     "text": [
      "<class 'pandas.core.frame.DataFrame'>\n",
      "RangeIndex: 165034 entries, 0 to 165033\n",
      "Data columns (total 14 columns):\n",
      " #   Column           Non-Null Count   Dtype  \n",
      "---  ------           --------------   -----  \n",
      " 0   id               165034 non-null  int64  \n",
      " 1   CustomerId       165034 non-null  int64  \n",
      " 2   Surname          165034 non-null  object \n",
      " 3   CreditScore      165034 non-null  int64  \n",
      " 4   Geography        165034 non-null  object \n",
      " 5   Gender           165034 non-null  object \n",
      " 6   Age              165034 non-null  float64\n",
      " 7   Tenure           165034 non-null  int64  \n",
      " 8   Balance          165034 non-null  float64\n",
      " 9   NumOfProducts    165034 non-null  int64  \n",
      " 10  HasCrCard        165034 non-null  float64\n",
      " 11  IsActiveMember   165034 non-null  float64\n",
      " 12  EstimatedSalary  165034 non-null  float64\n",
      " 13  Exited           165034 non-null  int64  \n",
      "dtypes: float64(5), int64(6), object(3)\n",
      "memory usage: 17.6+ MB\n"
     ]
    },
    {
     "data": {
      "text/plain": [
       "id                 165034\n",
       "CustomerId          23221\n",
       "Surname              2797\n",
       "CreditScore           457\n",
       "Geography               3\n",
       "Gender                  2\n",
       "Age                    71\n",
       "Tenure                 11\n",
       "Balance             30075\n",
       "NumOfProducts           4\n",
       "HasCrCard               2\n",
       "IsActiveMember          2\n",
       "EstimatedSalary     55298\n",
       "Exited                  2\n",
       "dtype: int64"
      ]
     },
     "execution_count": 5,
     "metadata": {},
     "output_type": "execute_result"
    }
   ],
   "source": [
    "train.info()\n",
    "#train.isnull().sum()\n",
    "#train.describe(include='all')\n",
    "train.nunique()"
   ]
  },
  {
   "cell_type": "code",
   "execution_count": 6,
   "id": "3d6f7e1f",
   "metadata": {
    "execution": {
     "iopub.execute_input": "2024-01-06T14:52:08.938259Z",
     "iopub.status.busy": "2024-01-06T14:52:08.937953Z",
     "iopub.status.idle": "2024-01-06T14:52:09.166574Z",
     "shell.execute_reply": "2024-01-06T14:52:09.165685Z"
    },
    "papermill": {
     "duration": 0.23721,
     "end_time": "2024-01-06T14:52:09.168896",
     "exception": false,
     "start_time": "2024-01-06T14:52:08.931686",
     "status": "completed"
    },
    "tags": []
   },
   "outputs": [],
   "source": [
    "def prepare_data(df):\n",
    "    \n",
    "    # Make the column names lower-case\n",
    "    df.columns = df.columns.str.lower()\n",
    "    \n",
    "    # Make the string values of categorical columns lower-case and uniform\n",
    "    categorical_columns = df.dtypes[df.dtypes == 'object'].index.tolist()\n",
    "\n",
    "    for col in categorical_columns:\n",
    "        df[col] = df[col].str.lower()\n",
    "        \n",
    "    for col in ['balance', 'estimatedsalary']:\n",
    "        df[col] = np.log1p(df[col])\n",
    "        \n",
    "    # Drop columns: 'id', 'customerid'\n",
    "    df.drop(['id', 'customerid'], axis=1, inplace=True)  \n",
    "    \n",
    "    # Feature engineering\n",
    "    df['balance_high'] = df['balance'] > 10\n",
    "    \n",
    "    # Binarise 'gender' and 'geography'\n",
    "    df['gender'] = (df['gender'] == 'male').astype(int)\n",
    "    df['geography'] = (df['geography'] == 'germany').astype(int)\n",
    "    \n",
    "    return df\n",
    "\n",
    "train = prepare_data(train)\n",
    "test = prepare_data(test)"
   ]
  },
  {
   "cell_type": "code",
   "execution_count": 7,
   "id": "41d3c3fa",
   "metadata": {
    "execution": {
     "iopub.execute_input": "2024-01-06T14:52:09.179673Z",
     "iopub.status.busy": "2024-01-06T14:52:09.179423Z",
     "iopub.status.idle": "2024-01-06T14:52:09.183924Z",
     "shell.execute_reply": "2024-01-06T14:52:09.183129Z"
    },
    "papermill": {
     "duration": 0.011886,
     "end_time": "2024-01-06T14:52:09.185680",
     "exception": false,
     "start_time": "2024-01-06T14:52:09.173794",
     "status": "completed"
    },
    "tags": []
   },
   "outputs": [],
   "source": [
    "dep_var = 'exited'\n",
    "\n",
    "fe_cols = ['surname', 'tenure']\n",
    "le_cols = ['gender', 'hascrcard', 'isactivemember', 'geography', 'balance_high']\n",
    "ohe_cols = ['numofproducts' ]\n",
    "\n",
    "cat_cols = fe_cols + le_cols + ohe_cols\n",
    "\n",
    "num_cols = ['creditscore', 'age', 'balance', 'estimatedsalary']"
   ]
  },
  {
   "cell_type": "code",
   "execution_count": 8,
   "id": "2aa353d9",
   "metadata": {
    "execution": {
     "iopub.execute_input": "2024-01-06T14:52:09.196109Z",
     "iopub.status.busy": "2024-01-06T14:52:09.195783Z",
     "iopub.status.idle": "2024-01-06T14:52:12.142872Z",
     "shell.execute_reply": "2024-01-06T14:52:12.141842Z"
    },
    "papermill": {
     "duration": 2.955021,
     "end_time": "2024-01-06T14:52:12.145299",
     "exception": false,
     "start_time": "2024-01-06T14:52:09.190278",
     "status": "completed"
    },
    "tags": []
   },
   "outputs": [
    {
     "data": {
      "image/png": "[encoded data removed]",
      "text/plain": [
       "<Figure size 2500x300 with 8 Axes>"
      ]
     },
     "metadata": {},
     "output_type": "display_data"
    },
    {
     "data": {
      "image/png": "[encoded data removed]",
      "text/plain": [
       "<Figure size 1200x300 with 4 Axes>"
      ]
     },
     "metadata": {},
     "output_type": "display_data"
    }
   ],
   "source": [
    "%matplotlib inline\n",
    "\n",
    "cmap = plt.get_cmap(\"tab20c\")\n",
    "colors = cmap(range(len(cat_cols)))\n",
    "\n",
    "fig, axs = plt.subplots(ncols=len(cat_cols), nrows=1, figsize=(int(3*len(cat_cols)+1),3))\n",
    "axs = axs.flatten()\n",
    "\n",
    "for idx, col in enumerate(cat_cols[1:] + [dep_var]):\n",
    "    #display(df[col].value_counts(normalize=True))\n",
    "    train[col].value_counts(normalize=True).plot.barh(ax=axs[idx], color=colors[idx], ylabel='')\n",
    "    axs[idx].set_title(col)\n",
    "    \n",
    "fig.suptitle('Categorical Variables: Value Counts')\n",
    "plt.tight_layout()\n",
    "\n",
    "cmap = plt.get_cmap(\"tab20c\")\n",
    "colors = cmap(range(len(num_cols)))\n",
    "\n",
    "fig, axs = plt.subplots(ncols=len(num_cols), nrows=1, figsize=(3*int(len(num_cols)),3))\n",
    "axs = axs.flatten()\n",
    "\n",
    "for idx, col in enumerate(num_cols):\n",
    "    if col == 'balance':\n",
    "        train[train.balance > 10][col].plot.hist(ax=axs[idx], bins=20, color=colors[idx], ylabel='')\n",
    "        axs[idx].set_title('balance > 10')\n",
    "    #display(df[col].value_counts(normalize=True))\n",
    "    else: \n",
    "        train[col].plot.hist(ax=axs[idx], bins=20, color=colors[idx], ylabel='')\n",
    "        axs[idx].set_title(col)\n",
    "    \n",
    "fig.suptitle('Numerical Variables: Normalised historgrams')\n",
    "plt.tight_layout()"
   ]
  },
  {
   "cell_type": "code",
   "execution_count": 9,
   "id": "49764683",
   "metadata": {
    "execution": {
     "iopub.execute_input": "2024-01-06T14:52:12.161667Z",
     "iopub.status.busy": "2024-01-06T14:52:12.160764Z",
     "iopub.status.idle": "2024-01-06T14:52:12.166161Z",
     "shell.execute_reply": "2024-01-06T14:52:12.165165Z"
    },
    "papermill": {
     "duration": 0.01429,
     "end_time": "2024-01-06T14:52:12.168099",
     "exception": false,
     "start_time": "2024-01-06T14:52:12.153809",
     "status": "completed"
    },
    "tags": []
   },
   "outputs": [],
   "source": [
    "y_train = train['exited'].values\n",
    "\n",
    "del train['exited']"
   ]
  },
  {
   "cell_type": "code",
   "execution_count": 10,
   "id": "b607d843",
   "metadata": {
    "execution": {
     "iopub.execute_input": "2024-01-06T14:52:12.183998Z",
     "iopub.status.busy": "2024-01-06T14:52:12.183756Z",
     "iopub.status.idle": "2024-01-06T14:52:12.462342Z",
     "shell.execute_reply": "2024-01-06T14:52:12.461272Z"
    },
    "papermill": {
     "duration": 0.289122,
     "end_time": "2024-01-06T14:52:12.464654",
     "exception": false,
     "start_time": "2024-01-06T14:52:12.175532",
     "status": "completed"
    },
    "tags": []
   },
   "outputs": [
    {
     "name": "stderr",
     "output_type": "stream",
     "text": [
      "/opt/conda/lib/python3.10/site-packages/sklearn/preprocessing/_encoders.py:868: FutureWarning: `sparse` was renamed to `sparse_output` in version 1.2 and will be removed in 1.4. `sparse_output` is ignored unless you leave `sparse` to its default value.\n",
      "  warnings.warn(\n"
     ]
    }
   ],
   "source": [
    "scaler = StandardScaler()\n",
    "X_train_num = scaler.fit_transform(train[num_cols])\n",
    "X_test_num = scaler.transform(test[num_cols])\n",
    "\n",
    "ordinal_encoder = OrdinalEncoder(handle_unknown='use_encoded_value', unknown_value=-1)\n",
    "X_train_fe = ordinal_encoder.fit_transform(train[fe_cols])\n",
    "X_test_fe = ordinal_encoder.transform(test[fe_cols])\n",
    "\n",
    "label = LabelEncoder()\n",
    "X_train_le = train[le_cols].apply(label.fit_transform).values\n",
    "X_test_le = test[le_cols].apply(label.transform).values\n",
    "\n",
    "ohe = OneHotEncoder(sparse=False, handle_unknown='ignore')\n",
    "X_train_ohe = ohe.fit_transform(train[ohe_cols])\n",
    "X_test_ohe = ohe.transform(test[ohe_cols])\n",
    "ohe_features = ohe.get_feature_names_out().tolist()\n",
    "\n",
    "X_train = np.column_stack([X_train_num, X_train_fe, X_train_le, X_train_ohe])\n",
    "X_test = np.column_stack([X_test_num, X_test_fe, X_test_le, X_test_ohe])\n",
    "\n",
    "feature_names = num_cols + le_cols + fe_cols + ohe_features"
   ]
  },
  {
   "cell_type": "code",
   "execution_count": 11,
   "id": "d16e7d23",
   "metadata": {
    "execution": {
     "iopub.execute_input": "2024-01-06T14:52:12.477997Z",
     "iopub.status.busy": "2024-01-06T14:52:12.477747Z",
     "iopub.status.idle": "2024-01-06T14:52:12.484939Z",
     "shell.execute_reply": "2024-01-06T14:52:12.484150Z"
    },
    "papermill": {
     "duration": 0.016013,
     "end_time": "2024-01-06T14:52:12.486661",
     "exception": false,
     "start_time": "2024-01-06T14:52:12.470648",
     "status": "completed"
    },
    "tags": []
   },
   "outputs": [
    {
     "data": {
      "text/plain": [
       "\"lgbm_model = lgbm.LGBMClassifier()\\n\\nlgbm_params = {\\n              'n_estimators': [10, 50, 100, 500],\\n              'max_depth': [3, 6, 9, 12],\\n              'learning_rate' : [0.01, 0.1, 1.0],\\n              'boosting_type' : ['gbdt', 'dart', 'goss']\\n              }\\n\\nclf = GridSearchCV(lgbm_model, lgbm_params, scoring='roc_auc', n_jobs=-1)\\n\\nclf.fit(X_train, y_train)\\n\\nlgbm_tuned = clf.best_estimator_\\nparams_tuned = clf.best_params_\\n\\nprint(clf.best_estimator_)\\nprint(clf.best_params_)\\nprint(clf.best_score_)\""
      ]
     },
     "execution_count": 11,
     "metadata": {},
     "output_type": "execute_result"
    }
   ],
   "source": [
    "\"\"\"lgbm_model = lgbm.LGBMClassifier()\n",
    "\n",
    "lgbm_params = {\n",
    "              'n_estimators': [10, 50, 100, 500],\n",
    "              'max_depth': [3, 6, 9, 12],\n",
    "              'learning_rate' : [0.01, 0.1, 1.0],\n",
    "              'boosting_type' : ['gbdt', 'dart', 'goss']\n",
    "              }\n",
    "\n",
    "clf = GridSearchCV(lgbm_model, lgbm_params, scoring='roc_auc', n_jobs=-1)\n",
    "\n",
    "clf.fit(X_train, y_train)\n",
    "\n",
    "lgbm_tuned = clf.best_estimator_\n",
    "params_tuned = clf.best_params_\n",
    "\n",
    "print(clf.best_estimator_)\n",
    "print(clf.best_params_)\n",
    "print(clf.best_score_)\"\"\""
   ]
  },
  {
   "cell_type": "code",
   "execution_count": 12,
   "id": "4bde834d",
   "metadata": {
    "execution": {
     "iopub.execute_input": "2024-01-06T14:52:12.498838Z",
     "iopub.status.busy": "2024-01-06T14:52:12.498580Z",
     "iopub.status.idle": "2024-01-06T14:52:12.506462Z",
     "shell.execute_reply": "2024-01-06T14:52:12.505617Z"
    },
    "papermill": {
     "duration": 0.016064,
     "end_time": "2024-01-06T14:52:12.508287",
     "exception": false,
     "start_time": "2024-01-06T14:52:12.492223",
     "status": "completed"
    },
    "tags": []
   },
   "outputs": [],
   "source": [
    "neg, pos = np.bincount(y_train)\n",
    "total = neg + pos\n",
    "weight_for_0 = (1 / neg) * (total / 2.0)\n",
    "weight_for_1 = (1 / pos) * (total / 2.0)\n",
    "class_weight = {0: weight_for_0, 1: weight_for_1}"
   ]
  },
  {
   "cell_type": "code",
   "execution_count": 13,
   "id": "07fab817",
   "metadata": {
    "execution": {
     "iopub.execute_input": "2024-01-06T14:52:12.521675Z",
     "iopub.status.busy": "2024-01-06T14:52:12.521301Z",
     "iopub.status.idle": "2024-01-06T14:52:12.526268Z",
     "shell.execute_reply": "2024-01-06T14:52:12.525322Z"
    },
    "papermill": {
     "duration": 0.01428,
     "end_time": "2024-01-06T14:52:12.528051",
     "exception": false,
     "start_time": "2024-01-06T14:52:12.513771",
     "status": "completed"
    },
    "tags": []
   },
   "outputs": [],
   "source": [
    "params_tuned = {\n",
    "                'boosting_type':'gbdt',\n",
    "                'n_estimators': 1000,\n",
    "                'num_leaves': 12,\n",
    "                'max_depth': 3,\n",
    "                'learning_rate': 0.1,\n",
    "                'colsample_bytree': 0.5,\n",
    "                'class_weight': class_weight\n",
    "                }\n",
    "\n",
    "model = lightgbm.LGBMClassifier(**params_tuned)"
   ]
  },
  {
   "cell_type": "code",
   "execution_count": 14,
   "id": "2366820e",
   "metadata": {
    "execution": {
     "iopub.execute_input": "2024-01-06T14:52:12.544689Z",
     "iopub.status.busy": "2024-01-06T14:52:12.544107Z",
     "iopub.status.idle": "2024-01-06T14:52:12.549902Z",
     "shell.execute_reply": "2024-01-06T14:52:12.549311Z"
    },
    "papermill": {
     "duration": 0.015442,
     "end_time": "2024-01-06T14:52:12.551457",
     "exception": false,
     "start_time": "2024-01-06T14:52:12.536015",
     "status": "completed"
    },
    "tags": []
   },
   "outputs": [],
   "source": [
    "def run_cross_validation(X, y):\n",
    "    kfold = KFold(n_splits=10)\n",
    "\n",
    "    results = []\n",
    "\n",
    "    for index, (train_index, test_index) in enumerate(kfold.split(X), start=1):\n",
    "        X_train, X_val = X[train_index], X[test_index]\n",
    "        y_train, y_val = y[train_index], y[test_index]\n",
    "\n",
    "        model.fit(X_train, y_train)\n",
    "        probas = model.predict_proba(X_val)\n",
    "        positive_label_proba = probas[:, 1]\n",
    "\n",
    "        auc_score = roc_auc_score(y_val, positive_label_proba)\n",
    "        print(f\"[Fold #{index}] ROC AUC Score: {auc_score:.3f}\")\n",
    "        results.append(auc_score)\n",
    "\n",
    "    print(f\"ROC AUC Score: {np.mean(results):.3f} (+/-{2 * np.std(results):.3f})\")"
   ]
  },
  {
   "cell_type": "code",
   "execution_count": 15,
   "id": "e675af78",
   "metadata": {
    "execution": {
     "iopub.execute_input": "2024-01-06T14:52:12.564709Z",
     "iopub.status.busy": "2024-01-06T14:52:12.564248Z",
     "iopub.status.idle": "2024-01-06T14:53:29.330516Z",
     "shell.execute_reply": "2024-01-06T14:53:29.329912Z"
    },
    "papermill": {
     "duration": 76.77453,
     "end_time": "2024-01-06T14:53:29.332150",
     "exception": false,
     "start_time": "2024-01-06T14:52:12.557620",
     "status": "completed"
    },
    "tags": []
   },
   "outputs": [
    {
     "name": "stdout",
     "output_type": "stream",
     "text": [
      "[Fold #1] ROC AUC Score: 0.892\n",
      "[Fold #2] ROC AUC Score: 0.900\n",
      "[Fold #3] ROC AUC Score: 0.891\n",
      "[Fold #4] ROC AUC Score: 0.890\n",
      "[Fold #5] ROC AUC Score: 0.894\n",
      "[Fold #6] ROC AUC Score: 0.891\n",
      "[Fold #7] ROC AUC Score: 0.892\n",
      "[Fold #8] ROC AUC Score: 0.893\n",
      "[Fold #9] ROC AUC Score: 0.893\n",
      "[Fold #10] ROC AUC Score: 0.892\n",
      "ROC AUC Score: 0.893 (+/-0.005)\n"
     ]
    }
   ],
   "source": [
    "run_cross_validation(X_train, y_train)"
   ]
  },
  {
   "cell_type": "code",
   "execution_count": 16,
   "id": "94db5f51",
   "metadata": {
    "execution": {
     "iopub.execute_input": "2024-01-06T14:53:29.345832Z",
     "iopub.status.busy": "2024-01-06T14:53:29.345411Z",
     "iopub.status.idle": "2024-01-06T14:53:29.766651Z",
     "shell.execute_reply": "2024-01-06T14:53:29.765662Z"
    },
    "papermill": {
     "duration": 0.430031,
     "end_time": "2024-01-06T14:53:29.768526",
     "exception": false,
     "start_time": "2024-01-06T14:53:29.338495",
     "status": "completed"
    },
    "tags": []
   },
   "outputs": [
    {
     "data": {
      "image/png": "[encoded data removed]",
      "text/plain": [
       "<Figure size 640x480 with 1 Axes>"
      ]
     },
     "metadata": {},
     "output_type": "display_data"
    }
   ],
   "source": [
    "importances = model.feature_importances_\n",
    "\n",
    "forest_importances = pd.Series(importances, index=feature_names)\n",
    "\n",
    "fig, ax = plt.subplots()\n",
    "forest_importances.sort_values(ascending=False)[::-1].plot.barh(ax=ax)\n",
    "ax.set_title(\"Feature importances using MDI\")\n",
    "ax.set_ylabel(\"Mean decrease in impurity\")\n",
    "fig.tight_layout()\n"
   ]
  },
  {
   "cell_type": "code",
   "execution_count": 17,
   "id": "5e68a1e1",
   "metadata": {
    "execution": {
     "iopub.execute_input": "2024-01-06T14:53:29.783359Z",
     "iopub.status.busy": "2024-01-06T14:53:29.783056Z",
     "iopub.status.idle": "2024-01-06T14:53:31.407372Z",
     "shell.execute_reply": "2024-01-06T14:53:31.406475Z"
    },
    "papermill": {
     "duration": 1.633884,
     "end_time": "2024-01-06T14:53:31.409452",
     "exception": false,
     "start_time": "2024-01-06T14:53:29.775568",
     "status": "completed"
    },
    "tags": []
   },
   "outputs": [],
   "source": [
    "probas = model.predict_proba(X_test)\n",
    "positive_label_proba = probas[:, 1]\n",
    "submission['Exited'] = positive_label_proba\n",
    "submission.to_csv('baseline.csv', index=False)"
   ]
  },
  {
   "cell_type": "markdown",
   "id": "36146726",
   "metadata": {
    "papermill": {
     "duration": 0.006369,
     "end_time": "2024-01-06T14:53:31.422945",
     "exception": false,
     "start_time": "2024-01-06T14:53:31.416576",
     "status": "completed"
    },
    "tags": []
   },
   "source": [
    "🚨🚨🚨 \n",
    "* slightly imbalanced set\n",
    "* balance column: separate between gaussian variable and < 10\n"
   ]
  }
 ],
 "metadata": {
  "kaggle": {
   "accelerator": "none",
   "dataSources": [
    {
     "databundleVersionId": 7405009,
     "sourceId": 65711,
     "sourceType": "competition"
    }
   ],
   "dockerImageVersionId": 30626,
   "isGpuEnabled": false,
   "isInternetEnabled": true,
   "language": "python",
   "sourceType": "notebook"
  },
  "kernelspec": {
   "display_name": "Python 3",
   "language": "python",
   "name": "python3"
  },
  "language_info": {
   "codemirror_mode": {
    "name": "ipython",
    "version": 3
   },
   "file_extension": ".py",
   "mimetype": "text/x-python",
   "name": "python",
   "nbconvert_exporter": "python",
   "pygments_lexer": "ipython3",
   "version": "3.10.12"
  },
  "papermill": {
   "default_parameters": {},
   "duration": 88.597151,
   "end_time": "2024-01-06T14:53:32.047650",
   "environment_variables": {},
   "exception": null,
   "input_path": "__notebook__.ipynb",
   "output_path": "__notebook__.ipynb",
   "parameters": {},
   "start_time": "2024-01-06T14:52:03.450499",
   "version": "2.4.0"
  }
 },
 "nbformat": 4,
 "nbformat_minor": 5
}
