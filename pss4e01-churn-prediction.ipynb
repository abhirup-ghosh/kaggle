{
 "cells": [
  {
   "cell_type": "code",
   "execution_count": 1,
   "id": "7de2ca50",
   "metadata": {
    "_kg_hide-input": true,
    "execution": {
     "iopub.execute_input": "2024-01-10T13:09:55.354776Z",
     "iopub.status.busy": "2024-01-10T13:09:55.354235Z",
     "iopub.status.idle": "2024-01-10T13:10:00.111060Z",
     "shell.execute_reply": "2024-01-10T13:10:00.109351Z"
    },
    "papermill": {
     "duration": 4.770373,
     "end_time": "2024-01-10T13:10:00.115186",
     "exception": false,
     "start_time": "2024-01-10T13:09:55.344813",
     "status": "completed"
    },
    "tags": []
   },
   "outputs": [],
   "source": [
    "import numpy as np\n",
    "import pandas as pd\n",
    "import os\n",
    "import matplotlib.pyplot as plt\n",
    "import seaborn as sns\n",
    "\n",
    "from sklearn.model_selection import train_test_split, GridSearchCV, KFold\n",
    "from sklearn.preprocessing import StandardScaler, LabelEncoder, OrdinalEncoder, OneHotEncoder, MinMaxScaler\n",
    "from sklearn.pipeline import Pipeline\n",
    "from sklearn.compose import ColumnTransformer\n",
    "from sklearn.metrics import roc_auc_score\n",
    "\n",
    "from imblearn.over_sampling import SMOTE\n",
    "\n",
    "import xgboost as xgb\n",
    "import lightgbm as lgbm\n",
    "\n",
    "\n",
    "sns.set_style(\"whitegrid\")\n",
    "sns.set_palette('muted')"
   ]
  },
  {
   "cell_type": "code",
   "execution_count": 2,
   "id": "1da41f18",
   "metadata": {
    "_kg_hide-input": true,
    "execution": {
     "iopub.execute_input": "2024-01-10T13:10:00.130647Z",
     "iopub.status.busy": "2024-01-10T13:10:00.130208Z",
     "iopub.status.idle": "2024-01-10T13:10:00.137930Z",
     "shell.execute_reply": "2024-01-10T13:10:00.136445Z"
    },
    "papermill": {
     "duration": 0.019039,
     "end_time": "2024-01-10T13:10:00.141699",
     "exception": false,
     "start_time": "2024-01-10T13:10:00.122660",
     "status": "completed"
    },
    "tags": []
   },
   "outputs": [
    {
     "name": "stdout",
     "output_type": "stream",
     "text": [
      "/kaggle/input/playground-series-s4e1/sample_submission.csv\n",
      "/kaggle/input/playground-series-s4e1/train.csv\n",
      "/kaggle/input/playground-series-s4e1/test.csv\n"
     ]
    }
   ],
   "source": [
    "for dirname, _, filenames in os.walk('/kaggle/input'):\n",
    "    for filename in filenames:\n",
    "        print(os.path.join(dirname, filename))"
   ]
  },
  {
   "cell_type": "code",
   "execution_count": 3,
   "id": "22717536",
   "metadata": {
    "_kg_hide-input": true,
    "execution": {
     "iopub.execute_input": "2024-01-10T13:10:00.156901Z",
     "iopub.status.busy": "2024-01-10T13:10:00.156461Z",
     "iopub.status.idle": "2024-01-10T13:10:01.072385Z",
     "shell.execute_reply": "2024-01-10T13:10:01.070861Z"
    },
    "papermill": {
     "duration": 0.926669,
     "end_time": "2024-01-10T13:10:01.075264",
     "exception": false,
     "start_time": "2024-01-10T13:10:00.148595",
     "status": "completed"
    },
    "tags": []
   },
   "outputs": [],
   "source": [
    "data_loc = '/kaggle/input/playground-series-s4e1/'\n",
    "train = pd.read_csv(data_loc + 'train.csv')\n",
    "test = pd.read_csv(data_loc + 'test.csv')\n",
    "submission = pd.read_csv(data_loc + 'sample_submission.csv')"
   ]
  },
  {
   "cell_type": "code",
   "execution_count": 4,
   "id": "53d3bbfe",
   "metadata": {
    "execution": {
     "iopub.execute_input": "2024-01-10T13:10:01.095257Z",
     "iopub.status.busy": "2024-01-10T13:10:01.094881Z",
     "iopub.status.idle": "2024-01-10T13:10:01.124746Z",
     "shell.execute_reply": "2024-01-10T13:10:01.123607Z"
    },
    "papermill": {
     "duration": 0.044196,
     "end_time": "2024-01-10T13:10:01.127171",
     "exception": false,
     "start_time": "2024-01-10T13:10:01.082975",
     "status": "completed"
    },
    "tags": []
   },
   "outputs": [
    {
     "data": {
      "text/html": [
       "<div>\n",
       "<style scoped>\n",
       "    .dataframe tbody tr th:only-of-type {\n",
       "        vertical-align: middle;\n",
       "    }\n",
       "\n",
       "    .dataframe tbody tr th {\n",
       "        vertical-align: top;\n",
       "    }\n",
       "\n",
       "    .dataframe thead th {\n",
       "        text-align: right;\n",
       "    }\n",
       "</style>\n",
       "<table border=\"1\" class=\"dataframe\">\n",
       "  <thead>\n",
       "    <tr style=\"text-align: right;\">\n",
       "      <th></th>\n",
       "      <th>0</th>\n",
       "      <th>1</th>\n",
       "      <th>2</th>\n",
       "      <th>3</th>\n",
       "      <th>4</th>\n",
       "    </tr>\n",
       "  </thead>\n",
       "  <tbody>\n",
       "    <tr>\n",
       "      <th>id</th>\n",
       "      <td>0</td>\n",
       "      <td>1</td>\n",
       "      <td>2</td>\n",
       "      <td>3</td>\n",
       "      <td>4</td>\n",
       "    </tr>\n",
       "    <tr>\n",
       "      <th>CustomerId</th>\n",
       "      <td>15674932</td>\n",
       "      <td>15749177</td>\n",
       "      <td>15694510</td>\n",
       "      <td>15741417</td>\n",
       "      <td>15766172</td>\n",
       "    </tr>\n",
       "    <tr>\n",
       "      <th>Surname</th>\n",
       "      <td>Okwudilichukwu</td>\n",
       "      <td>Okwudiliolisa</td>\n",
       "      <td>Hsueh</td>\n",
       "      <td>Kao</td>\n",
       "      <td>Chiemenam</td>\n",
       "    </tr>\n",
       "    <tr>\n",
       "      <th>CreditScore</th>\n",
       "      <td>668</td>\n",
       "      <td>627</td>\n",
       "      <td>678</td>\n",
       "      <td>581</td>\n",
       "      <td>716</td>\n",
       "    </tr>\n",
       "    <tr>\n",
       "      <th>Geography</th>\n",
       "      <td>France</td>\n",
       "      <td>France</td>\n",
       "      <td>France</td>\n",
       "      <td>France</td>\n",
       "      <td>Spain</td>\n",
       "    </tr>\n",
       "    <tr>\n",
       "      <th>Gender</th>\n",
       "      <td>Male</td>\n",
       "      <td>Male</td>\n",
       "      <td>Male</td>\n",
       "      <td>Male</td>\n",
       "      <td>Male</td>\n",
       "    </tr>\n",
       "    <tr>\n",
       "      <th>Age</th>\n",
       "      <td>33.0</td>\n",
       "      <td>33.0</td>\n",
       "      <td>40.0</td>\n",
       "      <td>34.0</td>\n",
       "      <td>33.0</td>\n",
       "    </tr>\n",
       "    <tr>\n",
       "      <th>Tenure</th>\n",
       "      <td>3</td>\n",
       "      <td>1</td>\n",
       "      <td>10</td>\n",
       "      <td>2</td>\n",
       "      <td>5</td>\n",
       "    </tr>\n",
       "    <tr>\n",
       "      <th>Balance</th>\n",
       "      <td>0.0</td>\n",
       "      <td>0.0</td>\n",
       "      <td>0.0</td>\n",
       "      <td>148882.54</td>\n",
       "      <td>0.0</td>\n",
       "    </tr>\n",
       "    <tr>\n",
       "      <th>NumOfProducts</th>\n",
       "      <td>2</td>\n",
       "      <td>2</td>\n",
       "      <td>2</td>\n",
       "      <td>1</td>\n",
       "      <td>2</td>\n",
       "    </tr>\n",
       "    <tr>\n",
       "      <th>HasCrCard</th>\n",
       "      <td>1.0</td>\n",
       "      <td>1.0</td>\n",
       "      <td>1.0</td>\n",
       "      <td>1.0</td>\n",
       "      <td>1.0</td>\n",
       "    </tr>\n",
       "    <tr>\n",
       "      <th>IsActiveMember</th>\n",
       "      <td>0.0</td>\n",
       "      <td>1.0</td>\n",
       "      <td>0.0</td>\n",
       "      <td>1.0</td>\n",
       "      <td>1.0</td>\n",
       "    </tr>\n",
       "    <tr>\n",
       "      <th>EstimatedSalary</th>\n",
       "      <td>181449.97</td>\n",
       "      <td>49503.5</td>\n",
       "      <td>184866.69</td>\n",
       "      <td>84560.88</td>\n",
       "      <td>15068.83</td>\n",
       "    </tr>\n",
       "    <tr>\n",
       "      <th>Exited</th>\n",
       "      <td>0</td>\n",
       "      <td>0</td>\n",
       "      <td>0</td>\n",
       "      <td>0</td>\n",
       "      <td>0</td>\n",
       "    </tr>\n",
       "  </tbody>\n",
       "</table>\n",
       "</div>"
      ],
      "text/plain": [
       "                              0              1          2          3  \\\n",
       "id                            0              1          2          3   \n",
       "CustomerId             15674932       15749177   15694510   15741417   \n",
       "Surname          Okwudilichukwu  Okwudiliolisa      Hsueh        Kao   \n",
       "CreditScore                 668            627        678        581   \n",
       "Geography                France         France     France     France   \n",
       "Gender                     Male           Male       Male       Male   \n",
       "Age                        33.0           33.0       40.0       34.0   \n",
       "Tenure                        3              1         10          2   \n",
       "Balance                     0.0            0.0        0.0  148882.54   \n",
       "NumOfProducts                 2              2          2          1   \n",
       "HasCrCard                   1.0            1.0        1.0        1.0   \n",
       "IsActiveMember              0.0            1.0        0.0        1.0   \n",
       "EstimatedSalary       181449.97        49503.5  184866.69   84560.88   \n",
       "Exited                        0              0          0          0   \n",
       "\n",
       "                         4  \n",
       "id                       4  \n",
       "CustomerId        15766172  \n",
       "Surname          Chiemenam  \n",
       "CreditScore            716  \n",
       "Geography            Spain  \n",
       "Gender                Male  \n",
       "Age                   33.0  \n",
       "Tenure                   5  \n",
       "Balance                0.0  \n",
       "NumOfProducts            2  \n",
       "HasCrCard              1.0  \n",
       "IsActiveMember         1.0  \n",
       "EstimatedSalary   15068.83  \n",
       "Exited                   0  "
      ]
     },
     "metadata": {},
     "output_type": "display_data"
    }
   ],
   "source": [
    "display(train.head().T)\n",
    "#display(test.head().T)\n",
    "#display(submission.head())"
   ]
  },
  {
   "cell_type": "code",
   "execution_count": 5,
   "id": "349d15d4",
   "metadata": {
    "execution": {
     "iopub.execute_input": "2024-01-10T13:10:01.142244Z",
     "iopub.status.busy": "2024-01-10T13:10:01.141190Z",
     "iopub.status.idle": "2024-01-10T13:10:01.313401Z",
     "shell.execute_reply": "2024-01-10T13:10:01.311270Z"
    },
    "papermill": {
     "duration": 0.182891,
     "end_time": "2024-01-10T13:10:01.316459",
     "exception": false,
     "start_time": "2024-01-10T13:10:01.133568",
     "status": "completed"
    },
    "tags": []
   },
   "outputs": [
    {
     "name": "stdout",
     "output_type": "stream",
     "text": [
      "<class 'pandas.core.frame.DataFrame'>\n",
      "RangeIndex: 165034 entries, 0 to 165033\n",
      "Data columns (total 14 columns):\n",
      " #   Column           Non-Null Count   Dtype  \n",
      "---  ------           --------------   -----  \n",
      " 0   id               165034 non-null  int64  \n",
      " 1   CustomerId       165034 non-null  int64  \n",
      " 2   Surname          165034 non-null  object \n",
      " 3   CreditScore      165034 non-null  int64  \n",
      " 4   Geography        165034 non-null  object \n",
      " 5   Gender           165034 non-null  object \n",
      " 6   Age              165034 non-null  float64\n",
      " 7   Tenure           165034 non-null  int64  \n",
      " 8   Balance          165034 non-null  float64\n",
      " 9   NumOfProducts    165034 non-null  int64  \n",
      " 10  HasCrCard        165034 non-null  float64\n",
      " 11  IsActiveMember   165034 non-null  float64\n",
      " 12  EstimatedSalary  165034 non-null  float64\n",
      " 13  Exited           165034 non-null  int64  \n",
      "dtypes: float64(5), int64(6), object(3)\n",
      "memory usage: 17.6+ MB\n"
     ]
    },
    {
     "data": {
      "text/plain": [
       "id                 165034\n",
       "CustomerId          23221\n",
       "Surname              2797\n",
       "CreditScore           457\n",
       "Geography               3\n",
       "Gender                  2\n",
       "Age                    71\n",
       "Tenure                 11\n",
       "Balance             30075\n",
       "NumOfProducts           4\n",
       "HasCrCard               2\n",
       "IsActiveMember          2\n",
       "EstimatedSalary     55298\n",
       "Exited                  2\n",
       "dtype: int64"
      ]
     },
     "execution_count": 5,
     "metadata": {},
     "output_type": "execute_result"
    }
   ],
   "source": [
    "train.info()\n",
    "#train.isnull().sum()\n",
    "#train.describe(include='all')\n",
    "train.nunique()"
   ]
  },
  {
   "cell_type": "code",
   "execution_count": 6,
   "id": "d905a3ef",
   "metadata": {
    "execution": {
     "iopub.execute_input": "2024-01-10T13:10:01.334689Z",
     "iopub.status.busy": "2024-01-10T13:10:01.334232Z",
     "iopub.status.idle": "2024-01-10T13:10:01.795059Z",
     "shell.execute_reply": "2024-01-10T13:10:01.793915Z"
    },
    "papermill": {
     "duration": 0.473323,
     "end_time": "2024-01-10T13:10:01.797903",
     "exception": false,
     "start_time": "2024-01-10T13:10:01.324580",
     "status": "completed"
    },
    "tags": []
   },
   "outputs": [],
   "source": [
    "def prepare_data(df):\n",
    "    \n",
    "    # Make the column names lower-case\n",
    "    df.columns = df.columns.str.lower()\n",
    "    \n",
    "    # Make the string values of categorical columns lower-case and uniform\n",
    "    categorical_columns = df.dtypes[df.dtypes == 'object'].index.tolist()\n",
    "\n",
    "    for col in categorical_columns:\n",
    "        df[col] = df[col].str.lower()\n",
    "    \n",
    "    # Feature engineering\n",
    "    df['balance_high'] = df['balance'] > 10\n",
    "\n",
    "    bins = [18, 40, 60, 100]  # Define age bins\n",
    "    labels = ['young', 'middleaged', 'senior']  # Labels for each category\n",
    "    df['agecategory'] = pd.cut(df['age'], bins=bins, labels=labels, right=False)\n",
    "\n",
    "    # Binarise 'gender' and 'geography'\n",
    "    df['gender'] = (df['gender'] == 'male').astype(int)\n",
    "    \n",
    "    return df\n",
    "\n",
    "train = prepare_data(train)\n",
    "test = prepare_data(test)"
   ]
  },
  {
   "cell_type": "code",
   "execution_count": 7,
   "id": "10302381",
   "metadata": {
    "execution": {
     "iopub.execute_input": "2024-01-10T13:10:01.813890Z",
     "iopub.status.busy": "2024-01-10T13:10:01.813417Z",
     "iopub.status.idle": "2024-01-10T13:10:01.820278Z",
     "shell.execute_reply": "2024-01-10T13:10:01.819052Z"
    },
    "papermill": {
     "duration": 0.017623,
     "end_time": "2024-01-10T13:10:01.822749",
     "exception": false,
     "start_time": "2024-01-10T13:10:01.805126",
     "status": "completed"
    },
    "tags": []
   },
   "outputs": [],
   "source": [
    "dep_var = 'exited'\n",
    "\n",
    "fe_cols = ['surname', 'customerid', 'id']\n",
    "le_cols = ['gender', 'hascrcard', 'isactivemember', 'balance_high']\n",
    "ohe_cols = ['numofproducts', 'agecategory', 'geography']\n",
    "\n",
    "cat_cols = fe_cols + le_cols + ohe_cols\n",
    "\n",
    "num_cols = ['creditscore', 'age', 'balance', 'estimatedsalary']"
   ]
  },
  {
   "cell_type": "code",
   "execution_count": 8,
   "id": "f7e91005",
   "metadata": {
    "execution": {
     "iopub.execute_input": "2024-01-10T13:10:01.838396Z",
     "iopub.status.busy": "2024-01-10T13:10:01.837999Z",
     "iopub.status.idle": "2024-01-10T13:10:01.847927Z",
     "shell.execute_reply": "2024-01-10T13:10:01.846510Z"
    },
    "papermill": {
     "duration": 0.020726,
     "end_time": "2024-01-10T13:10:01.850481",
     "exception": false,
     "start_time": "2024-01-10T13:10:01.829755",
     "status": "completed"
    },
    "tags": []
   },
   "outputs": [
    {
     "data": {
      "text/plain": [
       "'%matplotlib inline\\n\\ncmap = plt.get_cmap(\"tab20c\")\\ncolors = cmap(range(len(cat_cols)))\\n\\nfig, axs = plt.subplots(ncols=len(cat_cols), nrows=1, figsize=(int(3*len(cat_cols)+1),3))\\naxs = axs.flatten()\\n\\nfor idx, col in enumerate(cat_cols[1:] + [dep_var]):\\n    #display(df[col].value_counts(normalize=True))\\n    train[col].value_counts(normalize=True).plot.barh(ax=axs[idx], color=colors[idx], ylabel=\\'\\')\\n    axs[idx].set_title(col)\\n    \\nfig.suptitle(\\'Categorical Variables: Value Counts\\')\\nplt.tight_layout()\\n\\ncmap = plt.get_cmap(\"tab20c\")\\ncolors = cmap(range(len(num_cols)))\\n\\nfig, axs = plt.subplots(ncols=len(num_cols), nrows=1, figsize=(3*int(len(num_cols)),3))\\naxs = axs.flatten()\\n\\nfor idx, col in enumerate(num_cols):\\n    if col == \\'balance\\':\\n        train[train.balance > 10][col].plot.hist(ax=axs[idx], bins=20, color=colors[idx], ylabel=\\'\\')\\n        axs[idx].set_title(\\'balance > 10\\')\\n    #display(df[col].value_counts(normalize=True))\\n    else: \\n        train[col].plot.hist(ax=axs[idx], bins=20, color=colors[idx], ylabel=\\'\\')\\n        axs[idx].set_title(col)\\n    \\nfig.suptitle(\\'Numerical Variables: Normalised historgrams\\')\\nplt.tight_layout()'"
      ]
     },
     "execution_count": 8,
     "metadata": {},
     "output_type": "execute_result"
    }
   ],
   "source": [
    "\"\"\"%matplotlib inline\n",
    "\n",
    "cmap = plt.get_cmap(\"tab20c\")\n",
    "colors = cmap(range(len(cat_cols)))\n",
    "\n",
    "fig, axs = plt.subplots(ncols=len(cat_cols), nrows=1, figsize=(int(3*len(cat_cols)+1),3))\n",
    "axs = axs.flatten()\n",
    "\n",
    "for idx, col in enumerate(cat_cols[1:] + [dep_var]):\n",
    "    #display(df[col].value_counts(normalize=True))\n",
    "    train[col].value_counts(normalize=True).plot.barh(ax=axs[idx], color=colors[idx], ylabel='')\n",
    "    axs[idx].set_title(col)\n",
    "    \n",
    "fig.suptitle('Categorical Variables: Value Counts')\n",
    "plt.tight_layout()\n",
    "\n",
    "cmap = plt.get_cmap(\"tab20c\")\n",
    "colors = cmap(range(len(num_cols)))\n",
    "\n",
    "fig, axs = plt.subplots(ncols=len(num_cols), nrows=1, figsize=(3*int(len(num_cols)),3))\n",
    "axs = axs.flatten()\n",
    "\n",
    "for idx, col in enumerate(num_cols):\n",
    "    if col == 'balance':\n",
    "        train[train.balance > 10][col].plot.hist(ax=axs[idx], bins=20, color=colors[idx], ylabel='')\n",
    "        axs[idx].set_title('balance > 10')\n",
    "    #display(df[col].value_counts(normalize=True))\n",
    "    else: \n",
    "        train[col].plot.hist(ax=axs[idx], bins=20, color=colors[idx], ylabel='')\n",
    "        axs[idx].set_title(col)\n",
    "    \n",
    "fig.suptitle('Numerical Variables: Normalised historgrams')\n",
    "plt.tight_layout()\"\"\""
   ]
  },
  {
   "cell_type": "code",
   "execution_count": 9,
   "id": "9d466ebf",
   "metadata": {
    "execution": {
     "iopub.execute_input": "2024-01-10T13:10:01.866947Z",
     "iopub.status.busy": "2024-01-10T13:10:01.866209Z",
     "iopub.status.idle": "2024-01-10T13:10:02.064741Z",
     "shell.execute_reply": "2024-01-10T13:10:02.063138Z"
    },
    "papermill": {
     "duration": 0.210459,
     "end_time": "2024-01-10T13:10:02.068190",
     "exception": false,
     "start_time": "2024-01-10T13:10:01.857731",
     "status": "completed"
    },
    "tags": []
   },
   "outputs": [],
   "source": [
    "df_train, df_val = train_test_split(train, test_size=0.3, random_state=42)\n",
    "\n",
    "df_train = df_train.reset_index(drop=True)\n",
    "df_val = df_val.reset_index(drop=True)\n",
    "df_test = test.reset_index(drop=True)\n",
    "\n",
    "y_train = df_train.exited.values\n",
    "y_val = df_val.exited.values\n",
    "\n",
    "del df_train['exited']\n",
    "del df_val['exited']"
   ]
  },
  {
   "cell_type": "code",
   "execution_count": 10,
   "id": "9901f256",
   "metadata": {
    "execution": {
     "iopub.execute_input": "2024-01-10T13:10:02.085763Z",
     "iopub.status.busy": "2024-01-10T13:10:02.085044Z",
     "iopub.status.idle": "2024-01-10T13:10:03.336933Z",
     "shell.execute_reply": "2024-01-10T13:10:03.335634Z"
    },
    "papermill": {
     "duration": 1.263884,
     "end_time": "2024-01-10T13:10:03.339628",
     "exception": false,
     "start_time": "2024-01-10T13:10:02.075744",
     "status": "completed"
    },
    "tags": []
   },
   "outputs": [
    {
     "name": "stderr",
     "output_type": "stream",
     "text": [
      "/opt/conda/lib/python3.10/site-packages/sklearn/preprocessing/_encoders.py:868: FutureWarning: `sparse` was renamed to `sparse_output` in version 1.2 and will be removed in 1.4. `sparse_output` is ignored unless you leave `sparse` to its default value.\n",
      "  warnings.warn(\n"
     ]
    }
   ],
   "source": [
    "scaler = StandardScaler()\n",
    "X_train_num = scaler.fit_transform(df_train[num_cols])\n",
    "X_val_num = scaler.transform(df_val[num_cols])\n",
    "X_test_num = scaler.transform(df_test[num_cols])\n",
    "\n",
    "ordinal_encoder = OrdinalEncoder(handle_unknown='use_encoded_value', unknown_value=-1)\n",
    "X_train_fe = ordinal_encoder.fit_transform(df_train[fe_cols])\n",
    "X_val_fe = ordinal_encoder.transform(df_val[fe_cols])\n",
    "X_test_fe = ordinal_encoder.transform(df_test[fe_cols])\n",
    "\n",
    "label = LabelEncoder()\n",
    "X_train_le = df_train[le_cols].apply(label.fit_transform).values\n",
    "X_val_le = df_val[le_cols].apply(label.transform).values\n",
    "X_test_le = df_test[le_cols].apply(label.transform).values\n",
    "\n",
    "ohe = OneHotEncoder(sparse=False, handle_unknown='ignore')\n",
    "X_train_ohe = ohe.fit_transform(df_train[ohe_cols])\n",
    "X_val_ohe = ohe.transform(df_val[ohe_cols])\n",
    "X_test_ohe = ohe.transform(df_test[ohe_cols])\n",
    "ohe_features = ohe.get_feature_names_out().tolist()\n",
    "\n",
    "X_train = np.column_stack([X_train_num, X_train_fe, X_train_le, X_train_ohe])\n",
    "X_val = np.column_stack([X_val_num, X_val_fe, X_val_le, X_val_ohe])\n",
    "X_test = np.column_stack([X_test_num, X_test_fe, X_test_le, X_test_ohe])\n",
    "\n",
    "feature_names = num_cols + le_cols + fe_cols + ohe_features"
   ]
  },
  {
   "cell_type": "code",
   "execution_count": 11,
   "id": "3e7e2613",
   "metadata": {
    "execution": {
     "iopub.execute_input": "2024-01-10T13:10:03.356778Z",
     "iopub.status.busy": "2024-01-10T13:10:03.356369Z",
     "iopub.status.idle": "2024-01-10T13:10:03.363085Z",
     "shell.execute_reply": "2024-01-10T13:10:03.362002Z"
    },
    "papermill": {
     "duration": 0.017399,
     "end_time": "2024-01-10T13:10:03.365260",
     "exception": false,
     "start_time": "2024-01-10T13:10:03.347861",
     "status": "completed"
    },
    "tags": []
   },
   "outputs": [
    {
     "data": {
      "text/plain": [
       "\"model = xgb.XGBClassifier()\\n\\nxgb_params = xgb_params = {\\n                            'n_estimators': [100, 500, 1000],\\n                            'learning_rate': [0.01, 0.1, 1, 10],\\n                            'max_depth': [3, 6, 9, 12],\\n                            'min_child_weight': [1,10, 30],\\n                        }\\n\\nclf = GridSearchCV(model, xgb_params, scoring='roc_auc', n_jobs=-1)\\n\\nclf.fit(X_train, y_train)\\n\\nmodel_tuned = clf.best_estimator_\\nparams_tuned = clf.best_params_\\n\\nprint(clf.best_estimator_)\\nprint(clf.best_params_)\\nprint(clf.best_score_)\""
      ]
     },
     "execution_count": 11,
     "metadata": {},
     "output_type": "execute_result"
    }
   ],
   "source": [
    "\"\"\"model = xgb.XGBClassifier()\n",
    "\n",
    "xgb_params = xgb_params = {\n",
    "                            'n_estimators': [100, 500, 1000],\n",
    "                            'learning_rate': [0.01, 0.1, 1, 10],\n",
    "                            'max_depth': [3, 6, 9, 12],\n",
    "                            'min_child_weight': [1,10, 30],\n",
    "                        }\n",
    "\n",
    "clf = GridSearchCV(model, xgb_params, scoring='roc_auc', n_jobs=-1)\n",
    "\n",
    "clf.fit(X_train, y_train)\n",
    "\n",
    "model_tuned = clf.best_estimator_\n",
    "params_tuned = clf.best_params_\n",
    "\n",
    "print(clf.best_estimator_)\n",
    "print(clf.best_params_)\n",
    "print(clf.best_score_)\"\"\""
   ]
  },
  {
   "cell_type": "code",
   "execution_count": 12,
   "id": "70cd3545",
   "metadata": {
    "execution": {
     "iopub.execute_input": "2024-01-10T13:10:03.382282Z",
     "iopub.status.busy": "2024-01-10T13:10:03.381852Z",
     "iopub.status.idle": "2024-01-10T13:10:06.967332Z",
     "shell.execute_reply": "2024-01-10T13:10:06.965456Z"
    },
    "papermill": {
     "duration": 3.597301,
     "end_time": "2024-01-10T13:10:06.970405",
     "exception": false,
     "start_time": "2024-01-10T13:10:03.373104",
     "status": "completed"
    },
    "tags": []
   },
   "outputs": [
    {
     "name": "stdout",
     "output_type": "stream",
     "text": [
      "ROC AUC Score: 0.891\n"
     ]
    }
   ],
   "source": [
    "params_tuned = {'learning_rate': 0.1, \n",
    "                'max_depth': 3, \n",
    "                'min_child_weight': 30, \n",
    "                'n_estimators': 500}\n",
    "\n",
    "model = xgb.XGBClassifier(**params_tuned)\n",
    "\n",
    "model.fit(X_train, y_train)\n",
    "\n",
    "probas = model.predict_proba(X_val)\n",
    "positive_label_proba = probas[:, 1]\n",
    "\n",
    "auc_score = roc_auc_score(y_val, positive_label_proba)\n",
    "\n",
    "print(f\"ROC AUC Score: {auc_score:.3f}\")"
   ]
  },
  {
   "cell_type": "code",
   "execution_count": 13,
   "id": "cac9fb68",
   "metadata": {
    "execution": {
     "iopub.execute_input": "2024-01-10T13:10:06.987200Z",
     "iopub.status.busy": "2024-01-10T13:10:06.986764Z",
     "iopub.status.idle": "2024-01-10T13:10:07.855878Z",
     "shell.execute_reply": "2024-01-10T13:10:07.854641Z"
    },
    "papermill": {
     "duration": 0.881174,
     "end_time": "2024-01-10T13:10:07.859062",
     "exception": false,
     "start_time": "2024-01-10T13:10:06.977888",
     "status": "completed"
    },
    "tags": []
   },
   "outputs": [
    {
     "data": {
      "image/png": "[encoded data removed]",
      "text/plain": [
       "<Figure size 640x480 with 1 Axes>"
      ]
     },
     "metadata": {},
     "output_type": "display_data"
    }
   ],
   "source": [
    "importances = model.feature_importances_\n",
    "\n",
    "forest_importances = pd.Series(importances, index=feature_names)\n",
    "\n",
    "fig, ax = plt.subplots()\n",
    "forest_importances.sort_values(ascending=False)[::-1].plot.barh(ax=ax)\n",
    "ax.set_title(\"Feature importances using MDI\")\n",
    "ax.set_ylabel(\"Mean decrease in impurity\")\n",
    "fig.tight_layout()\n"
   ]
  },
  {
   "cell_type": "code",
   "execution_count": 14,
   "id": "edf823c2",
   "metadata": {
    "execution": {
     "iopub.execute_input": "2024-01-10T13:10:07.879070Z",
     "iopub.status.busy": "2024-01-10T13:10:07.877999Z",
     "iopub.status.idle": "2024-01-10T13:10:08.547777Z",
     "shell.execute_reply": "2024-01-10T13:10:08.546288Z"
    },
    "papermill": {
     "duration": 0.683898,
     "end_time": "2024-01-10T13:10:08.551872",
     "exception": false,
     "start_time": "2024-01-10T13:10:07.867974",
     "status": "completed"
    },
    "tags": []
   },
   "outputs": [],
   "source": [
    "probas = model.predict_proba(X_test)\n",
    "positive_label_proba = probas[:, 1]\n",
    "submission['Exited'] = positive_label_proba\n",
    "submission.to_csv('baseline.csv', index=False)"
   ]
  },
  {
   "cell_type": "markdown",
   "id": "ce593237",
   "metadata": {
    "papermill": {
     "duration": 0.00909,
     "end_time": "2024-01-10T13:10:08.570386",
     "exception": false,
     "start_time": "2024-01-10T13:10:08.561296",
     "status": "completed"
    },
    "tags": []
   },
   "source": [
    "🚨🚨🚨 \n",
    "* slightly imbalanced set\n",
    "* balance column: separate between gaussian variable and < 10\n"
   ]
  }
 ],
 "metadata": {
  "kaggle": {
   "accelerator": "none",
   "dataSources": [
    {
     "databundleVersionId": 7405009,
     "sourceId": 65711,
     "sourceType": "competition"
    }
   ],
   "dockerImageVersionId": 30626,
   "isGpuEnabled": false,
   "isInternetEnabled": true,
   "language": "python",
   "sourceType": "notebook"
  },
  "kernelspec": {
   "display_name": "Python 3",
   "language": "python",
   "name": "python3"
  },
  "language_info": {
   "codemirror_mode": {
    "name": "ipython",
    "version": 3
   },
   "file_extension": ".py",
   "mimetype": "text/x-python",
   "name": "python",
   "nbconvert_exporter": "python",
   "pygments_lexer": "ipython3",
   "version": "3.10.12"
  },
  "papermill": {
   "default_parameters": {},
   "duration": 18.152651,
   "end_time": "2024-01-10T13:10:09.604509",
   "environment_variables": {},
   "exception": null,
   "input_path": "__notebook__.ipynb",
   "output_path": "__notebook__.ipynb",
   "parameters": {},
   "start_time": "2024-01-10T13:09:51.451858",
   "version": "2.4.0"
  }
 },
 "nbformat": 4,
 "nbformat_minor": 5
}
